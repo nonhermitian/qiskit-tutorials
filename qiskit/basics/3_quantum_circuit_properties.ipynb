{
 "cells": [
  {
   "cell_type": "markdown",
   "metadata": {
    "ExecuteTime": {
     "end_time": "2019-08-05T15:02:24.868454Z",
     "start_time": "2019-08-05T15:02:24.863831Z"
    }
   },
   "source": [
    "<img src=\"../../images/qiskit-heading.gif\" alt=\"Note: In order for images to show up in this jupyter notebook you need to select File => Trusted Notebook\" width=\"500 px\" align=\"left\">"
   ]
  },
  {
   "cell_type": "markdown",
   "metadata": {},
   "source": [
    "# Quantum Circuit Properties\n",
    "\n",
    "In this tutorial we introduce the fundamental properties of quantum circuits, and the situations under which these properties may change."
   ]
  },
  {
   "cell_type": "code",
   "execution_count": 1,
   "metadata": {
    "ExecuteTime": {
     "end_time": "2019-08-06T17:30:22.007428Z",
     "start_time": "2019-08-06T17:30:19.854575Z"
    }
   },
   "outputs": [],
   "source": [
    "from qiskit import *\n",
    "import qiskit.tools.jupyter\n",
    "%matplotlib inline"
   ]
  },
  {
   "cell_type": "markdown",
   "metadata": {},
   "source": [
    "## Introduction\n",
    "\n",
    "When constructing quantum circuits, there are several properties that help quantify the \"size\" of the circuits, and their ability to be run on a noisy quantum device.  Some of these, like number of qubits, are straightforward to understand.  While others like depth and number of tensor components require a bit more explanation.  Here we will explain all of these properties, and in preparation of understanding how circuits change when run on actual devices, highlight the conditions under which they change.\n",
    "\n",
    "\n",
    "### Basics\n",
    "Consider the following circuit:"
   ]
  },
  {
   "cell_type": "code",
   "execution_count": 33,
   "metadata": {
    "ExecuteTime": {
     "end_time": "2019-08-05T17:52:26.827321Z",
     "start_time": "2019-08-05T17:52:26.809461Z"
    }
   },
   "outputs": [
    {
     "data": {
      "text/html": [
       "<pre style=\"word-wrap: normal;white-space: pre;background: #fff0;line-height: 1.1;font-family: &quot;Courier New&quot;,Courier,monospace\">         ┌───┐                                                           \n",
       " q_0: |0>┤ H ├──■────────────────────────────────────────────────────────\n",
       "         ├───┤  │                                                        \n",
       " q_1: |0>┤ H ├──┼────■───────────────────■────■─────────■────────────────\n",
       "         ├───┤  │    │                   │    │         │                \n",
       " q_2: |0>┤ H ├──┼────┼────■──────────────┼────┼─────────┼────────────────\n",
       "         ├───┤  │    │    │              │    │         │                \n",
       " q_3: |0>┤ H ├──┼────┼────┼────■─────────┼────┼─────────┼────────────────\n",
       "         ├───┤  │    │    │    │         │    │         │                \n",
       " q_4: |0>┤ H ├──┼────┼────┼────┼────■────┼────┼─────────┼────────────────\n",
       "         └───┘┌─┴─┐  │    │    │    │    │    │         │                \n",
       " q_5: |0>─────┤ X ├──┼────┼────┼────┼────┼────┼─────────┼────────────────\n",
       "              └───┘┌─┴─┐  │    │    │    │    │         │           ┌───┐\n",
       " q_6: |0>──────────┤ X ├──┼────┼────┼────┼────┼─────────┼───X──X──X─┤ X ├\n",
       "                   └───┘┌─┴─┐  │    │  ┌─┴─┐  │  ┌───┐  │   │  │  │ └───┘\n",
       " q_7: |0>───────────────┤ X ├──┼────┼──┤ X ├──┼──┤ X ├──┼───┼──┼──┼──────\n",
       "                        └───┘┌─┴─┐  │  ├───┤  │  └───┘  │   │  │  │      \n",
       " q_8: |0>────────────────────┤ X ├──┼──┤ X ├──┼─────────┼───┼──┼──┼──────\n",
       "                             └───┘┌─┴─┐└───┘┌─┴─┐       │   │  │  │      \n",
       " q_9: |0>─────────────────────────┤ X ├─────┤ X ├───────┼───┼──X──┼──────\n",
       "                                  └───┘     └───┘       │   │     │      \n",
       "q_10: |0>───────────────────────────────────────────────┼───┼─────X──────\n",
       "                                                      ┌─┴─┐ │            \n",
       "q_11: |0>─────────────────────────────────────────────┤ X ├─X────────────\n",
       "                                                      └───┘              </pre>"
      ],
      "text/plain": [
       "<qiskit.visualization.text.TextDrawing at 0x1a2368f860>"
      ]
     },
     "execution_count": 33,
     "metadata": {},
     "output_type": "execute_result"
    }
   ],
   "source": [
    "qc = QuantumCircuit(12)\n",
    "\n",
    "for idx in range(5):\n",
    "    qc.h(idx)\n",
    "    qc.cx(idx, idx+5)\n",
    "\n",
    "qc.cx(1, 7)\n",
    "qc.x(8)\n",
    "qc.cx(1, 9)\n",
    "qc.x(7)\n",
    "qc.cx(1, 11)\n",
    "qc.swap(6, 11)\n",
    "qc.swap(6, 9)\n",
    "qc.swap(6, 10)\n",
    "qc.x(6)\n",
    "qc.draw()"
   ]
  },
  {
   "cell_type": "markdown",
   "metadata": {},
   "source": [
    "From the plot, it is easy to see that this circuit has 12 qubits, and a collection of Hadamard, CNOT, X, and SWAP gates.  But how to quantify this programmatically? Because we can do single-qubit gates on all the qubits simultaneously, the number of qubits in this circuit is equal to the **width** of the circuit:"
   ]
  },
  {
   "cell_type": "code",
   "execution_count": 6,
   "metadata": {
    "ExecuteTime": {
     "end_time": "2019-08-05T15:24:00.037301Z",
     "start_time": "2019-08-05T15:24:00.032271Z"
    }
   },
   "outputs": [
    {
     "data": {
      "text/plain": [
       "12"
      ]
     },
     "execution_count": 6,
     "metadata": {},
     "output_type": "execute_result"
    }
   ],
   "source": [
    "qc.width()"
   ]
  },
  {
   "cell_type": "markdown",
   "metadata": {},
   "source": [
    "<div class=\"alert alert-block alert-warning\">\n",
    "<b>Warning:</b> For a quantum circuit composed from just qubits, the circuit width is equal to the number of qubits.  This is the definition used in quantum computing.  However, for more complicated circuits with classical registers, and classically controlled gates, this equivalence breaks down.  As such, from now on we will <b>not</b> refer to the number of qubits in a quantum circuit as the width.\n",
    "</div>"
   ]
  },
  {
   "cell_type": "markdown",
   "metadata": {},
   "source": [
    "we can also just get the number of qubits directly:"
   ]
  },
  {
   "cell_type": "code",
   "execution_count": 8,
   "metadata": {
    "ExecuteTime": {
     "end_time": "2019-08-05T15:25:20.641201Z",
     "start_time": "2019-08-05T15:25:20.638695Z"
    }
   },
   "outputs": [],
   "source": [
    "#qc.n_qubits()"
   ]
  },
  {
   "cell_type": "markdown",
   "metadata": {},
   "source": [
    "It is also straightforward to get the number and type of the gates in a circuit using `count_ops`:"
   ]
  },
  {
   "cell_type": "code",
   "execution_count": 9,
   "metadata": {
    "ExecuteTime": {
     "end_time": "2019-08-05T15:30:38.550122Z",
     "start_time": "2019-08-05T15:30:38.544825Z"
    }
   },
   "outputs": [
    {
     "data": {
      "text/plain": [
       "{'h': 5, 'cx': 8, 'x': 3, 'swap': 3}"
      ]
     },
     "execution_count": 9,
     "metadata": {},
     "output_type": "execute_result"
    }
   ],
   "source": [
    "qc.count_ops()"
   ]
  },
  {
   "cell_type": "markdown",
   "metadata": {},
   "source": [
    "We can also get just the raw count of operations by computing the circuits **size**."
   ]
  },
  {
   "cell_type": "code",
   "execution_count": 10,
   "metadata": {
    "ExecuteTime": {
     "end_time": "2019-08-05T15:34:13.127159Z",
     "start_time": "2019-08-05T15:34:13.122481Z"
    }
   },
   "outputs": [
    {
     "data": {
      "text/plain": [
       "19"
      ]
     },
     "execution_count": 10,
     "metadata": {},
     "output_type": "execute_result"
    }
   ],
   "source": [
    "qc.size()"
   ]
  },
  {
   "cell_type": "markdown",
   "metadata": {},
   "source": [
    "## Quantum Circuit Depth"
   ]
  },
  {
   "cell_type": "markdown",
   "metadata": {},
   "source": [
    "A particularly important circuit property is known as the **depth**.  The depth of a quantum circuit is a measure of how many \"layers\" of quantum gates, executed in parallel, it takes to complete the computation defined by the circuit.  Because quantum gates take time to implement, the depth of a circuit roughly corresponds to the amount of time it takes the quantum computer to execute the circuit.  Thus, the depth of a circuit is one important quantity used to measure if a quantum circuit can be run on a device.\n",
    "\n",
    "The depth of a quantum circuit has a mathematical definition as the longest path in a directed acyclic graph (DAG).  However, such a definition is a bit hard to grasp, even for experts.  Fortunately, the depth of a circuit can be easily understood by anyone familiar with playing [Tetris](https://en.wikipedia.org/wiki/Tetris).  To undertand this let us redraw the circuit, with the first five CNOT gates colored differently for clarity:"
   ]
  },
  {
   "cell_type": "markdown",
   "metadata": {},
   "source": [
    "<img src=\"./images/depth_1.png\" width=600px>"
   ]
  },
  {
   "cell_type": "markdown",
   "metadata": {},
   "source": [
    "To compute the depth, we turn the circuit counterclockwise so that the beginning of the circuit is at the bottom.  We then let the gates fall to the bottom.  Later gates stack on earlier gates, and multi-qubit gate components must be stacked at the same height.  For the current circuit of interest, this stacking looks like:"
   ]
  },
  {
   "cell_type": "markdown",
   "metadata": {
    "ExecuteTime": {
     "end_time": "2019-08-05T16:39:59.435226Z",
     "start_time": "2019-08-05T16:39:59.429815Z"
    }
   },
   "source": [
    "<img src=\"./images/depth_2.png\" width=600px>"
   ]
  },
  {
   "cell_type": "markdown",
   "metadata": {},
   "source": [
    "We can see that the first five CNOT gates all collapsed down on top of each other, and are stacked on top of the initial set of Hadamard gates.  The remaining gates stack on top of the CNOT layer as shown.  The stack of gates can be partitioned into \"layers\", where each layer represents a set of gates that can be executed in parallel on a quantum device (Hardware limitations may restrict the number and/or type of gates that can be run in parallel).  The **depth** of the circuit is just the number of layers in the circuit;  The depth is equal to the height of the stack of gates.  This computation is done for you in qiskit, and we can verify our visual method:"
   ]
  },
  {
   "cell_type": "code",
   "execution_count": 13,
   "metadata": {
    "ExecuteTime": {
     "end_time": "2019-08-05T17:02:55.308426Z",
     "start_time": "2019-08-05T17:02:55.303481Z"
    }
   },
   "outputs": [
    {
     "data": {
      "text/plain": [
       "9"
      ]
     },
     "execution_count": 13,
     "metadata": {},
     "output_type": "execute_result"
    }
   ],
   "source": [
    "qc.depth()"
   ]
  },
  {
   "cell_type": "markdown",
   "metadata": {},
   "source": [
    "## Unitary Factors\n",
    "\n",
    "The circuit we are focusing on here is a 12 qubit circuit.  However, does this circuit actually require a 12 qubit quantum computer to run?  That is to say, can we compute  the same result by running a collection of smaller circuits individually?\n",
    "\n",
    "In the limit where only single-qubit gates are performed, it should be clear that each qubit is controlled independently of the rest, and thus we can run each qubit independently and still get the desired result.  Thus, the question becomes are there enough entangling gates in the circuit to have all qubits interacting?  Again, this is best understood in terms of diagrams.  Below, we track the sets of qubits that interact amongst themselves via CNOT gates at each layer in the circuit."
   ]
  },
  {
   "cell_type": "markdown",
   "metadata": {
    "ExecuteTime": {
     "end_time": "2019-08-05T17:23:58.305508Z",
     "start_time": "2019-08-05T17:23:58.301385Z"
    }
   },
   "source": [
    "<img src=\"./images/tensor_factors_1.png\" width=600px>"
   ]
  },
  {
   "cell_type": "markdown",
   "metadata": {},
   "source": [
    "We can see that at the end of the computation there are three independent sets of qubits.  Thus, our 12 qubit computation is actual two two qubit calculations and a single eight qubit computation.  We can verify this via qiskit:"
   ]
  },
  {
   "cell_type": "code",
   "execution_count": 29,
   "metadata": {
    "ExecuteTime": {
     "end_time": "2019-08-05T17:42:50.484798Z",
     "start_time": "2019-08-05T17:42:50.479709Z"
    }
   },
   "outputs": [
    {
     "data": {
      "text/plain": [
       "3"
      ]
     },
     "execution_count": 29,
     "metadata": {},
     "output_type": "execute_result"
    }
   ],
   "source": [
    "qc.num_unitary_factors()"
   ]
  },
  {
   "cell_type": "markdown",
   "metadata": {},
   "source": [
    "## Circuits with Classical Registers and Measurements\n",
    "\n",
    "Several of the circuit properties introduced so far change when adding classical registers and measurements.\n",
    "\n",
    "Lets add measurements to the circuit above."
   ]
  },
  {
   "cell_type": "code",
   "execution_count": 32,
   "metadata": {
    "ExecuteTime": {
     "end_time": "2019-08-05T17:52:23.842347Z",
     "start_time": "2019-08-05T17:52:23.810586Z"
    }
   },
   "outputs": [
    {
     "data": {
      "text/html": [
       "<pre style=\"word-wrap: normal;white-space: pre;background: #fff0;line-height: 1.1;font-family: &quot;Courier New&quot;,Courier,monospace\">         ┌───┐                                                            ░ ┌─┐                                 \n",
       " q_0: |0>┤ H ├──■─────────────────────────────────────────────────────────░─┤M├─────────────────────────────────\n",
       "         ├───┤  │                                                         ░ └╥┘┌─┐                              \n",
       " q_1: |0>┤ H ├──┼────■───────────────────■────■─────────■─────────────────░──╫─┤M├──────────────────────────────\n",
       "         ├───┤  │    │                   │    │         │                 ░  ║ └╥┘┌─┐                           \n",
       " q_2: |0>┤ H ├──┼────┼────■──────────────┼────┼─────────┼─────────────────░──╫──╫─┤M├───────────────────────────\n",
       "         ├───┤  │    │    │              │    │         │                 ░  ║  ║ └╥┘┌─┐                        \n",
       " q_3: |0>┤ H ├──┼────┼────┼────■─────────┼────┼─────────┼─────────────────░──╫──╫──╫─┤M├────────────────────────\n",
       "         ├───┤  │    │    │    │         │    │         │                 ░  ║  ║  ║ └╥┘┌─┐                     \n",
       " q_4: |0>┤ H ├──┼────┼────┼────┼────■────┼────┼─────────┼─────────────────░──╫──╫──╫──╫─┤M├─────────────────────\n",
       "         └───┘┌─┴─┐  │    │    │    │    │    │         │                 ░  ║  ║  ║  ║ └╥┘┌─┐                  \n",
       " q_5: |0>─────┤ X ├──┼────┼────┼────┼────┼────┼─────────┼─────────────────░──╫──╫──╫──╫──╫─┤M├──────────────────\n",
       "              └───┘┌─┴─┐  │    │    │    │    │         │           ┌───┐ ░  ║  ║  ║  ║  ║ └╥┘┌─┐               \n",
       " q_6: |0>──────────┤ X ├──┼────┼────┼────┼────┼─────────┼───X──X──X─┤ X ├─░──╫──╫──╫──╫──╫──╫─┤M├───────────────\n",
       "                   └───┘┌─┴─┐  │    │  ┌─┴─┐  │  ┌───┐  │   │  │  │ └───┘ ░  ║  ║  ║  ║  ║  ║ └╥┘┌─┐            \n",
       " q_7: |0>───────────────┤ X ├──┼────┼──┤ X ├──┼──┤ X ├──┼───┼──┼──┼───────░──╫──╫──╫──╫──╫──╫──╫─┤M├────────────\n",
       "                        └───┘┌─┴─┐  │  ├───┤  │  └───┘  │   │  │  │       ░  ║  ║  ║  ║  ║  ║  ║ └╥┘┌─┐         \n",
       " q_8: |0>────────────────────┤ X ├──┼──┤ X ├──┼─────────┼───┼──┼──┼───────░──╫──╫──╫──╫──╫──╫──╫──╫─┤M├─────────\n",
       "                             └───┘┌─┴─┐└───┘┌─┴─┐       │   │  │  │       ░  ║  ║  ║  ║  ║  ║  ║  ║ └╥┘┌─┐      \n",
       " q_9: |0>─────────────────────────┤ X ├─────┤ X ├───────┼───┼──X──┼───────░──╫──╫──╫──╫──╫──╫──╫──╫──╫─┤M├──────\n",
       "                                  └───┘     └───┘       │   │     │       ░  ║  ║  ║  ║  ║  ║  ║  ║  ║ └╥┘┌─┐   \n",
       "q_10: |0>───────────────────────────────────────────────┼───┼─────X───────░──╫──╫──╫──╫──╫──╫──╫──╫──╫──╫─┤M├───\n",
       "                                                      ┌─┴─┐ │             ░  ║  ║  ║  ║  ║  ║  ║  ║  ║  ║ └╥┘┌─┐\n",
       "q_11: |0>─────────────────────────────────────────────┤ X ├─X─────────────░──╫──╫──╫──╫──╫──╫──╫──╫──╫──╫──╫─┤M├\n",
       "                                                      └───┘               ░  ║  ║  ║  ║  ║  ║  ║  ║  ║  ║  ║ └╥┘\n",
       "  c_0: 0 ════════════════════════════════════════════════════════════════════╩══╬══╬══╬══╬══╬══╬══╬══╬══╬══╬══╬═\n",
       "                                                                                ║  ║  ║  ║  ║  ║  ║  ║  ║  ║  ║ \n",
       "  c_1: 0 ═══════════════════════════════════════════════════════════════════════╩══╬══╬══╬══╬══╬══╬══╬══╬══╬══╬═\n",
       "                                                                                   ║  ║  ║  ║  ║  ║  ║  ║  ║  ║ \n",
       "  c_2: 0 ══════════════════════════════════════════════════════════════════════════╩══╬══╬══╬══╬══╬══╬══╬══╬══╬═\n",
       "                                                                                      ║  ║  ║  ║  ║  ║  ║  ║  ║ \n",
       "  c_3: 0 ═════════════════════════════════════════════════════════════════════════════╩══╬══╬══╬══╬══╬══╬══╬══╬═\n",
       "                                                                                         ║  ║  ║  ║  ║  ║  ║  ║ \n",
       "  c_4: 0 ════════════════════════════════════════════════════════════════════════════════╩══╬══╬══╬══╬══╬══╬══╬═\n",
       "                                                                                            ║  ║  ║  ║  ║  ║  ║ \n",
       "  c_5: 0 ═══════════════════════════════════════════════════════════════════════════════════╩══╬══╬══╬══╬══╬══╬═\n",
       "                                                                                               ║  ║  ║  ║  ║  ║ \n",
       "  c_6: 0 ══════════════════════════════════════════════════════════════════════════════════════╩══╬══╬══╬══╬══╬═\n",
       "                                                                                                  ║  ║  ║  ║  ║ \n",
       "  c_7: 0 ═════════════════════════════════════════════════════════════════════════════════════════╩══╬══╬══╬══╬═\n",
       "                                                                                                     ║  ║  ║  ║ \n",
       "  c_8: 0 ════════════════════════════════════════════════════════════════════════════════════════════╩══╬══╬══╬═\n",
       "                                                                                                        ║  ║  ║ \n",
       "  c_9: 0 ═══════════════════════════════════════════════════════════════════════════════════════════════╩══╬══╬═\n",
       "                                                                                                           ║  ║ \n",
       " c_10: 0 ══════════════════════════════════════════════════════════════════════════════════════════════════╩══╬═\n",
       "                                                                                                              ║ \n",
       " c_11: 0 ═════════════════════════════════════════════════════════════════════════════════════════════════════╩═\n",
       "                                                                                                                </pre>"
      ],
      "text/plain": [
       "<qiskit.visualization.text.TextDrawing at 0x1a23aa6be0>"
      ]
     },
     "execution_count": 32,
     "metadata": {},
     "output_type": "execute_result"
    }
   ],
   "source": [
    "qc2 = QuantumCircuit(12, 12)\n",
    "\n",
    "for idx in range(5):\n",
    "    qc2.h(idx)\n",
    "    qc2.cx(idx, idx+5)\n",
    "\n",
    "qc2.cx(1, 7)\n",
    "qc2.x(8)\n",
    "qc2.cx(1, 9)\n",
    "qc2.x(7)\n",
    "qc2.cx(1, 11)\n",
    "qc2.swap(6, 11)\n",
    "qc2.swap(6, 9)\n",
    "qc2.swap(6, 10)\n",
    "qc2.x(6)\n",
    "qc2.barrier()\n",
    "qc2.measure(range(12), range(12))\n",
    "qc2.draw(line_length=120)"
   ]
  },
  {
   "cell_type": "markdown",
   "metadata": {},
   "source": [
    "The **width** of the circuit now includes the number of qubits and number of classical bits:"
   ]
  },
  {
   "cell_type": "code",
   "execution_count": 20,
   "metadata": {
    "ExecuteTime": {
     "end_time": "2019-08-05T17:37:14.152939Z",
     "start_time": "2019-08-05T17:37:14.148282Z"
    }
   },
   "outputs": [
    {
     "data": {
      "text/plain": [
       "24"
      ]
     },
     "execution_count": 20,
     "metadata": {},
     "output_type": "execute_result"
    }
   ],
   "source": [
    "qc.width()"
   ]
  },
  {
   "cell_type": "markdown",
   "metadata": {},
   "source": [
    "The number of operations has increased because of the measurements and the barrier we used:"
   ]
  },
  {
   "cell_type": "code",
   "execution_count": 21,
   "metadata": {
    "ExecuteTime": {
     "end_time": "2019-08-05T17:37:57.014617Z",
     "start_time": "2019-08-05T17:37:57.009545Z"
    }
   },
   "outputs": [
    {
     "data": {
      "text/plain": [
       "{'h': 5, 'cx': 8, 'x': 3, 'swap': 3, 'barrier': 1, 'measure': 12}"
      ]
     },
     "execution_count": 21,
     "metadata": {},
     "output_type": "execute_result"
    }
   ],
   "source": [
    "qc.count_ops()"
   ]
  },
  {
   "cell_type": "markdown",
   "metadata": {},
   "source": [
    "and the **size** of the circuit has grown:"
   ]
  },
  {
   "cell_type": "code",
   "execution_count": 22,
   "metadata": {
    "ExecuteTime": {
     "end_time": "2019-08-05T17:38:31.234631Z",
     "start_time": "2019-08-05T17:38:31.229717Z"
    }
   },
   "outputs": [
    {
     "data": {
      "text/plain": [
       "31"
      ]
     },
     "execution_count": 22,
     "metadata": {},
     "output_type": "execute_result"
    }
   ],
   "source": [
    "qc.size()"
   ]
  },
  {
   "cell_type": "markdown",
   "metadata": {
    "ExecuteTime": {
     "end_time": "2019-08-05T17:39:12.011784Z",
     "start_time": "2019-08-05T17:39:12.008688Z"
    }
   },
   "source": [
    "### Depth\n",
    "\n",
    "The depth of the circuit has now increased because measurements are included in the depth computation as they perform physical operations:"
   ]
  },
  {
   "cell_type": "code",
   "execution_count": 24,
   "metadata": {
    "ExecuteTime": {
     "end_time": "2019-08-05T17:40:01.867336Z",
     "start_time": "2019-08-05T17:40:01.861983Z"
    }
   },
   "outputs": [
    {
     "data": {
      "text/plain": [
       "10"
      ]
     },
     "execution_count": 24,
     "metadata": {},
     "output_type": "execute_result"
    }
   ],
   "source": [
    "qc.depth()"
   ]
  },
  {
   "cell_type": "markdown",
   "metadata": {},
   "source": [
    "Barriers and other special commands like snapshots do not count toward the depth directly. However, gates cannot pass through them and must therefore start stacking on top."
   ]
  },
  {
   "cell_type": "markdown",
   "metadata": {},
   "source": [
    "## Dependence of Depth on Gate Selection\n",
    "\n",
    "We close by highlighting a very important point.  The **depth** of a quantum circuit, and thus the ability to run said circuit on noisy quantum hardware depends on the choice of gates used to implement that circuit.  The original circuit used in this tutorial had a depth of 9."
   ]
  },
  {
   "cell_type": "code",
   "execution_count": 34,
   "metadata": {
    "ExecuteTime": {
     "end_time": "2019-08-05T17:52:29.448596Z",
     "start_time": "2019-08-05T17:52:29.444492Z"
    }
   },
   "outputs": [
    {
     "data": {
      "text/plain": [
       "9"
      ]
     },
     "execution_count": 34,
     "metadata": {},
     "output_type": "execute_result"
    }
   ],
   "source": [
    "qc.depth()"
   ]
  },
  {
   "cell_type": "markdown",
   "metadata": {},
   "source": [
    "However, the SWAP gates used in the construction of that circuit are not native to the IBM Q devices.  A decomposition that runs on the devices is a decomposition in terms of three CNOT gates:"
   ]
  },
  {
   "cell_type": "code",
   "execution_count": 36,
   "metadata": {
    "ExecuteTime": {
     "end_time": "2019-08-05T17:54:53.589518Z",
     "start_time": "2019-08-05T17:54:53.580254Z"
    }
   },
   "outputs": [
    {
     "data": {
      "text/html": [
       "<pre style=\"word-wrap: normal;white-space: pre;background: #fff0;line-height: 1.1;font-family: &quot;Courier New&quot;,Courier,monospace\">             ┌───┐     \n",
       "q_0: |0>──■──┤ X ├──■──\n",
       "        ┌─┴─┐└─┬─┘┌─┴─┐\n",
       "q_1: |0>┤ X ├──■──┤ X ├\n",
       "        └───┘     └───┘</pre>"
      ],
      "text/plain": [
       "<qiskit.visualization.text.TextDrawing at 0x1a23ae94e0>"
      ]
     },
     "execution_count": 36,
     "metadata": {},
     "output_type": "execute_result"
    }
   ],
   "source": [
    "qc3 = QuantumCircuit(2)\n",
    "qc3.swap(0,1)\n",
    "qc3.decompose().draw() # This decomposes the swap gate into the gates we want"
   ]
  },
  {
   "cell_type": "markdown",
   "metadata": {},
   "source": [
    "So the exact same circuit could be written as:"
   ]
  },
  {
   "cell_type": "code",
   "execution_count": 40,
   "metadata": {
    "ExecuteTime": {
     "end_time": "2019-08-05T17:57:07.519597Z",
     "start_time": "2019-08-05T17:57:07.494119Z"
    }
   },
   "outputs": [
    {
     "data": {
      "text/html": [
       "<pre style=\"word-wrap: normal;white-space: pre;background: #fff0;line-height: 1.1;font-family: &quot;Courier New&quot;,Courier,monospace\">         ┌───┐                                                                                               \n",
       " q_0: |0>┤ H ├──■────────────────────────────────────────────────────────────────────────────────────────────\n",
       "         ├───┤  │                                                                                            \n",
       " q_1: |0>┤ H ├──┼────■───────────────────■────■─────────■────────────────────────────────────────────────────\n",
       "         ├───┤  │    │                   │    │         │                                                    \n",
       " q_2: |0>┤ H ├──┼────┼────■──────────────┼────┼─────────┼────────────────────────────────────────────────────\n",
       "         ├───┤  │    │    │              │    │         │                                                    \n",
       " q_3: |0>┤ H ├──┼────┼────┼────■─────────┼────┼─────────┼────────────────────────────────────────────────────\n",
       "         ├───┤  │    │    │    │         │    │         │                                                    \n",
       " q_4: |0>┤ H ├──┼────┼────┼────┼────■────┼────┼─────────┼────────────────────────────────────────────────────\n",
       "         └───┘┌─┴─┐  │    │    │    │    │    │         │                                                    \n",
       " q_5: |0>─────┤ X ├──┼────┼────┼────┼────┼────┼─────────┼────────────────────────────────────────────────────\n",
       "              └───┘┌─┴─┐  │    │    │    │    │         │       ┌───┐          ┌───┐          ┌───┐     ┌───┐\n",
       " q_6: |0>──────────┤ X ├──┼────┼────┼────┼────┼─────────┼────■──┤ X ├──■────■──┤ X ├──■────■──┤ X ├──■──┤ X ├\n",
       "                   └───┘┌─┴─┐  │    │  ┌─┴─┐  │  ┌───┐  │    │  └─┬─┘  │    │  └─┬─┘  │    │  └─┬─┘  │  └───┘\n",
       " q_7: |0>───────────────┤ X ├──┼────┼──┤ X ├──┼──┤ X ├──┼────┼────┼────┼────┼────┼────┼────┼────┼────┼───────\n",
       "                        └───┘┌─┴─┐  │  ├───┤  │  └───┘  │    │    │    │    │    │    │    │    │    │       \n",
       " q_8: |0>────────────────────┤ X ├──┼──┤ X ├──┼─────────┼────┼────┼────┼────┼────┼────┼────┼────┼────┼───────\n",
       "                             └───┘┌─┴─┐└───┘┌─┴─┐       │    │    │    │  ┌─┴─┐  │  ┌─┴─┐  │    │    │       \n",
       " q_9: |0>─────────────────────────┤ X ├─────┤ X ├───────┼────┼────┼────┼──┤ X ├──■──┤ X ├──┼────┼────┼───────\n",
       "                                  └───┘     └───┘       │    │    │    │  └───┘     └───┘┌─┴─┐  │  ┌─┴─┐     \n",
       "q_10: |0>───────────────────────────────────────────────┼────┼────┼────┼─────────────────┤ X ├──■──┤ X ├─────\n",
       "                                                      ┌─┴─┐┌─┴─┐  │  ┌─┴─┐               └───┘     └───┘     \n",
       "q_11: |0>─────────────────────────────────────────────┤ X ├┤ X ├──■──┤ X ├───────────────────────────────────\n",
       "                                                      └───┘└───┘     └───┘                                   </pre>"
      ],
      "text/plain": [
       "<qiskit.visualization.text.TextDrawing at 0x1a23c81c18>"
      ]
     },
     "execution_count": 40,
     "metadata": {},
     "output_type": "execute_result"
    }
   ],
   "source": [
    "qc4 = QuantumCircuit(12)\n",
    "\n",
    "for idx in range(5):\n",
    "    qc4.h(idx)\n",
    "    qc4.cx(idx, idx+5)\n",
    "\n",
    "qc4.cx(1, 7)\n",
    "qc4.x(8)\n",
    "qc4.cx(1, 9)\n",
    "qc4.x(7)\n",
    "qc4.cx(1, 11)\n",
    "\n",
    "qc4.cx(6, 11)\n",
    "qc4.cx(11, 6)\n",
    "qc4.cx(6, 11)\n",
    "\n",
    "qc4.cx(6, 9)\n",
    "qc4.cx(9, 6)\n",
    "qc4.cx(6, 9)\n",
    "\n",
    "qc4.cx(6, 10)\n",
    "qc4.cx(10, 6)\n",
    "qc4.cx(6, 10)\n",
    "\n",
    "qc4.x(6)\n",
    "qc4.draw(line_length=120)"
   ]
  },
  {
   "cell_type": "markdown",
   "metadata": {
    "ExecuteTime": {
     "end_time": "2019-08-05T17:57:54.296659Z",
     "start_time": "2019-08-05T17:57:54.291924Z"
    }
   },
   "source": [
    "That has a depth approaching twice that of the original circuit"
   ]
  },
  {
   "cell_type": "code",
   "execution_count": 44,
   "metadata": {
    "ExecuteTime": {
     "end_time": "2019-08-05T17:58:21.624116Z",
     "start_time": "2019-08-05T17:58:21.620401Z"
    }
   },
   "outputs": [
    {
     "data": {
      "text/plain": [
       "15"
      ]
     },
     "execution_count": 44,
     "metadata": {},
     "output_type": "execute_result"
    }
   ],
   "source": [
    "qc4.depth()"
   ]
  },
  {
   "cell_type": "markdown",
   "metadata": {},
   "source": [
    "This simple example is meant to illustrate a very important point: When running circuits on actual quantum devices, the circuit that gets run is in general not the same circuit you constructed.  In addition, the depth of that new circuit is likely to me larger, and in some cases much larger, than the original one.  Fortunately, there are often times where one can reduce this overhead through smart circuit rewriting toolchains."
   ]
  },
  {
   "cell_type": "code",
   "execution_count": 2,
   "metadata": {
    "ExecuteTime": {
     "end_time": "2019-08-06T17:30:31.389986Z",
     "start_time": "2019-08-06T17:30:31.382411Z"
    }
   },
   "outputs": [
    {
     "data": {
      "text/html": [
       "<h3>Version Information</h3><table><tr><th>Qiskit Software</th><th>Version</th></tr><tr><td>Qiskit</td><td>None</td></tr><tr><td>Terra</td><td>0.9.0</td></tr><tr><td>Aer</td><td>0.3.0</td></tr><tr><td>Ignis</td><td>0.2.0</td></tr><tr><td>Aqua</td><td>0.5.6</td></tr><tr><td>IBM Q Provider</td><td>0.3.1</td></tr><tr><th>System information</th></tr><tr><td>Python</td><td>3.7.3 (default, Mar 27 2019, 16:54:48) \n",
       "[Clang 4.0.1 (tags/RELEASE_401/final)]</td></tr><tr><td>OS</td><td>Darwin</td></tr><tr><td>CPUs</td><td>4</td></tr><tr><td>Memory (Gb)</td><td>16.0</td></tr><tr><td colspan='2'>Tue Aug 06 13:30:31 2019 EDT</td></tr></table>"
      ],
      "text/plain": [
       "<IPython.core.display.HTML object>"
      ]
     },
     "metadata": {},
     "output_type": "display_data"
    },
    {
     "data": {
      "text/html": [
       "<div style='width: 100%; background-color:#d5d9e0;padding-left: 10px; padding-bottom: 10px; padding-right: 10px; padding-top: 5px'><h3>This code is a part of Qiskit</h3><p>&copy; Copyright IBM 2017, 2019.</p><p>This code is licensed under the Apache License, Version 2.0. You may<br>obtain a copy of this license in the LICENSE.txt file in the root directory<br> of this source tree or at http://www.apache.org/licenses/LICENSE-2.0.<p>Any modifications or derivative works of this code must retain this<br>copyright notice, and modified files need to carry a notice indicating<br>that they have been altered from the originals.</p></div>"
      ],
      "text/plain": [
       "<IPython.core.display.HTML object>"
      ]
     },
     "metadata": {},
     "output_type": "display_data"
    }
   ],
   "source": [
    "%qiskit_version_table\n",
    "%qiskit_copyright"
   ]
  },
  {
   "cell_type": "code",
   "execution_count": null,
   "metadata": {},
   "outputs": [],
   "source": []
  }
 ],
 "metadata": {
  "kernelspec": {
   "display_name": "Python 3",
   "language": "python",
   "name": "python3"
  },
  "language_info": {
   "codemirror_mode": {
    "name": "ipython",
    "version": 3
   },
   "file_extension": ".py",
   "mimetype": "text/x-python",
   "name": "python",
   "nbconvert_exporter": "python",
   "pygments_lexer": "ipython3",
   "version": "3.7.3"
  },
  "varInspector": {
   "cols": {
    "lenName": 16,
    "lenType": 16,
    "lenVar": 40
   },
   "kernels_config": {
    "python": {
     "delete_cmd_postfix": "",
     "delete_cmd_prefix": "del ",
     "library": "var_list.py",
     "varRefreshCmd": "print(var_dic_list())"
    },
    "r": {
     "delete_cmd_postfix": ") ",
     "delete_cmd_prefix": "rm(",
     "library": "var_list.r",
     "varRefreshCmd": "cat(var_dic_list()) "
    }
   },
   "types_to_exclude": [
    "module",
    "function",
    "builtin_function_or_method",
    "instance",
    "_Feature"
   ],
   "window_display": false
  }
 },
 "nbformat": 4,
 "nbformat_minor": 2
}
