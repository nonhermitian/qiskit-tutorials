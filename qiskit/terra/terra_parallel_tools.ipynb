{
 "cells": [
  {
   "cell_type": "markdown",
   "metadata": {},
   "source": [
    "<img src=\"../../images/qiskit-heading.gif\" alt=\"Note: In order for images to show up in this jupyter notebook you need to select File => Trust Notebook\" width=\"500 px\" align=\"left\">"
   ]
  },
  {
   "cell_type": "markdown",
   "metadata": {},
   "source": [
    "# Using the Qiskit Terra parallel tools"
   ]
  },
  {
   "cell_type": "markdown",
   "metadata": {},
   "source": [
    "In this tutorial we will see how to leverage the `parallel_map` routine in Qiskit Terra to execute functions in parallel, and track the progress of these parallel tasks using progress bars."
   ]
  },
  {
   "cell_type": "code",
   "execution_count": 1,
   "metadata": {
    "ExecuteTime": {
     "end_time": "2019-08-02T20:24:13.835519Z",
     "start_time": "2019-08-02T20:24:11.564453Z"
    }
   },
   "outputs": [],
   "source": [
    "from qiskit import *\n",
    "from qiskit.tools.parallel import parallel_map\n",
    "from qiskit.tools.events import TextProgressBar\n",
    "from qiskit.tools.jupyter.progressbar import HTMLProgressBar"
   ]
  },
  {
   "cell_type": "markdown",
   "metadata": {},
   "source": [
    "## Generate 100 circuits in parallel and track progress"
   ]
  },
  {
   "cell_type": "markdown",
   "metadata": {},
   "source": [
    "Here we will construct a set of 100 Quantum Volume circuits of width and depth 4 using Qiskit Ignis.  For a technical discussion of Quantum Volume, see https://arxiv.org/abs/1811.12926."
   ]
  },
  {
   "cell_type": "code",
   "execution_count": 2,
   "metadata": {
    "ExecuteTime": {
     "end_time": "2019-08-02T20:24:13.849716Z",
     "start_time": "2019-08-02T20:24:13.837828Z"
    }
   },
   "outputs": [],
   "source": [
    "from qiskit.ignis.verification.quantum_volume import qv_circuits"
   ]
  },
  {
   "cell_type": "code",
   "execution_count": 3,
   "metadata": {
    "ExecuteTime": {
     "end_time": "2019-08-02T20:24:14.238830Z",
     "start_time": "2019-08-02T20:24:13.852280Z"
    }
   },
   "outputs": [],
   "source": [
    "circs, _ = qv_circuits(qubit_lists=[[0,1,2,3]], ntrials=100)\n",
    "circs = [circ for circ in circs]"
   ]
  },
  {
   "cell_type": "markdown",
   "metadata": {},
   "source": [
    "## Transpile circuits and track progress"
   ]
  },
  {
   "cell_type": "code",
   "execution_count": 4,
   "metadata": {
    "ExecuteTime": {
     "end_time": "2019-08-02T20:24:14.896061Z",
     "start_time": "2019-08-02T20:24:14.240453Z"
    }
   },
   "outputs": [
    {
     "name": "stdout",
     "output_type": "stream",
     "text": [
      "|██████████████████████████████████████████████████| 100/100 [00:00:00:00]\n"
     ]
    }
   ],
   "source": [
    "TextProgressBar()\n",
    "parallel_map(transpile, circs);"
   ]
  },
  {
   "cell_type": "markdown",
   "metadata": {},
   "source": [
    "## Use a Jupyter progress bar"
   ]
  },
  {
   "cell_type": "code",
   "execution_count": 5,
   "metadata": {
    "ExecuteTime": {
     "end_time": "2019-08-02T20:24:15.565776Z",
     "start_time": "2019-08-02T20:24:14.899373Z"
    }
   },
   "outputs": [
    {
     "data": {
      "application/vnd.jupyter.widget-view+json": {
       "model_id": "c07c90d2d90047a894f7daf652554b68",
       "version_major": 2,
       "version_minor": 0
      },
      "text/plain": [
       "VBox(children=(HTML(value=''), IntProgress(value=0, bar_style='info')))"
      ]
     },
     "metadata": {},
     "output_type": "display_data"
    }
   ],
   "source": [
    "HTMLProgressBar()\n",
    "parallel_map(transpile, circs);"
   ]
  },
  {
   "cell_type": "markdown",
   "metadata": {},
   "source": [
    "or"
   ]
  },
  {
   "cell_type": "code",
   "execution_count": 6,
   "metadata": {
    "ExecuteTime": {
     "end_time": "2019-08-02T20:24:16.247474Z",
     "start_time": "2019-08-02T20:24:15.568653Z"
    }
   },
   "outputs": [
    {
     "data": {
      "application/vnd.jupyter.widget-view+json": {
       "model_id": "7109605a6c1541a19fb871b3ebc83cc7",
       "version_major": 2,
       "version_minor": 0
      },
      "text/plain": [
       "VBox(children=(HTML(value=''), IntProgress(value=0, bar_style='info')))"
      ]
     },
     "metadata": {},
     "output_type": "display_data"
    }
   ],
   "source": [
    "%%qiskit_progress_bar\n",
    "parallel_map(transpile, circs);"
   ]
  }
 ],
 "metadata": {
  "hide_input": false,
  "kernelspec": {
   "display_name": "Python 3",
   "language": "python",
   "name": "python3"
  },
  "language_info": {
   "codemirror_mode": {
    "name": "ipython",
    "version": 3
   },
   "file_extension": ".py",
   "mimetype": "text/x-python",
   "name": "python",
   "nbconvert_exporter": "python",
   "pygments_lexer": "ipython3",
   "version": "3.7.3"
  },
  "varInspector": {
   "cols": {
    "lenName": 16,
    "lenType": 16,
    "lenVar": 40
   },
   "kernels_config": {
    "python": {
     "delete_cmd_postfix": "",
     "delete_cmd_prefix": "del ",
     "library": "var_list.py",
     "varRefreshCmd": "print(var_dic_list())"
    },
    "r": {
     "delete_cmd_postfix": ") ",
     "delete_cmd_prefix": "rm(",
     "library": "var_list.r",
     "varRefreshCmd": "cat(var_dic_list()) "
    }
   },
   "types_to_exclude": [
    "module",
    "function",
    "builtin_function_or_method",
    "instance",
    "_Feature"
   ],
   "window_display": false
  },
  "widgets": {
   "application/vnd.jupyter.widget-state+json": {
    "state": {
     "01ffd0cc7ac940fb8c523d9ea7b54d53": {
      "model_module": "@jupyter-widgets/controls",
      "model_module_version": "1.5.0",
      "model_name": "DescriptionStyleModel",
      "state": {
       "description_width": ""
      }
     },
     "021a785861da4f30a44cfc3640fd3302": {
      "model_module": "@jupyter-widgets/controls",
      "model_module_version": "1.5.0",
      "model_name": "IntProgressModel",
      "state": {
       "bar_style": "success",
       "layout": "IPY_MODEL_a13b45fffd4446f3a9f8dcecdcb7512f",
       "style": "IPY_MODEL_44745a9661cf4c8ba45d4ba85f3e0a37",
       "value": 100
      }
     },
     "047ff52e7190480fa66f718c913397ea": {
      "model_module": "@jupyter-widgets/controls",
      "model_module_version": "1.5.0",
      "model_name": "DescriptionStyleModel",
      "state": {
       "description_width": ""
      }
     },
     "0890cf9233124a67a00cf3671bf06f0d": {
      "model_module": "@jupyter-widgets/base",
      "model_module_version": "1.2.0",
      "model_name": "LayoutModel",
      "state": {
       "grid_template_areas": "\n                                       \". . . . right \"\n                                        ",
       "grid_template_columns": "20% 20% 20% 20% 20%",
       "width": "100%"
      }
     },
     "08eb16c35be24d558b2051245ddf3f2d": {
      "model_module": "@jupyter-widgets/base",
      "model_module_version": "1.2.0",
      "model_name": "LayoutModel",
      "state": {
       "margin": "0px 0px 0px 35px",
       "width": "560px"
      }
     },
     "0b6eacb906e6498aaea51e3d3f671087": {
      "model_module": "@jupyter-widgets/base",
      "model_module_version": "1.2.0",
      "model_name": "LayoutModel",
      "state": {
       "width": "70px"
      }
     },
     "0ca3a18b57c94a00b3ae872c3179c932": {
      "model_module": "@jupyter-widgets/controls",
      "model_module_version": "1.5.0",
      "model_name": "DescriptionStyleModel",
      "state": {
       "description_width": ""
      }
     },
     "0d33bd56744f4be0bf983626a4c30f20": {
      "model_module": "@jupyter-widgets/base",
      "model_module_version": "1.2.0",
      "model_name": "LayoutModel",
      "state": {
       "margin": "0px 0px 0px 35px",
       "width": "560px"
      }
     },
     "0e5846e3ee4d4d1fa6dc7b577e861e20": {
      "model_module": "@jupyter-widgets/base",
      "model_module_version": "1.2.0",
      "model_name": "LayoutModel",
      "state": {
       "grid_area": "right",
       "padding": "0px 0px 0px 0px",
       "width": "70px"
      }
     },
     "0fb7e2b05c2e497a96494a3c3c385d40": {
      "model_module": "@jupyter-widgets/controls",
      "model_module_version": "1.5.0",
      "model_name": "ProgressStyleModel",
      "state": {
       "description_width": ""
      }
     },
     "1223ab1ee2394562a419614763189f15": {
      "model_module": "@jupyter-widgets/controls",
      "model_module_version": "1.5.0",
      "model_name": "DescriptionStyleModel",
      "state": {
       "description_width": ""
      }
     },
     "169fe0ce86964557a1ce251faf687f72": {
      "model_module": "@jupyter-widgets/base",
      "model_module_version": "1.2.0",
      "model_name": "LayoutModel",
      "state": {
       "width": "70px"
      }
     },
     "1713c602e9ef425da2cf15400606e746": {
      "model_module": "@jupyter-widgets/controls",
      "model_module_version": "1.5.0",
      "model_name": "DescriptionStyleModel",
      "state": {
       "description_width": ""
      }
     },
     "17be02fbca6e4c379e32d11dc6d3568d": {
      "model_module": "@jupyter-widgets/base",
      "model_module_version": "1.2.0",
      "model_name": "LayoutModel",
      "state": {}
     },
     "17df8f5e122145149490b60b1f0dc669": {
      "model_module": "@jupyter-widgets/base",
      "model_module_version": "1.2.0",
      "model_name": "LayoutModel",
      "state": {}
     },
     "195baa1f8b9b4514b755942bdf854d8e": {
      "model_module": "@jupyter-widgets/controls",
      "model_module_version": "1.5.0",
      "model_name": "VBoxModel",
      "state": {
       "children": [
        "IPY_MODEL_49eba469cdb44810bd4bc94279417d4e",
        "IPY_MODEL_8bdfe7ccd7454ff795f6d3d8c902ba08"
       ],
       "layout": "IPY_MODEL_ce0c3cfb79de4adea4de2028bdd6c228"
      }
     },
     "19694dbcc4134bb7b2c6315d4e7a140c": {
      "model_module": "@jupyter-widgets/controls",
      "model_module_version": "1.5.0",
      "model_name": "IntProgressModel",
      "state": {
       "bar_style": "success",
       "layout": "IPY_MODEL_17df8f5e122145149490b60b1f0dc669",
       "max": 1000,
       "style": "IPY_MODEL_3cf47c49236a4c57bb51ceadc9d61015",
       "value": 1000
      }
     },
     "1b059420c60a4871b5491adf5b8ca160": {
      "model_module": "@jupyter-widgets/controls",
      "model_module_version": "1.5.0",
      "model_name": "ProgressStyleModel",
      "state": {
       "description_width": ""
      }
     },
     "22291b278ac34dc9bbec0aa9ec3f0b7f": {
      "model_module": "@jupyter-widgets/base",
      "model_module_version": "1.2.0",
      "model_name": "LayoutModel",
      "state": {
       "width": "65px"
      }
     },
     "236a32d073894837a52643464cf084b5": {
      "model_module": "@jupyter-widgets/controls",
      "model_module_version": "1.5.0",
      "model_name": "HTMLModel",
      "state": {
       "layout": "IPY_MODEL_61296d966d364126ab1033456602a831",
       "style": "IPY_MODEL_1223ab1ee2394562a419614763189f15",
       "value": "<h5>Message</h5>"
      }
     },
     "25aa7de5cb0846b2bc4655f800b6115d": {
      "model_module": "@jupyter-widgets/controls",
      "model_module_version": "1.5.0",
      "model_name": "GridBoxModel",
      "state": {
       "children": [
        "IPY_MODEL_68a50f1aba5b426bb4fe8ebf794e9842"
       ],
       "layout": "IPY_MODEL_c9d1263a66cd4635ad0c6c0f8d44216c"
      }
     },
     "26f8ba438db84d3aaeca1be4e4923dd8": {
      "model_module": "@jupyter-widgets/controls",
      "model_module_version": "1.5.0",
      "model_name": "DescriptionStyleModel",
      "state": {
       "description_width": ""
      }
     },
     "2a4628843ff94e73b89fa7d839cceb5e": {
      "model_module": "@jupyter-widgets/controls",
      "model_module_version": "1.5.0",
      "model_name": "DescriptionStyleModel",
      "state": {
       "description_width": ""
      }
     },
     "2a99887cf003481f94d031da48308487": {
      "model_module": "@jupyter-widgets/controls",
      "model_module_version": "1.5.0",
      "model_name": "HTMLModel",
      "state": {
       "layout": "IPY_MODEL_9a9a925b07094cee94f3bd91aa8563fb",
       "style": "IPY_MODEL_58c102fd2d5745a5a4628342fb613de0",
       "value": "<h5>Queue</h5>"
      }
     },
     "2b1bfa7d381a4fe1bfbbac589649b683": {
      "model_module": "@jupyter-widgets/controls",
      "model_module_version": "1.5.0",
      "model_name": "HBoxModel",
      "state": {
       "children": [
        "IPY_MODEL_8919af3cfb5240959250bfd1a1ccaede",
        "IPY_MODEL_cd9486a4548f4c62a4145ffeac7913d3",
        "IPY_MODEL_d9fb7d12a831458987b479eda4c32884",
        "IPY_MODEL_ff71d0a93f24459492da53594ddbfb25",
        "IPY_MODEL_aceee19254294a4188ee08faf6a169dc"
       ],
       "layout": "IPY_MODEL_08eb16c35be24d558b2051245ddf3f2d"
      }
     },
     "2c902348ad824189bf255b599bca2bd9": {
      "model_module": "@jupyter-widgets/controls",
      "model_module_version": "1.5.0",
      "model_name": "HBoxModel",
      "state": {
       "children": [
        "IPY_MODEL_6c992559c83542b89f4e538e6324848f",
        "IPY_MODEL_34de332ba2a54aa3b64f3d8b9b290664",
        "IPY_MODEL_f2f1773574f94bea82d1d4e4de1633d3",
        "IPY_MODEL_d1d623157c2a45a8ab47ee367d5e84a2",
        "IPY_MODEL_99a97bcb6fdd41a89d5f5c52b0f6c705"
       ],
       "layout": "IPY_MODEL_eeec6855436f4b4183cd93f09787a89b"
      }
     },
     "31000257831a4077b38f1b5e9cec57fe": {
      "model_module": "@jupyter-widgets/controls",
      "model_module_version": "1.5.0",
      "model_name": "ProgressStyleModel",
      "state": {
       "description_width": ""
      }
     },
     "332ab3c4ae95421f9b34653be0429a82": {
      "model_module": "@jupyter-widgets/controls",
      "model_module_version": "1.5.0",
      "model_name": "HTMLModel",
      "state": {
       "layout": "IPY_MODEL_7e71286e277f4934a940cdb0291fd279",
       "style": "IPY_MODEL_047ff52e7190480fa66f718c913397ea",
       "value": "<h5>Message</h5>"
      }
     },
     "34de332ba2a54aa3b64f3d8b9b290664": {
      "model_module": "@jupyter-widgets/controls",
      "model_module_version": "1.5.0",
      "model_name": "HTMLModel",
      "state": {
       "layout": "IPY_MODEL_c82ab347bc32499d80961e2d272dfded",
       "style": "IPY_MODEL_01ffd0cc7ac940fb8c523d9ea7b54d53",
       "value": "<h5>Backend</h5>"
      }
     },
     "34dff492931a48efbb5e04ef46b8eda7": {
      "model_module": "@jupyter-widgets/base",
      "model_module_version": "1.2.0",
      "model_name": "LayoutModel",
      "state": {}
     },
     "36be1f7ecbfe4be98c891fb47aed1d31": {
      "model_module": "@jupyter-widgets/controls",
      "model_module_version": "1.5.0",
      "model_name": "DescriptionStyleModel",
      "state": {
       "description_width": ""
      }
     },
     "3a287018f69b44dcb3a6159e7c4cc442": {
      "model_module": "@jupyter-widgets/controls",
      "model_module_version": "1.5.0",
      "model_name": "GridBoxModel",
      "state": {
       "children": [
        "IPY_MODEL_848ad11b628e4bce9904d1018725b504"
       ],
       "layout": "IPY_MODEL_a96251af386f460ca3d9b1c8b0fd2562"
      }
     },
     "3ab0fb831d544be9b39326a713a756aa": {
      "model_module": "@jupyter-widgets/base",
      "model_module_version": "1.2.0",
      "model_name": "LayoutModel",
      "state": {}
     },
     "3cea2f37868c48419455aa0eeda62af3": {
      "model_module": "@jupyter-widgets/controls",
      "model_module_version": "1.5.0",
      "model_name": "IntProgressModel",
      "state": {
       "bar_style": "success",
       "layout": "IPY_MODEL_3ab0fb831d544be9b39326a713a756aa",
       "style": "IPY_MODEL_0fb7e2b05c2e497a96494a3c3c385d40",
       "value": 100
      }
     },
     "3cf47c49236a4c57bb51ceadc9d61015": {
      "model_module": "@jupyter-widgets/controls",
      "model_module_version": "1.5.0",
      "model_name": "ProgressStyleModel",
      "state": {
       "description_width": ""
      }
     },
     "3d2629b72f5f41c8873f75878952bb86": {
      "model_module": "@jupyter-widgets/controls",
      "model_module_version": "1.5.0",
      "model_name": "GridBoxModel",
      "state": {
       "children": [
        "IPY_MODEL_a60ffe24ee3042d4a84359199d494763"
       ],
       "layout": "IPY_MODEL_0890cf9233124a67a00cf3671bf06f0d"
      }
     },
     "3efc5b2ca3364b459486fef5306884bd": {
      "model_module": "@jupyter-widgets/base",
      "model_module_version": "1.2.0",
      "model_name": "LayoutModel",
      "state": {}
     },
     "40fdd652304b4b9fa6c1c6bdbe2cf1f4": {
      "model_module": "@jupyter-widgets/controls",
      "model_module_version": "1.5.0",
      "model_name": "IntProgressModel",
      "state": {
       "bar_style": "success",
       "layout": "IPY_MODEL_594ed4e8aa454505b5d0a6aa71a9a185",
       "style": "IPY_MODEL_a7197d2966b94088a9bea7a35e6e862d",
       "value": 100
      }
     },
     "431362823f3549ca8995ac30265d8cea": {
      "model_module": "@jupyter-widgets/controls",
      "model_module_version": "1.5.0",
      "model_name": "DescriptionStyleModel",
      "state": {
       "description_width": ""
      }
     },
     "443902f0699049eb9822804b8beba337": {
      "model_module": "@jupyter-widgets/controls",
      "model_module_version": "1.5.0",
      "model_name": "HTMLModel",
      "state": {
       "layout": "IPY_MODEL_6947b5d470e64470a516fe8833f71063",
       "style": "IPY_MODEL_db15a7b803d3446da6c252bfa1378b08",
       "value": "Elapsed time:   0.67s"
      }
     },
     "44745a9661cf4c8ba45d4ba85f3e0a37": {
      "model_module": "@jupyter-widgets/controls",
      "model_module_version": "1.5.0",
      "model_name": "ProgressStyleModel",
      "state": {
       "description_width": ""
      }
     },
     "487aef80d71a4782a94964cb7346b862": {
      "model_module": "@jupyter-widgets/controls",
      "model_module_version": "1.5.0",
      "model_name": "HTMLModel",
      "state": {
       "layout": "IPY_MODEL_3efc5b2ca3364b459486fef5306884bd",
       "style": "IPY_MODEL_36be1f7ecbfe4be98c891fb47aed1d31",
       "value": "Elapsed time:   0.67s"
      }
     },
     "493a82e12ece4f94baf3617949d1f276": {
      "model_module": "@jupyter-widgets/base",
      "model_module_version": "1.2.0",
      "model_name": "LayoutModel",
      "state": {
       "width": "95px"
      }
     },
     "49eba469cdb44810bd4bc94279417d4e": {
      "model_module": "@jupyter-widgets/controls",
      "model_module_version": "1.5.0",
      "model_name": "HTMLModel",
      "state": {
       "layout": "IPY_MODEL_5b6f422b9e0a430ba083faebf903c1ed",
       "style": "IPY_MODEL_2a4628843ff94e73b89fa7d839cceb5e",
       "value": "Elapsed time:   0.46s"
      }
     },
     "4ac97be961594306a48731f73a22fab1": {
      "model_module": "@jupyter-widgets/controls",
      "model_module_version": "1.5.0",
      "model_name": "HTMLModel",
      "state": {
       "layout": "IPY_MODEL_fdc463e01b5d4eec9de579e6d09ff3f3",
       "style": "IPY_MODEL_a9160053918e4c70817ce5cf42040190",
       "value": "Elapsed time:   0.66s"
      }
     },
     "4c247f66673e4b88ab09d50b5b893786": {
      "model_module": "@jupyter-widgets/controls",
      "model_module_version": "1.5.0",
      "model_name": "DescriptionStyleModel",
      "state": {
       "description_width": ""
      }
     },
     "4e5a4a8a7c344058ad5d503f4f535775": {
      "model_module": "@jupyter-widgets/base",
      "model_module_version": "1.2.0",
      "model_name": "LayoutModel",
      "state": {
       "grid_area": "right",
       "padding": "0px 0px 0px 0px",
       "width": "70px"
      }
     },
     "4f0243d403d54758a8b06c658bab1a03": {
      "model_module": "@jupyter-widgets/controls",
      "model_module_version": "1.5.0",
      "model_name": "ButtonStyleModel",
      "state": {}
     },
     "4f927d3890d645ecaca9015ea680ff77": {
      "model_module": "@jupyter-widgets/controls",
      "model_module_version": "1.5.0",
      "model_name": "DescriptionStyleModel",
      "state": {
       "description_width": ""
      }
     },
     "51f59381b3e04960a245dee7561c123a": {
      "model_module": "@jupyter-widgets/controls",
      "model_module_version": "1.5.0",
      "model_name": "DescriptionStyleModel",
      "state": {
       "description_width": ""
      }
     },
     "534f27f7884a4a23835091097dcdfe13": {
      "model_module": "@jupyter-widgets/base",
      "model_module_version": "1.2.0",
      "model_name": "LayoutModel",
      "state": {}
     },
     "58c102fd2d5745a5a4628342fb613de0": {
      "model_module": "@jupyter-widgets/controls",
      "model_module_version": "1.5.0",
      "model_name": "DescriptionStyleModel",
      "state": {
       "description_width": ""
      }
     },
     "594ed4e8aa454505b5d0a6aa71a9a185": {
      "model_module": "@jupyter-widgets/base",
      "model_module_version": "1.2.0",
      "model_name": "LayoutModel",
      "state": {}
     },
     "5b6f422b9e0a430ba083faebf903c1ed": {
      "model_module": "@jupyter-widgets/base",
      "model_module_version": "1.2.0",
      "model_name": "LayoutModel",
      "state": {}
     },
     "5d3e9270e81943cbb64379a63ed58459": {
      "model_module": "@jupyter-widgets/controls",
      "model_module_version": "1.5.0",
      "model_name": "DescriptionStyleModel",
      "state": {
       "description_width": ""
      }
     },
     "5e14b22694f44c6bae0c096a8d0ee537": {
      "model_module": "@jupyter-widgets/controls",
      "model_module_version": "1.5.0",
      "model_name": "ButtonModel",
      "state": {
       "button_style": "primary",
       "description": "Clear",
       "layout": "IPY_MODEL_c2774e76a38c42e88ef662a69562ff10",
       "style": "IPY_MODEL_aaa05775e6b04bed91982e3c74525106"
      }
     },
     "61296d966d364126ab1033456602a831": {
      "model_module": "@jupyter-widgets/base",
      "model_module_version": "1.2.0",
      "model_name": "LayoutModel",
      "state": {}
     },
     "61c15356f04d4c38bbc9d0cc0836da63": {
      "model_module": "@jupyter-widgets/base",
      "model_module_version": "1.2.0",
      "model_name": "LayoutModel",
      "state": {
       "width": "135px"
      }
     },
     "664c76fb51c4409280ef09ae7e1c9312": {
      "model_module": "@jupyter-widgets/controls",
      "model_module_version": "1.5.0",
      "model_name": "DescriptionStyleModel",
      "state": {
       "description_width": ""
      }
     },
     "68a50f1aba5b426bb4fe8ebf794e9842": {
      "model_module": "@jupyter-widgets/controls",
      "model_module_version": "1.5.0",
      "model_name": "ButtonModel",
      "state": {
       "button_style": "primary",
       "description": "Clear",
       "layout": "IPY_MODEL_0e5846e3ee4d4d1fa6dc7b577e861e20",
       "style": "IPY_MODEL_4f0243d403d54758a8b06c658bab1a03"
      }
     },
     "6947b5d470e64470a516fe8833f71063": {
      "model_module": "@jupyter-widgets/base",
      "model_module_version": "1.2.0",
      "model_name": "LayoutModel",
      "state": {}
     },
     "6bfee203bee943869792c123e83144c6": {
      "model_module": "@jupyter-widgets/base",
      "model_module_version": "1.2.0",
      "model_name": "LayoutModel",
      "state": {
       "width": "95px"
      }
     },
     "6c992559c83542b89f4e538e6324848f": {
      "model_module": "@jupyter-widgets/controls",
      "model_module_version": "1.5.0",
      "model_name": "HTMLModel",
      "state": {
       "layout": "IPY_MODEL_7ba29d3c2eb64e9588686f02bd4f6c16",
       "style": "IPY_MODEL_efe9c424c90d4c5ea5bd4f120697b883",
       "value": "<h5>Job ID</h5>"
      }
     },
     "7109605a6c1541a19fb871b3ebc83cc7": {
      "model_module": "@jupyter-widgets/controls",
      "model_module_version": "1.5.0",
      "model_name": "VBoxModel",
      "state": {
       "children": [
        "IPY_MODEL_487aef80d71a4782a94964cb7346b862",
        "IPY_MODEL_40fdd652304b4b9fa6c1c6bdbe2cf1f4"
       ],
       "layout": "IPY_MODEL_34dff492931a48efbb5e04ef46b8eda7"
      }
     },
     "7268e99ab0364c4db3c778b6f9d78cef": {
      "model_module": "@jupyter-widgets/controls",
      "model_module_version": "1.5.0",
      "model_name": "DescriptionStyleModel",
      "state": {
       "description_width": ""
      }
     },
     "75148ea800be4bfea66f5f8d808802c4": {
      "model_module": "@jupyter-widgets/base",
      "model_module_version": "1.2.0",
      "model_name": "LayoutModel",
      "state": {
       "width": "70px"
      }
     },
     "765260fd5aa4432791c228fb53142f5e": {
      "model_module": "@jupyter-widgets/base",
      "model_module_version": "1.2.0",
      "model_name": "LayoutModel",
      "state": {}
     },
     "7af747873f76456b8a84c178f2d521f0": {
      "model_module": "@jupyter-widgets/base",
      "model_module_version": "1.2.0",
      "model_name": "LayoutModel",
      "state": {
       "width": "65px"
      }
     },
     "7ba29d3c2eb64e9588686f02bd4f6c16": {
      "model_module": "@jupyter-widgets/base",
      "model_module_version": "1.2.0",
      "model_name": "LayoutModel",
      "state": {
       "width": "65px"
      }
     },
     "7d81f374e48142c28d54c414bfa2eff3": {
      "model_module": "@jupyter-widgets/controls",
      "model_module_version": "1.5.0",
      "model_name": "HTMLModel",
      "state": {
       "layout": "IPY_MODEL_493a82e12ece4f94baf3617949d1f276",
       "style": "IPY_MODEL_26f8ba438db84d3aaeca1be4e4923dd8",
       "value": "<h5>Status</h5>"
      }
     },
     "7e71286e277f4934a940cdb0291fd279": {
      "model_module": "@jupyter-widgets/base",
      "model_module_version": "1.2.0",
      "model_name": "LayoutModel",
      "state": {}
     },
     "7f6ddf7bd7774ca1badc1ce12d301039": {
      "model_module": "@jupyter-widgets/controls",
      "model_module_version": "1.5.0",
      "model_name": "DescriptionStyleModel",
      "state": {
       "description_width": ""
      }
     },
     "82705aef21e149f9a077e11edf249ca1": {
      "model_module": "@jupyter-widgets/controls",
      "model_module_version": "1.5.0",
      "model_name": "HTMLModel",
      "state": {
       "layout": "IPY_MODEL_8ffc403291d04cb084979b06f8899850",
       "style": "IPY_MODEL_4c247f66673e4b88ab09d50b5b893786",
       "value": "Elapsed time:   0.46s"
      }
     },
     "848ad11b628e4bce9904d1018725b504": {
      "model_module": "@jupyter-widgets/controls",
      "model_module_version": "1.5.0",
      "model_name": "ButtonModel",
      "state": {
       "button_style": "primary",
       "description": "Clear",
       "layout": "IPY_MODEL_4e5a4a8a7c344058ad5d503f4f535775",
       "style": "IPY_MODEL_889de578d46f4157a3910b41077649d6"
      }
     },
     "889de578d46f4157a3910b41077649d6": {
      "model_module": "@jupyter-widgets/controls",
      "model_module_version": "1.5.0",
      "model_name": "ButtonStyleModel",
      "state": {}
     },
     "890ecd0187374e0cad4743cf40ae8e9b": {
      "model_module": "@jupyter-widgets/controls",
      "model_module_version": "1.5.0",
      "model_name": "HBoxModel",
      "state": {
       "children": [
        "IPY_MODEL_ed1a21c6f053469faa3cc2201387c453",
        "IPY_MODEL_f030241cd75941eab697579f20ee5e11",
        "IPY_MODEL_7d81f374e48142c28d54c414bfa2eff3",
        "IPY_MODEL_bf339a9077c147da8cd95d385091105b",
        "IPY_MODEL_332ab3c4ae95421f9b34653be0429a82"
       ],
       "layout": "IPY_MODEL_f6835a0f37574f5389d7c888d8fd9b5b"
      }
     },
     "8919af3cfb5240959250bfd1a1ccaede": {
      "model_module": "@jupyter-widgets/controls",
      "model_module_version": "1.5.0",
      "model_name": "HTMLModel",
      "state": {
       "layout": "IPY_MODEL_a1bc03a24fb64d6fbaed8f8e735472d7",
       "style": "IPY_MODEL_b5a2f8c124c6459cb92c349ef0e1cc02",
       "value": "<h5>Job ID</h5>"
      }
     },
     "89900ad5e7054ff1aa525f8d1498faf7": {
      "model_module": "@jupyter-widgets/controls",
      "model_module_version": "1.5.0",
      "model_name": "DescriptionStyleModel",
      "state": {
       "description_width": ""
      }
     },
     "8a7121d002034446a9236dcd0fa3f880": {
      "model_module": "@jupyter-widgets/base",
      "model_module_version": "1.2.0",
      "model_name": "LayoutModel",
      "state": {}
     },
     "8bdfe7ccd7454ff795f6d3d8c902ba08": {
      "model_module": "@jupyter-widgets/controls",
      "model_module_version": "1.5.0",
      "model_name": "IntProgressModel",
      "state": {
       "bar_style": "success",
       "layout": "IPY_MODEL_d6e147b92e9b40ea8a94ce4b69352329",
       "style": "IPY_MODEL_31000257831a4077b38f1b5e9cec57fe",
       "value": 100
      }
     },
     "8f6a30f8eb854c79bcbd1391ab740d02": {
      "model_module": "@jupyter-widgets/base",
      "model_module_version": "1.2.0",
      "model_name": "LayoutModel",
      "state": {}
     },
     "8ffc403291d04cb084979b06f8899850": {
      "model_module": "@jupyter-widgets/base",
      "model_module_version": "1.2.0",
      "model_name": "LayoutModel",
      "state": {}
     },
     "94b6d5ff97754815a84fbb6de40c0d78": {
      "model_module": "@jupyter-widgets/controls",
      "model_module_version": "1.5.0",
      "model_name": "IntProgressModel",
      "state": {
       "bar_style": "success",
       "layout": "IPY_MODEL_8f6a30f8eb854c79bcbd1391ab740d02",
       "style": "IPY_MODEL_ce99bfc42bc5473984fe15c48e3574e1",
       "value": 100
      }
     },
     "98fd52c6ad7d488cb2d9835d1ecc6c37": {
      "model_module": "@jupyter-widgets/base",
      "model_module_version": "1.2.0",
      "model_name": "LayoutModel",
      "state": {}
     },
     "99a97bcb6fdd41a89d5f5c52b0f6c705": {
      "model_module": "@jupyter-widgets/controls",
      "model_module_version": "1.5.0",
      "model_name": "HTMLModel",
      "state": {
       "layout": "IPY_MODEL_d5bb498304c4478aa0656ebea9971ada",
       "style": "IPY_MODEL_0ca3a18b57c94a00b3ae872c3179c932",
       "value": "<h5>Message</h5>"
      }
     },
     "9a9a925b07094cee94f3bd91aa8563fb": {
      "model_module": "@jupyter-widgets/base",
      "model_module_version": "1.2.0",
      "model_name": "LayoutModel",
      "state": {
       "width": "70px"
      }
     },
     "9f8c19dc193b449a915243a55ae9e3db": {
      "model_module": "@jupyter-widgets/base",
      "model_module_version": "1.2.0",
      "model_name": "LayoutModel",
      "state": {
       "width": "135px"
      }
     },
     "a13b45fffd4446f3a9f8dcecdcb7512f": {
      "model_module": "@jupyter-widgets/base",
      "model_module_version": "1.2.0",
      "model_name": "LayoutModel",
      "state": {}
     },
     "a1bc03a24fb64d6fbaed8f8e735472d7": {
      "model_module": "@jupyter-widgets/base",
      "model_module_version": "1.2.0",
      "model_name": "LayoutModel",
      "state": {
       "width": "65px"
      }
     },
     "a418fa8abae941139ad7c3284645d384": {
      "model_module": "@jupyter-widgets/controls",
      "model_module_version": "1.5.0",
      "model_name": "HTMLModel",
      "state": {
       "layout": "IPY_MODEL_fc49458f75e44afdafa273ff6454b4f2",
       "style": "IPY_MODEL_1713c602e9ef425da2cf15400606e746",
       "value": "Elapsed time:  19.27s"
      }
     },
     "a60ffe24ee3042d4a84359199d494763": {
      "model_module": "@jupyter-widgets/controls",
      "model_module_version": "1.5.0",
      "model_name": "ButtonModel",
      "state": {
       "button_style": "primary",
       "description": "Clear",
       "layout": "IPY_MODEL_b88d1f1cfa1d490faad6797526418fe0",
       "style": "IPY_MODEL_bad59ded037e4068b94275bd05e9e07e"
      }
     },
     "a7197d2966b94088a9bea7a35e6e862d": {
      "model_module": "@jupyter-widgets/controls",
      "model_module_version": "1.5.0",
      "model_name": "ProgressStyleModel",
      "state": {
       "description_width": ""
      }
     },
     "a9160053918e4c70817ce5cf42040190": {
      "model_module": "@jupyter-widgets/controls",
      "model_module_version": "1.5.0",
      "model_name": "DescriptionStyleModel",
      "state": {
       "description_width": ""
      }
     },
     "a96251af386f460ca3d9b1c8b0fd2562": {
      "model_module": "@jupyter-widgets/base",
      "model_module_version": "1.2.0",
      "model_name": "LayoutModel",
      "state": {
       "grid_template_areas": "\n                                       \". . . . right \"\n                                        ",
       "grid_template_columns": "20% 20% 20% 20% 20%",
       "width": "100%"
      }
     },
     "aaa05775e6b04bed91982e3c74525106": {
      "model_module": "@jupyter-widgets/controls",
      "model_module_version": "1.5.0",
      "model_name": "ButtonStyleModel",
      "state": {}
     },
     "aceee19254294a4188ee08faf6a169dc": {
      "model_module": "@jupyter-widgets/controls",
      "model_module_version": "1.5.0",
      "model_name": "HTMLModel",
      "state": {
       "layout": "IPY_MODEL_e1e87f1a32c645d7b9b71be9bac763b4",
       "style": "IPY_MODEL_7268e99ab0364c4db3c778b6f9d78cef",
       "value": "<h5>Message</h5>"
      }
     },
     "b15c28ebe737458bbcbfbc749c13136a": {
      "model_module": "@jupyter-widgets/controls",
      "model_module_version": "1.5.0",
      "model_name": "GridBoxModel",
      "state": {
       "children": [
        "IPY_MODEL_5e14b22694f44c6bae0c096a8d0ee537"
       ],
       "layout": "IPY_MODEL_f2e25d215be749b59e9f9bb92e730a7a"
      }
     },
     "b2c604af5610454081145422d0a0c8c0": {
      "model_module": "@jupyter-widgets/base",
      "model_module_version": "1.2.0",
      "model_name": "LayoutModel",
      "state": {}
     },
     "b5a2f8c124c6459cb92c349ef0e1cc02": {
      "model_module": "@jupyter-widgets/controls",
      "model_module_version": "1.5.0",
      "model_name": "DescriptionStyleModel",
      "state": {
       "description_width": ""
      }
     },
     "b88d1f1cfa1d490faad6797526418fe0": {
      "model_module": "@jupyter-widgets/base",
      "model_module_version": "1.2.0",
      "model_name": "LayoutModel",
      "state": {
       "grid_area": "right",
       "padding": "0px 0px 0px 0px",
       "width": "70px"
      }
     },
     "bad59ded037e4068b94275bd05e9e07e": {
      "model_module": "@jupyter-widgets/controls",
      "model_module_version": "1.5.0",
      "model_name": "ButtonStyleModel",
      "state": {}
     },
     "bae2486dfd2f4ca4bbf84d185b6263c0": {
      "model_module": "@jupyter-widgets/controls",
      "model_module_version": "1.5.0",
      "model_name": "VBoxModel",
      "state": {
       "children": [
        "IPY_MODEL_a418fa8abae941139ad7c3284645d384",
        "IPY_MODEL_19694dbcc4134bb7b2c6315d4e7a140c"
       ],
       "layout": "IPY_MODEL_b2c604af5610454081145422d0a0c8c0"
      }
     },
     "bf339a9077c147da8cd95d385091105b": {
      "model_module": "@jupyter-widgets/controls",
      "model_module_version": "1.5.0",
      "model_name": "HTMLModel",
      "state": {
       "layout": "IPY_MODEL_169fe0ce86964557a1ce251faf687f72",
       "style": "IPY_MODEL_51f59381b3e04960a245dee7561c123a",
       "value": "<h5>Queue</h5>"
      }
     },
     "c07c90d2d90047a894f7daf652554b68": {
      "model_module": "@jupyter-widgets/controls",
      "model_module_version": "1.5.0",
      "model_name": "VBoxModel",
      "state": {
       "children": [
        "IPY_MODEL_4ac97be961594306a48731f73a22fab1",
        "IPY_MODEL_3cea2f37868c48419455aa0eeda62af3"
       ],
       "layout": "IPY_MODEL_765260fd5aa4432791c228fb53142f5e"
      }
     },
     "c111c93db57a4769867db6b2fe409320": {
      "model_module": "@jupyter-widgets/controls",
      "model_module_version": "1.5.0",
      "model_name": "DescriptionStyleModel",
      "state": {
       "description_width": ""
      }
     },
     "c2774e76a38c42e88ef662a69562ff10": {
      "model_module": "@jupyter-widgets/base",
      "model_module_version": "1.2.0",
      "model_name": "LayoutModel",
      "state": {
       "grid_area": "right",
       "padding": "0px 0px 0px 0px",
       "width": "70px"
      }
     },
     "c73e284c6e8145bba278a3cbad196d5e": {
      "model_module": "@jupyter-widgets/base",
      "model_module_version": "1.2.0",
      "model_name": "LayoutModel",
      "state": {
       "width": "135px"
      }
     },
     "c82ab347bc32499d80961e2d272dfded": {
      "model_module": "@jupyter-widgets/base",
      "model_module_version": "1.2.0",
      "model_name": "LayoutModel",
      "state": {
       "width": "135px"
      }
     },
     "c9d1263a66cd4635ad0c6c0f8d44216c": {
      "model_module": "@jupyter-widgets/base",
      "model_module_version": "1.2.0",
      "model_name": "LayoutModel",
      "state": {
       "grid_template_areas": "\n                                       \". . . . right \"\n                                        ",
       "grid_template_columns": "20% 20% 20% 20% 20%",
       "width": "100%"
      }
     },
     "ca0fd4f1acb6406c955f82878052f4db": {
      "model_module": "@jupyter-widgets/controls",
      "model_module_version": "1.5.0",
      "model_name": "DescriptionStyleModel",
      "state": {
       "description_width": ""
      }
     },
     "cafaef7f54f64c08820f1b4e21261fbb": {
      "model_module": "@jupyter-widgets/controls",
      "model_module_version": "1.5.0",
      "model_name": "DescriptionStyleModel",
      "state": {
       "description_width": ""
      }
     },
     "cd9486a4548f4c62a4145ffeac7913d3": {
      "model_module": "@jupyter-widgets/controls",
      "model_module_version": "1.5.0",
      "model_name": "HTMLModel",
      "state": {
       "layout": "IPY_MODEL_c73e284c6e8145bba278a3cbad196d5e",
       "style": "IPY_MODEL_cafaef7f54f64c08820f1b4e21261fbb",
       "value": "<h5>Backend</h5>"
      }
     },
     "ce0c3cfb79de4adea4de2028bdd6c228": {
      "model_module": "@jupyter-widgets/base",
      "model_module_version": "1.2.0",
      "model_name": "LayoutModel",
      "state": {}
     },
     "ce99bfc42bc5473984fe15c48e3574e1": {
      "model_module": "@jupyter-widgets/controls",
      "model_module_version": "1.5.0",
      "model_name": "ProgressStyleModel",
      "state": {
       "description_width": ""
      }
     },
     "d1d623157c2a45a8ab47ee367d5e84a2": {
      "model_module": "@jupyter-widgets/controls",
      "model_module_version": "1.5.0",
      "model_name": "HTMLModel",
      "state": {
       "layout": "IPY_MODEL_75148ea800be4bfea66f5f8d808802c4",
       "style": "IPY_MODEL_5d3e9270e81943cbb64379a63ed58459",
       "value": "<h5>Queue</h5>"
      }
     },
     "d2a75fafcb854e569f468f66371568f3": {
      "model_module": "@jupyter-widgets/controls",
      "model_module_version": "1.5.0",
      "model_name": "VBoxModel",
      "state": {
       "children": [
        "IPY_MODEL_443902f0699049eb9822804b8beba337",
        "IPY_MODEL_94b6d5ff97754815a84fbb6de40c0d78"
       ],
       "layout": "IPY_MODEL_534f27f7884a4a23835091097dcdfe13"
      }
     },
     "d31ed13f49a1403c824c920d5bddea8b": {
      "model_module": "@jupyter-widgets/controls",
      "model_module_version": "1.5.0",
      "model_name": "HTMLModel",
      "state": {
       "layout": "IPY_MODEL_7af747873f76456b8a84c178f2d521f0",
       "style": "IPY_MODEL_664c76fb51c4409280ef09ae7e1c9312",
       "value": "<h5>Job ID</h5>"
      }
     },
     "d54d4bfe560e47db9461abf2c921d624": {
      "model_module": "@jupyter-widgets/base",
      "model_module_version": "1.2.0",
      "model_name": "LayoutModel",
      "state": {
       "width": "95px"
      }
     },
     "d5bb498304c4478aa0656ebea9971ada": {
      "model_module": "@jupyter-widgets/base",
      "model_module_version": "1.2.0",
      "model_name": "LayoutModel",
      "state": {}
     },
     "d6e147b92e9b40ea8a94ce4b69352329": {
      "model_module": "@jupyter-widgets/base",
      "model_module_version": "1.2.0",
      "model_name": "LayoutModel",
      "state": {}
     },
     "d9fb7d12a831458987b479eda4c32884": {
      "model_module": "@jupyter-widgets/controls",
      "model_module_version": "1.5.0",
      "model_name": "HTMLModel",
      "state": {
       "layout": "IPY_MODEL_d54d4bfe560e47db9461abf2c921d624",
       "style": "IPY_MODEL_c111c93db57a4769867db6b2fe409320",
       "value": "<h5>Status</h5>"
      }
     },
     "db15a7b803d3446da6c252bfa1378b08": {
      "model_module": "@jupyter-widgets/controls",
      "model_module_version": "1.5.0",
      "model_name": "DescriptionStyleModel",
      "state": {
       "description_width": ""
      }
     },
     "e1e87f1a32c645d7b9b71be9bac763b4": {
      "model_module": "@jupyter-widgets/base",
      "model_module_version": "1.2.0",
      "model_name": "LayoutModel",
      "state": {}
     },
     "e2480a7da81b430db9b4fe09ce102748": {
      "model_module": "@jupyter-widgets/controls",
      "model_module_version": "1.5.0",
      "model_name": "HTMLModel",
      "state": {
       "layout": "IPY_MODEL_f6fa02bde8164a3c93bf4b63621d958c",
       "style": "IPY_MODEL_89900ad5e7054ff1aa525f8d1498faf7",
       "value": "<h5>Status</h5>"
      }
     },
     "e2b0dc7a4c644dc0afc2dfb4ccaa7c02": {
      "model_module": "@jupyter-widgets/controls",
      "model_module_version": "1.5.0",
      "model_name": "HTMLModel",
      "state": {
       "layout": "IPY_MODEL_98fd52c6ad7d488cb2d9835d1ecc6c37",
       "style": "IPY_MODEL_7f6ddf7bd7774ca1badc1ce12d301039",
       "value": "Elapsed time:   0.88s"
      }
     },
     "e51c8012e6f44cd8a0e511d9da1fd2f0": {
      "model_module": "@jupyter-widgets/base",
      "model_module_version": "1.2.0",
      "model_name": "LayoutModel",
      "state": {}
     },
     "ea125f20343347d8bbab22dfc4234c33": {
      "model_module": "@jupyter-widgets/controls",
      "model_module_version": "1.5.0",
      "model_name": "HTMLModel",
      "state": {
       "layout": "IPY_MODEL_61c15356f04d4c38bbc9d0cc0836da63",
       "style": "IPY_MODEL_eae6987102b24b798652e0bb4c0ec7df",
       "value": "<h5>Backend</h5>"
      }
     },
     "eae6987102b24b798652e0bb4c0ec7df": {
      "model_module": "@jupyter-widgets/controls",
      "model_module_version": "1.5.0",
      "model_name": "DescriptionStyleModel",
      "state": {
       "description_width": ""
      }
     },
     "eb314367f771417f99408b1176c9a43f": {
      "model_module": "@jupyter-widgets/controls",
      "model_module_version": "1.5.0",
      "model_name": "VBoxModel",
      "state": {
       "children": [
        "IPY_MODEL_82705aef21e149f9a077e11edf249ca1",
        "IPY_MODEL_021a785861da4f30a44cfc3640fd3302"
       ],
       "layout": "IPY_MODEL_e51c8012e6f44cd8a0e511d9da1fd2f0"
      }
     },
     "ec57704974d44a8c926129039d9684cf": {
      "model_module": "@jupyter-widgets/controls",
      "model_module_version": "1.5.0",
      "model_name": "IntProgressModel",
      "state": {
       "bar_style": "success",
       "layout": "IPY_MODEL_8a7121d002034446a9236dcd0fa3f880",
       "style": "IPY_MODEL_1b059420c60a4871b5491adf5b8ca160",
       "value": 100
      }
     },
     "ed1a21c6f053469faa3cc2201387c453": {
      "model_module": "@jupyter-widgets/controls",
      "model_module_version": "1.5.0",
      "model_name": "HTMLModel",
      "state": {
       "layout": "IPY_MODEL_22291b278ac34dc9bbec0aa9ec3f0b7f",
       "style": "IPY_MODEL_fa0764a98638465cb7d7d6ea4bf6bc7d",
       "value": "<h5>Job ID</h5>"
      }
     },
     "eeec6855436f4b4183cd93f09787a89b": {
      "model_module": "@jupyter-widgets/base",
      "model_module_version": "1.2.0",
      "model_name": "LayoutModel",
      "state": {
       "margin": "0px 0px 0px 35px",
       "width": "560px"
      }
     },
     "efe9c424c90d4c5ea5bd4f120697b883": {
      "model_module": "@jupyter-widgets/controls",
      "model_module_version": "1.5.0",
      "model_name": "DescriptionStyleModel",
      "state": {
       "description_width": ""
      }
     },
     "f030241cd75941eab697579f20ee5e11": {
      "model_module": "@jupyter-widgets/controls",
      "model_module_version": "1.5.0",
      "model_name": "HTMLModel",
      "state": {
       "layout": "IPY_MODEL_9f8c19dc193b449a915243a55ae9e3db",
       "style": "IPY_MODEL_431362823f3549ca8995ac30265d8cea",
       "value": "<h5>Backend</h5>"
      }
     },
     "f13919fc0a69493ca96b09456c7bb98e": {
      "model_module": "@jupyter-widgets/controls",
      "model_module_version": "1.5.0",
      "model_name": "HBoxModel",
      "state": {
       "children": [
        "IPY_MODEL_d31ed13f49a1403c824c920d5bddea8b",
        "IPY_MODEL_ea125f20343347d8bbab22dfc4234c33",
        "IPY_MODEL_e2480a7da81b430db9b4fe09ce102748",
        "IPY_MODEL_2a99887cf003481f94d031da48308487",
        "IPY_MODEL_236a32d073894837a52643464cf084b5"
       ],
       "layout": "IPY_MODEL_0d33bd56744f4be0bf983626a4c30f20"
      }
     },
     "f1a6b9c95e604ef4873220bd591db3b6": {
      "model_module": "@jupyter-widgets/controls",
      "model_module_version": "1.5.0",
      "model_name": "VBoxModel",
      "state": {
       "children": [
        "IPY_MODEL_e2b0dc7a4c644dc0afc2dfb4ccaa7c02",
        "IPY_MODEL_ec57704974d44a8c926129039d9684cf"
       ],
       "layout": "IPY_MODEL_17be02fbca6e4c379e32d11dc6d3568d"
      }
     },
     "f2e25d215be749b59e9f9bb92e730a7a": {
      "model_module": "@jupyter-widgets/base",
      "model_module_version": "1.2.0",
      "model_name": "LayoutModel",
      "state": {
       "grid_template_areas": "\n                                       \". . . . right \"\n                                        ",
       "grid_template_columns": "20% 20% 20% 20% 20%",
       "width": "100%"
      }
     },
     "f2f1773574f94bea82d1d4e4de1633d3": {
      "model_module": "@jupyter-widgets/controls",
      "model_module_version": "1.5.0",
      "model_name": "HTMLModel",
      "state": {
       "layout": "IPY_MODEL_6bfee203bee943869792c123e83144c6",
       "style": "IPY_MODEL_4f927d3890d645ecaca9015ea680ff77",
       "value": "<h5>Status</h5>"
      }
     },
     "f6835a0f37574f5389d7c888d8fd9b5b": {
      "model_module": "@jupyter-widgets/base",
      "model_module_version": "1.2.0",
      "model_name": "LayoutModel",
      "state": {
       "margin": "0px 0px 0px 35px",
       "width": "560px"
      }
     },
     "f6fa02bde8164a3c93bf4b63621d958c": {
      "model_module": "@jupyter-widgets/base",
      "model_module_version": "1.2.0",
      "model_name": "LayoutModel",
      "state": {
       "width": "95px"
      }
     },
     "fa0764a98638465cb7d7d6ea4bf6bc7d": {
      "model_module": "@jupyter-widgets/controls",
      "model_module_version": "1.5.0",
      "model_name": "DescriptionStyleModel",
      "state": {
       "description_width": ""
      }
     },
     "fc49458f75e44afdafa273ff6454b4f2": {
      "model_module": "@jupyter-widgets/base",
      "model_module_version": "1.2.0",
      "model_name": "LayoutModel",
      "state": {}
     },
     "fdc463e01b5d4eec9de579e6d09ff3f3": {
      "model_module": "@jupyter-widgets/base",
      "model_module_version": "1.2.0",
      "model_name": "LayoutModel",
      "state": {}
     },
     "ff71d0a93f24459492da53594ddbfb25": {
      "model_module": "@jupyter-widgets/controls",
      "model_module_version": "1.5.0",
      "model_name": "HTMLModel",
      "state": {
       "layout": "IPY_MODEL_0b6eacb906e6498aaea51e3d3f671087",
       "style": "IPY_MODEL_ca0fd4f1acb6406c955f82878052f4db",
       "value": "<h5>Queue</h5>"
      }
     }
    },
    "version_major": 2,
    "version_minor": 0
   }
  }
 },
 "nbformat": 4,
 "nbformat_minor": 2
}
