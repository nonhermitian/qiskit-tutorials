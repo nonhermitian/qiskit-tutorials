{
 "cells": [
  {
   "cell_type": "markdown",
   "metadata": {},
   "source": [
    "<img src=\"../../images/qiskit-heading.gif\" alt=\"Note: In order for images to show up in this jupyter notebook you need to select File => Trusted Notebook\" width=\"500 px\" align=\"left\">"
   ]
  },
  {
   "cell_type": "markdown",
   "metadata": {},
   "source": [
    "# Jupyter Tools for Terra"
   ]
  },
  {
   "cell_type": "markdown",
   "metadata": {},
   "source": [
    "Using Qiskit Terra in a jupyter notebook allows the full power of a web browser to be harnessed to track the status of jobs and view the details of backends using HTML and Javascript.  Here we will demonstrated these tools.  Note that you will need to have `ipywidgets` version `7.3.0` or higher installed for this notebook.  This package is installed by default in Anaaconda Python. "
   ]
  },
  {
   "cell_type": "markdown",
   "metadata": {
    "ExecuteTime": {
     "end_time": "2018-11-08T16:22:54.277808Z",
     "start_time": "2018-11-08T16:22:54.274313Z"
    }
   },
   "source": [
    "## Loading the Monitoring Tools"
   ]
  },
  {
   "cell_type": "markdown",
   "metadata": {},
   "source": [
    "First, let us load the default qiskit routines, and register our IBMQ credentials."
   ]
  },
  {
   "cell_type": "code",
   "execution_count": null,
   "metadata": {
    "ExecuteTime": {
     "end_time": "2019-08-02T19:41:39.658817Z",
     "start_time": "2019-08-02T19:41:37.300457Z"
    }
   },
   "outputs": [],
   "source": [
    "from qiskit import *\n",
    "IBMQ.load_account()\n",
    "provider = IBMQ.get_provider(group='open')"
   ]
  },
  {
   "cell_type": "markdown",
   "metadata": {},
   "source": [
    "In order to load the Jupyter tools we simply import the corresponding Qiskit module"
   ]
  },
  {
   "cell_type": "code",
   "execution_count": 7,
   "metadata": {
    "ExecuteTime": {
     "end_time": "2019-08-02T19:37:52.614567Z",
     "start_time": "2019-08-02T19:37:52.611336Z"
    }
   },
   "outputs": [],
   "source": [
    "import qiskit.tools.jupyter"
   ]
  },
  {
   "cell_type": "markdown",
   "metadata": {},
   "source": [
    "## Tracking Job Status"
   ]
  },
  {
   "cell_type": "markdown",
   "metadata": {},
   "source": [
    "As of Qiskit 0.12+ (terra 0.9+), it is possible to automatically track all the jobs submitted to IBM Q devices.  This `job_watcher` is started by calling the Jupyter magic function:"
   ]
  },
  {
   "cell_type": "markdown",
   "metadata": {
    "ExecuteTime": {
     "end_time": "2019-08-02T19:40:02.996135Z",
     "start_time": "2019-08-02T19:40:02.977222Z"
    }
   },
   "source": [
    "%qiskit_job_watcher"
   ]
  },
  {
   "cell_type": "markdown",
   "metadata": {},
   "source": [
    "The job watcher is a floating ipywidget that resides in the upper-left corner of the notebook and gets populated with jobs as they are submitted to the devices.  For example:"
   ]
  },
  {
   "cell_type": "code",
   "execution_count": 11,
   "metadata": {
    "ExecuteTime": {
     "end_time": "2019-08-02T19:43:17.060392Z",
     "start_time": "2019-08-02T19:43:12.417992Z"
    }
   },
   "outputs": [],
   "source": [
    "q = QuantumRegister(2)\n",
    "c = ClassicalRegister(2)\n",
    "qc = QuantumCircuit(q, c)\n",
    "\n",
    "qc.h(q[0])\n",
    "qc.cx(q[0], q[1])\n",
    "qc.measure(q, c)\n",
    "\n",
    "backend = provider.get_backend('ibmqx2')\n",
    "job = execute(qc, backend)"
   ]
  },
  {
   "cell_type": "markdown",
   "metadata": {},
   "source": [
    "will submit a job to the `backend` and a job appears in the `job watcher` window."
   ]
  },
  {
   "cell_type": "markdown",
   "metadata": {},
   "source": [
    "## Viewing Backend Details"
   ]
  },
  {
   "cell_type": "markdown",
   "metadata": {},
   "source": [
    "Each IBM Q device contains detailed information about its configuration and properties such as qubit error rates, gate errors, coupling maps, etc.  This information can be accessed via the backend methods `backend.configuration()` and `backend.properties()`, respectively.  However, it is often easy to see the relevant details in a visual manner.  To do this in Jupyter notebooks, we just need to execute a notebook cell with a backend as the last line:"
   ]
  },
  {
   "cell_type": "code",
   "execution_count": 12,
   "metadata": {
    "ExecuteTime": {
     "end_time": "2019-08-02T19:49:50.235544Z",
     "start_time": "2019-08-02T19:49:49.070378Z"
    }
   },
   "outputs": [
    {
     "data": {
      "application/vnd.jupyter.widget-view+json": {
       "model_id": "de4c416ce27643e888f8c4a5c481aa81",
       "version_major": 2,
       "version_minor": 0
      },
      "text/plain": [
       "VBox(children=(HTML(value=\"<h1 style='color:#ffffff;background-color:#000000;padding-top: 1%;padding-bottom: 1…"
      ]
     },
     "metadata": {},
     "output_type": "display_data"
    },
    {
     "data": {
      "text/plain": [
       "<IBMQBackend('ibmqx2') from IBMQ(hub='ibm-q', group='open', project='main')>"
      ]
     },
     "execution_count": 12,
     "metadata": {},
     "output_type": "execute_result"
    }
   ],
   "source": [
    "backend"
   ]
  },
  {
   "cell_type": "markdown",
   "metadata": {},
   "source": [
    "## Global Backend Information"
   ]
  },
  {
   "cell_type": "markdown",
   "metadata": {},
   "source": [
    "It is also possible to view all devices from your `IBMQ` account together, and see the number of pending jobs in real-time.  This is done via the `backend_overview` magic:"
   ]
  },
  {
   "cell_type": "code",
   "execution_count": 13,
   "metadata": {
    "ExecuteTime": {
     "end_time": "2019-08-02T19:52:13.225647Z",
     "start_time": "2019-08-02T19:52:00.746714Z"
    }
   },
   "outputs": [
    {
     "data": {
      "application/vnd.jupyter.widget-view+json": {
       "model_id": "0e41fac09a1c473e90b306fe5e7c8232",
       "version_major": 2,
       "version_minor": 0
      },
      "text/plain": [
       "VBox(children=(HTML(value=\"<h2 style ='color:#ffffff; background-color:#000000;padding-top: 1%; padding-bottom…"
      ]
     },
     "metadata": {},
     "output_type": "display_data"
    }
   ],
   "source": [
    "%qiskit_backend_overview"
   ]
  }
 ],
 "metadata": {
  "hide_input": false,
  "kernelspec": {
   "display_name": "Python 3",
   "language": "python",
   "name": "python3"
  },
  "language_info": {
   "codemirror_mode": {
    "name": "ipython",
    "version": 3
   },
   "file_extension": ".py",
   "mimetype": "text/x-python",
   "name": "python",
   "nbconvert_exporter": "python",
   "pygments_lexer": "ipython3",
   "version": "3.7.3"
  },
  "varInspector": {
   "cols": {
    "lenName": 16,
    "lenType": 16,
    "lenVar": 40
   },
   "kernels_config": {
    "python": {
     "delete_cmd_postfix": "",
     "delete_cmd_prefix": "del ",
     "library": "var_list.py",
     "varRefreshCmd": "print(var_dic_list())"
    },
    "r": {
     "delete_cmd_postfix": ") ",
     "delete_cmd_prefix": "rm(",
     "library": "var_list.r",
     "varRefreshCmd": "cat(var_dic_list()) "
    }
   },
   "types_to_exclude": [
    "module",
    "function",
    "builtin_function_or_method",
    "instance",
    "_Feature"
   ],
   "window_display": false
  },
  "widgets": {
   "application/vnd.jupyter.widget-state+json": {
    "state": {
     "00440c95392441feafcbd4f2240e54e1": {
      "model_module": "@jupyter-widgets/controls",
      "model_module_version": "1.5.0",
      "model_name": "DescriptionStyleModel",
      "state": {
       "description_width": ""
      }
     },
     "00731a0ee7bf467fbaf25393441b4a11": {
      "model_module": "@jupyter-widgets/controls",
      "model_module_version": "1.5.0",
      "model_name": "HTMLModel",
      "state": {
       "layout": "IPY_MODEL_9d112531632f4425aa8de84fa095dde8",
       "style": "IPY_MODEL_b9721b05a5a74b538008d0c2dc1a69d2",
       "value": "<h5>98.7 / 97.1 µs</h5>"
      }
     },
     "012b165707e84f2b9611e31cbe44a4ba": {
      "model_module": "@jupyter-widgets/controls",
      "model_module_version": "1.5.0",
      "model_name": "HTMLModel",
      "state": {
       "layout": "IPY_MODEL_d010fb8501044eac9db309d6dd3d0f0a",
       "style": "IPY_MODEL_b3bef2d649f54db5b296e26fbf89fb6d",
       "value": "<h5>0.0401</h5>"
      }
     },
     "0201ccd7e4e14217970cf8284011bbbd": {
      "model_module": "@jupyter-widgets/controls",
      "model_module_version": "1.5.0",
      "model_name": "HTMLModel",
      "state": {
       "layout": "IPY_MODEL_c004439bae3344398c9dee7e24227916",
       "style": "IPY_MODEL_458331fe848d4112a15fd143e60928d8",
       "value": "<h5>0.0547</h5>"
      }
     },
     "02647fdbfefa41cfb9244bf25bac4200": {
      "model_module": "@jupyter-widgets/controls",
      "model_module_version": "1.5.0",
      "model_name": "DescriptionStyleModel",
      "state": {
       "description_width": ""
      }
     },
     "02886264b093445db3f2e93177a3b4c5": {
      "model_module": "@jupyter-widgets/controls",
      "model_module_version": "1.5.0",
      "model_name": "VBoxModel",
      "state": {
       "children": [
        "IPY_MODEL_5aa1fa430964446d859ff369dc059aa2",
        "IPY_MODEL_5382653b78a34c8c81f8a2faef55f865",
        "IPY_MODEL_38f368e92cac4b6cb642fb664c74f9ab",
        "IPY_MODEL_aa7350bd8d6d4045aebe279f2d29782e",
        "IPY_MODEL_d3fe208bbbd748d3bdc12b58d8a09f74",
        "IPY_MODEL_85c195f1eede4c52ab84caa89f6a88b8",
        "IPY_MODEL_97ad5dea3fc342f09711a286caacf4d7",
        "IPY_MODEL_6671c2182f0140479676ef2e9a0dac6d",
        "IPY_MODEL_47db5c8c06964b7799cd94d34e5a414e"
       ],
       "layout": "IPY_MODEL_3c4a9a9fc69f45ea9df93cd336916fdc"
      }
     },
     "02dd2c2ed6484133bc22730f8406d360": {
      "model_module": "@jupyter-widgets/controls",
      "model_module_version": "1.5.0",
      "model_name": "LabelModel",
      "state": {
       "layout": "IPY_MODEL_65e8d04b54234985bed396108f780451",
       "style": "IPY_MODEL_82e8e312e25240ef970d6ee0af1893ef",
       "value": "50"
      }
     },
     "03b76b66cb144037b15e2a7ea01c2427": {
      "model_module": "@jupyter-widgets/base",
      "model_module_version": "1.2.0",
      "model_name": "LayoutModel",
      "state": {
       "justify_content": "center"
      }
     },
     "03fe56a4a5ac4d06b91b721d7f165b38": {
      "model_module": "@jupyter-widgets/controls",
      "model_module_version": "1.5.0",
      "model_name": "HTMLModel",
      "state": {
       "layout": "IPY_MODEL_f26d0fe5b4b74e87aebeac1306434f49",
       "style": "IPY_MODEL_b78a27a435014ee1b3d26e18f83c0547",
       "value": "<table><style>\ntable {\n    border-collapse: collapse;\n    width: auto;\n}\n\nth, td {\n    text-align: left;\n    padding: 8px;\n}\n\ntr:nth-child(even) {background-color: #f6f6f6;}\n</style><tr><th></th><th>Frequency</th><th>T1</th><th>T2</th><th>U1 gate error</th><th>U2 gate error</th><th>U3 gate error</th><th>Readout error</th></tr><tr><td><font style='font-weight:bold'>Q0</font></td><td>5.28631 GHz</td><td>63.07699 µs</td><td>53.4009 µs</td><td>0.0</td><td>0.00326</td><td>0.00653</td><td>0.029</td></tr><tr><td><font style='font-weight:bold'>Q1</font></td><td>5.23786 GHz</td><td>60.86169 µs</td><td>53.7979 µs</td><td>0.0</td><td>0.00197</td><td>0.00395</td><td>0.0285</td></tr><tr><td><font style='font-weight:bold'>Q2</font></td><td>5.03026 GHz</td><td>77.39519 µs</td><td>66.80597 µs</td><td>0.0</td><td>0.00455</td><td>0.00911</td><td>0.0145</td></tr><tr><td><font style='font-weight:bold'>Q3</font></td><td>5.29607 GHz</td><td>46.10372 µs</td><td>30.80042 µs</td><td>0.0</td><td>0.00498</td><td>0.00997</td><td>0.056</td></tr><tr><td><font style='font-weight:bold'>Q4</font></td><td>5.08468 GHz</td><td>57.27415 µs</td><td>47.26284 µs</td><td>0.0</td><td>0.00412</td><td>0.00825</td><td>0.034</td></tr></table>"
      }
     },
     "042c32c068074b5f843431eb820cdde6": {
      "model_module": "@jupyter-widgets/controls",
      "model_module_version": "1.5.0",
      "model_name": "DescriptionStyleModel",
      "state": {
       "description_width": ""
      }
     },
     "048979a2bc6746bb9e0cb292b6e33801": {
      "model_module": "@jupyter-widgets/controls",
      "model_module_version": "1.5.0",
      "model_name": "VBoxModel",
      "state": {
       "children": [
        "IPY_MODEL_f8941e1e952f4a7fa0aeae09bd695755",
        "IPY_MODEL_6a5c0b1a65b14d1fb808acfc3c941608",
        "IPY_MODEL_59bd1ed946754e189fef52ae5d15f393",
        "IPY_MODEL_8982122eff7b4c7194dbd97a61c2067f",
        "IPY_MODEL_24eb5f1865464f17ace581bbbf9cc952",
        "IPY_MODEL_e6a7bab65a7e4750ad3ac3d7e7e6b03b",
        "IPY_MODEL_a2c7cad154c84c5397159ef58c424b75",
        "IPY_MODEL_b866decacc4542db8aba3d508a2a138e",
        "IPY_MODEL_110a13b6a7004e498562515f69bea562"
       ],
       "layout": "IPY_MODEL_9e385dc7ecfe42798b2cdb0a6202fc22"
      }
     },
     "0492f9d95edc44c59ffb9147a0076dd4": {
      "model_module": "@jupyter-widgets/controls",
      "model_module_version": "1.5.0",
      "model_name": "DescriptionStyleModel",
      "state": {
       "description_width": ""
      }
     },
     "04c5587c11cd400cb385cc9fdf07114e": {
      "model_module": "@jupyter-widgets/controls",
      "model_module_version": "1.5.0",
      "model_name": "LabelModel",
      "state": {
       "layout": "IPY_MODEL_1c87df1433254800b84c8682ac42c12c",
       "style": "IPY_MODEL_ef0d60567246435083f0f679304fbac9",
       "value": "50"
      }
     },
     "04dffca7d4a64cc0a2b19ecd21f57a70": {
      "model_module": "@jupyter-widgets/controls",
      "model_module_version": "1.5.0",
      "model_name": "GridBoxModel",
      "state": {
       "children": [
        "IPY_MODEL_ea5683f2d39f4b50bb67543619a4fedb",
        "IPY_MODEL_bc46f65cc05e40f2914fc8750a9d1139",
        "IPY_MODEL_75c17507550e42c39aebace548de3dad"
       ],
       "layout": "IPY_MODEL_21298562c1a54cf99a6b8fd11a0bdfac"
      }
     },
     "053a4156bd2a4c48b6aaf5d628e0d1d8": {
      "model_module": "@jupyter-widgets/controls",
      "model_module_version": "1.5.0",
      "model_name": "HBoxModel",
      "state": {
       "children": [
        "IPY_MODEL_11c93f8efbe24a7fad83af5bf3ce43d3",
        "IPY_MODEL_573c8299b0c4471e8ad32804d05a8678",
        "IPY_MODEL_7eedbe165b2b4d30830b719b7a142d29"
       ],
       "layout": "IPY_MODEL_7be8990fbae54b2490b651b793016bf2"
      }
     },
     "058b7121d198415dba73e788ee03dae3": {
      "model_module": "@jupyter-widgets/base",
      "model_module_version": "1.2.0",
      "model_name": "LayoutModel",
      "state": {
       "max_width": "610px",
       "min_width": "610px"
      }
     },
     "05a9562836694c5faa4d397681234921": {
      "model_module": "@jupyter-widgets/controls",
      "model_module_version": "1.5.0",
      "model_name": "HTMLModel",
      "state": {
       "layout": "IPY_MODEL_4e932c91193d4ca7816608d3e8db482f",
       "style": "IPY_MODEL_1e47e10bdfef485c91c87012cb58beda",
       "value": "<h5><b>20</b></h5>"
      }
     },
     "05cd97e689c945ce8a1ecc5e1b8f85dc": {
      "model_module": "@jupyter-widgets/base",
      "model_module_version": "1.2.0",
      "model_name": "LayoutModel",
      "state": {
       "justify_content": "center"
      }
     },
     "0628dc3860364ca898e7b8a25e2ce306": {
      "model_module": "@jupyter-widgets/controls",
      "model_module_version": "1.5.0",
      "model_name": "IntProgressModel",
      "state": {
       "layout": "IPY_MODEL_bb41d63b44ac46a0a495431e5e2b9070",
       "max": 50,
       "style": "IPY_MODEL_9b6fac2ce5e841b8b86bf945ffa58d2e"
      }
     },
     "06611a3e584b4857aec11140fc66fdca": {
      "model_module": "@jupyter-widgets/output",
      "model_module_version": "1.0.0",
      "model_name": "OutputModel",
      "state": {
       "layout": "IPY_MODEL_e24d49272823430a87f38bf5abb3ed0d",
       "outputs": [
        {
         "data": {
          "image/png": "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\n",
          "text/plain": "<Figure size 648x216 with 1 Axes>"
         },
         "metadata": {},
         "output_type": "display_data"
        }
       ]
      }
     },
     "06687a8dcb554f1a9c4d9e525ab7311a": {
      "model_module": "@jupyter-widgets/controls",
      "model_module_version": "1.5.0",
      "model_name": "DescriptionStyleModel",
      "state": {
       "description_width": ""
      }
     },
     "07d583147f234321bceb654e5074a0b4": {
      "model_module": "@jupyter-widgets/controls",
      "model_module_version": "1.5.0",
      "model_name": "DescriptionStyleModel",
      "state": {
       "description_width": ""
      }
     },
     "07f882896ea24997a18745b5a6e1d481": {
      "model_module": "@jupyter-widgets/base",
      "model_module_version": "1.2.0",
      "model_name": "LayoutModel",
      "state": {}
     },
     "0808073632d245978d8ee7c5d44da277": {
      "model_module": "@jupyter-widgets/controls",
      "model_module_version": "1.5.0",
      "model_name": "HTMLModel",
      "state": {
       "layout": "IPY_MODEL_08230b77785c40ab945c2e82b09bd13c",
       "style": "IPY_MODEL_24cc8254f30a4db28273d15c43bb08f8",
       "value": "<table><style>\ntable {\n    border-collapse: collapse;\n    width: auto;\n}\n\nth, td {\n    text-align: left;\n    padding: 8px;\n}\n\ntr:nth-child(even) {background-color: #f6f6f6;};\n</style><tr><th></th><th>Type</th><th>Gate error</th></tr><tr><td><font style='font-weight:bold'>CX5_6</font></td><td>cx</td><td>0.06737</td></tr><tr><td><font style='font-weight:bold'>CX5_9</font></td><td>cx</td><td>0.04426</td></tr><tr><td><font style='font-weight:bold'>CX6_8</font></td><td>cx</td><td>0.0552</td></tr><tr><td><font style='font-weight:bold'>CX7_8</font></td><td>cx</td><td>0.0416</td></tr><tr><td><font style='font-weight:bold'>CX9_8</font></td><td>cx</td><td>0.05264</td></tr><tr><td><font style='font-weight:bold'>CX9_10</font></td><td>cx</td><td>0.03969</td></tr></table>"
      }
     },
     "08230b77785c40ab945c2e82b09bd13c": {
      "model_module": "@jupyter-widgets/base",
      "model_module_version": "1.2.0",
      "model_name": "LayoutModel",
      "state": {
       "grid_area": "middle"
      }
     },
     "087a55c3c27a46d691e5bd2a7ac74d04": {
      "model_module": "@jupyter-widgets/base",
      "model_module_version": "1.2.0",
      "model_name": "LayoutModel",
      "state": {
       "align_items": "center",
       "justify_content": "center",
       "margin": "0px 0px 0px 0px",
       "max_height": "250px",
       "max_width": "250px",
       "min_height": "250px",
       "min_width": "250px"
      }
     },
     "088f876b1841417c962078e0cd83449b": {
      "model_module": "@jupyter-widgets/controls",
      "model_module_version": "1.5.0",
      "model_name": "HTMLModel",
      "state": {
       "layout": "IPY_MODEL_2e647e5ea2cd4888b9261181303e67e5",
       "style": "IPY_MODEL_e239bbeffa454184b4d28416f841e811",
       "value": "<h5>0.0343</h5>"
      }
     },
     "08c10f21d7e448f9bb3087f46a90e862": {
      "model_module": "@jupyter-widgets/controls",
      "model_module_version": "1.5.0",
      "model_name": "DescriptionStyleModel",
      "state": {
       "description_width": ""
      }
     },
     "08e3b5a9186c43698df3826b615f14a1": {
      "model_module": "@jupyter-widgets/controls",
      "model_module_version": "1.5.0",
      "model_name": "HTMLModel",
      "state": {
       "layout": "IPY_MODEL_2ba0044fbbe843b59507977a999f401f",
       "style": "IPY_MODEL_4505083b3d15482db21a2d1308d6ea2c",
       "value": "<h4>ibmq_16_melbourne</h4>"
      }
     },
     "096c66f47ed6440083b0cddaa381d654": {
      "model_module": "@jupyter-widgets/controls",
      "model_module_version": "1.5.0",
      "model_name": "DescriptionStyleModel",
      "state": {
       "description_width": ""
      }
     },
     "09737ca1e21e4aeb8d2dfe0be5302829": {
      "model_module": "@jupyter-widgets/base",
      "model_module_version": "1.2.0",
      "model_name": "LayoutModel",
      "state": {
       "grid_area": "right"
      }
     },
     "098aa063a8d24f5f8bff4b2d82673f64": {
      "model_module": "@jupyter-widgets/controls",
      "model_module_version": "1.5.0",
      "model_name": "LabelModel",
      "state": {
       "layout": "IPY_MODEL_5c4d12b4962541308d37ecc8f1e87622",
       "style": "IPY_MODEL_df00dce3f3764a569b9380fe90355ce6",
       "value": "50"
      }
     },
     "0995a2dd5f6a4145a0fc10b09596846b": {
      "model_module": "@jupyter-widgets/base",
      "model_module_version": "1.2.0",
      "model_name": "LayoutModel",
      "state": {
       "min_width": "auto"
      }
     },
     "0a3a6268ffd6407183af5f4c4602990e": {
      "model_module": "@jupyter-widgets/controls",
      "model_module_version": "1.5.0",
      "model_name": "HTMLModel",
      "state": {
       "layout": "IPY_MODEL_514f541a675048b8a3e1b7237d056636",
       "style": "IPY_MODEL_d52edd1211334e8eb2f7460ede10e857",
       "value": "<h5>0.0441</h5>"
      }
     },
     "0ab592ff91b744dc9a0e69583be39d57": {
      "model_module": "@jupyter-widgets/controls",
      "model_module_version": "1.5.0",
      "model_name": "DescriptionStyleModel",
      "state": {
       "description_width": ""
      }
     },
     "0aefdd0c7b714bc6ab73411fac44ff58": {
      "model_module": "@jupyter-widgets/controls",
      "model_module_version": "1.5.0",
      "model_name": "DescriptionStyleModel",
      "state": {
       "description_width": ""
      }
     },
     "0b4ac5252011472db9196f0e3cf107d1": {
      "model_module": "@jupyter-widgets/base",
      "model_module_version": "1.2.0",
      "model_name": "LayoutModel",
      "state": {}
     },
     "0be159a956b94976820a75c7b16f1393": {
      "model_module": "@jupyter-widgets/controls",
      "model_module_version": "1.5.0",
      "model_name": "DescriptionStyleModel",
      "state": {
       "description_width": ""
      }
     },
     "0c63ea48105040cc983282cdab5c007a": {
      "model_module": "@jupyter-widgets/base",
      "model_module_version": "1.2.0",
      "model_name": "LayoutModel",
      "state": {
       "min_width": "auto"
      }
     },
     "0cfa5e6399f5491084098ad6a073f4d1": {
      "model_module": "@jupyter-widgets/controls",
      "model_module_version": "1.5.0",
      "model_name": "HTMLModel",
      "state": {
       "layout": "IPY_MODEL_e85bef5c1c194f3c8a0835f2a6bba126",
       "style": "IPY_MODEL_f8ef5207c2c44adebd1a6ff7e4c62507",
       "value": "<p style='font-size:16px;'>Job Status [4]: job is queued (81) </p>"
      }
     },
     "0d02c38b66854875a80cb6b0feb13a25": {
      "model_module": "@jupyter-widgets/base",
      "model_module_version": "1.2.0",
      "model_name": "LayoutModel",
      "state": {
       "justify_content": "center",
       "max_width": "250px",
       "min_width": "250px"
      }
     },
     "0d5a946de3e1471d96c55ca760b0c500": {
      "model_module": "@jupyter-widgets/base",
      "model_module_version": "1.2.0",
      "model_name": "LayoutModel",
      "state": {}
     },
     "0d5ab44171384a5ca42a2f51918f1975": {
      "model_module": "@jupyter-widgets/controls",
      "model_module_version": "1.5.0",
      "model_name": "HTMLModel",
      "state": {
       "layout": "IPY_MODEL_6e74f4ae47e249e9ae45cc70f0ae19c4",
       "style": "IPY_MODEL_f2f45f3b189d478697cf548bba33f657",
       "value": "<table><style>\ntable {\n    border-collapse: collapse;\n    width: auto;\n}\n\nth, td {\n    text-align: left;\n    padding: 8px;\n}\n\ntr:nth-child(even) {background-color: #f6f6f6;}\n</style><tr><th></th><th></th></tr><tr><td>max_experiments</td><td>75</td></tr><tr><td>coupling_map</td><td>[[1, 0], [1, 2], [2, 3], [4, 3], [4, 10], [5, 4], [5, 6], [5, 9], [6, 8], [7, 8], [9, 8], [9, 10], [11, 3], [11, 10], [11, 12], [12, 2], [13, 1], [13, 12]]</td></tr><tr><td>conditional</td><td>False</td></tr><tr><td>max_shots</td><td>8192</td></tr><tr><td>description</td><td>14 qubit device</td></tr><tr><td>credits_required</td><td>True</td></tr><tr><td>n_registers</td><td>1</td></tr><tr><td>url</td><td>None</td></tr><tr><td>online_date</td><td>2018-11-06T05:00:00+00:00</td></tr><tr><td>allow_q_object</td><td>True</td></tr><tr><td>open_pulse</td><td>False</td></tr><tr><td>backend_version</td><td>1.0.0</td></tr><tr><td>backend_name</td><td>ibmq_16_melbourne</td></tr><tr><td>memory</td><td>False</td></tr><tr><td>sample_name</td><td>albatross</td></tr></table>"
      }
     },
     "0e41fac09a1c473e90b306fe5e7c8232": {
      "model_module": "@jupyter-widgets/controls",
      "model_module_version": "1.5.0",
      "model_name": "VBoxModel",
      "state": {
       "children": [
        "IPY_MODEL_ec49480361154c4dbdc12d60829ef8bb",
        "IPY_MODEL_c3b379ab0c5441eb950b980b34966d31"
       ],
       "layout": "IPY_MODEL_3c71d974de7e4869b341b51a4a035792"
      }
     },
     "0f9b7dd09fd94edfb3cb7303251a7449": {
      "model_module": "@jupyter-widgets/controls",
      "model_module_version": "1.5.0",
      "model_name": "HTMLModel",
      "state": {
       "layout": "IPY_MODEL_945d81cd9faf43b59f9fd8e489be4252",
       "style": "IPY_MODEL_12a344a314104ed6a02d02537c1ae686",
       "value": "<p style='font-size:16px;'>Job Status: job is queued (70) </p>"
      }
     },
     "10b7867e1d184dcb9a673a843e59aa96": {
      "model_module": "@jupyter-widgets/base",
      "model_module_version": "1.2.0",
      "model_name": "LayoutModel",
      "state": {}
     },
     "11085fb0fbc34dfd904540d7097000fd": {
      "model_module": "@jupyter-widgets/base",
      "model_module_version": "1.2.0",
      "model_name": "LayoutModel",
      "state": {
       "justify_content": "center",
       "max_width": "250px",
       "min_width": "250px"
      }
     },
     "110a13b6a7004e498562515f69bea562": {
      "model_module": "@jupyter-widgets/controls",
      "model_module_version": "1.5.0",
      "model_name": "HTMLModel",
      "state": {
       "layout": "IPY_MODEL_65f23b39d2654517bbb5811a5c74e134",
       "style": "IPY_MODEL_f950ceeb9639436b83bc8871c86bb16b",
       "value": "<h5>0.1834</h5>"
      }
     },
     "112fec6b16e14ea992e1150d36b5bcba": {
      "model_module": "@jupyter-widgets/controls",
      "model_module_version": "1.5.0",
      "model_name": "DescriptionStyleModel",
      "state": {
       "description_width": ""
      }
     },
     "11421806d3b64ede929af250f5be6529": {
      "model_module": "@jupyter-widgets/base",
      "model_module_version": "1.2.0",
      "model_name": "LayoutModel",
      "state": {
       "margin": "0px 0px 0px 0px"
      }
     },
     "114866670e4f4e7687d68d7556a0bbc6": {
      "model_module": "@jupyter-widgets/base",
      "model_module_version": "1.2.0",
      "model_name": "LayoutModel",
      "state": {}
     },
     "117df2f9a56144828892b1f4af8a19a0": {
      "model_module": "@jupyter-widgets/base",
      "model_module_version": "1.2.0",
      "model_name": "LayoutModel",
      "state": {
       "max_width": "180px"
      }
     },
     "11afcf10534e485f8eb5a9d196ce677b": {
      "model_module": "@jupyter-widgets/controls",
      "model_module_version": "1.5.0",
      "model_name": "DescriptionStyleModel",
      "state": {
       "description_width": ""
      }
     },
     "11c93f8efbe24a7fad83af5bf3ce43d3": {
      "model_module": "@jupyter-widgets/controls",
      "model_module_version": "1.5.0",
      "model_name": "LabelModel",
      "state": {
       "layout": "IPY_MODEL_17c4e4d246be423aa3d77636ee8bd8b1",
       "style": "IPY_MODEL_c73b27429a204c8880186fcc03a66e6e",
       "value": "0"
      }
     },
     "120e8fd55354421e98ea2d231af0bad2": {
      "model_module": "@jupyter-widgets/base",
      "model_module_version": "1.2.0",
      "model_name": "LayoutModel",
      "state": {
       "justify_content": "center",
       "max_width": "250px",
       "min_width": "250px"
      }
     },
     "12a344a314104ed6a02d02537c1ae686": {
      "model_module": "@jupyter-widgets/controls",
      "model_module_version": "1.5.0",
      "model_name": "DescriptionStyleModel",
      "state": {
       "description_width": ""
      }
     },
     "12ed9bb3c1ff45c997b0b77912b4f07a": {
      "model_module": "@jupyter-widgets/controls",
      "model_module_version": "1.5.0",
      "model_name": "HTMLModel",
      "state": {
       "layout": "IPY_MODEL_f92eada7a81847c0b678c73bcce42528",
       "style": "IPY_MODEL_5251dbe0606c46c5b3ebb30159cfac8c",
       "value": "<table><style>\ntable {\n    border-collapse: collapse;\n    width: auto;\n}\n\nth, td {\n    text-align: left;\n    padding: 8px;\n}\n\ntr:nth-child(even) {background-color: #f6f6f6;};\n</style><tr><th></th><th>Type</th><th>Gate error</th></tr><tr><td><font style='font-weight:bold'>CX1_0</font></td><td>cx</td><td>0.05398</td></tr><tr><td><font style='font-weight:bold'>CX1_2</font></td><td>cx</td><td>0.04118</td></tr><tr><td><font style='font-weight:bold'>CX2_3</font></td><td>cx</td><td>0.03678</td></tr><tr><td><font style='font-weight:bold'>CX4_3</font></td><td>cx</td><td>0.0615</td></tr><tr><td><font style='font-weight:bold'>CX4_10</font></td><td>cx</td><td>0.06482</td></tr><tr><td><font style='font-weight:bold'>CX5_4</font></td><td>cx</td><td>0.05584</td></tr></table>"
      }
     },
     "132a3252247e4fa2a385b92cf19ce722": {
      "model_module": "@jupyter-widgets/output",
      "model_module_version": "1.0.0",
      "model_name": "OutputModel",
      "state": {
       "layout": "IPY_MODEL_7954bb25e7e04ec4b2d7d16d245d2940",
       "outputs": [
        {
         "data": {
          "image/png": "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\n",
          "text/plain": "<Figure size 360x360 with 1 Axes>"
         },
         "metadata": {},
         "output_type": "display_data"
        }
       ]
      }
     },
     "1340a5998a304671b22838faeb0734d7": {
      "model_module": "@jupyter-widgets/controls",
      "model_module_version": "1.5.0",
      "model_name": "ProgressStyleModel",
      "state": {
       "bar_color": "#71cddd",
       "description_width": ""
      }
     },
     "13988f2dbb4b496993711bd9e2a5ea40": {
      "model_module": "@jupyter-widgets/controls",
      "model_module_version": "1.5.0",
      "model_name": "GridBoxModel",
      "state": {
       "children": [
        "IPY_MODEL_959c4705d507408ba5801c7abdd3b467"
       ],
       "layout": "IPY_MODEL_7859a4b60ced4a43a5f723fd1c643250"
      }
     },
     "1398e67a3a5b4b36a68a702782845c65": {
      "model_module": "@jupyter-widgets/base",
      "model_module_version": "1.2.0",
      "model_name": "LayoutModel",
      "state": {}
     },
     "13ab3058a5c64d65bc509b9901f17b77": {
      "model_module": "@jupyter-widgets/base",
      "model_module_version": "1.2.0",
      "model_name": "LayoutModel",
      "state": {}
     },
     "13c49b43dabc45c1818b449a5f6e49ba": {
      "model_module": "@jupyter-widgets/controls",
      "model_module_version": "1.5.0",
      "model_name": "HTMLModel",
      "state": {
       "layout": "IPY_MODEL_72a3e56fa08445c0ad89c62d5bb290fb",
       "style": "IPY_MODEL_be35cdb2896c4b929401f040d3ae3035",
       "value": "<p style='font-size:16px;'>Job Status [4]: job is queued (74) </p>"
      }
     },
     "13c5b15e353347a2aa64e4be0460c83a": {
      "model_module": "@jupyter-widgets/controls",
      "model_module_version": "1.5.0",
      "model_name": "DescriptionStyleModel",
      "state": {
       "description_width": ""
      }
     },
     "1564e3508b7a4757810ac23380250234": {
      "model_module": "@jupyter-widgets/controls",
      "model_module_version": "1.5.0",
      "model_name": "HTMLModel",
      "state": {
       "layout": "IPY_MODEL_1d1e4c00eef74be9ae1b7d7b4ee02672",
       "style": "IPY_MODEL_6427f004ecd8441e9bf5234394b24477",
       "value": "<p style='font-size:16px;'>Job Status [2]: job is queued (72) </p>"
      }
     },
     "15685ccee0c04599b3f12e565c179146": {
      "model_module": "@jupyter-widgets/base",
      "model_module_version": "1.2.0",
      "model_name": "LayoutModel",
      "state": {
       "width": "135px"
      }
     },
     "1606931f050b4db58c7456e61291ec56": {
      "model_module": "@jupyter-widgets/controls",
      "model_module_version": "1.5.0",
      "model_name": "DescriptionStyleModel",
      "state": {
       "description_width": ""
      }
     },
     "165f18ba127e4915be0f67af0a580a5c": {
      "model_module": "@jupyter-widgets/base",
      "model_module_version": "1.2.0",
      "model_name": "LayoutModel",
      "state": {
       "min_width": "auto"
      }
     },
     "168c4284439c4baf9a6dc52846c2a16b": {
      "model_module": "@jupyter-widgets/base",
      "model_module_version": "1.2.0",
      "model_name": "LayoutModel",
      "state": {}
     },
     "16be6e34b35649fd86a8b6706a2a9068": {
      "model_module": "@jupyter-widgets/base",
      "model_module_version": "1.2.0",
      "model_name": "LayoutModel",
      "state": {
       "min_width": "auto"
      }
     },
     "16ec74e631474499997e2ff086b90679": {
      "model_module": "@jupyter-widgets/controls",
      "model_module_version": "1.5.0",
      "model_name": "VBoxModel",
      "state": {
       "children": [
        "IPY_MODEL_950af204c74e4ae29ffc52f79dc3e592"
       ],
       "layout": "IPY_MODEL_75c69ab8ffc64d55882e64380c1c9196"
      }
     },
     "17330f72e43e48d5b9eb50041e2cf33f": {
      "model_module": "@jupyter-widgets/base",
      "model_module_version": "1.2.0",
      "model_name": "LayoutModel",
      "state": {
       "justify_content": "center"
      }
     },
     "177c81f9f425445799c67274d68e0b3d": {
      "model_module": "@jupyter-widgets/controls",
      "model_module_version": "1.5.0",
      "model_name": "DescriptionStyleModel",
      "state": {
       "description_width": ""
      }
     },
     "178c0fc4f8034198843802afcfbd96e3": {
      "model_module": "@jupyter-widgets/controls",
      "model_module_version": "1.5.0",
      "model_name": "VBoxModel",
      "state": {
       "children": [
        "IPY_MODEL_fddbce4b7e5d446cb6cbe29b5d776e3f",
        "IPY_MODEL_545bbe2c9fc04361b5ac390a808112fb",
        "IPY_MODEL_4046648c668f4d1b822ca52f0fd82689",
        "IPY_MODEL_ffe6ea424b41423f89aee3662f4652b6",
        "IPY_MODEL_2d010af2f0ad436d9f02d6f8fa60fb6b",
        "IPY_MODEL_df5e1f42d94345bdb7a85839f2b0c961",
        "IPY_MODEL_c187bae470dd4316817e15cbff063786",
        "IPY_MODEL_9f93dcd72d734c31b3eb43432c3aebcd"
       ],
       "layout": "IPY_MODEL_4bf694c81572489cab4a8b3a0c916844"
      }
     },
     "17c4e4d246be423aa3d77636ee8bd8b1": {
      "model_module": "@jupyter-widgets/base",
      "model_module_version": "1.2.0",
      "model_name": "LayoutModel",
      "state": {
       "min_width": "auto"
      }
     },
     "17d1db8324f24719a9e4f6977a13cf3d": {
      "model_module": "@jupyter-widgets/controls",
      "model_module_version": "1.5.0",
      "model_name": "HTMLModel",
      "state": {
       "layout": "IPY_MODEL_8a133cad2b9e457db456ae12b92f144e",
       "style": "IPY_MODEL_49efe3ad173947138dc423391e5cd574",
       "value": "<h4>ibmq_valencia</h4>"
      }
     },
     "18b17c40798a4f289d0b23c7f24ff346": {
      "model_module": "@jupyter-widgets/controls",
      "model_module_version": "1.5.0",
      "model_name": "HTMLModel",
      "state": {
       "layout": "IPY_MODEL_b685851fc5f047aa8366adf0e37945ad",
       "style": "IPY_MODEL_9529b68c5bfd4382a802b83c5d9d104a",
       "value": "<h5 style='color:#34bc6e'>True</h5>"
      }
     },
     "18f2622a757f4887a52d53190088a71f": {
      "model_module": "@jupyter-widgets/controls",
      "model_module_version": "1.5.0",
      "model_name": "LabelModel",
      "state": {
       "layout": "IPY_MODEL_2c33c8ef03e242e79c8cb351f6bec862",
       "style": "IPY_MODEL_02647fdbfefa41cfb9244bf25bac4200",
       "value": "50"
      }
     },
     "190f13f3013c4dc9845d78a42d762e36": {
      "model_module": "@jupyter-widgets/controls",
      "model_module_version": "1.5.0",
      "model_name": "DescriptionStyleModel",
      "state": {
       "description_width": ""
      }
     },
     "1916908142654ff9971bc3a0fee6f615": {
      "model_module": "@jupyter-widgets/controls",
      "model_module_version": "1.5.0",
      "model_name": "LabelModel",
      "state": {
       "layout": "IPY_MODEL_faddc619e88849f0ae643202380b6dcd",
       "style": "IPY_MODEL_b95b552962db4ca09edc3329c4d36d04",
       "value": "Pending Jobs"
      }
     },
     "196c540f005742f488d0c5bbbbf7e8fe": {
      "model_module": "@jupyter-widgets/controls",
      "model_module_version": "1.5.0",
      "model_name": "DescriptionStyleModel",
      "state": {
       "description_width": ""
      }
     },
     "19bbc3c78f944875ab193cb362f387f9": {
      "model_module": "@jupyter-widgets/base",
      "model_module_version": "1.2.0",
      "model_name": "LayoutModel",
      "state": {}
     },
     "19fa3f448ccd419a9d20227d6c4e57e8": {
      "model_module": "@jupyter-widgets/base",
      "model_module_version": "1.2.0",
      "model_name": "LayoutModel",
      "state": {
       "margin": "10px 0px 0px 0px"
      }
     },
     "1ab477fbbcaa4eb39aa2824c57781388": {
      "model_module": "@jupyter-widgets/controls",
      "model_module_version": "1.5.0",
      "model_name": "DescriptionStyleModel",
      "state": {
       "description_width": ""
      }
     },
     "1b38e87b1ee344ddb6d37c2b76669870": {
      "model_module": "@jupyter-widgets/controls",
      "model_module_version": "1.5.0",
      "model_name": "LabelModel",
      "state": {
       "layout": "IPY_MODEL_35131ea8fa1b4c2fbea313c0953ffca1",
       "style": "IPY_MODEL_096c66f47ed6440083b0cddaa381d654",
       "value": "0"
      }
     },
     "1b88974e13694605bb7ae7895a650562": {
      "model_module": "@jupyter-widgets/controls",
      "model_module_version": "1.5.0",
      "model_name": "HTMLModel",
      "state": {
       "layout": "IPY_MODEL_44039b4ae386488ea760dbf61c97603e",
       "style": "IPY_MODEL_4d0cc0cebe554646a130171547b76733",
       "value": "<div><font style='font-weight:bold'>last_update_date</font>: 2018-12-20T09:17:33+00:00</div>"
      }
     },
     "1bebc556323c4239bbe5442d61ebf36b": {
      "model_module": "@jupyter-widgets/controls",
      "model_module_version": "1.5.0",
      "model_name": "HTMLModel",
      "state": {
       "layout": "IPY_MODEL_93f8ec5a52cb4ef2ad16433e5552c33a",
       "style": "IPY_MODEL_9935113ed65447cbb21fad87920f1d23",
       "value": "job has successfully run"
      }
     },
     "1bf2a8a492a54dcab7c04fa39dcea768": {
      "model_module": "@jupyter-widgets/base",
      "model_module_version": "1.2.0",
      "model_name": "LayoutModel",
      "state": {
       "align_items": "center",
       "display": "flex-inline",
       "grid_area": "right",
       "max_height": "300px",
       "padding": "10px 10px 10px 10px",
       "width": "auto"
      }
     },
     "1c26be868c3840f3a912eca29f3e82e5": {
      "model_module": "@jupyter-widgets/base",
      "model_module_version": "1.2.0",
      "model_name": "LayoutModel",
      "state": {
       "align_items": "center",
       "justify_content": "center",
       "margin": "0px 0px 0px 0px",
       "max_height": "250px",
       "max_width": "250px",
       "min_height": "250px",
       "min_width": "250px"
      }
     },
     "1c87df1433254800b84c8682ac42c12c": {
      "model_module": "@jupyter-widgets/base",
      "model_module_version": "1.2.0",
      "model_name": "LayoutModel",
      "state": {
       "min_width": "auto"
      }
     },
     "1cd26ebf148f4dfd812c7c3f078216c2": {
      "model_module": "@jupyter-widgets/controls",
      "model_module_version": "1.5.0",
      "model_name": "HBoxModel",
      "state": {
       "children": [
        "IPY_MODEL_5816e89ffe2f48659c1165686606f6b1",
        "IPY_MODEL_abaeeb9917bb4a6fa39a8ec72f0eed89",
        "IPY_MODEL_72b85a4480df432a81c002961ed7b7a8"
       ],
       "layout": "IPY_MODEL_b2156101134745fdbb1204ee4494d4a9"
      }
     },
     "1d1e4c00eef74be9ae1b7d7b4ee02672": {
      "model_module": "@jupyter-widgets/base",
      "model_module_version": "1.2.0",
      "model_name": "LayoutModel",
      "state": {}
     },
     "1d26f5071f9649678827bf2b37cf1183": {
      "model_module": "@jupyter-widgets/base",
      "model_module_version": "1.2.0",
      "model_name": "LayoutModel",
      "state": {
       "width": "65px"
      }
     },
     "1d3a32fab5044533b721617100c10036": {
      "model_module": "@jupyter-widgets/controls",
      "model_module_version": "1.5.0",
      "model_name": "HTMLModel",
      "state": {
       "layout": "IPY_MODEL_6e74e02578d94ea29371efa6f45a1730",
       "style": "IPY_MODEL_45a57f149a3d4fe7b38d1cdfb5013222",
       "value": "<h5 style='color:#dc267f'>False</h5>"
      }
     },
     "1d8e3f53183b4c28ab7651a264cbdd6f": {
      "model_module": "@jupyter-widgets/controls",
      "model_module_version": "1.5.0",
      "model_name": "DescriptionStyleModel",
      "state": {
       "description_width": ""
      }
     },
     "1e2e86299f604828a54a20366e5a8cd7": {
      "model_module": "@jupyter-widgets/base",
      "model_module_version": "1.2.0",
      "model_name": "LayoutModel",
      "state": {
       "width": "95px"
      }
     },
     "1e47e10bdfef485c91c87012cb58beda": {
      "model_module": "@jupyter-widgets/controls",
      "model_module_version": "1.5.0",
      "model_name": "DescriptionStyleModel",
      "state": {
       "description_width": ""
      }
     },
     "1ec3051e6ad14b91ba8d9666ecd2f7d5": {
      "model_module": "@jupyter-widgets/controls",
      "model_module_version": "1.5.0",
      "model_name": "HTMLModel",
      "state": {
       "layout": "IPY_MODEL_4eafa5d8f38f47f5ab7d18582bb34b25",
       "style": "IPY_MODEL_47559b0c114e4b47a0c42689f63aa03a",
       "value": "<h5>71.7 µs</h5>"
      }
     },
     "1f6bc7a2a45943c3bd106b838e73d34f": {
      "model_module": "@jupyter-widgets/base",
      "model_module_version": "1.2.0",
      "model_name": "LayoutModel",
      "state": {
       "overflow_x": "scroll"
      }
     },
     "2006f23464d04939945f7c5e6c0c8b0e": {
      "model_module": "@jupyter-widgets/controls",
      "model_module_version": "1.5.0",
      "model_name": "LabelModel",
      "state": {
       "layout": "IPY_MODEL_800019b3e8984606b04b300b61026998",
       "style": "IPY_MODEL_dc15425669114772bfe5a29d36a6332c",
       "value": "Operational"
      }
     },
     "20a6eb0580fb4a03bf6676906e506e84": {
      "model_module": "@jupyter-widgets/output",
      "model_module_version": "1.0.0",
      "model_name": "OutputModel",
      "state": {
       "layout": "IPY_MODEL_5978689efd8444e0b707093cc667719d",
       "outputs": [
        {
         "data": {
          "image/png": "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\n",
          "text/plain": "<Figure size 360x360 with 1 Axes>"
         },
         "metadata": {},
         "output_type": "display_data"
        }
       ]
      }
     },
     "20b4ea2ec78a4830bfd9b090c35656e0": {
      "model_module": "@jupyter-widgets/base",
      "model_module_version": "1.2.0",
      "model_name": "LayoutModel",
      "state": {
       "align_items": "center",
       "display": "inline-flex",
       "flex_flow": "column"
      }
     },
     "21298562c1a54cf99a6b8fd11a0bdfac": {
      "model_module": "@jupyter-widgets/base",
      "model_module_version": "1.2.0",
      "model_name": "LayoutModel",
      "state": {
       "grid_gap": "0px 0px",
       "grid_template_areas": "\n                                                \"top top top\"\n                                                \"left . right\"\n                                                ",
       "grid_template_columns": "33% 33% 33%",
       "grid_template_rows": "auto auto"
      }
     },
     "2133dfec60f94680abec5118fa46b0ac": {
      "model_module": "@jupyter-widgets/base",
      "model_module_version": "1.2.0",
      "model_name": "LayoutModel",
      "state": {
       "justify_content": "center"
      }
     },
     "2166d0afd9ea475e8c5ea1dc1560daba": {
      "model_module": "@jupyter-widgets/base",
      "model_module_version": "1.2.0",
      "model_name": "LayoutModel",
      "state": {}
     },
     "2185be50cd4c4886bd2fdc69054bff31": {
      "model_module": "@jupyter-widgets/controls",
      "model_module_version": "1.5.0",
      "model_name": "VBoxModel",
      "state": {
       "children": [
        "IPY_MODEL_08e3b5a9186c43698df3826b615f14a1",
        "IPY_MODEL_06611a3e584b4857aec11140fc66fdca",
        "IPY_MODEL_fca618555b1042faa5b715fc21005621",
        "IPY_MODEL_b9e156650f834b919cd17f0bfbaedbe5",
        "IPY_MODEL_a3e336fd308849149e10cc50a4b95ff0",
        "IPY_MODEL_9c89aed02f9d48ac95931f285907bb0b",
        "IPY_MODEL_454198c8fa924f089997064f5ee0231f",
        "IPY_MODEL_1ec3051e6ad14b91ba8d9666ecd2f7d5"
       ],
       "layout": "IPY_MODEL_2a43ab32783b4aab99878d0f3cc74e6a"
      }
     },
     "2190cb24efbd403bad8ba3684c6a8335": {
      "model_module": "@jupyter-widgets/controls",
      "model_module_version": "1.5.0",
      "model_name": "HTMLModel",
      "state": {
       "layout": "IPY_MODEL_933b4316167e46c1ac9963a23c5a2e33",
       "style": "IPY_MODEL_c1211669fe4341e59c400618188c2b0b",
       "value": "<p style='font-size:16px;'>Job Status: job is queued (65) </p>"
      }
     },
     "21a3d4d010604efcabcb89ded2dd38a6": {
      "model_module": "@jupyter-widgets/controls",
      "model_module_version": "1.5.0",
      "model_name": "DescriptionStyleModel",
      "state": {
       "description_width": ""
      }
     },
     "21a6d4c7a1a64b2fa47da022539ffd95": {
      "model_module": "@jupyter-widgets/base",
      "model_module_version": "1.2.0",
      "model_name": "LayoutModel",
      "state": {
       "grid_area": "right"
      }
     },
     "21dfb7bb455848a0be5431979768bc41": {
      "model_module": "@jupyter-widgets/controls",
      "model_module_version": "1.5.0",
      "model_name": "TabModel",
      "state": {
       "_titles": {
        "0": "Configuration",
        "1": "Qubit Properties",
        "2": "Multi-Qubit Gates",
        "3": "Error Map",
        "4": "Job History"
       },
       "children": [
        "IPY_MODEL_a86bd436b50246b480856ccd41828bb8",
        "IPY_MODEL_d3fb42267f684e288d86245fec03797b",
        "IPY_MODEL_3648993de8304fb8adbdccb65dee8309",
        "IPY_MODEL_290519f1c3f34681b32328b47f3ac869",
        "IPY_MODEL_8d907a6b44c34e02848b068fa6173033"
       ],
       "layout": "IPY_MODEL_553c6962a9284d728900d6443f2d856d"
      }
     },
     "21e540e54802409f905e626678ce8a19": {
      "model_module": "@jupyter-widgets/controls",
      "model_module_version": "1.5.0",
      "model_name": "HBoxModel",
      "state": {
       "children": [
        "IPY_MODEL_62bd9d5658574195a21e3c11282ddb12",
        "IPY_MODEL_f91dee43a90d4520be4499d2d10baa17",
        "IPY_MODEL_223fc9831471428fa42d8d3bf85ad6aa"
       ],
       "layout": "IPY_MODEL_901d8ac863a24e41bd840da1ded7fba8"
      }
     },
     "223fc9831471428fa42d8d3bf85ad6aa": {
      "model_module": "@jupyter-widgets/controls",
      "model_module_version": "1.5.0",
      "model_name": "LabelModel",
      "state": {
       "layout": "IPY_MODEL_3d15723a3f3e4bc696955c68ee1a2990",
       "style": "IPY_MODEL_99228062968149a28926a3d28244c50b",
       "value": "50"
      }
     },
     "23ca716040c34cb3b5f133c9a781011c": {
      "model_module": "@jupyter-widgets/controls",
      "model_module_version": "1.5.0",
      "model_name": "DescriptionStyleModel",
      "state": {
       "description_width": ""
      }
     },
     "23e7a21cac9749e5aea9d875cff3b4df": {
      "model_module": "@jupyter-widgets/controls",
      "model_module_version": "1.5.0",
      "model_name": "HTMLModel",
      "state": {
       "layout": "IPY_MODEL_91e9c16f364547e188c212ea235c2f4b",
       "style": "IPY_MODEL_c97102328ca245b385bbc6de694b6663",
       "value": "<h4>ibmq_poughkeepsie</h4>"
      }
     },
     "243e73c3b52940419dfb7dd46da1c4a6": {
      "model_module": "@jupyter-widgets/controls",
      "model_module_version": "1.5.0",
      "model_name": "DescriptionStyleModel",
      "state": {
       "description_width": ""
      }
     },
     "245bcb470b2b43b9ada633fbef96620d": {
      "model_module": "@jupyter-widgets/controls",
      "model_module_version": "1.5.0",
      "model_name": "IntProgressModel",
      "state": {
       "layout": "IPY_MODEL_8da41c0dab3d4cdaa5cc0ea01628c2fa",
       "max": 157,
       "style": "IPY_MODEL_f7e939f5839748b9a9e3746a68768013",
       "value": 50
      }
     },
     "245e4a3fd5af4c40a10c6ff5bc64062d": {
      "model_module": "@jupyter-widgets/controls",
      "model_module_version": "1.5.0",
      "model_name": "LabelModel",
      "state": {
       "layout": "IPY_MODEL_edf6283b4b2f4ea488f51c6132d55966",
       "style": "IPY_MODEL_560dfc355df84ced96ce9f8d1d8d8995",
       "value": "0"
      }
     },
     "24c2539f2fc0453c875dfb149172f9c4": {
      "model_module": "@jupyter-widgets/controls",
      "model_module_version": "1.5.0",
      "model_name": "LabelModel",
      "state": {
       "layout": "IPY_MODEL_dc694c0add894a4e94427dc8eaa6362b",
       "style": "IPY_MODEL_0be159a956b94976820a75c7b16f1393",
       "value": "50"
      }
     },
     "24cc8254f30a4db28273d15c43bb08f8": {
      "model_module": "@jupyter-widgets/controls",
      "model_module_version": "1.5.0",
      "model_name": "DescriptionStyleModel",
      "state": {
       "description_width": ""
      }
     },
     "24eb5f1865464f17ace581bbbf9cc952": {
      "model_module": "@jupyter-widgets/controls",
      "model_module_version": "1.5.0",
      "model_name": "HTMLModel",
      "state": {
       "layout": "IPY_MODEL_474a9b9c31bc41618c7515faed50449d",
       "style": "IPY_MODEL_112fec6b16e14ea992e1150d36b5bcba",
       "value": "<h5 style='color:#34bc6e'>True</h5>"
      }
     },
     "254b9eceaf10461791c54857aedd1468": {
      "model_module": "@jupyter-widgets/controls",
      "model_module_version": "1.5.0",
      "model_name": "HTMLModel",
      "state": {
       "layout": "IPY_MODEL_b23af3abf67a43a2bf2ce153352abef8",
       "style": "IPY_MODEL_5b76b33fdcda429d950921040c6eb2b9",
       "value": "<h5 style='color:#34bc6e'>True</h5>"
      }
     },
     "25a926c3141a4304b4f02e7fb1d44027": {
      "model_module": "@jupyter-widgets/controls",
      "model_module_version": "1.5.0",
      "model_name": "HTMLModel",
      "state": {
       "layout": "IPY_MODEL_4be99087c5724da3aed09605a3b32b40",
       "style": "IPY_MODEL_63076655eea74d329c16844acfe74bbe",
       "value": "<h4>ibmq_20_tokyo</h4>"
      }
     },
     "25b2a0d306154ab3a639f98dc289fd5e": {
      "model_module": "@jupyter-widgets/controls",
      "model_module_version": "1.5.0",
      "model_name": "DescriptionStyleModel",
      "state": {
       "description_width": ""
      }
     },
     "26ce3f17bb1248dba78505348f0630a0": {
      "model_module": "@jupyter-widgets/controls",
      "model_module_version": "1.5.0",
      "model_name": "DescriptionStyleModel",
      "state": {
       "description_width": ""
      }
     },
     "26ea0ad592054b2fb0b98bf3060a56a1": {
      "model_module": "@jupyter-widgets/base",
      "model_module_version": "1.2.0",
      "model_name": "LayoutModel",
      "state": {}
     },
     "2869603b370c416dbc77be59ad1f2df0": {
      "model_module": "@jupyter-widgets/controls",
      "model_module_version": "1.5.0",
      "model_name": "IntProgressModel",
      "state": {
       "layout": "IPY_MODEL_482a2ad386c44012a6ca4abdef126153",
       "max": 50,
       "style": "IPY_MODEL_9a0c6a8cba3e43e8918e3820e257e16b"
      }
     },
     "28e4591cd2cc458988de469ffa77d26f": {
      "model_module": "@jupyter-widgets/base",
      "model_module_version": "1.2.0",
      "model_name": "LayoutModel",
      "state": {}
     },
     "290519f1c3f34681b32328b47f3ac869": {
      "model_module": "@jupyter-widgets/controls",
      "model_module_version": "1.5.0",
      "model_name": "GridBoxModel",
      "state": {
       "children": [
        "IPY_MODEL_66e4a4a441bb44b39c8417d18b5b5e40",
        "IPY_MODEL_df560278a7014eefb7907241b7dfc029",
        "IPY_MODEL_a4d6b1fb353640f4b7b3cd78376a3637"
       ],
       "layout": "IPY_MODEL_c7222d77c3954022a392b772acfc301c"
      }
     },
     "296fb10e2b2e4f2185e412db4927c761": {
      "model_module": "@jupyter-widgets/controls",
      "model_module_version": "1.5.0",
      "model_name": "HTMLModel",
      "state": {
       "layout": "IPY_MODEL_7d9b5a9641814f1b8483c71d0b5ed20b",
       "style": "IPY_MODEL_190f13f3013c4dc9845d78a42d762e36",
       "value": "<h5>Queue</h5>"
      }
     },
     "2a43ab32783b4aab99878d0f3cc74e6a": {
      "model_module": "@jupyter-widgets/base",
      "model_module_version": "1.2.0",
      "model_name": "LayoutModel",
      "state": {
       "align_items": "center",
       "display": "inline-flex",
       "flex_flow": "column"
      }
     },
     "2a7bf8be1ed44efba20be11031a5efe2": {
      "model_module": "@jupyter-widgets/controls",
      "model_module_version": "1.5.0",
      "model_name": "LabelModel",
      "state": {
       "layout": "IPY_MODEL_80708b8546824978a8e474f3c31c11df",
       "style": "IPY_MODEL_7c1a52854a55443eba5c02ba550407a7",
       "value": "50"
      }
     },
     "2a9de84d0da543b197f431d6a4b58ab3": {
      "model_module": "@jupyter-widgets/controls",
      "model_module_version": "1.5.0",
      "model_name": "HTMLModel",
      "state": {
       "layout": "IPY_MODEL_311e3643e2c44208bf67bf92c3ffbf56",
       "style": "IPY_MODEL_d4dea22db5e640468b319a6d383d9f69",
       "value": "<table><style>\ntable {\n    border-collapse: collapse;\n    width: auto;\n}\n\nth, td {\n    text-align: left;\n    padding: 8px;\n}\n\ntr:nth-child(even) {background-color: #f6f6f6;};\n</style><tr><th></th><th>Type</th><th>Gate error</th></tr><tr><td><font style='font-weight:bold'>cx0_1</font></td><td>cx</td><td>0.04069</td></tr><tr><td><font style='font-weight:bold'>cx0_2</font></td><td>cx</td><td>0.04891</td></tr></table>"
      }
     },
     "2adf44b2304345c7a0c2abf0e0e76833": {
      "model_module": "@jupyter-widgets/base",
      "model_module_version": "1.2.0",
      "model_name": "LayoutModel",
      "state": {
       "max_width": "180px"
      }
     },
     "2b2d60f9fe6a46e1986aef13f4efc75b": {
      "model_module": "@jupyter-widgets/controls",
      "model_module_version": "1.5.0",
      "model_name": "LabelModel",
      "state": {
       "layout": "IPY_MODEL_74c1dc129ada4564a63f2023472b77f7",
       "style": "IPY_MODEL_6b06d820ad6548b2b27121fdc24ca3aa",
       "value": "95"
      }
     },
     "2b4e0d54b1494dfeaec0fdaf322fb994": {
      "model_module": "@jupyter-widgets/controls",
      "model_module_version": "1.5.0",
      "model_name": "DescriptionStyleModel",
      "state": {
       "description_width": ""
      }
     },
     "2ba0044fbbe843b59507977a999f401f": {
      "model_module": "@jupyter-widgets/base",
      "model_module_version": "1.2.0",
      "model_name": "LayoutModel",
      "state": {}
     },
     "2c33c8ef03e242e79c8cb351f6bec862": {
      "model_module": "@jupyter-widgets/base",
      "model_module_version": "1.2.0",
      "model_name": "LayoutModel",
      "state": {
       "min_width": "auto"
      }
     },
     "2d010af2f0ad436d9f02d6f8fa60fb6b": {
      "model_module": "@jupyter-widgets/controls",
      "model_module_version": "1.5.0",
      "model_name": "HTMLModel",
      "state": {
       "layout": "IPY_MODEL_aff459c2bf8a43909d3d67da52f9daa0",
       "style": "IPY_MODEL_dced587a7e6d44929a0265393ee3d782",
       "value": "<h5 style='color:#dc267f'>False</h5>"
      }
     },
     "2d26eb1bbeaf4cbabe2bebf9315cd825": {
      "model_module": "@jupyter-widgets/base",
      "model_module_version": "1.2.0",
      "model_name": "LayoutModel",
      "state": {}
     },
     "2d39b1912ee047cfa507aca5ae281996": {
      "model_module": "@jupyter-widgets/controls",
      "model_module_version": "1.5.0",
      "model_name": "DescriptionStyleModel",
      "state": {
       "description_width": ""
      }
     },
     "2da674e6da574d0896c3b11e4b951eea": {
      "model_module": "@jupyter-widgets/controls",
      "model_module_version": "1.5.0",
      "model_name": "HTMLModel",
      "state": {
       "layout": "IPY_MODEL_e51704fc5cf646e58cc8f813635c7254",
       "style": "IPY_MODEL_47e7ef931cb243d8819ee110c0926fb6",
       "value": "<h5 style='color:#34bc6e'>True</h5>"
      }
     },
     "2da983583502498983d0236cfe823927": {
      "model_module": "@jupyter-widgets/controls",
      "model_module_version": "1.5.0",
      "model_name": "HTMLModel",
      "state": {
       "layout": "IPY_MODEL_07f882896ea24997a18745b5a6e1d481",
       "style": "IPY_MODEL_91bea42ae1d0425aa713b649ba866b69",
       "value": "<h5>89.1 / 41.4 µs</h5>"
      }
     },
     "2e647e5ea2cd4888b9261181303e67e5": {
      "model_module": "@jupyter-widgets/base",
      "model_module_version": "1.2.0",
      "model_name": "LayoutModel",
      "state": {}
     },
     "2f5d26ee430148a49af84fbd660a888e": {
      "model_module": "@jupyter-widgets/controls",
      "model_module_version": "1.5.0",
      "model_name": "DescriptionStyleModel",
      "state": {
       "description_width": ""
      }
     },
     "2f5fe4e8fc98489384f7fe04706a7e29": {
      "model_module": "@jupyter-widgets/controls",
      "model_module_version": "1.5.0",
      "model_name": "HTMLModel",
      "state": {
       "layout": "IPY_MODEL_26ea0ad592054b2fb0b98bf3060a56a1",
       "style": "IPY_MODEL_8541a75794074e3dae33e8aa33001367",
       "value": "<h5>60.9 / 50.4 µs</h5>"
      }
     },
     "2fc5a4e9ba68457b897cf157f679018e": {
      "model_module": "@jupyter-widgets/base",
      "model_module_version": "1.2.0",
      "model_name": "LayoutModel",
      "state": {
       "justify_content": "center"
      }
     },
     "30d8244b5c2542cbbb84bad4b52091fb": {
      "model_module": "@jupyter-widgets/base",
      "model_module_version": "1.2.0",
      "model_name": "LayoutModel",
      "state": {
       "max_width": "180px"
      }
     },
     "30f366beccbf490aa1edeedba88e67af": {
      "model_module": "@jupyter-widgets/controls",
      "model_module_version": "1.5.0",
      "model_name": "DescriptionStyleModel",
      "state": {
       "description_width": ""
      }
     },
     "3100b2fe3e324498ab127425aef05cbc": {
      "model_module": "@jupyter-widgets/controls",
      "model_module_version": "1.5.0",
      "model_name": "HTMLModel",
      "state": {
       "layout": "IPY_MODEL_56cb09f2d6174fa68243dd004494b824",
       "style": "IPY_MODEL_83247bed44084296b5a19ca11653fa12",
       "value": "<h5>Backend</h5>"
      }
     },
     "311e3643e2c44208bf67bf92c3ffbf56": {
      "model_module": "@jupyter-widgets/base",
      "model_module_version": "1.2.0",
      "model_name": "LayoutModel",
      "state": {
       "grid_area": "left"
      }
     },
     "319a3a0536be4756906b9ba3b7368f83": {
      "model_module": "@jupyter-widgets/base",
      "model_module_version": "1.2.0",
      "model_name": "LayoutModel",
      "state": {
       "min_width": "auto"
      }
     },
     "31cd2bebc85741739bd25d7e8d13f0c7": {
      "model_module": "@jupyter-widgets/controls",
      "model_module_version": "1.5.0",
      "model_name": "TabModel",
      "state": {
       "layout": "IPY_MODEL_7a05628d56bb41a5af16da83f82b0233"
      }
     },
     "328436f9e733422eb7a53214f62798db": {
      "model_module": "@jupyter-widgets/controls",
      "model_module_version": "1.5.0",
      "model_name": "HTMLModel",
      "state": {
       "layout": "IPY_MODEL_11421806d3b64ede929af250f5be6529",
       "style": "IPY_MODEL_042c32c068074b5f843431eb820cdde6",
       "value": "<h2 style ='color:#ffffff; background-color:#000000;padding-top: 1%; padding-bottom: 1%;padding-left: 1%;margin-top: 0px'>Backend Overview</h2>"
      }
     },
     "32d870f73c744c1da6e15cc8d6e84e02": {
      "model_module": "@jupyter-widgets/controls",
      "model_module_version": "1.5.0",
      "model_name": "HTMLModel",
      "state": {
       "layout": "IPY_MODEL_cdf0152cc4a44f6abcdb5387b4393959",
       "style": "IPY_MODEL_b845403c5a8541a19c99aa03669d3b4b",
       "value": "<h5 style='color:#dc267f'>False</h5>"
      }
     },
     "332721e96e6b48dfb39ec2150f1ccd93": {
      "model_module": "@jupyter-widgets/controls",
      "model_module_version": "1.5.0",
      "model_name": "LabelModel",
      "state": {
       "layout": "IPY_MODEL_319a3a0536be4756906b9ba3b7368f83",
       "style": "IPY_MODEL_361e6c0cfa13414cbe53508fea041fde",
       "value": "0"
      }
     },
     "35131ea8fa1b4c2fbea313c0953ffca1": {
      "model_module": "@jupyter-widgets/base",
      "model_module_version": "1.2.0",
      "model_name": "LayoutModel",
      "state": {
       "min_width": "auto"
      }
     },
     "361e6c0cfa13414cbe53508fea041fde": {
      "model_module": "@jupyter-widgets/controls",
      "model_module_version": "1.5.0",
      "model_name": "DescriptionStyleModel",
      "state": {
       "description_width": ""
      }
     },
     "363c7faa9f5a4b5898d3469062dd0e3e": {
      "model_module": "@jupyter-widgets/base",
      "model_module_version": "1.2.0",
      "model_name": "LayoutModel",
      "state": {
       "max_width": "180px"
      }
     },
     "3648993de8304fb8adbdccb65dee8309": {
      "model_module": "@jupyter-widgets/controls",
      "model_module_version": "1.5.0",
      "model_name": "GridBoxModel",
      "state": {
       "children": [
        "IPY_MODEL_e7b165a65ffb47be944b78f27138d279",
        "IPY_MODEL_12ed9bb3c1ff45c997b0b77912b4f07a",
        "IPY_MODEL_0808073632d245978d8ee7c5d44da277",
        "IPY_MODEL_6ab2ba2917b24e54984aa726d17f2084"
       ],
       "layout": "IPY_MODEL_6912ac4343ac4f9b8bcf04dbcde5c7b9"
      }
     },
     "3653ec47cdb245a9997b806feac844ae": {
      "model_module": "@jupyter-widgets/controls",
      "model_module_version": "1.5.0",
      "model_name": "HTMLModel",
      "state": {
       "layout": "IPY_MODEL_7f7f83cecd6040eaab93ac051d30e8f4",
       "style": "IPY_MODEL_d0066989128343f18b47db7606074ed1",
       "value": "<font style='color:#34BC6E'>DONE</font>"
      }
     },
     "36bf92b60724443081bdb08d719a72ba": {
      "model_module": "@jupyter-widgets/base",
      "model_module_version": "1.2.0",
      "model_name": "LayoutModel",
      "state": {}
     },
     "373d46ad143d42e6896e2dcf8a336c50": {
      "model_module": "@jupyter-widgets/controls",
      "model_module_version": "1.5.0",
      "model_name": "DescriptionStyleModel",
      "state": {
       "description_width": ""
      }
     },
     "374b5049f6d7417baf98633f85ee7b22": {
      "model_module": "@jupyter-widgets/base",
      "model_module_version": "1.2.0",
      "model_name": "LayoutModel",
      "state": {
       "max_width": "180px"
      }
     },
     "379e580263854bbcb42fde575ad9ad54": {
      "model_module": "@jupyter-widgets/controls",
      "model_module_version": "1.5.0",
      "model_name": "VBoxModel",
      "state": {
       "children": [
        "IPY_MODEL_45f1e258e3554a908adf46edad0adf43",
        "IPY_MODEL_61c3f45fbdd942859207d3624d6557f5",
        "IPY_MODEL_6affaedcae124566868191c3acf414ff",
        "IPY_MODEL_c74e1dc112fa4103b75a6719825a4353",
        "IPY_MODEL_2da674e6da574d0896c3b11e4b951eea",
        "IPY_MODEL_7eaeb05dac5b49c686d7648176d6d062",
        "IPY_MODEL_2da983583502498983d0236cfe823927",
        "IPY_MODEL_088f876b1841417c962078e0cd83449b",
        "IPY_MODEL_7d225566d5554472aeae6697a105aadb"
       ],
       "layout": "IPY_MODEL_20b4ea2ec78a4830bfd9b090c35656e0"
      }
     },
     "37b2363a276044369af7d7ad0f82db1d": {
      "model_module": "@jupyter-widgets/controls",
      "model_module_version": "1.5.0",
      "model_name": "DescriptionStyleModel",
      "state": {
       "description_width": ""
      }
     },
     "37ce3faa97e049f4bfa760dc228fc775": {
      "model_module": "@jupyter-widgets/base",
      "model_module_version": "1.2.0",
      "model_name": "LayoutModel",
      "state": {}
     },
     "37f35e8a690e4af1a17dd9c3cb78fe58": {
      "model_module": "@jupyter-widgets/controls",
      "model_module_version": "1.5.0",
      "model_name": "DescriptionStyleModel",
      "state": {
       "description_width": ""
      }
     },
     "37f38fb8240a4287af979ef48abbd28f": {
      "model_module": "@jupyter-widgets/controls",
      "model_module_version": "1.5.0",
      "model_name": "HTMLModel",
      "state": {
       "layout": "IPY_MODEL_6110ce253b924732b1ba6a4ad67e59d9",
       "style": "IPY_MODEL_8b14129e2dfb413d80b1b4538ea34271",
       "value": "<h5><b>20</b></h5>"
      }
     },
     "38f368e92cac4b6cb642fb664c74f9ab": {
      "model_module": "@jupyter-widgets/controls",
      "model_module_version": "1.5.0",
      "model_name": "HTMLModel",
      "state": {
       "layout": "IPY_MODEL_788c743eac244d308512fed4d44f5b5c",
       "style": "IPY_MODEL_d1fc72668e1b4f5991e2052306845996",
       "value": "<h5><b>20</b></h5>"
      }
     },
     "39c829cef4294be08618f1d378440487": {
      "model_module": "@jupyter-widgets/controls",
      "model_module_version": "1.5.0",
      "model_name": "DescriptionStyleModel",
      "state": {
       "description_width": ""
      }
     },
     "3b45d80dd67743e09f8df736ed00c10b": {
      "model_module": "@jupyter-widgets/base",
      "model_module_version": "1.2.0",
      "model_name": "LayoutModel",
      "state": {
       "align_items": "center",
       "display": "inline-flex",
       "flex_flow": "column"
      }
     },
     "3b733cb87db44b0690ea9a12aa93fd2b": {
      "model_module": "@jupyter-widgets/controls",
      "model_module_version": "1.5.0",
      "model_name": "DescriptionStyleModel",
      "state": {
       "description_width": ""
      }
     },
     "3c2e32fa978244c9a27198738efdb893": {
      "model_module": "@jupyter-widgets/controls",
      "model_module_version": "1.5.0",
      "model_name": "DescriptionStyleModel",
      "state": {
       "description_width": ""
      }
     },
     "3c4a9a9fc69f45ea9df93cd336916fdc": {
      "model_module": "@jupyter-widgets/base",
      "model_module_version": "1.2.0",
      "model_name": "LayoutModel",
      "state": {
       "align_items": "center",
       "display": "inline-flex",
       "flex_flow": "column"
      }
     },
     "3c5b9dc60dbf4545bfd10457c2bd4209": {
      "model_module": "@jupyter-widgets/controls",
      "model_module_version": "1.5.0",
      "model_name": "DescriptionStyleModel",
      "state": {
       "description_width": ""
      }
     },
     "3c61840963554dce85095e7c485cad29": {
      "model_module": "@jupyter-widgets/controls",
      "model_module_version": "1.5.0",
      "model_name": "HTMLModel",
      "state": {
       "layout": "IPY_MODEL_40b571b7e6bf4c2e9d6745f2c3e3160c",
       "style": "IPY_MODEL_b681d4396e0e42bd8c03c37a28b51e02",
       "value": "<h5 style='color:#34bc6e'>True</h5>"
      }
     },
     "3c6fd5eeb52942a7899d442a2b0a71f0": {
      "model_module": "@jupyter-widgets/controls",
      "model_module_version": "1.5.0",
      "model_name": "HTMLModel",
      "state": {
       "layout": "IPY_MODEL_a332270c908f43e48e6be81e20c1a1f2",
       "style": "IPY_MODEL_e25c684909914a93b583388b36089d47",
       "value": "<h5>0.0212</h5>"
      }
     },
     "3c71d974de7e4869b341b51a4a035792": {
      "model_module": "@jupyter-widgets/base",
      "model_module_version": "1.2.0",
      "model_name": "LayoutModel",
      "state": {}
     },
     "3d15723a3f3e4bc696955c68ee1a2990": {
      "model_module": "@jupyter-widgets/base",
      "model_module_version": "1.2.0",
      "model_name": "LayoutModel",
      "state": {
       "min_width": "auto"
      }
     },
     "3dac209bc2a7407c8ddb2ad62161bf9d": {
      "model_module": "@jupyter-widgets/base",
      "model_module_version": "1.2.0",
      "model_name": "LayoutModel",
      "state": {
       "min_width": "auto"
      }
     },
     "3daf49363e1d4523af16a09059ec1bff": {
      "model_module": "@jupyter-widgets/base",
      "model_module_version": "1.2.0",
      "model_name": "LayoutModel",
      "state": {}
     },
     "3f05c10a2b3a4b8eaddf8c82cb0127f4": {
      "model_module": "@jupyter-widgets/controls",
      "model_module_version": "1.5.0",
      "model_name": "HTMLModel",
      "state": {
       "layout": "IPY_MODEL_3daf49363e1d4523af16a09059ec1bff",
       "style": "IPY_MODEL_dec076d63fe64eddb272ccc5619fdb0c",
       "value": "<p style='font-size:16px;'>Job Status: job is queued (69) </p>"
      }
     },
     "3f87fcf2b57243b997847b95ef8398a4": {
      "model_module": "@jupyter-widgets/base",
      "model_module_version": "1.2.0",
      "model_name": "LayoutModel",
      "state": {}
     },
     "3f9232b6005140cf9919c8e5abf99377": {
      "model_module": "@jupyter-widgets/controls",
      "model_module_version": "1.5.0",
      "model_name": "HTMLModel",
      "state": {
       "layout": "IPY_MODEL_dcb20359f2f840129b82fed08c1697de",
       "style": "IPY_MODEL_37f35e8a690e4af1a17dd9c3cb78fe58",
       "value": "<h5>0.1536</h5>"
      }
     },
     "3f9682fb01c04f159fdfeb31c455659a": {
      "model_module": "@jupyter-widgets/controls",
      "model_module_version": "1.5.0",
      "model_name": "DescriptionStyleModel",
      "state": {
       "description_width": ""
      }
     },
     "3fbad4f9c0974a2ab0dbe72fc1566de1": {
      "model_module": "@jupyter-widgets/controls",
      "model_module_version": "1.5.0",
      "model_name": "DescriptionStyleModel",
      "state": {
       "description_width": ""
      }
     },
     "402f3dc98c2a4866931eec89d9a4bd15": {
      "model_module": "@jupyter-widgets/base",
      "model_module_version": "1.2.0",
      "model_name": "LayoutModel",
      "state": {
       "align_items": "center",
       "display": "flex-inline",
       "grid_area": "left"
      }
     },
     "4046648c668f4d1b822ca52f0fd82689": {
      "model_module": "@jupyter-widgets/controls",
      "model_module_version": "1.5.0",
      "model_name": "HTMLModel",
      "state": {
       "layout": "IPY_MODEL_585ea78e2f484db99b575cdab47a2d44",
       "style": "IPY_MODEL_a34db22dd3f84f05aa42e8c1ccbac08d",
       "value": "<h5><b>5</b></h5>"
      }
     },
     "404c366542c341cca904ec2a1fdd5da1": {
      "model_module": "@jupyter-widgets/controls",
      "model_module_version": "1.5.0",
      "model_name": "LabelModel",
      "state": {
       "layout": "IPY_MODEL_56a5e42750da4599a67090d385517faa",
       "style": "IPY_MODEL_e592d1f4094e417c8778173f22bbdee7",
       "value": "Operational"
      }
     },
     "40b571b7e6bf4c2e9d6745f2c3e3160c": {
      "model_module": "@jupyter-widgets/base",
      "model_module_version": "1.2.0",
      "model_name": "LayoutModel",
      "state": {
       "justify_content": "center"
      }
     },
     "4132cf7fd99046ada1bc48ae6aebc0b5": {
      "model_module": "@jupyter-widgets/base",
      "model_module_version": "1.2.0",
      "model_name": "LayoutModel",
      "state": {
       "align_items": "center",
       "justify_content": "center",
       "margin": "0px 0px 0px 0px",
       "max_height": "250px",
       "max_width": "250px",
       "min_height": "250px",
       "min_width": "250px"
      }
     },
     "43457b2b7f4d45e799205a52369bc7ef": {
      "model_module": "@jupyter-widgets/base",
      "model_module_version": "1.2.0",
      "model_name": "LayoutModel",
      "state": {}
     },
     "43dfbd146b1444c6932a0971c7d84280": {
      "model_module": "@jupyter-widgets/base",
      "model_module_version": "1.2.0",
      "model_name": "LayoutModel",
      "state": {
       "grid_area": "top"
      }
     },
     "44039b4ae386488ea760dbf61c97603e": {
      "model_module": "@jupyter-widgets/base",
      "model_module_version": "1.2.0",
      "model_name": "LayoutModel",
      "state": {}
     },
     "441fad1562724c08bcdc503e73e1b57c": {
      "model_module": "@jupyter-widgets/controls",
      "model_module_version": "1.5.0",
      "model_name": "DescriptionStyleModel",
      "state": {
       "description_width": ""
      }
     },
     "4424012ac93742449756f48f7aa0108a": {
      "model_module": "@jupyter-widgets/controls",
      "model_module_version": "1.5.0",
      "model_name": "HTMLModel",
      "state": {
       "layout": "IPY_MODEL_37ce3faa97e049f4bfa760dc228fc775",
       "style": "IPY_MODEL_bb4a0f87867c478c8594906b0ba57418",
       "value": "<h5>103.4 / 84.5 µs</h5>"
      }
     },
     "44e679e0347c49ebb0f7777df5706000": {
      "model_module": "@jupyter-widgets/controls",
      "model_module_version": "1.5.0",
      "model_name": "HTMLModel",
      "state": {
       "layout": "IPY_MODEL_10b7867e1d184dcb9a673a843e59aa96",
       "style": "IPY_MODEL_779c4f34fec840f6ac78be80cd004895",
       "value": "<h5>51.8 / 70.5 µs</h5>"
      }
     },
     "4505083b3d15482db21a2d1308d6ea2c": {
      "model_module": "@jupyter-widgets/controls",
      "model_module_version": "1.5.0",
      "model_name": "DescriptionStyleModel",
      "state": {
       "description_width": ""
      }
     },
     "454198c8fa924f089997064f5ee0231f": {
      "model_module": "@jupyter-widgets/controls",
      "model_module_version": "1.5.0",
      "model_name": "HTMLModel",
      "state": {
       "layout": "IPY_MODEL_cbbfa81cae694e2690d31a3c340a17ab",
       "style": "IPY_MODEL_72b782df2ff74068aeb550e9002532d5",
       "value": "<h5>54.7 µs</h5>"
      }
     },
     "4548a554359e40ffb37efae59224170e": {
      "model_module": "@jupyter-widgets/controls",
      "model_module_version": "1.5.0",
      "model_name": "LabelModel",
      "state": {
       "layout": "IPY_MODEL_bcb9ddef9c084dbdbcf741d105a917e5",
       "style": "IPY_MODEL_39c829cef4294be08618f1d378440487",
       "value": "0"
      }
     },
     "458331fe848d4112a15fd143e60928d8": {
      "model_module": "@jupyter-widgets/controls",
      "model_module_version": "1.5.0",
      "model_name": "DescriptionStyleModel",
      "state": {
       "description_width": ""
      }
     },
     "45a57f149a3d4fe7b38d1cdfb5013222": {
      "model_module": "@jupyter-widgets/controls",
      "model_module_version": "1.5.0",
      "model_name": "DescriptionStyleModel",
      "state": {
       "description_width": ""
      }
     },
     "45f1e258e3554a908adf46edad0adf43": {
      "model_module": "@jupyter-widgets/controls",
      "model_module_version": "1.5.0",
      "model_name": "HTMLModel",
      "state": {
       "layout": "IPY_MODEL_d3cadad86f224df6bf6f544a4f2fcde9",
       "style": "IPY_MODEL_d862e1299b904cb0ac63206aaf8b5a2b",
       "value": "<h4>Bludger</h4>"
      }
     },
     "45fc491265e84e1b8bf18e2b1a199ae5": {
      "model_module": "@jupyter-widgets/controls",
      "model_module_version": "1.5.0",
      "model_name": "DescriptionStyleModel",
      "state": {
       "description_width": ""
      }
     },
     "47209b1f301648498992f35031d3c68a": {
      "model_module": "@jupyter-widgets/controls",
      "model_module_version": "1.5.0",
      "model_name": "DescriptionStyleModel",
      "state": {
       "description_width": ""
      }
     },
     "4748635516574dd3b328cdc21aaa2580": {
      "model_module": "@jupyter-widgets/base",
      "model_module_version": "1.2.0",
      "model_name": "LayoutModel",
      "state": {}
     },
     "474a9b9c31bc41618c7515faed50449d": {
      "model_module": "@jupyter-widgets/base",
      "model_module_version": "1.2.0",
      "model_name": "LayoutModel",
      "state": {
       "justify_content": "center"
      }
     },
     "47559b0c114e4b47a0c42689f63aa03a": {
      "model_module": "@jupyter-widgets/controls",
      "model_module_version": "1.5.0",
      "model_name": "DescriptionStyleModel",
      "state": {
       "description_width": ""
      }
     },
     "479c522c3ea042fda64637aea33197d6": {
      "model_module": "@jupyter-widgets/base",
      "model_module_version": "1.2.0",
      "model_name": "LayoutModel",
      "state": {
       "justify_content": "center",
       "max_width": "250px",
       "min_width": "250px"
      }
     },
     "47db5c8c06964b7799cd94d34e5a414e": {
      "model_module": "@jupyter-widgets/controls",
      "model_module_version": "1.5.0",
      "model_name": "HTMLModel",
      "state": {
       "layout": "IPY_MODEL_d7c5c979f24c4a699df836b1bcbb0efd",
       "style": "IPY_MODEL_d0e6bf912f2a46d6b4a7dfe3c724033e",
       "value": "<h5>0.0441</h5>"
      }
     },
     "47e7ef931cb243d8819ee110c0926fb6": {
      "model_module": "@jupyter-widgets/controls",
      "model_module_version": "1.5.0",
      "model_name": "DescriptionStyleModel",
      "state": {
       "description_width": ""
      }
     },
     "482a2ad386c44012a6ca4abdef126153": {
      "model_module": "@jupyter-widgets/base",
      "model_module_version": "1.2.0",
      "model_name": "LayoutModel",
      "state": {
       "max_width": "180px"
      }
     },
     "488716ea2e43443fa0ea668e52fec1da": {
      "model_module": "@jupyter-widgets/base",
      "model_module_version": "1.2.0",
      "model_name": "LayoutModel",
      "state": {
       "justify_content": "center"
      }
     },
     "48d180e020ba43a8abdf3936b17831ca": {
      "model_module": "@jupyter-widgets/controls",
      "model_module_version": "1.5.0",
      "model_name": "HTMLModel",
      "state": {
       "layout": "IPY_MODEL_6ad86509bce646dd88d86c668ed46f45",
       "style": "IPY_MODEL_2f5d26ee430148a49af84fbd660a888e",
       "value": "<h4>ibmq_16_melbourne</h4>"
      }
     },
     "48fa6eb91d624e8db15adcfb211e73a5": {
      "model_module": "@jupyter-widgets/base",
      "model_module_version": "1.2.0",
      "model_name": "LayoutModel",
      "state": {
       "align_items": "center",
       "display": "flex-inline",
       "grid_area": "right",
       "max_height": "325px",
       "padding": "10px 10px 10px 10px",
       "width": "auto"
      }
     },
     "49c6e405b4c240458a5e96ecfe79f02c": {
      "model_module": "@jupyter-widgets/controls",
      "model_module_version": "1.5.0",
      "model_name": "VBoxModel",
      "state": {
       "children": [
        "IPY_MODEL_23e7a21cac9749e5aea9d875cff3b4df",
        "IPY_MODEL_e96a16893de949d48277bd79954e45a2",
        "IPY_MODEL_7bb88cebb9d84067b7c7cb26779cad5e",
        "IPY_MODEL_c6e3e2f285f44f53afc17043dc00ba01",
        "IPY_MODEL_9fbb0d3eb2f14ce493a229fd37834068",
        "IPY_MODEL_18b17c40798a4f289d0b23c7f24ff346",
        "IPY_MODEL_f06644ad7b1b4a2686565378fa1f4c88",
        "IPY_MODEL_64dfe07ca4414b10b895496f89e9a355",
        "IPY_MODEL_0a3a6268ffd6407183af5f4c4602990e"
       ],
       "layout": "IPY_MODEL_8f2cf65064d34f8ab7252b90385f7bca"
      }
     },
     "49ebbf35e04f48d39ddda252b1e89d45": {
      "model_module": "@jupyter-widgets/base",
      "model_module_version": "1.2.0",
      "model_name": "LayoutModel",
      "state": {}
     },
     "49efe3ad173947138dc423391e5cd574": {
      "model_module": "@jupyter-widgets/controls",
      "model_module_version": "1.5.0",
      "model_name": "DescriptionStyleModel",
      "state": {
       "description_width": ""
      }
     },
     "4a22d73c8dc24731b6b9e8f25cc4e8e7": {
      "model_module": "@jupyter-widgets/controls",
      "model_module_version": "1.5.0",
      "model_name": "DescriptionStyleModel",
      "state": {
       "description_width": ""
      }
     },
     "4b3000fa5e724db2bbc6356ae07d1741": {
      "model_module": "@jupyter-widgets/base",
      "model_module_version": "1.2.0",
      "model_name": "LayoutModel",
      "state": {}
     },
     "4bd7db1d011f4791879e355e96078d0a": {
      "model_module": "@jupyter-widgets/controls",
      "model_module_version": "1.5.0",
      "model_name": "DescriptionStyleModel",
      "state": {
       "description_width": ""
      }
     },
     "4be99087c5724da3aed09605a3b32b40": {
      "model_module": "@jupyter-widgets/base",
      "model_module_version": "1.2.0",
      "model_name": "LayoutModel",
      "state": {}
     },
     "4bf694c81572489cab4a8b3a0c916844": {
      "model_module": "@jupyter-widgets/base",
      "model_module_version": "1.2.0",
      "model_name": "LayoutModel",
      "state": {
       "align_items": "center",
       "display": "inline-flex",
       "flex_flow": "column"
      }
     },
     "4d0cc0cebe554646a130171547b76733": {
      "model_module": "@jupyter-widgets/controls",
      "model_module_version": "1.5.0",
      "model_name": "DescriptionStyleModel",
      "state": {
       "description_width": ""
      }
     },
     "4d109dbb2952491da4c3214e8d94acfe": {
      "model_module": "@jupyter-widgets/controls",
      "model_module_version": "1.5.0",
      "model_name": "VBoxModel",
      "state": {
       "children": [
        "IPY_MODEL_a236ac3c25094a8d91ca9a2ae0c7ab13",
        "IPY_MODEL_1916908142654ff9971bc3a0fee6f615",
        "IPY_MODEL_a6cb413e6fa64e0099ba9263879743b5",
        "IPY_MODEL_404c366542c341cca904ec2a1fdd5da1",
        "IPY_MODEL_a2d1cd1c84a34f58ae463298cd1d7ba1",
        "IPY_MODEL_4ff50e00313e42a79668e2d396a693e4"
       ],
       "layout": "IPY_MODEL_62101230d882459985e7d003c074a10e"
      }
     },
     "4d482c0e5bec468f90cd653b4767ac5c": {
      "model_module": "@jupyter-widgets/controls",
      "model_module_version": "1.5.0",
      "model_name": "LabelModel",
      "state": {
       "layout": "IPY_MODEL_165f18ba127e4915be0f67af0a580a5c",
       "style": "IPY_MODEL_b57d1d01ffa44c199af98b07d6f20884",
       "value": "50"
      }
     },
     "4ddda47fe2214db58a4900c8618d3543": {
      "model_module": "@jupyter-widgets/controls",
      "model_module_version": "1.5.0",
      "model_name": "DescriptionStyleModel",
      "state": {
       "description_width": ""
      }
     },
     "4e4bf2b3f8944d659cdb4e302eb4db13": {
      "model_module": "@jupyter-widgets/controls",
      "model_module_version": "1.5.0",
      "model_name": "DescriptionStyleModel",
      "state": {
       "description_width": ""
      }
     },
     "4e932c91193d4ca7816608d3e8db482f": {
      "model_module": "@jupyter-widgets/base",
      "model_module_version": "1.2.0",
      "model_name": "LayoutModel",
      "state": {
       "justify_content": "center"
      }
     },
     "4eafa5d8f38f47f5ab7d18582bb34b25": {
      "model_module": "@jupyter-widgets/base",
      "model_module_version": "1.2.0",
      "model_name": "LayoutModel",
      "state": {}
     },
     "4eeb620b671342dba35cef0a7a7d0a33": {
      "model_module": "@jupyter-widgets/base",
      "model_module_version": "1.2.0",
      "model_name": "LayoutModel",
      "state": {
       "min_width": "auto"
      }
     },
     "4f139f75c1dd4b0486f51685affa4c65": {
      "model_module": "@jupyter-widgets/controls",
      "model_module_version": "1.5.0",
      "model_name": "IntProgressModel",
      "state": {
       "layout": "IPY_MODEL_363c7faa9f5a4b5898d3469062dd0e3e",
       "max": 50,
       "style": "IPY_MODEL_9924910041eb4f46a0cae71b455d1392",
       "value": 17
      }
     },
     "4fa96a568f4a4d9dbcf2d8c691684282": {
      "model_module": "@jupyter-widgets/controls",
      "model_module_version": "1.5.0",
      "model_name": "TabModel",
      "state": {
       "_titles": {
        "0": "Configuration",
        "1": "Qubit Properties",
        "2": "Multi-Qubit Gates",
        "3": "Error Map",
        "4": "Job History"
       },
       "children": [
        "IPY_MODEL_eb998631a33c4681bb706e80fa9ac8a5",
        "IPY_MODEL_8cfb86336b7a4103bdd85ed8b4110b28",
        "IPY_MODEL_621f8092a5244bb5b368b3cad1ba905f",
        "IPY_MODEL_04dffca7d4a64cc0a2b19ecd21f57a70",
        "IPY_MODEL_31cd2bebc85741739bd25d7e8d13f0c7"
       ],
       "layout": "IPY_MODEL_652e5ebd78424b629a1412f396b70753"
      }
     },
     "4fefad785b7d4baa834dd42c9cad9a9d": {
      "model_module": "@jupyter-widgets/base",
      "model_module_version": "1.2.0",
      "model_name": "LayoutModel",
      "state": {}
     },
     "4ff50e00313e42a79668e2d396a693e4": {
      "model_module": "@jupyter-widgets/controls",
      "model_module_version": "1.5.0",
      "model_name": "LabelModel",
      "state": {
       "layout": "IPY_MODEL_19fa3f448ccd419a9d20227d6c4e57e8",
       "style": "IPY_MODEL_89e0b7f9199744e6b685ed76a7d898d9",
       "value": "Avg. T2"
      }
     },
     "502ab7437a10405c8a48a782b0dac784": {
      "model_module": "@jupyter-widgets/controls",
      "model_module_version": "1.5.0",
      "model_name": "LabelModel",
      "state": {
       "layout": "IPY_MODEL_0995a2dd5f6a4145a0fc10b09596846b",
       "style": "IPY_MODEL_441fad1562724c08bcdc503e73e1b57c",
       "value": "157"
      }
     },
     "514f541a675048b8a3e1b7237d056636": {
      "model_module": "@jupyter-widgets/base",
      "model_module_version": "1.2.0",
      "model_name": "LayoutModel",
      "state": {}
     },
     "5251dbe0606c46c5b3ebb30159cfac8c": {
      "model_module": "@jupyter-widgets/controls",
      "model_module_version": "1.5.0",
      "model_name": "DescriptionStyleModel",
      "state": {
       "description_width": ""
      }
     },
     "5382653b78a34c8c81f8a2faef55f865": {
      "model_module": "@jupyter-widgets/output",
      "model_module_version": "1.0.0",
      "model_name": "OutputModel",
      "state": {
       "layout": "IPY_MODEL_ded7c2cb85c447bd995485d408e2f2e2",
       "outputs": [
        {
         "data": {
          "image/png": "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\n",
          "text/plain": "<Figure size 360x360 with 1 Axes>"
         },
         "metadata": {},
         "output_type": "display_data"
        }
       ]
      }
     },
     "53be1220f84042aaa42ce33043f6a4bf": {
      "model_module": "@jupyter-widgets/controls",
      "model_module_version": "1.5.0",
      "model_name": "VBoxModel",
      "state": {
       "children": [
        "IPY_MODEL_54e5c72bd20e420abf0d1dca3e82b0a2",
        "IPY_MODEL_20a6eb0580fb4a03bf6676906e506e84",
        "IPY_MODEL_37f38fb8240a4287af979ef48abbd28f",
        "IPY_MODEL_5c83e5f1d57842bca74a8c32020495e5",
        "IPY_MODEL_b6a015a4848449e9a9b50cdd93c56721",
        "IPY_MODEL_32d870f73c744c1da6e15cc8d6e84e02",
        "IPY_MODEL_ced8b9f5194e44519e60ba89a5eb588f",
        "IPY_MODEL_3c6fd5eeb52942a7899d442a2b0a71f0",
        "IPY_MODEL_012b165707e84f2b9611e31cbe44a4ba"
       ],
       "layout": "IPY_MODEL_bc47833234bb4780a20217c449027288"
      }
     },
     "53e79352cd6545e98c5bfa6c27c09b7d": {
      "model_module": "@jupyter-widgets/controls",
      "model_module_version": "1.5.0",
      "model_name": "IntProgressModel",
      "state": {
       "layout": "IPY_MODEL_2adf44b2304345c7a0c2abf0e0e76833",
       "max": 50,
       "style": "IPY_MODEL_602f02d87de64af880d2885a78ad13ee"
      }
     },
     "545bbe2c9fc04361b5ac390a808112fb": {
      "model_module": "@jupyter-widgets/output",
      "model_module_version": "1.0.0",
      "model_name": "OutputModel",
      "state": {
       "layout": "IPY_MODEL_94705442a659433c80209990cae53225",
       "outputs": [
        {
         "data": {
          "image/png": "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\n",
          "text/plain": "<Figure size 360x360 with 1 Axes>"
         },
         "metadata": {},
         "output_type": "display_data"
        }
       ]
      }
     },
     "54e5c72bd20e420abf0d1dca3e82b0a2": {
      "model_module": "@jupyter-widgets/controls",
      "model_module_version": "1.5.0",
      "model_name": "HTMLModel",
      "state": {
       "layout": "IPY_MODEL_897d4ff869ae431caf69a23c55fef10b",
       "style": "IPY_MODEL_91b707305d7e4ff09fe6712e3a92d6ea",
       "value": "<h4>Hedwig</h4>"
      }
     },
     "552e73763a6645f39c657d27ee8ffe9c": {
      "model_module": "@jupyter-widgets/controls",
      "model_module_version": "1.5.0",
      "model_name": "DescriptionStyleModel",
      "state": {
       "description_width": ""
      }
     },
     "553368c2c0bf48aa96c2fe85cd0f1a02": {
      "model_module": "@jupyter-widgets/controls",
      "model_module_version": "1.5.0",
      "model_name": "HBoxModel",
      "state": {
       "children": [
        "IPY_MODEL_cd88a7f1360b48c8abd22b8f1667d7a3",
        "IPY_MODEL_e441f026ca2a4994a9469f9cffb29637",
        "IPY_MODEL_bea24bce9f5448c7a529b0d982a50e20",
        "IPY_MODEL_e9db63430dfa4b78911880833c19cfc9",
        "IPY_MODEL_eb212449751843809206d782bdba8674",
        "IPY_MODEL_1bebc556323c4239bbe5442d61ebf36b"
       ],
       "layout": "IPY_MODEL_ef4ac5294e9948dfa4bedc2114a6fb36"
      }
     },
     "553c6962a9284d728900d6443f2d856d": {
      "model_module": "@jupyter-widgets/base",
      "model_module_version": "1.2.0",
      "model_name": "LayoutModel",
      "state": {
       "overflow_y": "scroll"
      }
     },
     "5557bb55e7bc4f2da42e1555f152a22d": {
      "model_module": "@jupyter-widgets/controls",
      "model_module_version": "1.5.0",
      "model_name": "HBoxModel",
      "state": {
       "children": [
        "IPY_MODEL_a8f5f4ee6bfa4d1b9a93e1109e1e4043",
        "IPY_MODEL_3100b2fe3e324498ab127425aef05cbc",
        "IPY_MODEL_f08b2dde6dff4366890fc535f2cbda3e",
        "IPY_MODEL_296fb10e2b2e4f2185e412db4927c761",
        "IPY_MODEL_a0905038237d4c7bab832fdb67ac8019"
       ],
       "layout": "IPY_MODEL_bd81cd2d91e84b79a9e758c01d4d5be3"
      }
     },
     "55714f1ee1bd454d9ed66ed743139c00": {
      "model_module": "@jupyter-widgets/controls",
      "model_module_version": "1.5.0",
      "model_name": "VBoxModel",
      "state": {
       "children": [
        "IPY_MODEL_b0cfd7a11a7f453fb00394237292d0c1",
        "IPY_MODEL_a5303767ca0a46239973747ef03bfc31",
        "IPY_MODEL_e89ecebbcc6f46c0afddea37b358527d",
        "IPY_MODEL_d7ab2ceb753d43d5bb0837d3d67922f9",
        "IPY_MODEL_c137e4dbd0a34c528f66e2be67df9062",
        "IPY_MODEL_cdcc21a4c0674909a9ee3de00b011ba3",
        "IPY_MODEL_2f5fe4e8fc98489384f7fe04706a7e29",
        "IPY_MODEL_0201ccd7e4e14217970cf8284011bbbd",
        "IPY_MODEL_eb579b9907e0429ba922a85a11cff5a3"
       ],
       "layout": "IPY_MODEL_7a63788bdece4b6695e430fc71f14780"
      }
     },
     "5598d759beba41fcb5a643ea237a847d": {
      "model_module": "@jupyter-widgets/base",
      "model_module_version": "1.2.0",
      "model_name": "LayoutModel",
      "state": {}
     },
     "560dfc355df84ced96ce9f8d1d8d8995": {
      "model_module": "@jupyter-widgets/controls",
      "model_module_version": "1.5.0",
      "model_name": "DescriptionStyleModel",
      "state": {
       "description_width": ""
      }
     },
     "5634017bf4a445f68fa08ce1f20928a1": {
      "model_module": "@jupyter-widgets/base",
      "model_module_version": "1.2.0",
      "model_name": "LayoutModel",
      "state": {
       "grid_area": "left",
       "width": "100%"
      }
     },
     "566aca1687c7469fa227c9e4f6bf3d50": {
      "model_module": "@jupyter-widgets/base",
      "model_module_version": "1.2.0",
      "model_name": "LayoutModel",
      "state": {
       "align_items": "center",
       "display": "inline-flex",
       "flex_flow": "column"
      }
     },
     "568dd32f13434346beb5f6ab8d6e3ef1": {
      "model_module": "@jupyter-widgets/controls",
      "model_module_version": "1.5.0",
      "model_name": "ButtonStyleModel",
      "state": {
       "button_color": "white"
      }
     },
     "56a5e42750da4599a67090d385517faa": {
      "model_module": "@jupyter-widgets/base",
      "model_module_version": "1.2.0",
      "model_name": "LayoutModel",
      "state": {
       "margin": "5px 0px 0px 0px"
      }
     },
     "56cb09f2d6174fa68243dd004494b824": {
      "model_module": "@jupyter-widgets/base",
      "model_module_version": "1.2.0",
      "model_name": "LayoutModel",
      "state": {
       "width": "135px"
      }
     },
     "56fd87c5e9e749819d98ff59e255c92c": {
      "model_module": "@jupyter-widgets/base",
      "model_module_version": "1.2.0",
      "model_name": "LayoutModel",
      "state": {}
     },
     "573c8299b0c4471e8ad32804d05a8678": {
      "model_module": "@jupyter-widgets/controls",
      "model_module_version": "1.5.0",
      "model_name": "IntProgressModel",
      "state": {
       "layout": "IPY_MODEL_b9c27ceada86498aa38a7ad2b0b37ffc",
       "max": 50,
       "style": "IPY_MODEL_eba83420c2b14d86b06fd9ce1e9a55af"
      }
     },
     "579a19639f26478eb588618ae21670b2": {
      "model_module": "@jupyter-widgets/controls",
      "model_module_version": "1.5.0",
      "model_name": "DescriptionStyleModel",
      "state": {
       "description_width": ""
      }
     },
     "57a4c3450ec04a2b9378212dd51b75b0": {
      "model_module": "@jupyter-widgets/controls",
      "model_module_version": "1.5.0",
      "model_name": "DescriptionStyleModel",
      "state": {
       "description_width": ""
      }
     },
     "5816e89ffe2f48659c1165686606f6b1": {
      "model_module": "@jupyter-widgets/controls",
      "model_module_version": "1.5.0",
      "model_name": "LabelModel",
      "state": {
       "layout": "IPY_MODEL_9dc2dbe44f764ace8edd19a99e682084",
       "style": "IPY_MODEL_f72b639805624bce9fa14d34473b4903",
       "value": "3"
      }
     },
     "585ea78e2f484db99b575cdab47a2d44": {
      "model_module": "@jupyter-widgets/base",
      "model_module_version": "1.2.0",
      "model_name": "LayoutModel",
      "state": {
       "justify_content": "center"
      }
     },
     "5910b9484839445f862433ab5f1b61df": {
      "model_module": "@jupyter-widgets/controls",
      "model_module_version": "1.5.0",
      "model_name": "HTMLModel",
      "state": {
       "layout": "IPY_MODEL_56fd87c5e9e749819d98ff59e255c92c",
       "style": "IPY_MODEL_57a4c3450ec04a2b9378212dd51b75b0",
       "value": "<h5>96.6 / 65.5 µs</h5>"
      }
     },
     "5978689efd8444e0b707093cc667719d": {
      "model_module": "@jupyter-widgets/base",
      "model_module_version": "1.2.0",
      "model_name": "LayoutModel",
      "state": {
       "align_items": "center",
       "justify_content": "center",
       "margin": "0px 0px 0px 0px",
       "max_height": "250px",
       "max_width": "250px",
       "min_height": "250px",
       "min_width": "250px"
      }
     },
     "59bd1ed946754e189fef52ae5d15f393": {
      "model_module": "@jupyter-widgets/controls",
      "model_module_version": "1.5.0",
      "model_name": "HTMLModel",
      "state": {
       "layout": "IPY_MODEL_488716ea2e43443fa0ea668e52fec1da",
       "style": "IPY_MODEL_d9dab157cca841a6a42569c04239b43e",
       "value": "<h5><b>5</b></h5>"
      }
     },
     "5a3171021e764e3baa28cfbbfa80788e": {
      "model_module": "@jupyter-widgets/controls",
      "model_module_version": "1.5.0",
      "model_name": "DescriptionStyleModel",
      "state": {
       "description_width": ""
      }
     },
     "5aa1fa430964446d859ff369dc059aa2": {
      "model_module": "@jupyter-widgets/controls",
      "model_module_version": "1.5.0",
      "model_name": "HTMLModel",
      "state": {
       "layout": "IPY_MODEL_7f050e9339be4b0fac88fd4538220e6a",
       "style": "IPY_MODEL_b904f9713077427a93e9f573d935e891",
       "value": "<h4>Fluffy</h4>"
      }
     },
     "5b76b33fdcda429d950921040c6eb2b9": {
      "model_module": "@jupyter-widgets/controls",
      "model_module_version": "1.5.0",
      "model_name": "DescriptionStyleModel",
      "state": {
       "description_width": ""
      }
     },
     "5bc08110c7e84e66a854a0b6e3cc8127": {
      "model_module": "@jupyter-widgets/controls",
      "model_module_version": "1.5.0",
      "model_name": "DescriptionStyleModel",
      "state": {
       "description_width": ""
      }
     },
     "5bdea89769e8469c8c7af58559224e95": {
      "model_module": "@jupyter-widgets/controls",
      "model_module_version": "1.5.0",
      "model_name": "HTMLModel",
      "state": {
       "layout": "IPY_MODEL_0b4ac5252011472db9196f0e3cf107d1",
       "style": "IPY_MODEL_552e73763a6645f39c657d27ee8ffe9c",
       "value": "<p style='font-size:16px;'>Job Status [0]: job is queued (75) </p>"
      }
     },
     "5bfb5d9374cb48708de71999d46655a8": {
      "model_module": "@jupyter-widgets/base",
      "model_module_version": "1.2.0",
      "model_name": "LayoutModel",
      "state": {
       "grid_area": "right",
       "padding": "0px 0px 0px 0px",
       "width": "70px"
      }
     },
     "5bfd6c6ff64649e2bd0bab9e96e8b017": {
      "model_module": "@jupyter-widgets/controls",
      "model_module_version": "1.5.0",
      "model_name": "HTMLModel",
      "state": {
       "layout": "IPY_MODEL_ac7f9d48e8ee48d58f738b346fe95f1b",
       "style": "IPY_MODEL_a398d86cc56544289c5f04a073f95150",
       "value": "<h1 style='color:#ffffff;background-color:#000000;padding-top: 1%;padding-bottom: 1%;padding-left: 1%; margin-top: 0px'>ibmqx2</h1>"
      }
     },
     "5c144a386f804da2b0af1c833cae63a4": {
      "model_module": "@jupyter-widgets/base",
      "model_module_version": "1.2.0",
      "model_name": "LayoutModel",
      "state": {}
     },
     "5c4d12b4962541308d37ecc8f1e87622": {
      "model_module": "@jupyter-widgets/base",
      "model_module_version": "1.2.0",
      "model_name": "LayoutModel",
      "state": {
       "min_width": "auto"
      }
     },
     "5c509d7e68f245ce94bdac511c1b87fd": {
      "model_module": "@jupyter-widgets/controls",
      "model_module_version": "1.5.0",
      "model_name": "HTMLModel",
      "state": {
       "layout": "IPY_MODEL_826520711e694a4fae20d0397610c99e",
       "style": "IPY_MODEL_ade8f876354f408a8c1110a76ed6da05",
       "value": "<h5>81.1 / 53.9 µs</h5>"
      }
     },
     "5c83e5f1d57842bca74a8c32020495e5": {
      "model_module": "@jupyter-widgets/controls",
      "model_module_version": "1.5.0",
      "model_name": "HBoxModel",
      "state": {
       "children": [
        "IPY_MODEL_1b38e87b1ee344ddb6d37c2b76669870",
        "IPY_MODEL_eb8fe4a6aaaa464b889e600c3b71c17e",
        "IPY_MODEL_098aa063a8d24f5f8bff4b2d82673f64"
       ],
       "layout": "IPY_MODEL_c490e0d563464f2a8339b7dc5201206b"
      }
     },
     "5c9beb9bd7444129b62f148400ad59cb": {
      "model_module": "@jupyter-widgets/base",
      "model_module_version": "1.2.0",
      "model_name": "LayoutModel",
      "state": {
       "grid_gap": "0px 0px",
       "grid_template_areas": "\n                                                   \"top top top\"\n                                                   \"left middle right\"\n                                                   ",
       "grid_template_columns": "33% 33% 33%",
       "grid_template_rows": "auto auto"
      }
     },
     "5d516fe6ded34017828f5b1d5bcd137e": {
      "model_module": "@jupyter-widgets/controls",
      "model_module_version": "1.5.0",
      "model_name": "DescriptionStyleModel",
      "state": {
       "description_width": ""
      }
     },
     "5dc5a82af4df44e393ee18d46c8bc6c5": {
      "model_module": "@jupyter-widgets/controls",
      "model_module_version": "1.5.0",
      "model_name": "DescriptionStyleModel",
      "state": {
       "description_width": ""
      }
     },
     "5f78ac63a2b4490b803db422865f1615": {
      "model_module": "@jupyter-widgets/controls",
      "model_module_version": "1.5.0",
      "model_name": "IntProgressModel",
      "state": {
       "layout": "IPY_MODEL_760c1d4353874c499f21958d06ed2014",
       "max": 50,
       "style": "IPY_MODEL_1340a5998a304671b22838faeb0734d7"
      }
     },
     "602f02d87de64af880d2885a78ad13ee": {
      "model_module": "@jupyter-widgets/controls",
      "model_module_version": "1.5.0",
      "model_name": "ProgressStyleModel",
      "state": {
       "bar_color": "#71cddd",
       "description_width": ""
      }
     },
     "6082be83f7ff4c87a424eacf00abd9d7": {
      "model_module": "@jupyter-widgets/base",
      "model_module_version": "1.2.0",
      "model_name": "LayoutModel",
      "state": {
       "align_items": "center",
       "justify_content": "center",
       "margin": "0px 0px 0px 0px",
       "max_height": "250px",
       "max_width": "250px",
       "min_height": "250px",
       "min_width": "250px"
      }
     },
     "60e89523c84149daae60fe10f413ba5d": {
      "model_module": "@jupyter-widgets/controls",
      "model_module_version": "1.5.0",
      "model_name": "DescriptionStyleModel",
      "state": {
       "description_width": ""
      }
     },
     "6110ce253b924732b1ba6a4ad67e59d9": {
      "model_module": "@jupyter-widgets/base",
      "model_module_version": "1.2.0",
      "model_name": "LayoutModel",
      "state": {
       "justify_content": "center"
      }
     },
     "6192ecd530e64c4c9cf5475a7bb722c7": {
      "model_module": "@jupyter-widgets/controls",
      "model_module_version": "1.5.0",
      "model_name": "ButtonStyleModel",
      "state": {
       "button_color": "white"
      }
     },
     "61c3f45fbdd942859207d3624d6557f5": {
      "model_module": "@jupyter-widgets/output",
      "model_module_version": "1.0.0",
      "model_name": "OutputModel",
      "state": {
       "layout": "IPY_MODEL_1c26be868c3840f3a912eca29f3e82e5",
       "outputs": [
        {
         "data": {
          "image/png": "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\n",
          "text/plain": "<Figure size 360x360 with 1 Axes>"
         },
         "metadata": {},
         "output_type": "display_data"
        }
       ]
      }
     },
     "6203c03585d347de8bc5afc27114bb92": {
      "model_module": "@jupyter-widgets/controls",
      "model_module_version": "1.5.0",
      "model_name": "LabelModel",
      "state": {
       "layout": "IPY_MODEL_fa7d86e7792b4a3796f22d157149aaf9",
       "style": "IPY_MODEL_b86877484c4a41988593c2fc4a294594",
       "value": "Avg. Meas. Err."
      }
     },
     "62101230d882459985e7d003c074a10e": {
      "model_module": "@jupyter-widgets/base",
      "model_module_version": "1.2.0",
      "model_name": "LayoutModel",
      "state": {
       "margin": "295px 0px 0px 0px",
       "min_width": "100px"
      }
     },
     "621f8092a5244bb5b368b3cad1ba905f": {
      "model_module": "@jupyter-widgets/controls",
      "model_module_version": "1.5.0",
      "model_name": "GridBoxModel",
      "state": {
       "children": [
        "IPY_MODEL_b6cab0930a0447d5b2b11fb6c6b38733",
        "IPY_MODEL_2a9de84d0da543b197f431d6a4b58ab3",
        "IPY_MODEL_b158b57ad7de45ffb97493e5e3d107dd",
        "IPY_MODEL_a571f28a59494f99a783254c1a3930fd"
       ],
       "layout": "IPY_MODEL_5c9beb9bd7444129b62f148400ad59cb"
      }
     },
     "623eb43543004c6bb2072656568592c1": {
      "model_module": "@jupyter-widgets/base",
      "model_module_version": "1.2.0",
      "model_name": "LayoutModel",
      "state": {
       "width": "70px"
      }
     },
     "62bd9d5658574195a21e3c11282ddb12": {
      "model_module": "@jupyter-widgets/controls",
      "model_module_version": "1.5.0",
      "model_name": "LabelModel",
      "state": {
       "layout": "IPY_MODEL_dec67d018f0c4c86bd0286ec697859f6",
       "style": "IPY_MODEL_5bc08110c7e84e66a854a0b6e3cc8127",
       "value": "0"
      }
     },
     "63076655eea74d329c16844acfe74bbe": {
      "model_module": "@jupyter-widgets/controls",
      "model_module_version": "1.5.0",
      "model_name": "DescriptionStyleModel",
      "state": {
       "description_width": ""
      }
     },
     "6347cd0c047447e0a4383c222de9848c": {
      "model_module": "@jupyter-widgets/controls",
      "model_module_version": "1.5.0",
      "model_name": "LabelModel",
      "state": {
       "layout": "IPY_MODEL_8cd16f12813d48edbfde8ac2d07248cc",
       "style": "IPY_MODEL_b38abe90d17649c0a76fa0453ceb4e9a",
       "value": "17"
      }
     },
     "6427f004ecd8441e9bf5234394b24477": {
      "model_module": "@jupyter-widgets/controls",
      "model_module_version": "1.5.0",
      "model_name": "DescriptionStyleModel",
      "state": {
       "description_width": ""
      }
     },
     "6427febde89e45c4a579838e62777455": {
      "model_module": "@jupyter-widgets/controls",
      "model_module_version": "1.5.0",
      "model_name": "DescriptionStyleModel",
      "state": {
       "description_width": ""
      }
     },
     "64950c3cc6f84d84a58986973848e731": {
      "model_module": "@jupyter-widgets/controls",
      "model_module_version": "1.5.0",
      "model_name": "HTMLModel",
      "state": {
       "layout": "IPY_MODEL_8a1bbc15ee8d49699bc935020c1f115b",
       "style": "IPY_MODEL_9076354294404e819d20d7fbfbbfe9fa",
       "value": "<h5 style='color:#dc267f'>False</h5>"
      }
     },
     "64dfe07ca4414b10b895496f89e9a355": {
      "model_module": "@jupyter-widgets/controls",
      "model_module_version": "1.5.0",
      "model_name": "HTMLModel",
      "state": {
       "layout": "IPY_MODEL_4b3000fa5e724db2bbc6356ae07d1741",
       "style": "IPY_MODEL_cc81a00c42c0413a93c259259ec7b1bc",
       "value": "<h5>0.0207</h5>"
      }
     },
     "64fe3a753126419c86feb630a840bad6": {
      "model_module": "@jupyter-widgets/controls",
      "model_module_version": "1.5.0",
      "model_name": "VBoxModel",
      "state": {
       "children": [
        "IPY_MODEL_25a926c3141a4304b4f02e7fb1d44027",
        "IPY_MODEL_cfe2e252e67d4a38b74c7fb11a71101e",
        "IPY_MODEL_d60637370e9e4af9b15776456ab08bb1",
        "IPY_MODEL_c3d6305a69474870ae605b2710f64455",
        "IPY_MODEL_254b9eceaf10461791c54857aedd1468",
        "IPY_MODEL_f41d1bade01c4fb6a3293779a24eea6c",
        "IPY_MODEL_5c509d7e68f245ce94bdac511c1b87fd",
        "IPY_MODEL_6ad2823b040e435293c93cb803d4c464",
        "IPY_MODEL_9cf6c0edfe8f430a83fdbd18150739eb"
       ],
       "layout": "IPY_MODEL_566aca1687c7469fa227c9e4f6bf3d50"
      }
     },
     "652e5ebd78424b629a1412f396b70753": {
      "model_module": "@jupyter-widgets/base",
      "model_module_version": "1.2.0",
      "model_name": "LayoutModel",
      "state": {
       "overflow_y": "scroll"
      }
     },
     "65e8d04b54234985bed396108f780451": {
      "model_module": "@jupyter-widgets/base",
      "model_module_version": "1.2.0",
      "model_name": "LayoutModel",
      "state": {
       "min_width": "auto"
      }
     },
     "65f23b39d2654517bbb5811a5c74e134": {
      "model_module": "@jupyter-widgets/base",
      "model_module_version": "1.2.0",
      "model_name": "LayoutModel",
      "state": {}
     },
     "6650860215ec4b61938e88eec81de592": {
      "model_module": "@jupyter-widgets/controls",
      "model_module_version": "1.5.0",
      "model_name": "DescriptionStyleModel",
      "state": {
       "description_width": ""
      }
     },
     "6671c2182f0140479676ef2e9a0dac6d": {
      "model_module": "@jupyter-widgets/controls",
      "model_module_version": "1.5.0",
      "model_name": "HTMLModel",
      "state": {
       "layout": "IPY_MODEL_fb5f73e33749488d88add7734c040079",
       "style": "IPY_MODEL_45fc491265e84e1b8bf18e2b1a199ae5",
       "value": "<h5>0.0207</h5>"
      }
     },
     "66e4a4a441bb44b39c8417d18b5b5e40": {
      "model_module": "@jupyter-widgets/output",
      "model_module_version": "1.0.0",
      "model_name": "OutputModel",
      "state": {
       "layout": "IPY_MODEL_6f021e33e162445ab0225a569dea7d8e",
       "outputs": [
        {
         "data": {
          "image/png": "iVBORw0KGgoAAAANSUhEUgAAANoAAAA6CAYAAADWWUdZAAAABHNCSVQICAgIfAhkiAAAAAlwSFlzAAALEgAACxIB0t1+/AAAADl0RVh0U29mdHdhcmUAbWF0cGxvdGxpYiB2ZXJzaW9uIDMuMC4yLCBodHRwOi8vbWF0cGxvdGxpYi5vcmcvOIA7rQAAC/JJREFUeJztnXuwVVUdxz/ffe4FRAtMRAUU1CxFS3J8TmomTIplWmONZY7ku3LUGad8jZalpk1NWToxPgZ0xvCtg5WvREpTIU1hIDR8IIKhgE/wQXB//fFb55599t3ncM/lnH0utD4zZ+7av/Vba/322vu31trrnLt/MjMikUhrSdptQCTy/0B0tEikAKKjRSIFEB0tEimA6GiRSAFER4tECqBfO5qk4yQ92KS6Zko6uRl1NdjuJEmP1cm/T9IJRdoUKZ62O5qkAyU9LukdSW9K+rukfQDM7GYz+1K7bWwlZjbRzG6E9Ttl0FkkaUJG1l1O0rDQhyslvS3pCUmfb90ZtAdJUyVd2m47ektHOxuX9HHgj8D3gNuAAcBBwEfttGsjZxVwIrAQMOAo4F5Jw81s7YZULKkjW0eerNE6+qKzsdHuGe1TAGY2zczWmdkHZvagmc2FniO8JJN0uqSFkt6SdI0khbySpF9JWiHpZUlnBP3cwUTSiZIWhHoekDS6lpGStpI0XdK7kmZL+llqBhmTbSdnmSpJvwuz9nOSxmd1Je0GTAYOkLRK0tt96VAz+9DMnjezLkDAOmBL4BM1zm2gpF9KWizpdUmTJW0W8g6RtETSuZKWAVPyZEH3FEkvhFXJdEkjUm2YpB9IWogPAFkbyn14kqTFwIwgv13SstBvf5O0e5CfChwH/Cj01b1BPkLSnZKWh3vgzL70YStot6P9G1gn6UZJEyVt2YsyXwH2AfYEvgkcFuSnABOBccBewNG1KpB0NHAB8HVga+BRYFqdNq8BPgS2w2eLE3thZ5r9gJeAYcCPgbskVd34ZrYAOB14wsy2MLOhDbZRhaS5webpwPVm9kYN1SvxAW8c8ElgJHBxKn9b3ElHA6fmySQdCvwcvx7bAa8At2TaORrvh7F1zP4CsBuVa3ofsAswHPgncDOAmV0b0r8IfXWkpAS4F5gTzmE8cLakw+gPmFlbP3jHTgWWAGvxG2ObkDcJeCyla8CBqePbgPNCegZwWipvQtDvCMczgZND+j7gpJRuArwPjM6xrwT8F9g1Jbu8bBcwJt1OTluTgNcApfJnA8fX0H0sr59SZRcBEzKy3HLAIOBbwAk16hKwGtg5JTsAeDmkDwHWAINS+XmyG/Cbvny8ReizManrdmidcyr34U51dIYGnSHheCpwaSp/P2Bxpsz5wJR23+Nm1vYZDTNbYGaTzGwUsAcwAvhNnSLLUun38YtKKPdqKi+dzjIauCpsFrwNvInfdCMlXRCWI6skTcZnvI5Mfa/05txSLLVw5VPlR9RSXg9rgc6MrBO/saswX0ZOA86TtGdOXVsDg4GnU31xf5CXWW5mH2bKZWUjSPWJma0CVuIzS5l616OHTngUuELSi5LexQcY8FVBHqOBEeXzCOdyAbBNL9ptOW3dDMliZs9Jmgqc1ofi/wFGpY63r6P7KnCZmd2ck/c4PmMBfsHxm3t74Lkg3iGlvzr8HQy8G9LbZuocKUkpZ9sBn7mz9OZfKRbjM0CaHanv/J3ATviyKs0K4ANgdzNbWqNsnk1Z2Wv4jQ6ApM2BrYCldcqsr61v4xs5E3AnGwK8hQ+IefW9is/Eu/SincJp64wmaVdJ50gaFY63x5c6T/ahutuAsySNlDQUOLeO7mTg/NTD9RBJ38hTNLN1wF3ATyQNljQWOCGVvxy/ob4TRuETgZ0z1QwHzpTUGdrZDfhzTnOvA6MkDahj+634s8eucvbGnxlvCeeyv/wrkwGSNpN0Lj6qz8o5ty7gOuDXkoaH8iP78FzzB+C7ksZJGogPVLPMbFGD9aT5GL77vBIfxC7P5L+ODx5lZgPvhk2azcK12EPhq6J20+6l43v42nqWpNW4g80DzulDXdcBDwJzgWfwG3ktvutWhZndjW8C3BKWJfPwjZRanIEvUZfhzwZTMvmnAD/Eb4rd8VkxzSz8oX4FcBlwjJmtzGlnBjAfWCZpRZ3znII/+L8D3ARcaGb3h/yB+ObNSnwAOAL4spm9VqO+c4EXgCdDX/wF+HQN3VzM7GHgIuBOfGWxM3BsI3XkcBM+Sy8F/kXPwfcGYGxYJt4TBsQj8U2dl/G+vh6fCduOqh8dNh0kTQQmm1nNbfsNqHsSvoFxYLPrjmyatHtGaxphuXCEpA5JI/Ft9LvbbVckApuQo+EPyZfgD8zPAAuo/j4oEmkbm+zSMRLpT2xKM1ok0m+JjhaJFEBDX1gP03a2Rmu6vzH0RDiScmTZdEovm+6R538MVcqm68noW6aqrJ7lyitJy+ZV2ZBTtoHy6eOadeXI6p5Tj2PrVfvdFmS6tXKZKo8Sle617kuZ6vHUJbdKFao+dplVLn85T5V607LqsmV5uXxGP2WHcvLqla/Yk61HGbnL1J2Cp+d+9ICZHU4DNORoa/iI/TsOR4lACSRCpZL3UJJAKUFBTpL4p5yXyNNlfQlKnm+Sz61J6rikqrR5L2DdciCplLUkyCQsKed5b1mtdImqMhUdcvV75oW/Yr06NeUEWY886yEnsW7nK+sQdMppC3pSkCVQdkIlhlSdVjoNJEmXXzJZVVoySrJKOulyHVJpGR1KpZMuEsrpdd3pRF10qosk6HZqHUmov0PrKFGRl4Jep9ZRwlLpLs/D6NRaSjJKdHWnE7oYoLVun7roxOsqYam6jAF0kYgghxIiAUoSnSQkiJJEByVKSkhIKG23sNbPwGoSl46RSAFER4tECiA6WiRSANHRIpECiI4WiRRAdLRIpACio0UiBRAdLRIpgOhokUgBNPTrfUn3U/vlKLUYhv+368ZAtLV1bEz2rs/WFY3+BKvl/yYj6Skz27uljTSJaGvr2JjsbYWtcekYiRRAdLRIpACKcLRrC2ijWURbW8fGZG/TbY2vMohECiAuHSORAmjI0SQdLun5EJ7nvJz8gZJuDfmzJI1J5Z0f5M+X34QraZA8DNIcSfMlXbKhJ9RKe4N8qKQ75OGXFkg6oB/bepakeaFvz26GnRtiqzz81SPyuAZXp/QHS/pT6NP5kq5olq2tsDfkzQx1Phs+w+sa0dtoGHhUlRfx1zAPwN/jPjaj8338paXgb6q9NaTHBv2B+HviXwz1Cdgi6HTib/TdvxnRO1phb8i7kUr0lwHA0P5oKx4wZB7+Ou0O/A3Eu7TZ1s2BA/HwVFen9AcDX0z16aPAxH5wH+TaG/JmAnv31o5GZrR9gRfM7CUzW4O/6/2ojM5R+I0IcAcwXpKC/BYz+8jMXsZfQb2vOauCfmf4NOuhsen2yiOUHoy/jhozW2NmfQoY2Gpb8ff7P2lm75tHz/wr8LV22mpmq83sMTxuWzfBxkdCeg0eCy0dsKRf2dsXGnG0kVSH3llCdVieKp1wcd/Bo4rULBuCETwLvAE8ZGY9gjH0kVbYuxOwHI98+Yyk6+WRU/qjrfOAg8PyZzD+Dv56EXaKsHW9yAOUHAk8vMGWZmwJNNPeKWHZeFEY9GrSiKPlVZSdfWrp1CxrHlJ3HD6C7StpjwZsqkcr7O3Ao4n+3sw+h4ds6rHm7wNNt9U8guiVwEN4zLM5eNCPDWVDbK1fsYcnngb81sxe6oNtudX2wpa+2HucmX0Gj7l+EHB8PeVGHG0J1SPiKDwuVq5O6LQheJC/9ZYNS7CZQEO/ISvY3iXAktSsewfueP3RVszsBjPby8wODro94kcXbOv6uBZYaGb1AlE2SkvstRBPzszew8NW7VtPvxFH+wewi6Qd5fG7jqVnML3pVGKHHQPMMH9ynA4cG3Z3dsRDGM2WtHVYKiAPUD6BSrC/DaXp9prZMuBVSeWwRuPxkEL9zlYAVWKe7YDH664Xp7sIW2si6VL8Bm/a7mir7JUHUhkW0p14XPV5da1ocAfnCDzA+4t4TC6AnwJfDelBwO34A/lsUjGJgQtDuecJO0rAZ/GAFHODoRc3Y6epVfYG+TjgqWDzPcCW/djWR/GBYA4wvp/06yJ8tliFzyRj8VnG8MAkz4bPyf3Y3s2Bp8M9MB+4irArXesTfxkSiRRA/GVIJFIA0dEikQKIjhaJFEB0tEikAKKjRSIFEB0tEimA6GiRSAFER4tECuB/USoV5ULnpZMAAAAASUVORK5CYII=\n",
          "text/plain": "<Figure size 216x72 with 1 Axes>"
         },
         "metadata": {},
         "output_type": "display_data"
        }
       ]
      }
     },
     "66f57006cadb4a4890072586bdc2b5fd": {
      "model_module": "@jupyter-widgets/base",
      "model_module_version": "1.2.0",
      "model_name": "LayoutModel",
      "state": {}
     },
     "6718ab8adba4472abdb9313a8c9d53b6": {
      "model_module": "@jupyter-widgets/controls",
      "model_module_version": "1.5.0",
      "model_name": "HTMLModel",
      "state": {
       "layout": "IPY_MODEL_bd0041e3a63a4fa1a406153de3fa58bb",
       "style": "IPY_MODEL_0aefdd0c7b714bc6ab73411fac44ff58",
       "value": "<h5>0.0418</h5>"
      }
     },
     "68747dd9922b419bbae0dbe134e00929": {
      "model_module": "@jupyter-widgets/controls",
      "model_module_version": "1.5.0",
      "model_name": "DescriptionStyleModel",
      "state": {
       "description_width": ""
      }
     },
     "6912ac4343ac4f9b8bcf04dbcde5c7b9": {
      "model_module": "@jupyter-widgets/base",
      "model_module_version": "1.2.0",
      "model_name": "LayoutModel",
      "state": {
       "grid_gap": "0px 0px",
       "grid_template_areas": "\n                                                   \"top top top\"\n                                                   \"left middle right\"\n                                                   ",
       "grid_template_columns": "33% 33% 33%",
       "grid_template_rows": "auto auto"
      }
     },
     "6a42834cd9a54578bd05b38b2a33c6aa": {
      "model_module": "@jupyter-widgets/controls",
      "model_module_version": "1.5.0",
      "model_name": "DescriptionStyleModel",
      "state": {
       "description_width": ""
      }
     },
     "6a5501713b3c41c9ac18d7cf2b053bfe": {
      "model_module": "@jupyter-widgets/controls",
      "model_module_version": "1.5.0",
      "model_name": "IntProgressModel",
      "state": {
       "layout": "IPY_MODEL_117df2f9a56144828892b1f4af8a19a0",
       "max": 50,
       "style": "IPY_MODEL_c178a41f33904db1810f31c958a5304f"
      }
     },
     "6a5c0b1a65b14d1fb808acfc3c941608": {
      "model_module": "@jupyter-widgets/output",
      "model_module_version": "1.0.0",
      "model_name": "OutputModel",
      "state": {
       "layout": "IPY_MODEL_6082be83f7ff4c87a424eacf00abd9d7",
       "outputs": [
        {
         "data": {
          "image/png": "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\n",
          "text/plain": "<Figure size 360x360 with 1 Axes>"
         },
         "metadata": {},
         "output_type": "display_data"
        }
       ]
      }
     },
     "6ab2ba2917b24e54984aa726d17f2084": {
      "model_module": "@jupyter-widgets/controls",
      "model_module_version": "1.5.0",
      "model_name": "HTMLModel",
      "state": {
       "layout": "IPY_MODEL_21a6d4c7a1a64b2fa47da022539ffd95",
       "style": "IPY_MODEL_82e0bc66a5954ae7aa25864d0d53f0bb",
       "value": "<table><style>\ntable {\n    border-collapse: collapse;\n    width: auto;\n}\n\nth, td {\n    text-align: left;\n    padding: 8px;\n}\n\ntr:nth-child(even) {background-color: #f6f6f6;};\n</style><tr><th></th><th>Type</th><th>Gate error</th></tr><tr><td><font style='font-weight:bold'>CX11_3</font></td><td>cx</td><td>0.03083</td></tr><tr><td><font style='font-weight:bold'>CX11_10</font></td><td>cx</td><td>0.03559</td></tr><tr><td><font style='font-weight:bold'>CX11_12</font></td><td>cx</td><td>0.03744</td></tr><tr><td><font style='font-weight:bold'>CX12_2</font></td><td>cx</td><td>0.07094</td></tr><tr><td><font style='font-weight:bold'>CX13_1</font></td><td>cx</td><td>0.15178</td></tr><tr><td><font style='font-weight:bold'>CX13_12</font></td><td>cx</td><td>0.03901</td></tr></table>"
      }
     },
     "6ad2823b040e435293c93cb803d4c464": {
      "model_module": "@jupyter-widgets/controls",
      "model_module_version": "1.5.0",
      "model_name": "HTMLModel",
      "state": {
       "layout": "IPY_MODEL_92319c8eac8c4de7945c648bb7dd1648",
       "style": "IPY_MODEL_784b6bdf3ce1447aa4208d0ebcdeda4f",
       "value": "<h5>0.0358</h5>"
      }
     },
     "6ad86509bce646dd88d86c668ed46f45": {
      "model_module": "@jupyter-widgets/base",
      "model_module_version": "1.2.0",
      "model_name": "LayoutModel",
      "state": {}
     },
     "6affaedcae124566868191c3acf414ff": {
      "model_module": "@jupyter-widgets/controls",
      "model_module_version": "1.5.0",
      "model_name": "HTMLModel",
      "state": {
       "layout": "IPY_MODEL_cbe87682c8664114b195d55b5901dfc6",
       "style": "IPY_MODEL_b8321e16e1244081820df9b3d025af12",
       "value": "<h5><b>20</b></h5>"
      }
     },
     "6b06d820ad6548b2b27121fdc24ca3aa": {
      "model_module": "@jupyter-widgets/controls",
      "model_module_version": "1.5.0",
      "model_name": "DescriptionStyleModel",
      "state": {
       "description_width": ""
      }
     },
     "6b13d3e5d03543f0970f8fde733177a8": {
      "model_module": "@jupyter-widgets/controls",
      "model_module_version": "1.5.0",
      "model_name": "VBoxModel",
      "state": {
       "children": [
        "IPY_MODEL_dd418d187e4b4280ab48c6c38ea8e2f2",
        "IPY_MODEL_867627eac2b74417a122077507a24e8a",
        "IPY_MODEL_05a9562836694c5faa4d397681234921",
        "IPY_MODEL_053a4156bd2a4c48b6aaf5d628e0d1d8",
        "IPY_MODEL_3c61840963554dce85095e7c485cad29",
        "IPY_MODEL_64950c3cc6f84d84a58986973848e731",
        "IPY_MODEL_827b48bf3ecb44c388f69cbfe284928c",
        "IPY_MODEL_e706ad24a4794563b8e72abb5523ad07",
        "IPY_MODEL_df55575f4ce04e10ba6d641472ba7721"
       ],
       "layout": "IPY_MODEL_e40f5ee95f604f80bbe07d78e5b3ea16"
      }
     },
     "6b2050715dce481893dc1fc262eadf82": {
      "model_module": "@jupyter-widgets/base",
      "model_module_version": "1.2.0",
      "model_name": "LayoutModel",
      "state": {
       "grid_area": "left",
       "width": "100%"
      }
     },
     "6b30b33deda84e34af61bfaa0ee7c680": {
      "model_module": "@jupyter-widgets/base",
      "model_module_version": "1.2.0",
      "model_name": "LayoutModel",
      "state": {
       "align_items": "center",
       "justify_content": "center",
       "margin": "0px 0px 0px 0px",
       "max_height": "250px",
       "max_width": "250px",
       "min_height": "250px",
       "min_width": "250px"
      }
     },
     "6bd67811f53d4232b0f8c31f2799ab9f": {
      "model_module": "@jupyter-widgets/base",
      "model_module_version": "1.2.0",
      "model_name": "LayoutModel",
      "state": {
       "max_height": "500px",
       "max_width": "650px",
       "overflow_x": "hidden",
       "overflow_y": "scroll",
       "visibility": "visible",
       "width": "auto"
      }
     },
     "6c0a43332e9a43508fff1f58f4c35e24": {
      "model_module": "@jupyter-widgets/output",
      "model_module_version": "1.0.0",
      "model_name": "OutputModel",
      "state": {
       "layout": "IPY_MODEL_087a55c3c27a46d691e5bd2a7ac74d04",
       "outputs": [
        {
         "data": {
          "image/png": "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\n",
          "text/plain": "<Figure size 360x360 with 1 Axes>"
         },
         "metadata": {},
         "output_type": "display_data"
        }
       ]
      }
     },
     "6c23b178488c4805a95f6cced4ceb5ae": {
      "model_module": "@jupyter-widgets/base",
      "model_module_version": "1.2.0",
      "model_name": "LayoutModel",
      "state": {
       "justify_content": "center",
       "max_width": "250px",
       "min_width": "250px"
      }
     },
     "6e0d6a8c87fd4e85a2e74fe41eca8e04": {
      "model_module": "@jupyter-widgets/controls",
      "model_module_version": "1.5.0",
      "model_name": "DescriptionStyleModel",
      "state": {
       "description_width": ""
      }
     },
     "6e74e02578d94ea29371efa6f45a1730": {
      "model_module": "@jupyter-widgets/base",
      "model_module_version": "1.2.0",
      "model_name": "LayoutModel",
      "state": {
       "justify_content": "center"
      }
     },
     "6e74f4ae47e249e9ae45cc70f0ae19c4": {
      "model_module": "@jupyter-widgets/base",
      "model_module_version": "1.2.0",
      "model_name": "LayoutModel",
      "state": {
       "grid_area": "bottom",
       "width": "auto"
      }
     },
     "6e7c3b21e93240759daf30d30990360c": {
      "model_module": "@jupyter-widgets/base",
      "model_module_version": "1.2.0",
      "model_name": "LayoutModel",
      "state": {
       "max_height": "620px"
      }
     },
     "6effcd426c2f4890950351ce4b4cc63d": {
      "model_module": "@jupyter-widgets/controls",
      "model_module_version": "1.5.0",
      "model_name": "DescriptionStyleModel",
      "state": {
       "description_width": ""
      }
     },
     "6f021e33e162445ab0225a569dea7d8e": {
      "model_module": "@jupyter-widgets/base",
      "model_module_version": "1.2.0",
      "model_name": "LayoutModel",
      "state": {
       "align_items": "center",
       "display": "flex-inline",
       "grid_area": "left"
      }
     },
     "6f0d74bfe393497a8f26c4f2437670cf": {
      "model_module": "@jupyter-widgets/controls",
      "model_module_version": "1.5.0",
      "model_name": "HBoxModel",
      "state": {
       "children": [
        "IPY_MODEL_711573a94ccb48bb9a170920d16c567a",
        "IPY_MODEL_f03b39b66f1c48bba60643b8c6d852f4",
        "IPY_MODEL_2a7bf8be1ed44efba20be11031a5efe2"
       ],
       "layout": "IPY_MODEL_0d02c38b66854875a80cb6b0feb13a25"
      }
     },
     "6f0f488fe6694eb890fc3834dbc2e4a5": {
      "model_module": "@jupyter-widgets/controls",
      "model_module_version": "1.5.0",
      "model_name": "DescriptionStyleModel",
      "state": {
       "description_width": ""
      }
     },
     "6f5562329bff4495828217adab20985f": {
      "model_module": "@jupyter-widgets/controls",
      "model_module_version": "1.5.0",
      "model_name": "LabelModel",
      "state": {
       "layout": "IPY_MODEL_f1fdd0d4453d43d486e79794a3c292d0",
       "style": "IPY_MODEL_d4c7acde83874fa88af31ebbdc282649",
       "value": "Least Busy"
      }
     },
     "6f68941a55cc4338b9a3037098717d3b": {
      "model_module": "@jupyter-widgets/controls",
      "model_module_version": "1.5.0",
      "model_name": "DescriptionStyleModel",
      "state": {
       "description_width": ""
      }
     },
     "6f6eba1a87f64a2b8c64cc46639843dd": {
      "model_module": "@jupyter-widgets/output",
      "model_module_version": "1.0.0",
      "model_name": "OutputModel",
      "state": {
       "layout": "IPY_MODEL_1bf2a8a492a54dcab7c04fa39dcea768",
       "outputs": [
        {
         "data": {
          "image/png": "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\n",
          "text/plain": "<Figure size 648x216 with 1 Axes>"
         },
         "metadata": {},
         "output_type": "display_data"
        }
       ]
      }
     },
     "711573a94ccb48bb9a170920d16c567a": {
      "model_module": "@jupyter-widgets/controls",
      "model_module_version": "1.5.0",
      "model_name": "LabelModel",
      "state": {
       "layout": "IPY_MODEL_95c216847ffb430cbcbe6302b3e72090",
       "style": "IPY_MODEL_dcffc622ce69488bb6c991fb7db07cae",
       "value": "0"
      }
     },
     "712d7fd53f4e44ac879cc63b2eaa1a21": {
      "model_module": "@jupyter-widgets/base",
      "model_module_version": "1.2.0",
      "model_name": "LayoutModel",
      "state": {
       "min_width": "auto"
      }
     },
     "716556ed9b1443b3bedb631e86186119": {
      "model_module": "@jupyter-widgets/controls",
      "model_module_version": "1.5.0",
      "model_name": "DescriptionStyleModel",
      "state": {
       "description_width": ""
      }
     },
     "71df1dbfaf8e48b7a85beef719a18fd9": {
      "model_module": "@jupyter-widgets/controls",
      "model_module_version": "1.5.0",
      "model_name": "HTMLModel",
      "state": {
       "layout": "IPY_MODEL_c789db03876d44bb98c0399fe0f56560",
       "style": "IPY_MODEL_f185dd748d744013bd8259fa4a8a9d14",
       "value": "<h5>0.03</h5>"
      }
     },
     "726903208b9f42bbb15bfb21c1713d82": {
      "model_module": "@jupyter-widgets/output",
      "model_module_version": "1.0.0",
      "model_name": "OutputModel",
      "state": {
       "layout": "IPY_MODEL_938df8182882463cb6517eb1d2bfcf61",
       "outputs": [
        {
         "data": {
          "image/png": "iVBORw0KGgoAAAANSUhEUgAAAWAAAAFgCAYAAACFYaNMAAAABHNCSVQICAgIfAhkiAAAAAlwSFlzAAALEgAACxIB0t1+/AAAADh0RVh0U29mdHdhcmUAbWF0cGxvdGxpYiB2ZXJzaW9uMy4xLjAsIGh0dHA6Ly9tYXRwbG90bGliLm9yZy+17YcXAAARqUlEQVR4nO3dfawlZ13A8e9l37p7t2LRvmg0tLVqUVCglbZUBGpRgjG8VCy+xEDo0SopDqhU0xAEiUmJwUNQUphiiSHSgFReUhJBaalaCvZFxYYGWtuGNrYFKaV7b3e3u3v8Y+a0d8/evfe8zHN+z5z5fpKm7Z57f2dyc/Z75zwzZ2ZpMBggSZq/p0RvgCR1lQGWpCAGWJKCGGBJCmKAJSmIAZakIAZYkoIYYEkKYoAlKYgBlqQgBliSghhgSQpigCUpiAGWpCAGWJKCGGBJCmKAJSmIAZakIAZYkoIYYEkKYoAlKYgBlqQgBliSghhgSQpigCUpiAGWpCAGWJKCGGBJCmKAJSmIAZakIAZYkoIYYEkKYoAlKYgBlqQgBliSghhgSQpigCUpiAGWpCAGWJKCGGBJCmKAJSmIAZakIAZYkoIYYEkKYoAlKYgBlqQgBliSghhgSQpigCUpiAGWpCAGWJKCGGBJCmKAJSmIAZakIAZYkoIYYEkKYoAlKYgBlqQgBliSghhgSQpigCUpiAGWpCAGWJKCGGBJCmKAJSmIAZakIAZYkoIYYEkKYoAlKYgBlqQgBliSghhgSQpigCUpiAGWpCAGWJKCGGBJCmKAJSnI1ugNkCbR67MEnAycCZwGbAdWgduBW8qCB+O2TprM0mAwiN4GaVO9Pt8PXAS8CdgNHAB2AVvq/14FjgHuAS4Hri4LHgvZWGlMBlhZq/d4Xwe8hyq2O8f4tj3ACvCasuD6dFsnzcYAK1u9PjuBTwDnAstTjFgF3ge8pSzwha7sGGBlqddnB/B54DmMt9d7NCvAh4BLjLBy41kQytVfMXt8odpzfm39j5QV94CVnV6f84BPUx1ka8oe4PSy4P4GZ0ozcQ9YWakPun2AZuML1RkSlzc8U5qJAVZuzgFOTDB3K3BBr89xCWZLUzHAys3v0Pze79BB4NWJZksTM8DKzQtI97pcBl6YaLY0MQOsbNSnnv1Q4qc5K/F8aWwGWDl5KtXHilNyDVjZMMCSFMQAKyePkP4KfQ8nni+NzQArG2XBPuC+xE/zpcTzpbEZYOXmX4BDiWavAF9INFuamAFWbt5PdRWzFLYAH0s0W5qYAVZuvgg8kGDuAeDjZeEasPJhgJWV+pKRvw2N381iL3BpwzOlmRhg5eirwL6GZ94FfKvhmdJMDLCy0utzEnAd8L0Nj/5p4OP1p+2kLBhgZWNNfE8feejglCNHL3b9SxhhZcQAKwsbxPda4HepTiEb9+yIPVQH8n4FuGPkMSOsbBhghdskvheUBSVwMvAO4CHWD/EjVOvGdwCXAKeWBdcAL8YIK1PekkihxojvvpGvXwKeDtw98vUvA24pCx6a9TmkeTHACjNLGHv9w9d3y4KlVM8lpeIShELMO4hlwQO4HKHMGGDNXdTeqBFWbgyw5ip6KcAIKycGWHMTHd8hI6xcGGDNRS7xHTLCyoEBVnK5xXfICCuaAVZSucZ3yAgrkgFWMrnHd8gIK4oBVhJtie+QEVYEA6zGtS2+Q0ZY82aA1ai2xnfICGueDLAa0/b4DhlhzYsBViMWJb5DRljzYIA1s0WL75ARVmoGWDNZ1PgOGWGlZIA1tUWP75ARVioGWFPpSnyHjLBSMMCaWNfiO2SE1TQDrIl0Nb5DRlhNMsAaW9fjO2SE1RQDrLEY38MZYTXBAGtTxnd9RlizMsDakPHdmBHWLAywjsr4jscIa1oGWOsyvpMxwpqGAdYRen2eBdyI8Z3IJhG+vtfn2PlvlXJmgHWYOr43A6eMPGR8x7BBhM8G7jTCWssA6wlr4rt95CHjO4ENInwCRlhrGGABT6z5fo4j43s/xndidYRfAkf83E4APuuasMAAiyfi+3ngxJGHHgKeYXynUxbcB/wMsH/kobPxwJwwwJ23Jr7PGHnoIeC0suDR+W/V4igLvgKcyZF7wp4dIQPcZRvE9zPAqca3GXWET8NT1DTCAHfUJvF9VVmwMv+tWlz1coTnCeswBriDxoiva74J+GENjTLAHWN8YxlhrWWAO8T45sEIa8gAd4TxzYsRFhjgTjC+eTLCMsALzvjmzQh3mwFeYMa3HYxwdxngBWV828UId5MBXkDGt52McPcY4AVjfNvNCHeLAV4gxncxGOHuMMALwvguFiPcDQZ4ARjfxWSEF58Bbjnju9iM8GIzwC1mfLvBCC8uA9xSxrdbjPBiMsAtZHy7yQgvHgPcMsa324zwYjHALWJ8BUZ4kRjgljC+WssILwYD3ALGV+sxwu1ngDNnfLURI9xuBjhjxlfjMMLtZYAzZXw1CSPcTgY4Q8ZX0zDC7bM0GAyit2Fh9fqcDFwAvAh4NrAMHAIeAP6NKrKfLAv2rvke43sUvT5PAc4HfgH4g5GHrwO+AHyqLLht3tuWk/o1dB1w+shD1wIXrH0N9focB7ya6jX6POBp9UPfBr4MXA98rCx4OO1Wd5MBTqDX57nAXwDn1H90zDpfNgD21P99BfAOYDfG9wi9PluAi4HLqH5Gy6z/7u0AsB+4G/iTsuDTc9vIzGwWYeB44HLgVcBBqp/pelaALcA1wKVlwX1JNrijDHCDen22U4X0jVTRXRrzWx+jivEq8PSRx7oe3x8DPgqcxtEjsZ5V4B+Bi8qCb6fYttxtEOH/pPp57gC2jjnuALCP6rV9VVlgOBpggBvS67OL6i/8c4FdDY3tenzPofqZHm2PdzP7gG8Czy8LvtHktrXFBhGe1grwIeASIzw7D8I1oH6L/BngTIxvI3p9fgr4LHAs079OdwA/ANzY6z+xttkpGxyYm9Yy8FrgXQ3N6zQD3Iw3U8V3vbXeaRyk2sPoanx3AJ9gsiWHo9lCtd5ZNjCrleoIXwaN7bEuA7/X6/OihuZ1lgGeUa/PjwBvp5lYDB0CrmxwXtu8DTiR8dfQN7MDeGmvzy83NK9Ven12Au+juZ8nVO/0rq5na0oGeHZ/DGxreOY24Kz6bXin9PosA79Pc0s5Q7uAP294Zlu8hmZ3EIaWgQsTzO0MAzyDXp/dwG8w/pHkSWwHigRzc/drVO8AUji11+c5iWbn7FKq0/eatruerSkZ4Nm8kOq80xS2Ai9PNDtnv06aWED1zqJTyxC9PicCJyd8ilN6fU5IOH+hGeDZnEmat3ZDy/VfoC55dsLZ26BzB47OgCc/aZnA3vo5NAUDPJvnkWb5YWgv8BMJ52el1+d7SLf3OzT6KcNF95M0v56+1s76OTQFAzyblHu/Qyn/8uRmF9UnrlLq2gVpdpF2J2Eb3XqNNsoAz2Ye5+mmWmPO0X6q83ZTSh343OynOq88lYN06zXaKAM8m/8m3RF7qPYu7kw4PzcPkz6Qdyeen5s7qa6Lkcoq3XqNNsoAz+YmnryiWQoD4J6E87NSX1vg9oRPcYjqkpVdcjNplyC21s+hKRjg2dxAujXFAXBDBy948kmqq8OlsAp8LtHsXN1D2p2EPcC9CecvNAM8g7LgQeCfaO4z9mutUF1TuGuupNmPzK71KPDPiWZnqf4F/pek+aW2Cry7gzsJjTHAs3snzb+4B1R3zbiu4bnZq3+p/QPNH+BcAd5ZFknX7HN1JWkOxB0CPphgbmcY4BmVBTcBf0ezEd4LXNjhPYtLaPbneQj4OvD+Bme2RlnwLaor9jUZ4RXgjfVsTckAN+NNVBf+buII/grwrrLg1gZmtVJZ8H/Ab9JchFeAXy2LpKdjZau+vOcraO4Uv8eAf6W6MLtmYIAbUBbsAc4FHgQen2HUCvC3VJe37LSy4FrgDcwW4eF9936xLPh6IxvWMnV8rwFe1tDIx4BbgVd2+B1aYwxwQ+qbFZ4B3EgV0kkconphvxV4gy/sSllwFdUde7/D5GvCq1Tn/D6/LPhi09vWBhvE9ztM94ttFfgw8PNlkexMlU7xnnAN6/VZAl5HdcuW7VS31Dmax6mWLW4BXl8WfC39FrZPr8/3Ae8FXkm1V7vRRcD3UO1Y9IG3l0U3P6W1QXy/CpxHdU2MD1DdsmknR98ZG+4c/C/QKwuuT7G9XWWAE+n12Ur14n891VXTTqAK7hLVi/1rVOekXmF4x1Nf9vAiqst0PpPqQwAH638/CvwH8BHgI2Ux8buQhbFZfOtbFA13Fs4GLgZ+FvhhnjxQtwX4BtVa7xXATb4za54BnpP6rsnHUr3AH+7qAaGm1PE4jupdxmpZ8N3gTcrCuPHd4HufWv/vI129J+E8GWBpQcwSX8XwIJy0AIxvOxlgqeWMb3sZYKnFjG+7GWCppYxv+xlgqYWM72IwwFLLGN/FYYClFjG+i8UASy1hfBePAZZawPguJgMsZc74Li4DLGXM+C42AyxlyvguPgMsZcj4doMBljJjfLvDAEsZMb7dYoClTBjf7jHAUgaMbzcZYCmY8e0uAywFMr7dZoClIMZXBlgKYHwFBliaO+OrIQMszZHx1VoGWJoT46tRBliaA+Or9WyN3gBp0fX6HAvcAfzgyEPGt+MMsJRQHd+7gONHHjK+YmkwGERvg7SQen2Wgbs5Mr7/A5xrfOUasJRAveb7UY6M737gFcZXYIClxm1wwG0/cGZZ8JX5b5VyZIClBm0Q3wcxvhrhQTipIZ5qpkm5Byw1wPhqGgZYmpHx1bQMsDQD46tZGGBpSsZXszLA0hSMr5pggKUJGV81xQBLEzC+apIBlsZkfNU0AyyNwfgqBQMsbcL4KhUDLG3A+ColAywdhfFVagZYWofx1TwYYGmE8dW8GGBpDeOreTLAUs34at4MsITxVQwDrM4zvopigNVpxleRDLA6y/gqmgFWJxlf5cAAq3OMr3JhgNUpxlc5McDqDOOr3BhgdYLxVY62Rm+ANKlenyXgFOA0YDuwCtxeFjx4lK83vsrS0mAwiN4GaVN1dM8D/hD4ufqPH1/zJcdQhfhTwLvLgv+qv8/4KlsGWNnr9TkDuBo4CVgGljb48gPAfuBLwEXAezG+ypQBVrbqvd4/Bf6Iag93o/COepzqGMeWkT83vsqGAVaW6vj+NfBbVHu9TTC+yopnQShXb6bZ+N6L8VVmPAtC2en1+XHgz4CdDY7dBexpcJ40M/eAlaMPAjsanrkbeGvDM6WZuAasrNR7v7fR7N7v0KPA8WXBvgSzpYm5B6zcXEzapbGXJ5wtTcQAKzcvAbYlmr2b6sMcUhYMsLLR67MF+NGET7EEnJtwvjQRA6ycPA04lPg5Tko8XxqbAVZOtgCpjwqPfjJOCmOAlZPvkm79d8hzgZUNA6xslAWrwDcTP81tiedLYzPAys2/J5y9F7gh4XxpIgZYufkbqg9MpPL3CWdLEzHAys21VNfzbdoAuLEsuDfBbGkqBlhZKQsOAG8BVhoevZfqusJSNgywcnQVcDOH33JoFqvAe8qCWxuaJzXCACs7ZcEAuJDqjIgDM47bC9wCvG3W7ZKaZoCVpfoOx2cB9wOPTTlmBbgJeGlZJFlXlmZigJWtsuA+4JnAh6mWEcb9lNwBqmi/DTi/Pr9Yyo7XA1Yr9PqcDVwGnE91lsRuDt+BOEAV6W1Uwb68LLhr3tspTcIAq1V6fU4EXkC1PPEsqjtnrABfpjpwd0NZ+HFjtYMBlqQgrgFLUhADLElBDLAkBTHAkhTEAEtSEAMsSUEMsCQFMcCSFMQAS1IQAyxJQQywJAUxwJIUxABLUhADLElBDLAkBTHAkhTEAEtSEAMsSUEMsCQFMcCSFMQAS1IQAyxJQQywJAUxwJIUxABLUhADLElBDLAkBTHAkhTEAEtSEAMsSUEMsCQFMcCSFMQAS1IQAyxJQQywJAUxwJIUxABLUhADLElBDLAkBTHAkhTEAEtSEAMsSUEMsCQFMcCSFMQAS1IQAyxJQQywJAUxwJIUxABLUhADLElBDLAkBTHAkhTEAEtSEAMsSUEMsCQFMcCSFMQAS1IQAyxJQQywJAUxwJIUxABLUhADLElBDLAkBTHAkhTEAEtSEAMsSUEMsCQFMcCSFMQAS1IQAyxJQQywJAUxwJIUxABLUhADLElBDLAkBTHAkhTEAEtSEAMsSUH+H9MDJZQDthAuAAAAAElFTkSuQmCC\n",
          "text/plain": "<Figure size 360x360 with 1 Axes>"
         },
         "metadata": {},
         "output_type": "display_data"
        }
       ]
      }
     },
     "727ba34838f845168304723d338916d2": {
      "model_module": "@jupyter-widgets/controls",
      "model_module_version": "1.5.0",
      "model_name": "LabelModel",
      "state": {
       "layout": "IPY_MODEL_a0c4f314512c4adc833ee5f1a314c5bf",
       "style": "IPY_MODEL_d91d3e00284541ecac91e8a0e861117b",
       "value": "Num. Qubits"
      }
     },
     "7286c6c12f11468791c0edc6f7c197a8": {
      "model_module": "@jupyter-widgets/controls",
      "model_module_version": "1.5.0",
      "model_name": "DescriptionStyleModel",
      "state": {
       "description_width": ""
      }
     },
     "72a3e56fa08445c0ad89c62d5bb290fb": {
      "model_module": "@jupyter-widgets/base",
      "model_module_version": "1.2.0",
      "model_name": "LayoutModel",
      "state": {}
     },
     "72b782df2ff74068aeb550e9002532d5": {
      "model_module": "@jupyter-widgets/controls",
      "model_module_version": "1.5.0",
      "model_name": "DescriptionStyleModel",
      "state": {
       "description_width": ""
      }
     },
     "72b85a4480df432a81c002961ed7b7a8": {
      "model_module": "@jupyter-widgets/controls",
      "model_module_version": "1.5.0",
      "model_name": "LabelModel",
      "state": {
       "layout": "IPY_MODEL_16be6e34b35649fd86a8b6706a2a9068",
       "style": "IPY_MODEL_23ca716040c34cb3b5f133c9a781011c",
       "value": "50"
      }
     },
     "7307a114a99944a8bbce35b632f59c8b": {
      "model_module": "@jupyter-widgets/controls",
      "model_module_version": "1.5.0",
      "model_name": "HTMLModel",
      "state": {
       "layout": "IPY_MODEL_7ad0ab795dd54fc6ac6227e2f4dcff85",
       "style": "IPY_MODEL_b38369fe6f0f4d40b7ffc932b2bd38dc",
       "value": "<p style='font-size:16px;'>Job Status [1]: job is queued (76) </p>"
      }
     },
     "734fc1b4778445dc9fdadd6cb06ae87e": {
      "model_module": "@jupyter-widgets/base",
      "model_module_version": "1.2.0",
      "model_name": "LayoutModel",
      "state": {
       "align_items": "center",
       "display": "flex-inline",
       "grid_area": "top",
       "height": "auto",
       "width": "auto"
      }
     },
     "7384d40e9d254c62a41ba26d765c8336": {
      "model_module": "@jupyter-widgets/base",
      "model_module_version": "1.2.0",
      "model_name": "LayoutModel",
      "state": {
       "margin": "0px 0px 0px 0px"
      }
     },
     "73e392cdfcdc48bd9ce180f7d7511d13": {
      "model_module": "@jupyter-widgets/base",
      "model_module_version": "1.2.0",
      "model_name": "LayoutModel",
      "state": {}
     },
     "7403d73ae0214ffa9ee649301947ba46": {
      "model_module": "@jupyter-widgets/base",
      "model_module_version": "1.2.0",
      "model_name": "LayoutModel",
      "state": {
       "max_width": "600px",
       "min_width": "600px"
      }
     },
     "743d649ab0c64cb490e7a2ed8cf8d871": {
      "model_module": "@jupyter-widgets/controls",
      "model_module_version": "1.5.0",
      "model_name": "HTMLModel",
      "state": {
       "layout": "IPY_MODEL_e83d072b7ea04eda9ebfb7661e44333a",
       "style": "IPY_MODEL_e87fb09b7ecb444e95f71219fc2d37e6",
       "value": "<p style='font-size:16px;'>Job Status : job is queued (66) </p>"
      }
     },
     "747dfe8ed642441fab300e130e0b44ca": {
      "model_module": "@jupyter-widgets/controls",
      "model_module_version": "1.5.0",
      "model_name": "DescriptionStyleModel",
      "state": {
       "description_width": ""
      }
     },
     "74c1dc129ada4564a63f2023472b77f7": {
      "model_module": "@jupyter-widgets/base",
      "model_module_version": "1.2.0",
      "model_name": "LayoutModel",
      "state": {
       "min_width": "auto"
      }
     },
     "754519abf04640838d5f2c1e5bc47d62": {
      "model_module": "@jupyter-widgets/base",
      "model_module_version": "1.2.0",
      "model_name": "LayoutModel",
      "state": {}
     },
     "757afc0ab4c6423783155271e9241589": {
      "model_module": "@jupyter-widgets/controls",
      "model_module_version": "1.5.0",
      "model_name": "HTMLModel",
      "state": {
       "layout": "IPY_MODEL_dd427a06592349a4ae57755b049907f3",
       "style": "IPY_MODEL_25b2a0d306154ab3a639f98dc289fd5e",
       "value": "-"
      }
     },
     "75c17507550e42c39aebace548de3dad": {
      "model_module": "@jupyter-widgets/output",
      "model_module_version": "1.0.0",
      "model_name": "OutputModel",
      "state": {
       "layout": "IPY_MODEL_90ee264ff559467a8fa7952c89af75ec",
       "outputs": [
        {
         "data": {
          "image/png": "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\n",
          "text/plain": "<Figure size 216x72 with 1 Axes>"
         },
         "metadata": {},
         "output_type": "display_data"
        }
       ]
      }
     },
     "75c69ab8ffc64d55882e64380c1c9196": {
      "model_module": "@jupyter-widgets/base",
      "model_module_version": "1.2.0",
      "model_name": "LayoutModel",
      "state": {}
     },
     "760c1d4353874c499f21958d06ed2014": {
      "model_module": "@jupyter-widgets/base",
      "model_module_version": "1.2.0",
      "model_name": "LayoutModel",
      "state": {
       "max_width": "180px"
      }
     },
     "76173dcea6904fc1b3468446f90dcdf6": {
      "model_module": "@jupyter-widgets/controls",
      "model_module_version": "1.5.0",
      "model_name": "DescriptionStyleModel",
      "state": {
       "description_width": ""
      }
     },
     "765a836bcead45a6bf93aeb50209db4b": {
      "model_module": "@jupyter-widgets/base",
      "model_module_version": "1.2.0",
      "model_name": "LayoutModel",
      "state": {
       "max_width": "180px"
      }
     },
     "768bf13cd53f4e56a27685d537838957": {
      "model_module": "@jupyter-widgets/base",
      "model_module_version": "1.2.0",
      "model_name": "LayoutModel",
      "state": {
       "grid_area": "middle"
      }
     },
     "775741b149c64ac78e7d8eec72b69758": {
      "model_module": "@jupyter-widgets/base",
      "model_module_version": "1.2.0",
      "model_name": "LayoutModel",
      "state": {
       "align_items": "center",
       "display": "inline-flex",
       "flex_flow": "column"
      }
     },
     "779c4f34fec840f6ac78be80cd004895": {
      "model_module": "@jupyter-widgets/controls",
      "model_module_version": "1.5.0",
      "model_name": "DescriptionStyleModel",
      "state": {
       "description_width": ""
      }
     },
     "784b6bdf3ce1447aa4208d0ebcdeda4f": {
      "model_module": "@jupyter-widgets/controls",
      "model_module_version": "1.5.0",
      "model_name": "DescriptionStyleModel",
      "state": {
       "description_width": ""
      }
     },
     "7859a4b60ced4a43a5f723fd1c643250": {
      "model_module": "@jupyter-widgets/base",
      "model_module_version": "1.2.0",
      "model_name": "LayoutModel",
      "state": {
       "grid_template_areas": "\n                                       \". . . . right \"\n                                        ",
       "grid_template_columns": "20% 20% 20% 20% 20%",
       "width": "100%"
      }
     },
     "785ab45ee6f34af4b0f0cd439ed00a62": {
      "model_module": "@jupyter-widgets/base",
      "model_module_version": "1.2.0",
      "model_name": "LayoutModel",
      "state": {}
     },
     "788c743eac244d308512fed4d44f5b5c": {
      "model_module": "@jupyter-widgets/base",
      "model_module_version": "1.2.0",
      "model_name": "LayoutModel",
      "state": {
       "justify_content": "center"
      }
     },
     "78c3046e635f4c9abc21ebf6252ab8e5": {
      "model_module": "@jupyter-widgets/controls",
      "model_module_version": "1.5.0",
      "model_name": "VBoxModel",
      "state": {
       "children": [
        "IPY_MODEL_b97e5ce722c74c6b89ce40ca7eb9f63c",
        "IPY_MODEL_21dfb7bb455848a0be5431979768bc41"
       ],
       "layout": "IPY_MODEL_d19a51675a2e4993a960de45ab9bcdac"
      }
     },
     "7954bb25e7e04ec4b2d7d16d245d2940": {
      "model_module": "@jupyter-widgets/base",
      "model_module_version": "1.2.0",
      "model_name": "LayoutModel",
      "state": {
       "align_items": "center",
       "display": "flex-inline",
       "min_height": "400px"
      }
     },
     "7a05628d56bb41a5af16da83f82b0233": {
      "model_module": "@jupyter-widgets/base",
      "model_module_version": "1.2.0",
      "model_name": "LayoutModel",
      "state": {
       "max_height": "620px"
      }
     },
     "7a0edde4007c45df839cbac3a0ee085d": {
      "model_module": "@jupyter-widgets/base",
      "model_module_version": "1.2.0",
      "model_name": "LayoutModel",
      "state": {
       "justify_content": "center"
      }
     },
     "7a63410ce3944c1e936dfa05eb7220c7": {
      "model_module": "@jupyter-widgets/controls",
      "model_module_version": "1.5.0",
      "model_name": "ButtonModel",
      "state": {
       "icon": "close",
       "layout": "IPY_MODEL_854bd1d4785f4a03bb59192e74e2ebda",
       "style": "IPY_MODEL_6192ecd530e64c4c9cf5475a7bb722c7"
      }
     },
     "7a63788bdece4b6695e430fc71f14780": {
      "model_module": "@jupyter-widgets/base",
      "model_module_version": "1.2.0",
      "model_name": "LayoutModel",
      "state": {
       "align_items": "center",
       "display": "inline-flex",
       "flex_flow": "column"
      }
     },
     "7ad0ab795dd54fc6ac6227e2f4dcff85": {
      "model_module": "@jupyter-widgets/base",
      "model_module_version": "1.2.0",
      "model_name": "LayoutModel",
      "state": {}
     },
     "7b352a85742d4928b9a68ba7db70aa30": {
      "model_module": "@jupyter-widgets/base",
      "model_module_version": "1.2.0",
      "model_name": "LayoutModel",
      "state": {
       "justify_content": "center"
      }
     },
     "7b7dcc4117da4c9488a46af470f7fb14": {
      "model_module": "@jupyter-widgets/base",
      "model_module_version": "1.2.0",
      "model_name": "LayoutModel",
      "state": {
       "justify_content": "center"
      }
     },
     "7bb88cebb9d84067b7c7cb26779cad5e": {
      "model_module": "@jupyter-widgets/controls",
      "model_module_version": "1.5.0",
      "model_name": "HTMLModel",
      "state": {
       "layout": "IPY_MODEL_8b935835fbb041dfae2e389bcd80d056",
       "style": "IPY_MODEL_9c322a8b1ac04aed93f868d672f15142",
       "value": "<h5><b>20</b></h5>"
      }
     },
     "7be8990fbae54b2490b651b793016bf2": {
      "model_module": "@jupyter-widgets/base",
      "model_module_version": "1.2.0",
      "model_name": "LayoutModel",
      "state": {
       "justify_content": "center",
       "max_width": "250px",
       "min_width": "250px"
      }
     },
     "7c0d46e332c6480f9affaa079be137b1": {
      "model_module": "@jupyter-widgets/base",
      "model_module_version": "1.2.0",
      "model_name": "LayoutModel",
      "state": {
       "min_width": "auto"
      }
     },
     "7c1a52854a55443eba5c02ba550407a7": {
      "model_module": "@jupyter-widgets/controls",
      "model_module_version": "1.5.0",
      "model_name": "DescriptionStyleModel",
      "state": {
       "description_width": ""
      }
     },
     "7d225566d5554472aeae6697a105aadb": {
      "model_module": "@jupyter-widgets/controls",
      "model_module_version": "1.5.0",
      "model_name": "HTMLModel",
      "state": {
       "layout": "IPY_MODEL_4fefad785b7d4baa834dd42c9cad9a9d",
       "style": "IPY_MODEL_a21f63c1fc5d41afb30995ff80abf251",
       "value": "<h5>0.1294</h5>"
      }
     },
     "7d9b5a9641814f1b8483c71d0b5ed20b": {
      "model_module": "@jupyter-widgets/base",
      "model_module_version": "1.2.0",
      "model_name": "LayoutModel",
      "state": {
       "width": "70px"
      }
     },
     "7dd1717b00eb409bb7cdd88248f4960c": {
      "model_module": "@jupyter-widgets/base",
      "model_module_version": "1.2.0",
      "model_name": "LayoutModel",
      "state": {
       "justify_content": "center"
      }
     },
     "7e36607456894ab38836ea91b0ae499e": {
      "model_module": "@jupyter-widgets/controls",
      "model_module_version": "1.5.0",
      "model_name": "DescriptionStyleModel",
      "state": {
       "description_width": ""
      }
     },
     "7eaeb05dac5b49c686d7648176d6d062": {
      "model_module": "@jupyter-widgets/controls",
      "model_module_version": "1.5.0",
      "model_name": "HTMLModel",
      "state": {
       "layout": "IPY_MODEL_e86093290df847c999183df44b82c710",
       "style": "IPY_MODEL_37b2363a276044369af7d7ad0f82db1d",
       "value": "<h5 style='color:#dc267f'>False</h5>"
      }
     },
     "7eedbe165b2b4d30830b719b7a142d29": {
      "model_module": "@jupyter-widgets/controls",
      "model_module_version": "1.5.0",
      "model_name": "LabelModel",
      "state": {
       "layout": "IPY_MODEL_9fc8634e5a7f43ac9e8241a649449491",
       "style": "IPY_MODEL_47209b1f301648498992f35031d3c68a",
       "value": "50"
      }
     },
     "7f050e9339be4b0fac88fd4538220e6a": {
      "model_module": "@jupyter-widgets/base",
      "model_module_version": "1.2.0",
      "model_name": "LayoutModel",
      "state": {}
     },
     "7f102a95bd374f14b3d3d21b2d7f9ba2": {
      "model_module": "@jupyter-widgets/controls",
      "model_module_version": "1.5.0",
      "model_name": "VBoxModel",
      "state": {
       "children": [
        "IPY_MODEL_d39adcbc740541c49f7e14d1db65081f",
        "IPY_MODEL_93a08bff944145789567ffb4ede77931",
        "IPY_MODEL_f180639d7e2143378e919a5314096e39",
        "IPY_MODEL_6f0d74bfe393497a8f26c4f2437670cf",
        "IPY_MODEL_d6be6a2065ad4f33bae3e2c26619047b",
        "IPY_MODEL_1d3a32fab5044533b721617100c10036",
        "IPY_MODEL_00731a0ee7bf467fbaf25393441b4a11",
        "IPY_MODEL_88dfa345a0ec4f28ae07a35aeeb6d6a9",
        "IPY_MODEL_3f9232b6005140cf9919c8e5abf99377"
       ],
       "layout": "IPY_MODEL_3b45d80dd67743e09f8df736ed00c10b"
      }
     },
     "7f7f83cecd6040eaab93ac051d30e8f4": {
      "model_module": "@jupyter-widgets/base",
      "model_module_version": "1.2.0",
      "model_name": "LayoutModel",
      "state": {
       "width": "95px"
      }
     },
     "7fba1cf348424a719dd4219e93f48929": {
      "model_module": "@jupyter-widgets/controls",
      "model_module_version": "1.5.0",
      "model_name": "LabelModel",
      "state": {
       "layout": "IPY_MODEL_4eeb620b671342dba35cef0a7a7d0a33",
       "style": "IPY_MODEL_976b26cb51784243944d0e5defb57a49",
       "value": "50"
      }
     },
     "7fc41772909d423c939997d2b4a33eab": {
      "model_module": "@jupyter-widgets/controls",
      "model_module_version": "1.5.0",
      "model_name": "LabelModel",
      "state": {
       "layout": "IPY_MODEL_0c63ea48105040cc983282cdab5c007a",
       "style": "IPY_MODEL_6effcd426c2f4890950351ce4b4cc63d",
       "value": "0"
      }
     },
     "800019b3e8984606b04b300b61026998": {
      "model_module": "@jupyter-widgets/base",
      "model_module_version": "1.2.0",
      "model_name": "LayoutModel",
      "state": {
       "margin": "5px 0px 0px 0px"
      }
     },
     "80708b8546824978a8e474f3c31c11df": {
      "model_module": "@jupyter-widgets/base",
      "model_module_version": "1.2.0",
      "model_name": "LayoutModel",
      "state": {
       "min_width": "auto"
      }
     },
     "810fda32b7b64dca9ee8ea376d1bb841": {
      "model_module": "@jupyter-widgets/base",
      "model_module_version": "1.2.0",
      "model_name": "LayoutModel",
      "state": {}
     },
     "8220366d1ec1448eb26a9d5529300ad1": {
      "model_module": "@jupyter-widgets/controls",
      "model_module_version": "1.5.0",
      "model_name": "VBoxModel",
      "state": {
       "children": [
        "IPY_MODEL_13988f2dbb4b496993711bd9e2a5ea40",
        "IPY_MODEL_5557bb55e7bc4f2da42e1555f152a22d"
       ],
       "layout": "IPY_MODEL_058b7121d198415dba73e788ee03dae3"
      }
     },
     "826520711e694a4fae20d0397610c99e": {
      "model_module": "@jupyter-widgets/base",
      "model_module_version": "1.2.0",
      "model_name": "LayoutModel",
      "state": {}
     },
     "827b48bf3ecb44c388f69cbfe284928c": {
      "model_module": "@jupyter-widgets/controls",
      "model_module_version": "1.5.0",
      "model_name": "HTMLModel",
      "state": {
       "layout": "IPY_MODEL_810fda32b7b64dca9ee8ea376d1bb841",
       "style": "IPY_MODEL_ef958ea9b09145aab99f80b03c0a8222",
       "value": "<h5>74.7 / 81.8 µs</h5>"
      }
     },
     "82e0bc66a5954ae7aa25864d0d53f0bb": {
      "model_module": "@jupyter-widgets/controls",
      "model_module_version": "1.5.0",
      "model_name": "DescriptionStyleModel",
      "state": {
       "description_width": ""
      }
     },
     "82e8e312e25240ef970d6ee0af1893ef": {
      "model_module": "@jupyter-widgets/controls",
      "model_module_version": "1.5.0",
      "model_name": "DescriptionStyleModel",
      "state": {
       "description_width": ""
      }
     },
     "83247bed44084296b5a19ca11653fa12": {
      "model_module": "@jupyter-widgets/controls",
      "model_module_version": "1.5.0",
      "model_name": "DescriptionStyleModel",
      "state": {
       "description_width": ""
      }
     },
     "832f8bc7241642a49cc2f4f1df06e809": {
      "model_module": "@jupyter-widgets/base",
      "model_module_version": "1.2.0",
      "model_name": "LayoutModel",
      "state": {}
     },
     "8470af72195f4c7fa900368ed7eda086": {
      "model_module": "@jupyter-widgets/controls",
      "model_module_version": "1.5.0",
      "model_name": "VBoxModel",
      "state": {
       "children": [
        "IPY_MODEL_48d180e020ba43a8abdf3936b17831ca",
        "IPY_MODEL_e987d479e8c543f48d3f3586da5cda25",
        "IPY_MODEL_e2607b6f9e12407587021f987049230e",
        "IPY_MODEL_1cd26ebf148f4dfd812c7c3f078216c2",
        "IPY_MODEL_bff451b7e4a44f3885161a541962d9cd",
        "IPY_MODEL_9d910cc288c0455693cc00a49b01ca8e",
        "IPY_MODEL_44e679e0347c49ebb0f7777df5706000",
        "IPY_MODEL_d5b2c0a663104faf9a8be4dbe7e913c8",
        "IPY_MODEL_ed3153866e3b4113a543e19dcfdc5d1b"
       ],
       "layout": "IPY_MODEL_b7e01809501043a3882fd0e4fa6db302"
      }
     },
     "84c001f4765f4e7897fc4dbd7ba5869f": {
      "model_module": "@jupyter-widgets/base",
      "model_module_version": "1.2.0",
      "model_name": "LayoutModel",
      "state": {
       "width": "65px"
      }
     },
     "84f159a71fab46cbbeac9f8653acd2c4": {
      "model_module": "@jupyter-widgets/base",
      "model_module_version": "1.2.0",
      "model_name": "LayoutModel",
      "state": {
       "grid_gap": "0px 0px",
       "grid_template_areas": "\n                               \"left right right right\"\n                               \"bottom bottom bottom bottom\"\n                               ",
       "grid_template_columns": "31% 23% 23% 23%",
       "grid_template_rows": "auto auto"
      }
     },
     "850109aa577e4a9ba26a5c34f58e9aa5": {
      "model_module": "@jupyter-widgets/base",
      "model_module_version": "1.2.0",
      "model_name": "LayoutModel",
      "state": {
       "justify_content": "center"
      }
     },
     "8541a75794074e3dae33e8aa33001367": {
      "model_module": "@jupyter-widgets/controls",
      "model_module_version": "1.5.0",
      "model_name": "DescriptionStyleModel",
      "state": {
       "description_width": ""
      }
     },
     "854bd1d4785f4a03bb59192e74e2ebda": {
      "model_module": "@jupyter-widgets/base",
      "model_module_version": "1.2.0",
      "model_name": "LayoutModel",
      "state": {
       "margin": "0px 5px 0px 0px",
       "width": "30px"
      }
     },
     "8553c38670074f8c90b4846c53ccce87": {
      "model_module": "@jupyter-widgets/controls",
      "model_module_version": "1.5.0",
      "model_name": "DescriptionStyleModel",
      "state": {
       "description_width": ""
      }
     },
     "85c195f1eede4c52ab84caa89f6a88b8": {
      "model_module": "@jupyter-widgets/controls",
      "model_module_version": "1.5.0",
      "model_name": "HTMLModel",
      "state": {
       "layout": "IPY_MODEL_bd94d58b7be54570a57dd439585346a7",
       "style": "IPY_MODEL_93b42cda9ba74dabbb1b1047a252af8e",
       "value": "<h5 style='color:#dc267f'>False</h5>"
      }
     },
     "8608567c430a4ca2b67c9bd65676afef": {
      "model_module": "@jupyter-widgets/controls",
      "model_module_version": "1.5.0",
      "model_name": "DescriptionStyleModel",
      "state": {
       "description_width": ""
      }
     },
     "867627eac2b74417a122077507a24e8a": {
      "model_module": "@jupyter-widgets/output",
      "model_module_version": "1.0.0",
      "model_name": "OutputModel",
      "state": {
       "layout": "IPY_MODEL_6b30b33deda84e34af61bfaa0ee7c680",
       "outputs": [
        {
         "data": {
          "image/png": "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\n",
          "text/plain": "<Figure size 360x360 with 1 Axes>"
         },
         "metadata": {},
         "output_type": "display_data"
        }
       ]
      }
     },
     "86df330c176a4345a49b82b89ca3c5c4": {
      "model_module": "@jupyter-widgets/base",
      "model_module_version": "1.2.0",
      "model_name": "LayoutModel",
      "state": {
       "align_items": "center",
       "display": "flex-inline",
       "min_height": "400px"
      }
     },
     "87576bd954184d35a1787b39bd7872c8": {
      "model_module": "@jupyter-widgets/controls",
      "model_module_version": "1.5.0",
      "model_name": "HTMLModel",
      "state": {
       "layout": "IPY_MODEL_1f6bc7a2a45943c3bd106b838e73d34f",
       "style": "IPY_MODEL_8608567c430a4ca2b67c9bd65676afef",
       "value": "job has successfully run"
      }
     },
     "88a2e50e9865436399e81a48f7a9fc2e": {
      "model_module": "@jupyter-widgets/controls",
      "model_module_version": "1.5.0",
      "model_name": "DescriptionStyleModel",
      "state": {
       "description_width": ""
      }
     },
     "88dfa345a0ec4f28ae07a35aeeb6d6a9": {
      "model_module": "@jupyter-widgets/controls",
      "model_module_version": "1.5.0",
      "model_name": "HTMLModel",
      "state": {
       "layout": "IPY_MODEL_5598d759beba41fcb5a643ea237a847d",
       "style": "IPY_MODEL_6f68941a55cc4338b9a3037098717d3b",
       "value": "<h5>0.0187</h5>"
      }
     },
     "897d4ff869ae431caf69a23c55fef10b": {
      "model_module": "@jupyter-widgets/base",
      "model_module_version": "1.2.0",
      "model_name": "LayoutModel",
      "state": {}
     },
     "8982122eff7b4c7194dbd97a61c2067f": {
      "model_module": "@jupyter-widgets/controls",
      "model_module_version": "1.5.0",
      "model_name": "HBoxModel",
      "state": {
       "children": [
        "IPY_MODEL_6347cd0c047447e0a4383c222de9848c",
        "IPY_MODEL_4f139f75c1dd4b0486f51685affa4c65",
        "IPY_MODEL_02dd2c2ed6484133bc22730f8406d360"
       ],
       "layout": "IPY_MODEL_cd19ac44e4a5417da7b777666e188eee"
      }
     },
     "89a0347fab4c40dd818c013eb400b597": {
      "model_module": "@jupyter-widgets/controls",
      "model_module_version": "1.5.0",
      "model_name": "DescriptionStyleModel",
      "state": {
       "description_width": ""
      }
     },
     "89e0b7f9199744e6b685ed76a7d898d9": {
      "model_module": "@jupyter-widgets/controls",
      "model_module_version": "1.5.0",
      "model_name": "DescriptionStyleModel",
      "state": {
       "description_width": ""
      }
     },
     "8a133cad2b9e457db456ae12b92f144e": {
      "model_module": "@jupyter-widgets/base",
      "model_module_version": "1.2.0",
      "model_name": "LayoutModel",
      "state": {}
     },
     "8a1bbc15ee8d49699bc935020c1f115b": {
      "model_module": "@jupyter-widgets/base",
      "model_module_version": "1.2.0",
      "model_name": "LayoutModel",
      "state": {
       "justify_content": "center"
      }
     },
     "8afe24e13cf74ae6aa030387bb9b5aab": {
      "model_module": "@jupyter-widgets/controls",
      "model_module_version": "1.5.0",
      "model_name": "DescriptionStyleModel",
      "state": {
       "description_width": ""
      }
     },
     "8b14129e2dfb413d80b1b4538ea34271": {
      "model_module": "@jupyter-widgets/controls",
      "model_module_version": "1.5.0",
      "model_name": "DescriptionStyleModel",
      "state": {
       "description_width": ""
      }
     },
     "8b935835fbb041dfae2e389bcd80d056": {
      "model_module": "@jupyter-widgets/base",
      "model_module_version": "1.2.0",
      "model_name": "LayoutModel",
      "state": {
       "justify_content": "center"
      }
     },
     "8cbb66684406455eb1d5d2e1fbab94b8": {
      "model_module": "@jupyter-widgets/base",
      "model_module_version": "1.2.0",
      "model_name": "LayoutModel",
      "state": {
       "min_width": "auto"
      }
     },
     "8cd16f12813d48edbfde8ac2d07248cc": {
      "model_module": "@jupyter-widgets/base",
      "model_module_version": "1.2.0",
      "model_name": "LayoutModel",
      "state": {
       "min_width": "auto"
      }
     },
     "8cfb86336b7a4103bdd85ed8b4110b28": {
      "model_module": "@jupyter-widgets/controls",
      "model_module_version": "1.5.0",
      "model_name": "VBoxModel",
      "state": {
       "children": [
        "IPY_MODEL_d6d2399f890e4795a7c98b4017ba074d",
        "IPY_MODEL_03fe56a4a5ac4d06b91b721d7f165b38"
       ],
       "layout": "IPY_MODEL_994bd8a33a71423cb16dcaac9e48ebbc"
      }
     },
     "8d5a950b732d4b27b043077daa024c06": {
      "model_module": "@jupyter-widgets/base",
      "model_module_version": "1.2.0",
      "model_name": "LayoutModel",
      "state": {
       "justify_content": "center"
      }
     },
     "8d907a6b44c34e02848b068fa6173033": {
      "model_module": "@jupyter-widgets/controls",
      "model_module_version": "1.5.0",
      "model_name": "TabModel",
      "state": {
       "_titles": {
        "0": "Year",
        "1": "Month",
        "2": "Week"
       },
       "children": [
        "IPY_MODEL_bd8f7464aff2439c8bebc149da4ce563",
        "IPY_MODEL_132a3252247e4fa2a385b92cf19ce722",
        "IPY_MODEL_91355e422b6c4343b7214be4306b4232"
       ],
       "layout": "IPY_MODEL_6e7c3b21e93240759daf30d30990360c",
       "selected_index": 1
      }
     },
     "8da41c0dab3d4cdaa5cc0ea01628c2fa": {
      "model_module": "@jupyter-widgets/base",
      "model_module_version": "1.2.0",
      "model_name": "LayoutModel",
      "state": {
       "max_width": "180px"
      }
     },
     "8e01e1d866004ec1b6a17957add8ceb2": {
      "model_module": "@jupyter-widgets/base",
      "model_module_version": "1.2.0",
      "model_name": "LayoutModel",
      "state": {}
     },
     "8e22456827d44453b99351eea3526a8b": {
      "model_module": "@jupyter-widgets/controls",
      "model_module_version": "1.5.0",
      "model_name": "HTMLModel",
      "state": {
       "layout": "IPY_MODEL_84c001f4765f4e7897fc4dbd7ba5869f",
       "style": "IPY_MODEL_00440c95392441feafcbd4f2240e54e1",
       "value": "1d7407d"
      }
     },
     "8efab83b28194138b11893b316f78c61": {
      "model_module": "@jupyter-widgets/controls",
      "model_module_version": "1.5.0",
      "model_name": "DescriptionStyleModel",
      "state": {
       "description_width": ""
      }
     },
     "8f2cf65064d34f8ab7252b90385f7bca": {
      "model_module": "@jupyter-widgets/base",
      "model_module_version": "1.2.0",
      "model_name": "LayoutModel",
      "state": {
       "align_items": "center",
       "display": "inline-flex",
       "flex_flow": "column"
      }
     },
     "8f8a6d54c51a4a3c83d2d8140aeed33d": {
      "model_module": "@jupyter-widgets/base",
      "model_module_version": "1.2.0",
      "model_name": "LayoutModel",
      "state": {
       "width": "65px"
      }
     },
     "901d8ac863a24e41bd840da1ded7fba8": {
      "model_module": "@jupyter-widgets/base",
      "model_module_version": "1.2.0",
      "model_name": "LayoutModel",
      "state": {
       "justify_content": "center",
       "max_width": "250px",
       "min_width": "250px"
      }
     },
     "9076354294404e819d20d7fbfbbfe9fa": {
      "model_module": "@jupyter-widgets/controls",
      "model_module_version": "1.5.0",
      "model_name": "DescriptionStyleModel",
      "state": {
       "description_width": ""
      }
     },
     "90ee264ff559467a8fa7952c89af75ec": {
      "model_module": "@jupyter-widgets/base",
      "model_module_version": "1.2.0",
      "model_name": "LayoutModel",
      "state": {
       "align_items": "center",
       "display": "flex-inline",
       "grid_area": "right"
      }
     },
     "91355e422b6c4343b7214be4306b4232": {
      "model_module": "@jupyter-widgets/output",
      "model_module_version": "1.0.0",
      "model_name": "OutputModel",
      "state": {
       "layout": "IPY_MODEL_86df330c176a4345a49b82b89ca3c5c4",
       "outputs": [
        {
         "data": {
          "image/png": "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\n",
          "text/plain": "<Figure size 360x360 with 1 Axes>"
         },
         "metadata": {},
         "output_type": "display_data"
        }
       ]
      }
     },
     "91b707305d7e4ff09fe6712e3a92d6ea": {
      "model_module": "@jupyter-widgets/controls",
      "model_module_version": "1.5.0",
      "model_name": "DescriptionStyleModel",
      "state": {
       "description_width": ""
      }
     },
     "91bea42ae1d0425aa713b649ba866b69": {
      "model_module": "@jupyter-widgets/controls",
      "model_module_version": "1.5.0",
      "model_name": "DescriptionStyleModel",
      "state": {
       "description_width": ""
      }
     },
     "91e9c16f364547e188c212ea235c2f4b": {
      "model_module": "@jupyter-widgets/base",
      "model_module_version": "1.2.0",
      "model_name": "LayoutModel",
      "state": {}
     },
     "92319c8eac8c4de7945c648bb7dd1648": {
      "model_module": "@jupyter-widgets/base",
      "model_module_version": "1.2.0",
      "model_name": "LayoutModel",
      "state": {}
     },
     "92cea12845e641c692d4458fc98c6d6c": {
      "model_module": "@jupyter-widgets/base",
      "model_module_version": "1.2.0",
      "model_name": "LayoutModel",
      "state": {
       "justify_content": "center"
      }
     },
     "933b4316167e46c1ac9963a23c5a2e33": {
      "model_module": "@jupyter-widgets/base",
      "model_module_version": "1.2.0",
      "model_name": "LayoutModel",
      "state": {}
     },
     "938df8182882463cb6517eb1d2bfcf61": {
      "model_module": "@jupyter-widgets/base",
      "model_module_version": "1.2.0",
      "model_name": "LayoutModel",
      "state": {
       "align_items": "center",
       "justify_content": "center",
       "margin": "0px 0px 0px 0px",
       "max_height": "250px",
       "max_width": "250px",
       "min_height": "250px",
       "min_width": "250px"
      }
     },
     "93a08bff944145789567ffb4ede77931": {
      "model_module": "@jupyter-widgets/output",
      "model_module_version": "1.0.0",
      "model_name": "OutputModel",
      "state": {
       "layout": "IPY_MODEL_4132cf7fd99046ada1bc48ae6aebc0b5",
       "outputs": [
        {
         "data": {
          "image/png": "iVBORw0KGgoAAAANSUhEUgAAASUAAAEeCAYAAADM2gMZAAAABHNCSVQICAgIfAhkiAAAAAlwSFlzAAALEgAACxIB0t1+/AAAADh0RVh0U29mdHdhcmUAbWF0cGxvdGxpYiB2ZXJzaW9uMy4xLjAsIGh0dHA6Ly9tYXRwbG90bGliLm9yZy+17YcXAAADv0lEQVR4nO3UMQEAIAzAMMC/5/HigB6Jgl7dM7MAKs7vAICXKQEppgSkmBKQYkpAiikBKaYEpJgSkGJKQIopASmmBKSYEpBiSkCKKQEppgSkmBKQYkpAiikBKaYEpJgSkGJKQIopASmmBKSYEpBiSkCKKQEppgSkmBKQYkpAiikBKaYEpJgSkGJKQIopASmmBKSYEpBiSkCKKQEppgSkmBKQYkpAiikBKaYEpJgSkGJKQIopASmmBKSYEpBiSkCKKQEppgSkmBKQYkpAiikBKaYEpJgSkGJKQIopASmmBKSYEpBiSkCKKQEppgSkmBKQYkpAiikBKaYEpJgSkGJKQIopASmmBKSYEpBiSkCKKQEppgSkmBKQYkpAiikBKaYEpJgSkGJKQIopASmmBKSYEpBiSkCKKQEppgSkmBKQYkpAiikBKaYEpJgSkGJKQIopASmmBKSYEpBiSkCKKQEppgSkmBKQYkpAiikBKaYEpJgSkGJKQIopASmmBKSYEpBiSkCKKQEppgSkmBKQYkpAiikBKaYEpJgSkGJKQIopASmmBKSYEpBiSkCKKQEppgSkmBKQYkpAiikBKaYEpJgSkGJKQIopASmmBKSYEpBiSkCKKQEppgSkmBKQYkpAiikBKaYEpJgSkGJKQIopASmmBKSYEpBiSkCKKQEppgSkmBKQYkpAiikBKaYEpJgSkGJKQIopASmmBKSYEpBiSkCKKQEppgSkmBKQYkpAiikBKaYEpJgSkGJKQIopASmmBKSYEpBiSkCKKQEppgSkmBKQYkpAiikBKaYEpJgSkGJKQIopASmmBKSYEpBiSkCKKQEppgSkmBKQYkpAiikBKaYEpJgSkGJKQIopASmmBKSYEpBiSkCKKQEppgSkmBKQYkpAiikBKaYEpJgSkGJKQIopASmmBKSYEpBiSkCKKQEppgSkmBKQYkpAiikBKaYEpJgSkGJKQIopASmmBKSYEpBiSkCKKQEppgSkmBKQYkpAiikBKaYEpJgSkGJKQIopASmmBKSYEpBiSkCKKQEppgSkmBKQYkpAiikBKaYEpJgSkGJKQIopASmmBKSYEpBiSkCKKQEppgSkmBKQYkpAiikBKaYEpJgSkGJKQIopASmmBKSYEpBiSkCKKQEppgSkmBKQYkpAiikBKaYEpJgSkGJKQIopASmmBKSYEpBiSkCKKQEppgSkmBKQYkpAiikBKaYEpJgSkGJKQIopASmmBKSYEpBiSkCKKQEppgSkmBKQYkpAiikBKaYEpJgSkGJKQMoFYoQFOesmuAcAAAAASUVORK5CYII=\n",
          "text/plain": "<Figure size 360x360 with 1 Axes>"
         },
         "metadata": {},
         "output_type": "display_data"
        }
       ]
      }
     },
     "93b42cda9ba74dabbb1b1047a252af8e": {
      "model_module": "@jupyter-widgets/controls",
      "model_module_version": "1.5.0",
      "model_name": "DescriptionStyleModel",
      "state": {
       "description_width": ""
      }
     },
     "93f8ec5a52cb4ef2ad16433e5552c33a": {
      "model_module": "@jupyter-widgets/base",
      "model_module_version": "1.2.0",
      "model_name": "LayoutModel",
      "state": {
       "overflow_x": "scroll"
      }
     },
     "941a8d55969a418d8a31ca43d2054082": {
      "model_module": "@jupyter-widgets/controls",
      "model_module_version": "1.5.0",
      "model_name": "HTMLModel",
      "state": {
       "layout": "IPY_MODEL_f5dce0f277dc492b994dd17a58d85f06",
       "style": "IPY_MODEL_243e73c3b52940419dfb7dd46da1c4a6",
       "value": "<h5 style='color:#dc267f'>False</h5>"
      }
     },
     "945d81cd9faf43b59f9fd8e489be4252": {
      "model_module": "@jupyter-widgets/base",
      "model_module_version": "1.2.0",
      "model_name": "LayoutModel",
      "state": {}
     },
     "94705442a659433c80209990cae53225": {
      "model_module": "@jupyter-widgets/base",
      "model_module_version": "1.2.0",
      "model_name": "LayoutModel",
      "state": {
       "align_items": "center",
       "justify_content": "center",
       "margin": "0px 0px 0px 0px",
       "max_height": "250px",
       "max_width": "250px",
       "min_height": "250px",
       "min_width": "250px"
      }
     },
     "950af204c74e4ae29ffc52f79dc3e592": {
      "model_module": "@jupyter-widgets/controls",
      "model_module_version": "1.5.0",
      "model_name": "HTMLModel",
      "state": {
       "layout": "IPY_MODEL_0d5a946de3e1471d96c55ca760b0c500",
       "style": "IPY_MODEL_beca2b9298ad4c13af2cd548f01c991e",
       "value": "<p style='font-size:16px;'>Job Status : job is queued (83) </p>"
      }
     },
     "9529b68c5bfd4382a802b83c5d9d104a": {
      "model_module": "@jupyter-widgets/controls",
      "model_module_version": "1.5.0",
      "model_name": "DescriptionStyleModel",
      "state": {
       "description_width": ""
      }
     },
     "959c4705d507408ba5801c7abdd3b467": {
      "model_module": "@jupyter-widgets/controls",
      "model_module_version": "1.5.0",
      "model_name": "ButtonModel",
      "state": {
       "button_style": "primary",
       "description": "Clear",
       "layout": "IPY_MODEL_5bfb5d9374cb48708de71999d46655a8",
       "style": "IPY_MODEL_9c47ff0301df4fe0a001f7c63c2413a1"
      }
     },
     "95c216847ffb430cbcbe6302b3e72090": {
      "model_module": "@jupyter-widgets/base",
      "model_module_version": "1.2.0",
      "model_name": "LayoutModel",
      "state": {
       "min_width": "auto"
      }
     },
     "95ec99ef8653477cabe3fa966e164c92": {
      "model_module": "@jupyter-widgets/controls",
      "model_module_version": "1.5.0",
      "model_name": "DescriptionStyleModel",
      "state": {
       "description_width": ""
      }
     },
     "966f36990bff4128badb3eab2c467537": {
      "model_module": "@jupyter-widgets/controls",
      "model_module_version": "1.5.0",
      "model_name": "HBoxModel",
      "state": {
       "children": [
        "IPY_MODEL_7fc41772909d423c939997d2b4a33eab",
        "IPY_MODEL_6a5501713b3c41c9ac18d7cf2b053bfe",
        "IPY_MODEL_4d482c0e5bec468f90cd653b4767ac5c"
       ],
       "layout": "IPY_MODEL_c3c95202b39142a18ef833a9b6711ef5"
      }
     },
     "976b26cb51784243944d0e5defb57a49": {
      "model_module": "@jupyter-widgets/controls",
      "model_module_version": "1.5.0",
      "model_name": "DescriptionStyleModel",
      "state": {
       "description_width": ""
      }
     },
     "97ad5dea3fc342f09711a286caacf4d7": {
      "model_module": "@jupyter-widgets/controls",
      "model_module_version": "1.5.0",
      "model_name": "HTMLModel",
      "state": {
       "layout": "IPY_MODEL_ba4ca72502f04f93bd2e0570fe2ca22d",
       "style": "IPY_MODEL_196c540f005742f488d0c5bbbbf7e8fe",
       "value": "<h5>71.7 / 69.5 µs</h5>"
      }
     },
     "981a9f9a5ac74ce088d4afb0b7439aff": {
      "model_module": "@jupyter-widgets/base",
      "model_module_version": "1.2.0",
      "model_name": "LayoutModel",
      "state": {
       "justify_content": "center"
      }
     },
     "981c366116484f18afe6370642d796d0": {
      "model_module": "@jupyter-widgets/controls",
      "model_module_version": "1.5.0",
      "model_name": "VBoxModel",
      "state": {
       "children": [
        "IPY_MODEL_d804ee0ddb944afd98934a93a0caccca",
        "IPY_MODEL_e15de304a1864e54b54ed337ead92506",
        "IPY_MODEL_efd7ca2b38fe41bea012b20d6b8e2bf6",
        "IPY_MODEL_c8960955e45d4593b994676541a4e223",
        "IPY_MODEL_0cfa5e6399f5491084098ad6a073f4d1"
       ],
       "layout": "IPY_MODEL_43457b2b7f4d45e799205a52369bc7ef"
      }
     },
     "988b267de11341749c5604f063be27f5": {
      "model_module": "@jupyter-widgets/controls",
      "model_module_version": "1.5.0",
      "model_name": "DescriptionStyleModel",
      "state": {
       "description_width": ""
      }
     },
     "98f602a15a1a4208a305ea8d7944d72f": {
      "model_module": "@jupyter-widgets/controls",
      "model_module_version": "1.5.0",
      "model_name": "HTMLModel",
      "state": {
       "layout": "IPY_MODEL_7b7dcc4117da4c9488a46af470f7fb14",
       "style": "IPY_MODEL_3b733cb87db44b0690ea9a12aa93fd2b",
       "value": "<h5 style='color:#dc267f'>False</h5>"
      }
     },
     "99228062968149a28926a3d28244c50b": {
      "model_module": "@jupyter-widgets/controls",
      "model_module_version": "1.5.0",
      "model_name": "DescriptionStyleModel",
      "state": {
       "description_width": ""
      }
     },
     "9924910041eb4f46a0cae71b455d1392": {
      "model_module": "@jupyter-widgets/controls",
      "model_module_version": "1.5.0",
      "model_name": "ProgressStyleModel",
      "state": {
       "bar_color": "#71cddd",
       "description_width": ""
      }
     },
     "9935113ed65447cbb21fad87920f1d23": {
      "model_module": "@jupyter-widgets/controls",
      "model_module_version": "1.5.0",
      "model_name": "DescriptionStyleModel",
      "state": {
       "description_width": ""
      }
     },
     "994bd8a33a71423cb16dcaac9e48ebbc": {
      "model_module": "@jupyter-widgets/base",
      "model_module_version": "1.2.0",
      "model_name": "LayoutModel",
      "state": {}
     },
     "99b9a99f931a40f7903a6155ed0a2062": {
      "model_module": "@jupyter-widgets/base",
      "model_module_version": "1.2.0",
      "model_name": "LayoutModel",
      "state": {}
     },
     "9a0c6a8cba3e43e8918e3820e257e16b": {
      "model_module": "@jupyter-widgets/controls",
      "model_module_version": "1.5.0",
      "model_name": "ProgressStyleModel",
      "state": {
       "bar_color": "#71cddd",
       "description_width": ""
      }
     },
     "9a65e2f405c34879af66af063921cbb3": {
      "model_module": "@jupyter-widgets/base",
      "model_module_version": "1.2.0",
      "model_name": "LayoutModel",
      "state": {}
     },
     "9b045915267c4ea087a95845923c9f0e": {
      "model_module": "@jupyter-widgets/base",
      "model_module_version": "1.2.0",
      "model_name": "LayoutModel",
      "state": {
       "align_items": "center",
       "justify_content": "center",
       "margin": "0px 0px 0px 0px",
       "max_height": "250px",
       "max_width": "250px",
       "min_height": "250px",
       "min_width": "250px"
      }
     },
     "9b6fac2ce5e841b8b86bf945ffa58d2e": {
      "model_module": "@jupyter-widgets/controls",
      "model_module_version": "1.5.0",
      "model_name": "ProgressStyleModel",
      "state": {
       "bar_color": "#71cddd",
       "description_width": ""
      }
     },
     "9c322a8b1ac04aed93f868d672f15142": {
      "model_module": "@jupyter-widgets/controls",
      "model_module_version": "1.5.0",
      "model_name": "DescriptionStyleModel",
      "state": {
       "description_width": ""
      }
     },
     "9c47ff0301df4fe0a001f7c63c2413a1": {
      "model_module": "@jupyter-widgets/controls",
      "model_module_version": "1.5.0",
      "model_name": "ButtonStyleModel",
      "state": {}
     },
     "9c4975013ae249dbb6a790a277876220": {
      "model_module": "@jupyter-widgets/controls",
      "model_module_version": "1.5.0",
      "model_name": "DescriptionStyleModel",
      "state": {
       "description_width": ""
      }
     },
     "9c89aed02f9d48ac95931f285907bb0b": {
      "model_module": "@jupyter-widgets/controls",
      "model_module_version": "1.5.0",
      "model_name": "HTMLModel",
      "state": {
       "layout": "IPY_MODEL_2133dfec60f94680abec5118fa46b0ac",
       "style": "IPY_MODEL_3c2e32fa978244c9a27198738efdb893",
       "value": "<h5 style='color:#34bc6e'>True</h5>"
      }
     },
     "9cf6c0edfe8f430a83fdbd18150739eb": {
      "model_module": "@jupyter-widgets/controls",
      "model_module_version": "1.5.0",
      "model_name": "HTMLModel",
      "state": {
       "layout": "IPY_MODEL_4748635516574dd3b328cdc21aaa2580",
       "style": "IPY_MODEL_988b267de11341749c5604f063be27f5",
       "value": "<h5>0.0586</h5>"
      }
     },
     "9d112531632f4425aa8de84fa095dde8": {
      "model_module": "@jupyter-widgets/base",
      "model_module_version": "1.2.0",
      "model_name": "LayoutModel",
      "state": {}
     },
     "9d204779ad44470ab03ebaf9625ccc18": {
      "model_module": "@jupyter-widgets/controls",
      "model_module_version": "1.5.0",
      "model_name": "HTMLModel",
      "state": {
       "layout": "IPY_MODEL_da95936f93f54753a3dd666da089c799",
       "style": "IPY_MODEL_7e36607456894ab38836ea91b0ae499e",
       "value": "<h5><b>5</b></h5>"
      }
     },
     "9d7b70a046b843ad9b4a4d2adbe003f9": {
      "model_module": "@jupyter-widgets/base",
      "model_module_version": "1.2.0",
      "model_name": "LayoutModel",
      "state": {
       "border": "4px solid #000000",
       "max_height": "650px",
       "min_height": "650px",
       "overflow_y": "hidden"
      }
     },
     "9d89c7c39f6b4b4bbcb9644ef78ad06b": {
      "model_module": "@jupyter-widgets/base",
      "model_module_version": "1.2.0",
      "model_name": "LayoutModel",
      "state": {
       "max_width": "180px"
      }
     },
     "9d910cc288c0455693cc00a49b01ca8e": {
      "model_module": "@jupyter-widgets/controls",
      "model_module_version": "1.5.0",
      "model_name": "HTMLModel",
      "state": {
       "layout": "IPY_MODEL_05cd97e689c945ce8a1ecc5e1b8f85dc",
       "style": "IPY_MODEL_579a19639f26478eb588618ae21670b2",
       "value": "<h5 style='color:#dc267f'>False</h5>"
      }
     },
     "9d937bb881124f28b2a6da65884cdefc": {
      "model_module": "@jupyter-widgets/controls",
      "model_module_version": "1.5.0",
      "model_name": "HTMLModel",
      "state": {
       "layout": "IPY_MODEL_99b9a99f931a40f7903a6155ed0a2062",
       "style": "IPY_MODEL_716556ed9b1443b3bedb631e86186119",
       "value": "<h4>ibmq_vigo</h4>"
      }
     },
     "9dc2dbe44f764ace8edd19a99e682084": {
      "model_module": "@jupyter-widgets/base",
      "model_module_version": "1.2.0",
      "model_name": "LayoutModel",
      "state": {
       "min_width": "auto"
      }
     },
     "9e385dc7ecfe42798b2cdb0a6202fc22": {
      "model_module": "@jupyter-widgets/base",
      "model_module_version": "1.2.0",
      "model_name": "LayoutModel",
      "state": {
       "align_items": "center",
       "display": "inline-flex",
       "flex_flow": "column"
      }
     },
     "9f93dcd72d734c31b3eb43432c3aebcd": {
      "model_module": "@jupyter-widgets/controls",
      "model_module_version": "1.5.0",
      "model_name": "HTMLModel",
      "state": {
       "layout": "IPY_MODEL_2166d0afd9ea475e8c5ea1dc1560daba",
       "style": "IPY_MODEL_6a42834cd9a54578bd05b38b2a33c6aa",
       "value": "<h5>26.0 µs</h5>"
      }
     },
     "9fbb0d3eb2f14ce493a229fd37834068": {
      "model_module": "@jupyter-widgets/controls",
      "model_module_version": "1.5.0",
      "model_name": "HTMLModel",
      "state": {
       "layout": "IPY_MODEL_f7416d0f97f34359ba1ebc45f9f35013",
       "style": "IPY_MODEL_e9c3fbf8c9bc4e979782db4a32bac903",
       "value": "<h5 style='color:#34bc6e'>True</h5>"
      }
     },
     "9fc8634e5a7f43ac9e8241a649449491": {
      "model_module": "@jupyter-widgets/base",
      "model_module_version": "1.2.0",
      "model_name": "LayoutModel",
      "state": {
       "min_width": "auto"
      }
     },
     "a013ef8c316541b99d14a41338d56cf0": {
      "model_module": "@jupyter-widgets/base",
      "model_module_version": "1.2.0",
      "model_name": "LayoutModel",
      "state": {}
     },
     "a0905038237d4c7bab832fdb67ac8019": {
      "model_module": "@jupyter-widgets/controls",
      "model_module_version": "1.5.0",
      "model_name": "HTMLModel",
      "state": {
       "layout": "IPY_MODEL_66f57006cadb4a4890072586bdc2b5fd",
       "style": "IPY_MODEL_6650860215ec4b61938e88eec81de592",
       "value": "<h5>Message</h5>"
      }
     },
     "a0c4f314512c4adc833ee5f1a314c5bf": {
      "model_module": "@jupyter-widgets/base",
      "model_module_version": "1.2.0",
      "model_name": "LayoutModel",
      "state": {}
     },
     "a0ca1b214c8c409f96bd01f7430e0fda": {
      "model_module": "@jupyter-widgets/controls",
      "model_module_version": "1.5.0",
      "model_name": "HTMLModel",
      "state": {
       "layout": "IPY_MODEL_5634017bf4a445f68fa08ce1f20928a1",
       "style": "IPY_MODEL_06687a8dcb554f1a9c4d9e525ab7311a",
       "value": "<table><style>\ntable {\n    border-collapse: collapse;\n    width: auto;\n}\n\nth, td {\n    text-align: left;\n    padding: 8px;\n}\n\ntr:nth-child(even) {background-color: #f6f6f6;}\n</style><tr><th>Property</th><th>Value</th></tr><tr><td><font style='font-weight:bold'>n_qubits</font></td><td>14</td></tr><tr><td><font style='font-weight:bold'>operational</font></td><td>True</td></tr><tr><td><font style='font-weight:bold'>status_msg</font></td><td>active</td></tr><tr><td><font style='font-weight:bold'>pending_jobs</font></td><td>86</td></tr><tr><td><font style='font-weight:bold'>basis_gates</font></td><td>['u1', 'u2', 'u3', 'cx', 'id']</td></tr><tr><td><font style='font-weight:bold'>local</font></td><td>False</td></tr><tr><td><font style='font-weight:bold'>simulator</font></td><td>False</td></tr></table>"
      }
     },
     "a1adce0471e346eeabe8c479d73da0d1": {
      "model_module": "@jupyter-widgets/controls",
      "model_module_version": "1.5.0",
      "model_name": "LabelModel",
      "state": {
       "layout": "IPY_MODEL_3dac209bc2a7407c8ddb2ad62161bf9d",
       "style": "IPY_MODEL_7286c6c12f11468791c0edc6f7c197a8",
       "value": "0"
      }
     },
     "a1af24697053415098f83f6c3cd03280": {
      "model_module": "@jupyter-widgets/controls",
      "model_module_version": "1.5.0",
      "model_name": "DescriptionStyleModel",
      "state": {
       "description_width": ""
      }
     },
     "a1e8e6080ce942be8dd99a6dae72c465": {
      "model_module": "@jupyter-widgets/controls",
      "model_module_version": "1.5.0",
      "model_name": "HTMLModel",
      "state": {
       "layout": "IPY_MODEL_e6fbefb9b133478b96361f3c220bc3ae",
       "style": "IPY_MODEL_07d583147f234321bceb654e5074a0b4",
       "value": "<table><style>\ntable {\n    border-collapse: collapse;\n    width: auto;\n}\n\nth, td {\n    text-align: left;\n    padding: 8px;\n}\n\ntr:nth-child(even) {background-color: #f6f6f6;}\n</style><tr><th></th><th>Frequency</th><th>T1</th><th>T2</th><th>U1 gate error</th><th>U2 gate error</th><th>U3 gate error</th><th>Readout error</th></tr><tr><td><font style='font-weight:bold'>Q0</font></td><td>5.10005 GHz</td><td>60.14509 µs</td><td>22.87751 µs</td><td>0.0</td><td>0.00167</td><td>0.00335</td><td>0.0329</td></tr><tr><td><font style='font-weight:bold'>Q1</font></td><td>5.23866 GHz</td><td>59.79461 µs</td><td>72.55859 µs</td><td>0.0</td><td>0.00777</td><td>0.01554</td><td>0.0447</td></tr><tr><td><font style='font-weight:bold'>Q2</font></td><td>5.03294 GHz</td><td>41.98344 µs</td><td>107.69124 µs</td><td>0.0</td><td>0.00395</td><td>0.0079</td><td>0.0835</td></tr><tr><td><font style='font-weight:bold'>Q3</font></td><td>4.89617 GHz</td><td>61.20129 µs</td><td>77.12478 µs</td><td>0.0</td><td>0.00105</td><td>0.0021</td><td>0.085</td></tr><tr><td><font style='font-weight:bold'>Q4</font></td><td>5.02726 GHz</td><td>53.09443 µs</td><td>19.05634 µs</td><td>0.0</td><td>0.00238</td><td>0.00476</td><td>0.0267</td></tr><tr><td><font style='font-weight:bold'>Q5</font></td><td>5.06715 GHz</td><td>25.14207 µs</td><td>50.20313 µs</td><td>0.0</td><td>0.00212</td><td>0.00424</td><td>0.043</td></tr><tr><td><font style='font-weight:bold'>Q6</font></td><td>4.9238 GHz</td><td>72.4316 µs</td><td>54.42073 µs</td><td>0.0</td><td>0.00145</td><td>0.0029</td><td>0.0388</td></tr><tr><td><font style='font-weight:bold'>Q7</font></td><td>4.97448 GHz</td><td>46.41363 µs</td><td>79.85185 µs</td><td>0.0</td><td>0.00143</td><td>0.00285</td><td>0.0844</td></tr><tr><td><font style='font-weight:bold'>Q8</font></td><td>4.73979 GHz</td><td>59.34544 µs</td><td>81.99029 µs</td><td>0.0</td><td>0.00284</td><td>0.00568</td><td>0.0314</td></tr><tr><td><font style='font-weight:bold'>Q9</font></td><td>4.96338 GHz</td><td>45.42174 µs</td><td>76.31623 µs</td><td>0.0</td><td>0.00272</td><td>0.00543</td><td>0.0772</td></tr><tr><td><font style='font-weight:bold'>Q10</font></td><td>4.94505 GHz</td><td>68.74365 µs</td><td>67.71255 µs</td><td>0.0</td><td>0.00214</td><td>0.00428</td><td>0.0422</td></tr><tr><td><font style='font-weight:bold'>Q11</font></td><td>5.00527 GHz</td><td>64.47109 µs</td><td>111.05563 µs</td><td>0.0</td><td>0.00192</td><td>0.00385</td><td>0.0856</td></tr><tr><td><font style='font-weight:bold'>Q12</font></td><td>4.76015 GHz</td><td>79.67775 µs</td><td>141.18404 µs</td><td>0.0</td><td>0.00389</td><td>0.00777</td><td>0.0549</td></tr><tr><td><font style='font-weight:bold'>Q13</font></td><td>4.96847 GHz</td><td>27.68628 µs</td><td>41.4397 µs</td><td>0.0</td><td>0.00666</td><td>0.01332</td><td>0.0502</td></tr></table>"
      }
     },
     "a21f63c1fc5d41afb30995ff80abf251": {
      "model_module": "@jupyter-widgets/controls",
      "model_module_version": "1.5.0",
      "model_name": "DescriptionStyleModel",
      "state": {
       "description_width": ""
      }
     },
     "a236ac3c25094a8d91ca9a2ae0c7ab13": {
      "model_module": "@jupyter-widgets/controls",
      "model_module_version": "1.5.0",
      "model_name": "LabelModel",
      "state": {
       "layout": "IPY_MODEL_49ebbf35e04f48d39ddda252b1e89d45",
       "style": "IPY_MODEL_4bd7db1d011f4791879e355e96078d0a",
       "value": "Num. Qubits"
      }
     },
     "a2c7cad154c84c5397159ef58c424b75": {
      "model_module": "@jupyter-widgets/controls",
      "model_module_version": "1.5.0",
      "model_name": "HTMLModel",
      "state": {
       "layout": "IPY_MODEL_b203179b61bd4c6eb07bf349e0cb24a9",
       "style": "IPY_MODEL_4ddda47fe2214db58a4900c8618d3543",
       "value": "<h5>43.5 / 15.2 µs</h5>"
      }
     },
     "a2d1cd1c84a34f58ae463298cd1d7ba1": {
      "model_module": "@jupyter-widgets/controls",
      "model_module_version": "1.5.0",
      "model_name": "LabelModel",
      "state": {
       "layout": "IPY_MODEL_b62deb90b4484b00b95120e605b80c61",
       "style": "IPY_MODEL_bfb175c193064d18ae38697383fb9fc8",
       "value": "Avg. T1"
      }
     },
     "a31bf84322fe4187a08ecd97c5160b02": {
      "model_module": "@jupyter-widgets/controls",
      "model_module_version": "1.5.0",
      "model_name": "HBoxModel",
      "state": {
       "children": [
        "IPY_MODEL_7a63410ce3944c1e936dfa05eb7220c7",
        "IPY_MODEL_8e22456827d44453b99351eea3526a8b",
        "IPY_MODEL_a4ef197ff2cc4b4e9fb1d246e0090bee",
        "IPY_MODEL_3653ec47cdb245a9997b806feac844ae",
        "IPY_MODEL_757afc0ab4c6423783155271e9241589",
        "IPY_MODEL_87576bd954184d35a1787b39bd7872c8"
       ],
       "layout": "IPY_MODEL_7403d73ae0214ffa9ee649301947ba46"
      }
     },
     "a332270c908f43e48e6be81e20c1a1f2": {
      "model_module": "@jupyter-widgets/base",
      "model_module_version": "1.2.0",
      "model_name": "LayoutModel",
      "state": {}
     },
     "a34db22dd3f84f05aa42e8c1ccbac08d": {
      "model_module": "@jupyter-widgets/controls",
      "model_module_version": "1.5.0",
      "model_name": "DescriptionStyleModel",
      "state": {
       "description_width": ""
      }
     },
     "a398d86cc56544289c5f04a073f95150": {
      "model_module": "@jupyter-widgets/controls",
      "model_module_version": "1.5.0",
      "model_name": "DescriptionStyleModel",
      "state": {
       "description_width": ""
      }
     },
     "a3b0c0fcdd0a47c5922933172bbfe89c": {
      "model_module": "@jupyter-widgets/base",
      "model_module_version": "1.2.0",
      "model_name": "LayoutModel",
      "state": {
       "max_width": "180px"
      }
     },
     "a3e336fd308849149e10cc50a4b95ff0": {
      "model_module": "@jupyter-widgets/controls",
      "model_module_version": "1.5.0",
      "model_name": "HTMLModel",
      "state": {
       "layout": "IPY_MODEL_c4e9b9c0be794116b5085cfa6f56266b",
       "style": "IPY_MODEL_b7a6c5e026d645a499a097ec41d7f743",
       "value": "<h5 style='color:#34bc6e'>True</h5>"
      }
     },
     "a4d46c884a6340fdb73dcdadf72ac57b": {
      "model_module": "@jupyter-widgets/output",
      "model_module_version": "1.0.0",
      "model_name": "OutputModel",
      "state": {
       "layout": "IPY_MODEL_48fa6eb91d624e8db15adcfb211e73a5",
       "outputs": [
        {
         "data": {
          "image/png": "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\n",
          "text/plain": "<Figure size 360x360 with 1 Axes>"
         },
         "metadata": {},
         "output_type": "display_data"
        }
       ]
      }
     },
     "a4d6b1fb353640f4b7b3cd78376a3637": {
      "model_module": "@jupyter-widgets/output",
      "model_module_version": "1.0.0",
      "model_name": "OutputModel",
      "state": {
       "layout": "IPY_MODEL_b6eff2958672468ca9cac6ce09865542",
       "outputs": [
        {
         "data": {
          "image/png": "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\n",
          "text/plain": "<Figure size 216x72 with 1 Axes>"
         },
         "metadata": {},
         "output_type": "display_data"
        }
       ]
      }
     },
     "a4ef197ff2cc4b4e9fb1d246e0090bee": {
      "model_module": "@jupyter-widgets/controls",
      "model_module_version": "1.5.0",
      "model_name": "HTMLModel",
      "state": {
       "layout": "IPY_MODEL_15685ccee0c04599b3f12e565c179146",
       "style": "IPY_MODEL_c931c8ecaebb46ac811b958333a0b95a",
       "value": "ibmqx2"
      }
     },
     "a5303767ca0a46239973747ef03bfc31": {
      "model_module": "@jupyter-widgets/output",
      "model_module_version": "1.0.0",
      "model_name": "OutputModel",
      "state": {
       "layout": "IPY_MODEL_9b045915267c4ea087a95845923c9f0e",
       "outputs": [
        {
         "data": {
          "image/png": "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\n",
          "text/plain": "<Figure size 360x360 with 1 Axes>"
         },
         "metadata": {},
         "output_type": "display_data"
        }
       ]
      }
     },
     "a571f28a59494f99a783254c1a3930fd": {
      "model_module": "@jupyter-widgets/controls",
      "model_module_version": "1.5.0",
      "model_name": "HTMLModel",
      "state": {
       "layout": "IPY_MODEL_09737ca1e21e4aeb8d2dfe0be5302829",
       "style": "IPY_MODEL_6f0f488fe6694eb890fc3834dbc2e4a5",
       "value": "<table><style>\ntable {\n    border-collapse: collapse;\n    width: auto;\n}\n\nth, td {\n    text-align: left;\n    padding: 8px;\n}\n\ntr:nth-child(even) {background-color: #f6f6f6;};\n</style><tr><th></th><th>Type</th><th>Gate error</th></tr><tr><td><font style='font-weight:bold'>cx3_4</font></td><td>cx</td><td>0.05819</td></tr><tr><td><font style='font-weight:bold'>cx4_2</font></td><td>cx</td><td>0.05535</td></tr></table>"
      }
     },
     "a62dd3c21beb4bfba8c782ee5b72297a": {
      "model_module": "@jupyter-widgets/base",
      "model_module_version": "1.2.0",
      "model_name": "LayoutModel",
      "state": {}
     },
     "a64295d71b614608a3084c978e41f2fc": {
      "model_module": "@jupyter-widgets/base",
      "model_module_version": "1.2.0",
      "model_name": "LayoutModel",
      "state": {
       "align_items": "center",
       "justify_content": "center",
       "margin": "0px 0px 0px 0px",
       "max_height": "250px",
       "max_width": "250px",
       "min_height": "250px",
       "min_width": "250px"
      }
     },
     "a6cb413e6fa64e0099ba9263879743b5": {
      "model_module": "@jupyter-widgets/controls",
      "model_module_version": "1.5.0",
      "model_name": "LabelModel",
      "state": {
       "layout": "IPY_MODEL_9a65e2f405c34879af66af063921cbb3",
       "style": "IPY_MODEL_bdcfbed3f8cb43329bb67042b0c7be15",
       "value": "Least Busy"
      }
     },
     "a757a8aa569f409ba3b80ce24921a2ad": {
      "model_module": "@jupyter-widgets/base",
      "model_module_version": "1.2.0",
      "model_name": "LayoutModel",
      "state": {}
     },
     "a7e49b8060d74170afc9913914de8014": {
      "model_module": "@jupyter-widgets/base",
      "model_module_version": "1.2.0",
      "model_name": "LayoutModel",
      "state": {}
     },
     "a86bd436b50246b480856ccd41828bb8": {
      "model_module": "@jupyter-widgets/controls",
      "model_module_version": "1.5.0",
      "model_name": "GridBoxModel",
      "state": {
       "children": [
        "IPY_MODEL_a0ca1b214c8c409f96bd01f7430e0fda",
        "IPY_MODEL_6f6eba1a87f64a2b8c64cc46639843dd",
        "IPY_MODEL_0d5ab44171384a5ca42a2f51918f1975"
       ],
       "layout": "IPY_MODEL_d95b2718ee004145aad274280fda5059"
      }
     },
     "a8c4986fddc345a8a1b8e4ed90df674b": {
      "model_module": "@jupyter-widgets/controls",
      "model_module_version": "1.5.0",
      "model_name": "HTMLModel",
      "state": {
       "layout": "IPY_MODEL_bd15488c0c4441df911d040c75cabff0",
       "style": "IPY_MODEL_2d39b1912ee047cfa507aca5ae281996",
       "value": "<p style='font-size:16px;'>Job Status [3]: job is queued (73) </p>"
      }
     },
     "a8f5f4ee6bfa4d1b9a93e1109e1e4043": {
      "model_module": "@jupyter-widgets/controls",
      "model_module_version": "1.5.0",
      "model_name": "HTMLModel",
      "state": {
       "layout": "IPY_MODEL_8f8a6d54c51a4a3c83d2d8140aeed33d",
       "style": "IPY_MODEL_26ce3f17bb1248dba78505348f0630a0",
       "value": "<h5>Job ID</h5>"
      }
     },
     "a925a61c415d4547a5e93beae9743dba": {
      "model_module": "@jupyter-widgets/base",
      "model_module_version": "1.2.0",
      "model_name": "LayoutModel",
      "state": {}
     },
     "aa7350bd8d6d4045aebe279f2d29782e": {
      "model_module": "@jupyter-widgets/controls",
      "model_module_version": "1.5.0",
      "model_name": "HBoxModel",
      "state": {
       "children": [
        "IPY_MODEL_4548a554359e40ffb37efae59224170e",
        "IPY_MODEL_0628dc3860364ca898e7b8a25e2ce306",
        "IPY_MODEL_e723b7cc423f4ff49fe616fc937ee6b8"
       ],
       "layout": "IPY_MODEL_479c522c3ea042fda64637aea33197d6"
      }
     },
     "aacbde6acf514f459e94e61f1a362085": {
      "model_module": "@jupyter-widgets/base",
      "model_module_version": "1.2.0",
      "model_name": "LayoutModel",
      "state": {}
     },
     "ab7665ff62c84527b5f2be10da08d31d": {
      "model_module": "@jupyter-widgets/controls",
      "model_module_version": "1.5.0",
      "model_name": "LabelModel",
      "state": {
       "layout": "IPY_MODEL_712d7fd53f4e44ac879cc63b2eaa1a21",
       "style": "IPY_MODEL_f8dc639ec16949f4b8dbec3a853a2410",
       "value": "50"
      }
     },
     "abaeeb9917bb4a6fa39a8ec72f0eed89": {
      "model_module": "@jupyter-widgets/controls",
      "model_module_version": "1.5.0",
      "model_name": "IntProgressModel",
      "state": {
       "layout": "IPY_MODEL_30d8244b5c2542cbbb84bad4b52091fb",
       "max": 50,
       "style": "IPY_MODEL_c9c4221c7ff04100a3fddf56ed850d2b",
       "value": 3
      }
     },
     "ac0ae7ab3a4444d2b95ba9f04835a24b": {
      "model_module": "@jupyter-widgets/controls",
      "model_module_version": "1.5.0",
      "model_name": "HTMLModel",
      "state": {
       "layout": "IPY_MODEL_7dd1717b00eb409bb7cdd88248f4960c",
       "style": "IPY_MODEL_4e4bf2b3f8944d659cdb4e302eb4db13",
       "value": "<h5><b>5</b></h5>"
      }
     },
     "ac7f9d48e8ee48d58f738b346fe95f1b": {
      "model_module": "@jupyter-widgets/base",
      "model_module_version": "1.2.0",
      "model_name": "LayoutModel",
      "state": {
       "margin": "0px 0px 0px 0px"
      }
     },
     "ad35292eff444c5394704d68f220a4bd": {
      "model_module": "@jupyter-widgets/controls",
      "model_module_version": "1.5.0",
      "model_name": "ProgressStyleModel",
      "state": {
       "bar_color": "#71cddd",
       "description_width": ""
      }
     },
     "ad6b03cadbbc43499bedf5ca5ebf7870": {
      "model_module": "@jupyter-widgets/controls",
      "model_module_version": "1.5.0",
      "model_name": "HTMLModel",
      "state": {
       "layout": "IPY_MODEL_d2de3d439f954b0e977898888d838834",
       "style": "IPY_MODEL_11afcf10534e485f8eb5a9d196ce677b",
       "value": "<p style='font-size:16px;'>Job Status : job is queued (82) </p>"
      }
     },
     "ade8f876354f408a8c1110a76ed6da05": {
      "model_module": "@jupyter-widgets/controls",
      "model_module_version": "1.5.0",
      "model_name": "DescriptionStyleModel",
      "state": {
       "description_width": ""
      }
     },
     "ae196c4afea24592993fceac7e12be5d": {
      "model_module": "@jupyter-widgets/controls",
      "model_module_version": "1.5.0",
      "model_name": "HTMLModel",
      "state": {
       "layout": "IPY_MODEL_a013ef8c316541b99d14a41338d56cf0",
       "style": "IPY_MODEL_6e0d6a8c87fd4e85a2e74fe41eca8e04",
       "value": "<h5>0.0098</h5>"
      }
     },
     "ae37611ae6f7471e9709a42b881aa45d": {
      "model_module": "@jupyter-widgets/base",
      "model_module_version": "1.2.0",
      "model_name": "LayoutModel",
      "state": {
       "align_items": "center",
       "display": "flex-inline",
       "grid_area": "top",
       "height": "auto",
       "width": "auto"
      }
     },
     "aeadd5f6033f46e78cd2f7c6eb993cf5": {
      "model_module": "@jupyter-widgets/controls",
      "model_module_version": "1.5.0",
      "model_name": "DescriptionStyleModel",
      "state": {
       "description_width": ""
      }
     },
     "aed13f739afc4760b7cc4b64da935011": {
      "model_module": "@jupyter-widgets/base",
      "model_module_version": "1.2.0",
      "model_name": "LayoutModel",
      "state": {
       "grid_gap": "0px 25px",
       "grid_template_columns": "250px 250px ",
       "grid_template_rows": "auto"
      }
     },
     "af1337c5da944eca99f97f6285cf896e": {
      "model_module": "@jupyter-widgets/base",
      "model_module_version": "1.2.0",
      "model_name": "LayoutModel",
      "state": {
       "justify_content": "center"
      }
     },
     "af4ea1b66cd444b7bb894bc790dd3ffc": {
      "model_module": "@jupyter-widgets/base",
      "model_module_version": "1.2.0",
      "model_name": "LayoutModel",
      "state": {
       "max_width": "180px"
      }
     },
     "af71ae6ab25a479f814cf98a3b7cd504": {
      "model_module": "@jupyter-widgets/controls",
      "model_module_version": "1.5.0",
      "model_name": "DescriptionStyleModel",
      "state": {
       "description_width": ""
      }
     },
     "aff459c2bf8a43909d3d67da52f9daa0": {
      "model_module": "@jupyter-widgets/base",
      "model_module_version": "1.2.0",
      "model_name": "LayoutModel",
      "state": {
       "justify_content": "center"
      }
     },
     "aff6a234b7c344d4b7e6feab91341227": {
      "model_module": "@jupyter-widgets/base",
      "model_module_version": "1.2.0",
      "model_name": "LayoutModel",
      "state": {
       "margin": "10px 0px 0px 0px"
      }
     },
     "aff97ab48a7d4780a4c58b30907baa7d": {
      "model_module": "@jupyter-widgets/controls",
      "model_module_version": "1.5.0",
      "model_name": "HTMLModel",
      "state": {
       "layout": "IPY_MODEL_f7720ccb56014d538c76342529318e3d",
       "style": "IPY_MODEL_fba48c2fc0d6402baadff5e5649b89b4",
       "value": "<h5>0.0093</h5>"
      }
     },
     "b031735ea2774f15ad3e6d0442f240ef": {
      "model_module": "@jupyter-widgets/controls",
      "model_module_version": "1.5.0",
      "model_name": "VBoxModel",
      "state": {
       "children": [
        "IPY_MODEL_9d937bb881124f28b2a6da65884cdefc",
        "IPY_MODEL_6c0a43332e9a43508fff1f58f4c35e24",
        "IPY_MODEL_ac0ae7ab3a4444d2b95ba9f04835a24b",
        "IPY_MODEL_966f36990bff4128badb3eab2c467537",
        "IPY_MODEL_faab40fc9a344d92939bb795d9427999",
        "IPY_MODEL_941a8d55969a418d8a31ca43d2054082",
        "IPY_MODEL_4424012ac93742449756f48f7aa0108a",
        "IPY_MODEL_ae196c4afea24592993fceac7e12be5d",
        "IPY_MODEL_6718ab8adba4472abdb9313a8c9d53b6"
       ],
       "layout": "IPY_MODEL_e39d69b03db242319a9b48ad700594f1"
      }
     },
     "b04445772f804fa198ccfdccc727d8ab": {
      "model_module": "@jupyter-widgets/base",
      "model_module_version": "1.2.0",
      "model_name": "LayoutModel",
      "state": {}
     },
     "b0cfd7a11a7f453fb00394237292d0c1": {
      "model_module": "@jupyter-widgets/controls",
      "model_module_version": "1.5.0",
      "model_name": "HTMLModel",
      "state": {
       "layout": "IPY_MODEL_2d26eb1bbeaf4cbabe2bebf9315cd825",
       "style": "IPY_MODEL_b44a0a554adf42a79d3fc4f29b132db2",
       "value": "<h4>ibmqx2</h4>"
      }
     },
     "b10ac82303264382bd4a4605a470a9b9": {
      "model_module": "@jupyter-widgets/controls",
      "model_module_version": "1.5.0",
      "model_name": "DescriptionStyleModel",
      "state": {
       "description_width": ""
      }
     },
     "b135ec92fa57410da3f607f45b9fb02f": {
      "model_module": "@jupyter-widgets/base",
      "model_module_version": "1.2.0",
      "model_name": "LayoutModel",
      "state": {
       "justify_content": "center",
       "max_width": "250px",
       "min_width": "250px"
      }
     },
     "b158b57ad7de45ffb97493e5e3d107dd": {
      "model_module": "@jupyter-widgets/controls",
      "model_module_version": "1.5.0",
      "model_name": "HTMLModel",
      "state": {
       "layout": "IPY_MODEL_768bf13cd53f4e56a27685d537838957",
       "style": "IPY_MODEL_8efab83b28194138b11893b316f78c61",
       "value": "<table><style>\ntable {\n    border-collapse: collapse;\n    width: auto;\n}\n\nth, td {\n    text-align: left;\n    padding: 8px;\n}\n\ntr:nth-child(even) {background-color: #f6f6f6;};\n</style><tr><th></th><th>Type</th><th>Gate error</th></tr><tr><td><font style='font-weight:bold'>cx1_2</font></td><td>cx</td><td>0.04088</td></tr><tr><td><font style='font-weight:bold'>cx3_2</font></td><td>cx</td><td>0.08413</td></tr></table>"
      }
     },
     "b1ac7c6cd6e54f0982a2d635c75fbd01": {
      "model_module": "@jupyter-widgets/controls",
      "model_module_version": "1.5.0",
      "model_name": "DescriptionStyleModel",
      "state": {
       "description_width": ""
      }
     },
     "b203179b61bd4c6eb07bf349e0cb24a9": {
      "model_module": "@jupyter-widgets/base",
      "model_module_version": "1.2.0",
      "model_name": "LayoutModel",
      "state": {}
     },
     "b2156101134745fdbb1204ee4494d4a9": {
      "model_module": "@jupyter-widgets/base",
      "model_module_version": "1.2.0",
      "model_name": "LayoutModel",
      "state": {
       "justify_content": "center",
       "max_width": "250px",
       "min_width": "250px"
      }
     },
     "b23af3abf67a43a2bf2ce153352abef8": {
      "model_module": "@jupyter-widgets/base",
      "model_module_version": "1.2.0",
      "model_name": "LayoutModel",
      "state": {
       "justify_content": "center"
      }
     },
     "b24a965f62734ce1a0f9d28709a0001d": {
      "model_module": "@jupyter-widgets/base",
      "model_module_version": "1.2.0",
      "model_name": "LayoutModel",
      "state": {
       "justify_content": "center"
      }
     },
     "b275e08dcdfa4bcabcdf261cca5b2143": {
      "model_module": "@jupyter-widgets/controls",
      "model_module_version": "1.5.0",
      "model_name": "DescriptionStyleModel",
      "state": {
       "description_width": ""
      }
     },
     "b2ac6e6778a34f76a0d27a00d6929323": {
      "model_module": "@jupyter-widgets/base",
      "model_module_version": "1.2.0",
      "model_name": "LayoutModel",
      "state": {
       "margin": "10px 0px 0px 0px"
      }
     },
     "b2d50915f3ca410b8ba488d3a20dcd9a": {
      "model_module": "@jupyter-widgets/base",
      "model_module_version": "1.2.0",
      "model_name": "LayoutModel",
      "state": {
       "align_items": "center",
       "display": "flex-inline",
       "min_height": "400px"
      }
     },
     "b2d722d0e7764a5ebc3ddd7feb95380d": {
      "model_module": "@jupyter-widgets/base",
      "model_module_version": "1.2.0",
      "model_name": "LayoutModel",
      "state": {
       "justify_content": "center"
      }
     },
     "b38369fe6f0f4d40b7ffc932b2bd38dc": {
      "model_module": "@jupyter-widgets/controls",
      "model_module_version": "1.5.0",
      "model_name": "DescriptionStyleModel",
      "state": {
       "description_width": ""
      }
     },
     "b38abe90d17649c0a76fa0453ceb4e9a": {
      "model_module": "@jupyter-widgets/controls",
      "model_module_version": "1.5.0",
      "model_name": "DescriptionStyleModel",
      "state": {
       "description_width": ""
      }
     },
     "b3bef2d649f54db5b296e26fbf89fb6d": {
      "model_module": "@jupyter-widgets/controls",
      "model_module_version": "1.5.0",
      "model_name": "DescriptionStyleModel",
      "state": {
       "description_width": ""
      }
     },
     "b44a0a554adf42a79d3fc4f29b132db2": {
      "model_module": "@jupyter-widgets/controls",
      "model_module_version": "1.5.0",
      "model_name": "DescriptionStyleModel",
      "state": {
       "description_width": ""
      }
     },
     "b57d1d01ffa44c199af98b07d6f20884": {
      "model_module": "@jupyter-widgets/controls",
      "model_module_version": "1.5.0",
      "model_name": "DescriptionStyleModel",
      "state": {
       "description_width": ""
      }
     },
     "b61dbb18c6204451a84a32f6dbd262c1": {
      "model_module": "@jupyter-widgets/base",
      "model_module_version": "1.2.0",
      "model_name": "LayoutModel",
      "state": {
       "grid_area": "top"
      }
     },
     "b62deb90b4484b00b95120e605b80c61": {
      "model_module": "@jupyter-widgets/base",
      "model_module_version": "1.2.0",
      "model_name": "LayoutModel",
      "state": {
       "margin": "10px 0px 0px 0px"
      }
     },
     "b681d4396e0e42bd8c03c37a28b51e02": {
      "model_module": "@jupyter-widgets/controls",
      "model_module_version": "1.5.0",
      "model_name": "DescriptionStyleModel",
      "state": {
       "description_width": ""
      }
     },
     "b685851fc5f047aa8366adf0e37945ad": {
      "model_module": "@jupyter-widgets/base",
      "model_module_version": "1.2.0",
      "model_name": "LayoutModel",
      "state": {
       "justify_content": "center"
      }
     },
     "b6a015a4848449e9a9b50cdd93c56721": {
      "model_module": "@jupyter-widgets/controls",
      "model_module_version": "1.5.0",
      "model_name": "HTMLModel",
      "state": {
       "layout": "IPY_MODEL_92cea12845e641c692d4458fc98c6d6c",
       "style": "IPY_MODEL_60e89523c84149daae60fe10f413ba5d",
       "value": "<h5 style='color:#34bc6e'>True</h5>"
      }
     },
     "b6cab0930a0447d5b2b11fb6c6b38733": {
      "model_module": "@jupyter-widgets/controls",
      "model_module_version": "1.5.0",
      "model_name": "HTMLModel",
      "state": {
       "layout": "IPY_MODEL_43dfbd146b1444c6932a0971c7d84280",
       "style": "IPY_MODEL_21a3d4d010604efcabcb89ded2dd38a6",
       "value": "<div><font style='font-weight:bold'>last_update_date</font>: 2019-08-02T10:58:33+00:00</div>"
      }
     },
     "b6eff2958672468ca9cac6ce09865542": {
      "model_module": "@jupyter-widgets/base",
      "model_module_version": "1.2.0",
      "model_name": "LayoutModel",
      "state": {
       "align_items": "center",
       "display": "flex-inline",
       "grid_area": "right"
      }
     },
     "b725ebda4e6a4e98af2bb26a76270239": {
      "model_module": "@jupyter-widgets/base",
      "model_module_version": "1.2.0",
      "model_name": "LayoutModel",
      "state": {}
     },
     "b78a27a435014ee1b3d26e18f83c0547": {
      "model_module": "@jupyter-widgets/controls",
      "model_module_version": "1.5.0",
      "model_name": "DescriptionStyleModel",
      "state": {
       "description_width": ""
      }
     },
     "b7a6c5e026d645a499a097ec41d7f743": {
      "model_module": "@jupyter-widgets/controls",
      "model_module_version": "1.5.0",
      "model_name": "DescriptionStyleModel",
      "state": {
       "description_width": ""
      }
     },
     "b7e01809501043a3882fd0e4fa6db302": {
      "model_module": "@jupyter-widgets/base",
      "model_module_version": "1.2.0",
      "model_name": "LayoutModel",
      "state": {
       "align_items": "center",
       "display": "inline-flex",
       "flex_flow": "column"
      }
     },
     "b8321e16e1244081820df9b3d025af12": {
      "model_module": "@jupyter-widgets/controls",
      "model_module_version": "1.5.0",
      "model_name": "DescriptionStyleModel",
      "state": {
       "description_width": ""
      }
     },
     "b845403c5a8541a19c99aa03669d3b4b": {
      "model_module": "@jupyter-widgets/controls",
      "model_module_version": "1.5.0",
      "model_name": "DescriptionStyleModel",
      "state": {
       "description_width": ""
      }
     },
     "b84bb4124fe24ee590c8d236709be513": {
      "model_module": "@jupyter-widgets/controls",
      "model_module_version": "1.5.0",
      "model_name": "DescriptionStyleModel",
      "state": {
       "description_width": ""
      }
     },
     "b866decacc4542db8aba3d508a2a138e": {
      "model_module": "@jupyter-widgets/controls",
      "model_module_version": "1.5.0",
      "model_name": "HTMLModel",
      "state": {
       "layout": "IPY_MODEL_a757a8aa569f409ba3b80ce24921a2ad",
       "style": "IPY_MODEL_89a0347fab4c40dd818c013eb400b597",
       "value": "<h5>0.0507</h5>"
      }
     },
     "b86877484c4a41988593c2fc4a294594": {
      "model_module": "@jupyter-widgets/controls",
      "model_module_version": "1.5.0",
      "model_name": "DescriptionStyleModel",
      "state": {
       "description_width": ""
      }
     },
     "b8bd7340236346eb9c7bb43d53f187ff": {
      "model_module": "@jupyter-widgets/controls",
      "model_module_version": "1.5.0",
      "model_name": "DescriptionStyleModel",
      "state": {
       "description_width": ""
      }
     },
     "b904f9713077427a93e9f573d935e891": {
      "model_module": "@jupyter-widgets/controls",
      "model_module_version": "1.5.0",
      "model_name": "DescriptionStyleModel",
      "state": {
       "description_width": ""
      }
     },
     "b95b552962db4ca09edc3329c4d36d04": {
      "model_module": "@jupyter-widgets/controls",
      "model_module_version": "1.5.0",
      "model_name": "DescriptionStyleModel",
      "state": {
       "description_width": ""
      }
     },
     "b9721b05a5a74b538008d0c2dc1a69d2": {
      "model_module": "@jupyter-widgets/controls",
      "model_module_version": "1.5.0",
      "model_name": "DescriptionStyleModel",
      "state": {
       "description_width": ""
      }
     },
     "b97e5ce722c74c6b89ce40ca7eb9f63c": {
      "model_module": "@jupyter-widgets/controls",
      "model_module_version": "1.5.0",
      "model_name": "HTMLModel",
      "state": {
       "layout": "IPY_MODEL_7384d40e9d254c62a41ba26d765c8336",
       "style": "IPY_MODEL_c99758c918a34e64b217d166e5745ebd",
       "value": "<h1 style='color:#ffffff;background-color:#000000;padding-top: 1%;padding-bottom: 1%;padding-left: 1%; margin-top: 0px'>ibmq_16_melbourne</h1>"
      }
     },
     "b9c27ceada86498aa38a7ad2b0b37ffc": {
      "model_module": "@jupyter-widgets/base",
      "model_module_version": "1.2.0",
      "model_name": "LayoutModel",
      "state": {
       "max_width": "180px"
      }
     },
     "b9e156650f834b919cd17f0bfbaedbe5": {
      "model_module": "@jupyter-widgets/controls",
      "model_module_version": "1.5.0",
      "model_name": "HBoxModel",
      "state": {
       "children": [
        "IPY_MODEL_7fba1cf348424a719dd4219e93f48929",
        "IPY_MODEL_fcc44c7f86a04b5a81d88ebc687ca836",
        "IPY_MODEL_2b2d60f9fe6a46e1986aef13f4efc75b"
       ],
       "layout": "IPY_MODEL_b135ec92fa57410da3f607f45b9fb02f"
      }
     },
     "ba4ca72502f04f93bd2e0570fe2ca22d": {
      "model_module": "@jupyter-widgets/base",
      "model_module_version": "1.2.0",
      "model_name": "LayoutModel",
      "state": {}
     },
     "bb41d63b44ac46a0a495431e5e2b9070": {
      "model_module": "@jupyter-widgets/base",
      "model_module_version": "1.2.0",
      "model_name": "LayoutModel",
      "state": {
       "max_width": "180px"
      }
     },
     "bb4a0f87867c478c8594906b0ba57418": {
      "model_module": "@jupyter-widgets/controls",
      "model_module_version": "1.5.0",
      "model_name": "DescriptionStyleModel",
      "state": {
       "description_width": ""
      }
     },
     "bb994b7824544c47842792935014dd19": {
      "model_module": "@jupyter-widgets/controls",
      "model_module_version": "1.5.0",
      "model_name": "ProgressStyleModel",
      "state": {
       "bar_color": "#71cddd",
       "description_width": ""
      }
     },
     "bc46f65cc05e40f2914fc8750a9d1139": {
      "model_module": "@jupyter-widgets/output",
      "model_module_version": "1.0.0",
      "model_name": "OutputModel",
      "state": {
       "layout": "IPY_MODEL_ae37611ae6f7471e9709a42b881aa45d",
       "outputs": [
        {
         "data": {
          "image/png": "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\n",
          "text/plain": "<Figure size 450x450 with 1 Axes>"
         },
         "metadata": {},
         "output_type": "display_data"
        }
       ]
      }
     },
     "bc47833234bb4780a20217c449027288": {
      "model_module": "@jupyter-widgets/base",
      "model_module_version": "1.2.0",
      "model_name": "LayoutModel",
      "state": {
       "align_items": "center",
       "display": "inline-flex",
       "flex_flow": "column"
      }
     },
     "bcb9ddef9c084dbdbcf741d105a917e5": {
      "model_module": "@jupyter-widgets/base",
      "model_module_version": "1.2.0",
      "model_name": "LayoutModel",
      "state": {
       "min_width": "auto"
      }
     },
     "bd0041e3a63a4fa1a406153de3fa58bb": {
      "model_module": "@jupyter-widgets/base",
      "model_module_version": "1.2.0",
      "model_name": "LayoutModel",
      "state": {}
     },
     "bd15488c0c4441df911d040c75cabff0": {
      "model_module": "@jupyter-widgets/base",
      "model_module_version": "1.2.0",
      "model_name": "LayoutModel",
      "state": {}
     },
     "bd81cd2d91e84b79a9e758c01d4d5be3": {
      "model_module": "@jupyter-widgets/base",
      "model_module_version": "1.2.0",
      "model_name": "LayoutModel",
      "state": {
       "margin": "0px 0px 0px 35px",
       "width": "560px"
      }
     },
     "bd8f7464aff2439c8bebc149da4ce563": {
      "model_module": "@jupyter-widgets/output",
      "model_module_version": "1.0.0",
      "model_name": "OutputModel",
      "state": {
       "layout": "IPY_MODEL_b2d50915f3ca410b8ba488d3a20dcd9a",
       "outputs": [
        {
         "data": {
          "image/png": "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\n",
          "text/plain": "<Figure size 360x360 with 1 Axes>"
         },
         "metadata": {},
         "output_type": "display_data"
        }
       ]
      }
     },
     "bd94d58b7be54570a57dd439585346a7": {
      "model_module": "@jupyter-widgets/base",
      "model_module_version": "1.2.0",
      "model_name": "LayoutModel",
      "state": {
       "justify_content": "center"
      }
     },
     "bdcfbed3f8cb43329bb67042b0c7be15": {
      "model_module": "@jupyter-widgets/controls",
      "model_module_version": "1.5.0",
      "model_name": "DescriptionStyleModel",
      "state": {
       "description_width": ""
      }
     },
     "be35cdb2896c4b929401f040d3ae3035": {
      "model_module": "@jupyter-widgets/controls",
      "model_module_version": "1.5.0",
      "model_name": "DescriptionStyleModel",
      "state": {
       "description_width": ""
      }
     },
     "be989aef8b2442edbe19c7f285ac5dd8": {
      "model_module": "@jupyter-widgets/base",
      "model_module_version": "1.2.0",
      "model_name": "LayoutModel",
      "state": {}
     },
     "bea24bce9f5448c7a529b0d982a50e20": {
      "model_module": "@jupyter-widgets/controls",
      "model_module_version": "1.5.0",
      "model_name": "HTMLModel",
      "state": {
       "layout": "IPY_MODEL_ebaa50b01d0141c0994fb8b944d325db",
       "style": "IPY_MODEL_4a22d73c8dc24731b6b9e8f25cc4e8e7",
       "value": "ibmqx2"
      }
     },
     "beb33717101342a19ea49ea95ed543e4": {
      "model_module": "@jupyter-widgets/base",
      "model_module_version": "1.2.0",
      "model_name": "LayoutModel",
      "state": {
       "justify_content": "center",
       "max_width": "250px",
       "min_width": "250px"
      }
     },
     "beca2b9298ad4c13af2cd548f01c991e": {
      "model_module": "@jupyter-widgets/controls",
      "model_module_version": "1.5.0",
      "model_name": "DescriptionStyleModel",
      "state": {
       "description_width": ""
      }
     },
     "bfb175c193064d18ae38697383fb9fc8": {
      "model_module": "@jupyter-widgets/controls",
      "model_module_version": "1.5.0",
      "model_name": "DescriptionStyleModel",
      "state": {
       "description_width": ""
      }
     },
     "bff451b7e4a44f3885161a541962d9cd": {
      "model_module": "@jupyter-widgets/controls",
      "model_module_version": "1.5.0",
      "model_name": "HTMLModel",
      "state": {
       "layout": "IPY_MODEL_7b352a85742d4928b9a68ba7db70aa30",
       "style": "IPY_MODEL_1ab477fbbcaa4eb39aa2824c57781388",
       "value": "<h5 style='color:#34bc6e'>True</h5>"
      }
     },
     "c004439bae3344398c9dee7e24227916": {
      "model_module": "@jupyter-widgets/base",
      "model_module_version": "1.2.0",
      "model_name": "LayoutModel",
      "state": {}
     },
     "c029454c9ff942a393b430497445f89f": {
      "model_module": "@jupyter-widgets/base",
      "model_module_version": "1.2.0",
      "model_name": "LayoutModel",
      "state": {
       "margin": "0px 0px 0px 0px"
      }
     },
     "c0d725a4866840cfb466dbfaaafedb33": {
      "model_module": "@jupyter-widgets/controls",
      "model_module_version": "1.5.0",
      "model_name": "VBoxModel",
      "state": {
       "children": [
        "IPY_MODEL_727ba34838f845168304723d338916d2",
        "IPY_MODEL_dc56fc048eb0495f9fb47fa5ce68f1ab",
        "IPY_MODEL_2006f23464d04939945f7c5e6c0c8b0e",
        "IPY_MODEL_6f5562329bff4495828217adab20985f",
        "IPY_MODEL_d9a47a96a88f4c28af7d1b0f3f69e5de",
        "IPY_MODEL_da70e178bbdc4178a6ac041137ebbe10",
        "IPY_MODEL_6203c03585d347de8bc5afc27114bb92"
       ],
       "layout": "IPY_MODEL_db671d600fc147819acc221304e24e0e"
      }
     },
     "c1211669fe4341e59c400618188c2b0b": {
      "model_module": "@jupyter-widgets/controls",
      "model_module_version": "1.5.0",
      "model_name": "DescriptionStyleModel",
      "state": {
       "description_width": ""
      }
     },
     "c137e4dbd0a34c528f66e2be67df9062": {
      "model_module": "@jupyter-widgets/controls",
      "model_module_version": "1.5.0",
      "model_name": "HTMLModel",
      "state": {
       "layout": "IPY_MODEL_850109aa577e4a9ba26a5c34f58e9aa5",
       "style": "IPY_MODEL_d886f2f05e4c4e43a80f9bbe5e71eb85",
       "value": "<h5 style='color:#34bc6e'>True</h5>"
      }
     },
     "c178a41f33904db1810f31c958a5304f": {
      "model_module": "@jupyter-widgets/controls",
      "model_module_version": "1.5.0",
      "model_name": "ProgressStyleModel",
      "state": {
       "bar_color": "#71cddd",
       "description_width": ""
      }
     },
     "c187bae470dd4316817e15cbff063786": {
      "model_module": "@jupyter-widgets/controls",
      "model_module_version": "1.5.0",
      "model_name": "HTMLModel",
      "state": {
       "layout": "IPY_MODEL_be989aef8b2442edbe19c7f285ac5dd8",
       "style": "IPY_MODEL_b10ac82303264382bd4a4605a470a9b9",
       "value": "<h5>45.9 µs</h5>"
      }
     },
     "c223e2f0508e49c7b57e41a5ffdf03f3": {
      "model_module": "@jupyter-widgets/controls",
      "model_module_version": "1.5.0",
      "model_name": "DescriptionStyleModel",
      "state": {
       "description_width": ""
      }
     },
     "c2b9a602a2af400da2ce959038612d5e": {
      "model_module": "@jupyter-widgets/base",
      "model_module_version": "1.2.0",
      "model_name": "LayoutModel",
      "state": {
       "justify_content": "center"
      }
     },
     "c2ea1958d1bc441e804cd2c2c19c4077": {
      "model_module": "@jupyter-widgets/controls",
      "model_module_version": "1.5.0",
      "model_name": "DescriptionStyleModel",
      "state": {
       "description_width": ""
      }
     },
     "c3b379ab0c5441eb950b980b34966d31": {
      "model_module": "@jupyter-widgets/controls",
      "model_module_version": "1.5.0",
      "model_name": "HBoxModel",
      "state": {
       "children": [
        "IPY_MODEL_c0d725a4866840cfb466dbfaaafedb33",
        "IPY_MODEL_e1dda6fd2a6e4944853dcec71c57e0e2"
       ],
       "layout": "IPY_MODEL_f14433f77187469196ca9c6928a4835d"
      }
     },
     "c3c95202b39142a18ef833a9b6711ef5": {
      "model_module": "@jupyter-widgets/base",
      "model_module_version": "1.2.0",
      "model_name": "LayoutModel",
      "state": {
       "justify_content": "center",
       "max_width": "250px",
       "min_width": "250px"
      }
     },
     "c3d6305a69474870ae605b2710f64455": {
      "model_module": "@jupyter-widgets/controls",
      "model_module_version": "1.5.0",
      "model_name": "HBoxModel",
      "state": {
       "children": [
        "IPY_MODEL_245e4a3fd5af4c40a10c6ff5bc64062d",
        "IPY_MODEL_2869603b370c416dbc77be59ad1f2df0",
        "IPY_MODEL_ab7665ff62c84527b5f2be10da08d31d"
       ],
       "layout": "IPY_MODEL_120e8fd55354421e98ea2d231af0bad2"
      }
     },
     "c490e0d563464f2a8339b7dc5201206b": {
      "model_module": "@jupyter-widgets/base",
      "model_module_version": "1.2.0",
      "model_name": "LayoutModel",
      "state": {
       "justify_content": "center",
       "max_width": "250px",
       "min_width": "250px"
      }
     },
     "c492a6f554ce46fd9c84aefa2a321a68": {
      "model_module": "@jupyter-widgets/controls",
      "model_module_version": "1.5.0",
      "model_name": "DescriptionStyleModel",
      "state": {
       "description_width": ""
      }
     },
     "c4e9b9c0be794116b5085cfa6f56266b": {
      "model_module": "@jupyter-widgets/base",
      "model_module_version": "1.2.0",
      "model_name": "LayoutModel",
      "state": {
       "justify_content": "center"
      }
     },
     "c68efab6df0a48e79ac4c08f8ecb318a": {
      "model_module": "@jupyter-widgets/controls",
      "model_module_version": "1.5.0",
      "model_name": "DescriptionStyleModel",
      "state": {
       "description_width": ""
      }
     },
     "c6e3e2f285f44f53afc17043dc00ba01": {
      "model_module": "@jupyter-widgets/controls",
      "model_module_version": "1.5.0",
      "model_name": "HBoxModel",
      "state": {
       "children": [
        "IPY_MODEL_332721e96e6b48dfb39ec2150f1ccd93",
        "IPY_MODEL_5f78ac63a2b4490b803db422865f1615",
        "IPY_MODEL_18f2622a757f4887a52d53190088a71f"
       ],
       "layout": "IPY_MODEL_6c23b178488c4805a95f6cced4ceb5ae"
      }
     },
     "c7222d77c3954022a392b772acfc301c": {
      "model_module": "@jupyter-widgets/base",
      "model_module_version": "1.2.0",
      "model_name": "LayoutModel",
      "state": {
       "grid_gap": "0px 0px",
       "grid_template_areas": "\n                                                \"top top top\"\n                                                \"left . right\"\n                                                ",
       "grid_template_columns": "33% 33% 33%",
       "grid_template_rows": "auto auto"
      }
     },
     "c73b27429a204c8880186fcc03a66e6e": {
      "model_module": "@jupyter-widgets/controls",
      "model_module_version": "1.5.0",
      "model_name": "DescriptionStyleModel",
      "state": {
       "description_width": ""
      }
     },
     "c74e1dc112fa4103b75a6719825a4353": {
      "model_module": "@jupyter-widgets/controls",
      "model_module_version": "1.5.0",
      "model_name": "HBoxModel",
      "state": {
       "children": [
        "IPY_MODEL_a1adce0471e346eeabe8c479d73da0d1",
        "IPY_MODEL_e088b0ce88ff401a856998c7da3a8ad1",
        "IPY_MODEL_24c2539f2fc0453c875dfb149172f9c4"
       ],
       "layout": "IPY_MODEL_dbd3ad37fd084f9c912eec7b55647372"
      }
     },
     "c789db03876d44bb98c0399fe0f56560": {
      "model_module": "@jupyter-widgets/base",
      "model_module_version": "1.2.0",
      "model_name": "LayoutModel",
      "state": {}
     },
     "c7bcb43eebd84741b15bc64eaf20c559": {
      "model_module": "@jupyter-widgets/base",
      "model_module_version": "1.2.0",
      "model_name": "LayoutModel",
      "state": {
       "align_items": "center",
       "justify_content": "center",
       "margin": "0px 0px 0px 0px",
       "max_height": "250px",
       "max_width": "250px",
       "min_height": "250px",
       "min_width": "250px"
      }
     },
     "c8369ca7bc354c72abc508998c0d77fd": {
      "model_module": "@jupyter-widgets/controls",
      "model_module_version": "1.5.0",
      "model_name": "LabelModel",
      "state": {
       "layout": "IPY_MODEL_7c0d46e332c6480f9affaa079be137b1",
       "style": "IPY_MODEL_fc9a8b619be74ad1bb283827735374e7",
       "value": "0"
      }
     },
     "c894610a2e0542ca9a5ea1edec45b2da": {
      "model_module": "@jupyter-widgets/base",
      "model_module_version": "1.2.0",
      "model_name": "LayoutModel",
      "state": {}
     },
     "c8960955e45d4593b994676541a4e223": {
      "model_module": "@jupyter-widgets/controls",
      "model_module_version": "1.5.0",
      "model_name": "HTMLModel",
      "state": {
       "layout": "IPY_MODEL_b04445772f804fa198ccfdccc727d8ab",
       "style": "IPY_MODEL_88a2e50e9865436399e81a48f7a9fc2e",
       "value": "<p style='font-size:16px;'>Job Status [3]: job is queued (77) </p>"
      }
     },
     "c931c8ecaebb46ac811b958333a0b95a": {
      "model_module": "@jupyter-widgets/controls",
      "model_module_version": "1.5.0",
      "model_name": "DescriptionStyleModel",
      "state": {
       "description_width": ""
      }
     },
     "c97102328ca245b385bbc6de694b6663": {
      "model_module": "@jupyter-widgets/controls",
      "model_module_version": "1.5.0",
      "model_name": "DescriptionStyleModel",
      "state": {
       "description_width": ""
      }
     },
     "c9939f97250140ffadd8ab9953ac5f37": {
      "model_module": "@jupyter-widgets/base",
      "model_module_version": "1.2.0",
      "model_name": "LayoutModel",
      "state": {}
     },
     "c99758c918a34e64b217d166e5745ebd": {
      "model_module": "@jupyter-widgets/controls",
      "model_module_version": "1.5.0",
      "model_name": "DescriptionStyleModel",
      "state": {
       "description_width": ""
      }
     },
     "c9c4221c7ff04100a3fddf56ed850d2b": {
      "model_module": "@jupyter-widgets/controls",
      "model_module_version": "1.5.0",
      "model_name": "ProgressStyleModel",
      "state": {
       "bar_color": "#71cddd",
       "description_width": ""
      }
     },
     "cbbfa81cae694e2690d31a3c340a17ab": {
      "model_module": "@jupyter-widgets/base",
      "model_module_version": "1.2.0",
      "model_name": "LayoutModel",
      "state": {}
     },
     "cbe87682c8664114b195d55b5901dfc6": {
      "model_module": "@jupyter-widgets/base",
      "model_module_version": "1.2.0",
      "model_name": "LayoutModel",
      "state": {
       "justify_content": "center"
      }
     },
     "cbfe390f512e4e9b8d68a35ab3dde863": {
      "model_module": "@jupyter-widgets/base",
      "model_module_version": "1.2.0",
      "model_name": "LayoutModel",
      "state": {}
     },
     "cc47495c2ca04151a0794b02c2028e91": {
      "model_module": "@jupyter-widgets/controls",
      "model_module_version": "1.5.0",
      "model_name": "LabelModel",
      "state": {
       "layout": "IPY_MODEL_8cbb66684406455eb1d5d2e1fbab94b8",
       "style": "IPY_MODEL_b275e08dcdfa4bcabcdf261cca5b2143",
       "value": "50"
      }
     },
     "cc81a00c42c0413a93c259259ec7b1bc": {
      "model_module": "@jupyter-widgets/controls",
      "model_module_version": "1.5.0",
      "model_name": "DescriptionStyleModel",
      "state": {
       "description_width": ""
      }
     },
     "cd19ac44e4a5417da7b777666e188eee": {
      "model_module": "@jupyter-widgets/base",
      "model_module_version": "1.2.0",
      "model_name": "LayoutModel",
      "state": {
       "justify_content": "center",
       "max_width": "250px",
       "min_width": "250px"
      }
     },
     "cd88a7f1360b48c8abd22b8f1667d7a3": {
      "model_module": "@jupyter-widgets/controls",
      "model_module_version": "1.5.0",
      "model_name": "ButtonModel",
      "state": {
       "icon": "close",
       "layout": "IPY_MODEL_d61323b5764c41f092eea6b90a8f8683",
       "style": "IPY_MODEL_568dd32f13434346beb5f6ab8d6e3ef1"
      }
     },
     "cdcc21a4c0674909a9ee3de00b011ba3": {
      "model_module": "@jupyter-widgets/controls",
      "model_module_version": "1.5.0",
      "model_name": "HTMLModel",
      "state": {
       "layout": "IPY_MODEL_8d5a950b732d4b27b043077daa024c06",
       "style": "IPY_MODEL_9c4975013ae249dbb6a790a277876220",
       "value": "<h5 style='color:#dc267f'>False</h5>"
      }
     },
     "cdf0152cc4a44f6abcdb5387b4393959": {
      "model_module": "@jupyter-widgets/base",
      "model_module_version": "1.2.0",
      "model_name": "LayoutModel",
      "state": {
       "justify_content": "center"
      }
     },
     "ced8b9f5194e44519e60ba89a5eb588f": {
      "model_module": "@jupyter-widgets/controls",
      "model_module_version": "1.5.0",
      "model_name": "HTMLModel",
      "state": {
       "layout": "IPY_MODEL_ff3cb84f6ab742e38aed7458dd206766",
       "style": "IPY_MODEL_13c5b15e353347a2aa64e4be0460c83a",
       "value": "<h5>72.0 / 76.1 µs</h5>"
      }
     },
     "cfe2e252e67d4a38b74c7fb11a71101e": {
      "model_module": "@jupyter-widgets/output",
      "model_module_version": "1.0.0",
      "model_name": "OutputModel",
      "state": {
       "layout": "IPY_MODEL_a64295d71b614608a3084c978e41f2fc",
       "outputs": [
        {
         "data": {
          "image/png": "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\n",
          "text/plain": "<Figure size 360x360 with 1 Axes>"
         },
         "metadata": {},
         "output_type": "display_data"
        }
       ]
      }
     },
     "d0066989128343f18b47db7606074ed1": {
      "model_module": "@jupyter-widgets/controls",
      "model_module_version": "1.5.0",
      "model_name": "DescriptionStyleModel",
      "state": {
       "description_width": ""
      }
     },
     "d00943109f9a485daf9c5f12bf90f756": {
      "model_module": "@jupyter-widgets/controls",
      "model_module_version": "1.5.0",
      "model_name": "HBoxModel",
      "state": {
       "children": [
        "IPY_MODEL_4d109dbb2952491da4c3214e8d94acfe",
        "IPY_MODEL_e8d719fc9ac7489aa19805a174098c1e"
       ],
       "layout": "IPY_MODEL_a925a61c415d4547a5e93beae9743dba"
      }
     },
     "d010fb8501044eac9db309d6dd3d0f0a": {
      "model_module": "@jupyter-widgets/base",
      "model_module_version": "1.2.0",
      "model_name": "LayoutModel",
      "state": {}
     },
     "d0e6bf912f2a46d6b4a7dfe3c724033e": {
      "model_module": "@jupyter-widgets/controls",
      "model_module_version": "1.5.0",
      "model_name": "DescriptionStyleModel",
      "state": {
       "description_width": ""
      }
     },
     "d19a51675a2e4993a960de45ab9bcdac": {
      "model_module": "@jupyter-widgets/base",
      "model_module_version": "1.2.0",
      "model_name": "LayoutModel",
      "state": {
       "border": "4px solid #000000",
       "max_height": "650px",
       "min_height": "650px",
       "overflow_y": "hidden"
      }
     },
     "d1fc72668e1b4f5991e2052306845996": {
      "model_module": "@jupyter-widgets/controls",
      "model_module_version": "1.5.0",
      "model_name": "DescriptionStyleModel",
      "state": {
       "description_width": ""
      }
     },
     "d2de3d439f954b0e977898888d838834": {
      "model_module": "@jupyter-widgets/base",
      "model_module_version": "1.2.0",
      "model_name": "LayoutModel",
      "state": {}
     },
     "d39adcbc740541c49f7e14d1db65081f": {
      "model_module": "@jupyter-widgets/controls",
      "model_module_version": "1.5.0",
      "model_name": "HTMLModel",
      "state": {
       "layout": "IPY_MODEL_73e392cdfcdc48bd9ce180f7d7511d13",
       "style": "IPY_MODEL_c223e2f0508e49c7b57e41a5ffdf03f3",
       "value": "<h4>macaroni</h4>"
      }
     },
     "d3cadad86f224df6bf6f544a4f2fcde9": {
      "model_module": "@jupyter-widgets/base",
      "model_module_version": "1.2.0",
      "model_name": "LayoutModel",
      "state": {}
     },
     "d3fb42267f684e288d86245fec03797b": {
      "model_module": "@jupyter-widgets/controls",
      "model_module_version": "1.5.0",
      "model_name": "VBoxModel",
      "state": {
       "children": [
        "IPY_MODEL_1b88974e13694605bb7ae7895a650562",
        "IPY_MODEL_a1e8e6080ce942be8dd99a6dae72c465"
       ],
       "layout": "IPY_MODEL_aacbde6acf514f459e94e61f1a362085"
      }
     },
     "d3fe208bbbd748d3bdc12b58d8a09f74": {
      "model_module": "@jupyter-widgets/controls",
      "model_module_version": "1.5.0",
      "model_name": "HTMLModel",
      "state": {
       "layout": "IPY_MODEL_fd1e97ff06c54360a8c35d238bd6b74b",
       "style": "IPY_MODEL_e4ea59991fd242a58f4680dc09e7075c",
       "value": "<h5 style='color:#34bc6e'>True</h5>"
      }
     },
     "d4c7acde83874fa88af31ebbdc282649": {
      "model_module": "@jupyter-widgets/controls",
      "model_module_version": "1.5.0",
      "model_name": "DescriptionStyleModel",
      "state": {
       "description_width": ""
      }
     },
     "d4dea22db5e640468b319a6d383d9f69": {
      "model_module": "@jupyter-widgets/controls",
      "model_module_version": "1.5.0",
      "model_name": "DescriptionStyleModel",
      "state": {
       "description_width": ""
      }
     },
     "d52edd1211334e8eb2f7460ede10e857": {
      "model_module": "@jupyter-widgets/controls",
      "model_module_version": "1.5.0",
      "model_name": "DescriptionStyleModel",
      "state": {
       "description_width": ""
      }
     },
     "d5b2c0a663104faf9a8be4dbe7e913c8": {
      "model_module": "@jupyter-widgets/controls",
      "model_module_version": "1.5.0",
      "model_name": "HTMLModel",
      "state": {
       "layout": "IPY_MODEL_168c4284439c4baf9a6dc52846c2a16b",
       "style": "IPY_MODEL_af71ae6ab25a479f814cf98a3b7cd504",
       "value": "<h5>0.0629</h5>"
      }
     },
     "d60637370e9e4af9b15776456ab08bb1": {
      "model_module": "@jupyter-widgets/controls",
      "model_module_version": "1.5.0",
      "model_name": "HTMLModel",
      "state": {
       "layout": "IPY_MODEL_2fc5a4e9ba68457b897cf157f679018e",
       "style": "IPY_MODEL_8553c38670074f8c90b4846c53ccce87",
       "value": "<h5><b>20</b></h5>"
      }
     },
     "d61323b5764c41f092eea6b90a8f8683": {
      "model_module": "@jupyter-widgets/base",
      "model_module_version": "1.2.0",
      "model_name": "LayoutModel",
      "state": {
       "margin": "0px 5px 0px 0px",
       "width": "30px"
      }
     },
     "d6be6a2065ad4f33bae3e2c26619047b": {
      "model_module": "@jupyter-widgets/controls",
      "model_module_version": "1.5.0",
      "model_name": "HTMLModel",
      "state": {
       "layout": "IPY_MODEL_af1337c5da944eca99f97f6285cf896e",
       "style": "IPY_MODEL_6427febde89e45c4a579838e62777455",
       "value": "<h5 style='color:#34bc6e'>True</h5>"
      }
     },
     "d6d2399f890e4795a7c98b4017ba074d": {
      "model_module": "@jupyter-widgets/controls",
      "model_module_version": "1.5.0",
      "model_name": "HTMLModel",
      "state": {
       "layout": "IPY_MODEL_754519abf04640838d5f2c1e5bc47d62",
       "style": "IPY_MODEL_76173dcea6904fc1b3468446f90dcdf6",
       "value": "<div><font style='font-weight:bold'>last_update_date</font>: 2019-08-02T10:58:33+00:00</div>"
      }
     },
     "d7ab2ceb753d43d5bb0837d3d67922f9": {
      "model_module": "@jupyter-widgets/controls",
      "model_module_version": "1.5.0",
      "model_name": "HBoxModel",
      "state": {
       "children": [
        "IPY_MODEL_c8369ca7bc354c72abc508998c0d77fd",
        "IPY_MODEL_53e79352cd6545e98c5bfa6c27c09b7d",
        "IPY_MODEL_cc47495c2ca04151a0794b02c2028e91"
       ],
       "layout": "IPY_MODEL_11085fb0fbc34dfd904540d7097000fd"
      }
     },
     "d7c5c979f24c4a699df836b1bcbb0efd": {
      "model_module": "@jupyter-widgets/base",
      "model_module_version": "1.2.0",
      "model_name": "LayoutModel",
      "state": {}
     },
     "d804ee0ddb944afd98934a93a0caccca": {
      "model_module": "@jupyter-widgets/controls",
      "model_module_version": "1.5.0",
      "model_name": "HTMLModel",
      "state": {
       "layout": "IPY_MODEL_a7e49b8060d74170afc9913914de8014",
       "style": "IPY_MODEL_f5d6daa1262440099177e2a97147141e",
       "value": "<p style='font-size:16px;'>Job Status [0]: job is queued (78) </p>"
      }
     },
     "d862e1299b904cb0ac63206aaf8b5a2b": {
      "model_module": "@jupyter-widgets/controls",
      "model_module_version": "1.5.0",
      "model_name": "DescriptionStyleModel",
      "state": {
       "description_width": ""
      }
     },
     "d886f2f05e4c4e43a80f9bbe5e71eb85": {
      "model_module": "@jupyter-widgets/controls",
      "model_module_version": "1.5.0",
      "model_name": "DescriptionStyleModel",
      "state": {
       "description_width": ""
      }
     },
     "d9058b90ce134ad697d1950528d11380": {
      "model_module": "@jupyter-widgets/controls",
      "model_module_version": "1.5.0",
      "model_name": "VBoxModel",
      "state": {
       "children": [
        "IPY_MODEL_328436f9e733422eb7a53214f62798db",
        "IPY_MODEL_d00943109f9a485daf9c5f12bf90f756"
       ],
       "layout": "IPY_MODEL_785ab45ee6f34af4b0f0cd439ed00a62"
      }
     },
     "d91d3e00284541ecac91e8a0e861117b": {
      "model_module": "@jupyter-widgets/controls",
      "model_module_version": "1.5.0",
      "model_name": "DescriptionStyleModel",
      "state": {
       "description_width": ""
      }
     },
     "d95b2718ee004145aad274280fda5059": {
      "model_module": "@jupyter-widgets/base",
      "model_module_version": "1.2.0",
      "model_name": "LayoutModel",
      "state": {
       "grid_gap": "0px 0px",
       "grid_template_areas": "\n                               \"left right right right\"\n                               \"bottom bottom bottom bottom\"\n                               ",
       "grid_template_columns": "25% 25% 25% 25%",
       "grid_template_rows": "auto auto"
      }
     },
     "d97433776b0b4f168ce1f6e294187b74": {
      "model_module": "@jupyter-widgets/controls",
      "model_module_version": "1.5.0",
      "model_name": "DescriptionStyleModel",
      "state": {
       "description_width": ""
      }
     },
     "d9a47a96a88f4c28af7d1b0f3f69e5de": {
      "model_module": "@jupyter-widgets/controls",
      "model_module_version": "1.5.0",
      "model_name": "LabelModel",
      "state": {
       "layout": "IPY_MODEL_aff6a234b7c344d4b7e6feab91341227",
       "style": "IPY_MODEL_8afe24e13cf74ae6aa030387bb9b5aab",
       "value": "Avg. T1 / T2"
      }
     },
     "d9dab157cca841a6a42569c04239b43e": {
      "model_module": "@jupyter-widgets/controls",
      "model_module_version": "1.5.0",
      "model_name": "DescriptionStyleModel",
      "state": {
       "description_width": ""
      }
     },
     "da6a62e63144435d9b477e49633b70b4": {
      "model_module": "@jupyter-widgets/controls",
      "model_module_version": "1.5.0",
      "model_name": "HTMLModel",
      "state": {
       "layout": "IPY_MODEL_c894610a2e0542ca9a5ea1edec45b2da",
       "style": "IPY_MODEL_747dfe8ed642441fab300e130e0b44ca",
       "value": "<p style='font-size:16px;'>Job Status: job is queued (67) </p>"
      }
     },
     "da70e178bbdc4178a6ac041137ebbe10": {
      "model_module": "@jupyter-widgets/controls",
      "model_module_version": "1.5.0",
      "model_name": "LabelModel",
      "state": {
       "layout": "IPY_MODEL_b2ac6e6778a34f76a0d27a00d6929323",
       "style": "IPY_MODEL_c492a6f554ce46fd9c84aefa2a321a68",
       "value": "Avg. CX Err."
      }
     },
     "da95936f93f54753a3dd666da089c799": {
      "model_module": "@jupyter-widgets/base",
      "model_module_version": "1.2.0",
      "model_name": "LayoutModel",
      "state": {
       "justify_content": "center"
      }
     },
     "db671d600fc147819acc221304e24e0e": {
      "model_module": "@jupyter-widgets/base",
      "model_module_version": "1.2.0",
      "model_name": "LayoutModel",
      "state": {
       "margin": "295px 0px 0px 0px",
       "min_width": "100px"
      }
     },
     "db9254b9b9a04743bc1076b152c2e62e": {
      "model_module": "@jupyter-widgets/controls",
      "model_module_version": "1.5.0",
      "model_name": "DescriptionStyleModel",
      "state": {
       "description_width": ""
      }
     },
     "dbd3ad37fd084f9c912eec7b55647372": {
      "model_module": "@jupyter-widgets/base",
      "model_module_version": "1.2.0",
      "model_name": "LayoutModel",
      "state": {
       "justify_content": "center",
       "max_width": "250px",
       "min_width": "250px"
      }
     },
     "dc15425669114772bfe5a29d36a6332c": {
      "model_module": "@jupyter-widgets/controls",
      "model_module_version": "1.5.0",
      "model_name": "DescriptionStyleModel",
      "state": {
       "description_width": ""
      }
     },
     "dc56fc048eb0495f9fb47fa5ce68f1ab": {
      "model_module": "@jupyter-widgets/controls",
      "model_module_version": "1.5.0",
      "model_name": "LabelModel",
      "state": {
       "layout": "IPY_MODEL_832f8bc7241642a49cc2f4f1df06e809",
       "style": "IPY_MODEL_b84bb4124fe24ee590c8d236709be513",
       "value": "Pending Jobs"
      }
     },
     "dc694c0add894a4e94427dc8eaa6362b": {
      "model_module": "@jupyter-widgets/base",
      "model_module_version": "1.2.0",
      "model_name": "LayoutModel",
      "state": {
       "min_width": "auto"
      }
     },
     "dcb20359f2f840129b82fed08c1697de": {
      "model_module": "@jupyter-widgets/base",
      "model_module_version": "1.2.0",
      "model_name": "LayoutModel",
      "state": {}
     },
     "dcda09fd1d6349b2b0606f64446cecfb": {
      "model_module": "@jupyter-widgets/controls",
      "model_module_version": "1.5.0",
      "model_name": "HTMLMathModel",
      "state": {
       "layout": "IPY_MODEL_e1a8fc11510f40b0a219209ab35984e1",
       "style": "IPY_MODEL_db9254b9b9a04743bc1076b152c2e62e",
       "value": "<table><style>\ntable {\n    border-collapse: collapse;\n    width: auto;\n}\n\nth, td {\n    text-align: left;\n    padding: 8px;\n}\n\ntr:nth-child(even) {background-color: #f6f6f6;}\n</style><tr><th></th><th></th></tr><tr><td>sample_name</td><td>sparrow</td></tr><tr><td>coupling_map</td><td>[[0, 1], [0, 2], [1, 2], [3, 2], [3, 4], [4, 2]]</td></tr><tr><td>open_pulse</td><td>False</td></tr><tr><td>memory</td><td>True</td></tr><tr><td>local</td><td>False</td></tr><tr><td>online_date</td><td>2018-11-06T05:00:00+00:00</td></tr><tr><td>description</td><td>5 qubit device</td></tr><tr><td>allow_q_circuit</td><td>False</td></tr><tr><td>n_registers</td><td>1</td></tr><tr><td>simulator</td><td>False</td></tr><tr><td>backend_name</td><td>ibmqx2</td></tr><tr><td>credits_required</td><td>True</td></tr><tr><td>allow_q_object</td><td>True</td></tr><tr><td>url</td><td>None</td></tr><tr><td>conditional</td><td>False</td></tr></table>"
      }
     },
     "dced587a7e6d44929a0265393ee3d782": {
      "model_module": "@jupyter-widgets/controls",
      "model_module_version": "1.5.0",
      "model_name": "DescriptionStyleModel",
      "state": {
       "description_width": ""
      }
     },
     "dcffc622ce69488bb6c991fb7db07cae": {
      "model_module": "@jupyter-widgets/controls",
      "model_module_version": "1.5.0",
      "model_name": "DescriptionStyleModel",
      "state": {
       "description_width": ""
      }
     },
     "dd418d187e4b4280ab48c6c38ea8e2f2": {
      "model_module": "@jupyter-widgets/controls",
      "model_module_version": "1.5.0",
      "model_name": "HTMLModel",
      "state": {
       "layout": "IPY_MODEL_ee1ac579705f4cac9cfb2c4d8acfbbd4",
       "style": "IPY_MODEL_1606931f050b4db58c7456e61291ec56",
       "value": "<h4>ibmq_boeblingen</h4>"
      }
     },
     "dd427a06592349a4ae57755b049907f3": {
      "model_module": "@jupyter-widgets/base",
      "model_module_version": "1.2.0",
      "model_name": "LayoutModel",
      "state": {
       "width": "70px"
      }
     },
     "ddc3c5c39c1d496eb68c48db98d13184": {
      "model_module": "@jupyter-widgets/controls",
      "model_module_version": "1.5.0",
      "model_name": "HTMLMathModel",
      "state": {
       "layout": "IPY_MODEL_6b2050715dce481893dc1fc262eadf82",
       "style": "IPY_MODEL_0492f9d95edc44c59ffb9147a0076dd4",
       "value": "<table><style>\ntable {\n    border-collapse: collapse;\n    width: auto;\n}\n\nth, td {\n    text-align: left;\n    padding: 8px;\n}\n\ntr:nth-child(even) {background-color: #f6f6f6;}\n</style><tr><th>Property</th><th>Value</th></tr><tr><td><font style='font-weight:bold'>n_qubits</font></td><td>5</td></tr><tr><td><font style='font-weight:bold'>operational</font></td><td>True</td></tr><tr><td><font style='font-weight:bold'>status_msg</font></td><td>active</td></tr><tr><td><font style='font-weight:bold'>pending_jobs</font></td><td>0</td></tr><tr><td><font style='font-weight:bold'>backend_version</font></td><td>1.0.0</td></tr><tr><td><font style='font-weight:bold'>basis_gates</font></td><td>['u1', 'u2', 'u3', 'cx', 'id']</td></tr><tr><td><font style='font-weight:bold'>max_shots</font></td><td>8192</td></tr><tr><td><font style='font-weight:bold'>max_experiments</font></td><td>75</td></tr></table>"
      }
     },
     "de4c416ce27643e888f8c4a5c481aa81": {
      "model_module": "@jupyter-widgets/controls",
      "model_module_version": "1.5.0",
      "model_name": "VBoxModel",
      "state": {
       "children": [
        "IPY_MODEL_5bfd6c6ff64649e2bd0bab9e96e8b017",
        "IPY_MODEL_4fa96a568f4a4d9dbcf2d8c691684282"
       ],
       "layout": "IPY_MODEL_9d7b70a046b843ad9b4a4d2adbe003f9"
      }
     },
     "de7e8b81f3e5409ca6ab8a477cfc392c": {
      "model_module": "@jupyter-widgets/controls",
      "model_module_version": "1.5.0",
      "model_name": "VBoxModel",
      "state": {
       "children": [
        "IPY_MODEL_5bdea89769e8469c8c7af58559224e95",
        "IPY_MODEL_7307a114a99944a8bbce35b632f59c8b",
        "IPY_MODEL_1564e3508b7a4757810ac23380250234",
        "IPY_MODEL_a8c4986fddc345a8a1b8e4ed90df674b",
        "IPY_MODEL_13c49b43dabc45c1818b449a5f6e49ba"
       ],
       "layout": "IPY_MODEL_8e01e1d866004ec1b6a17957add8ceb2"
      }
     },
     "dec076d63fe64eddb272ccc5619fdb0c": {
      "model_module": "@jupyter-widgets/controls",
      "model_module_version": "1.5.0",
      "model_name": "DescriptionStyleModel",
      "state": {
       "description_width": ""
      }
     },
     "dec67d018f0c4c86bd0286ec697859f6": {
      "model_module": "@jupyter-widgets/base",
      "model_module_version": "1.2.0",
      "model_name": "LayoutModel",
      "state": {
       "min_width": "auto"
      }
     },
     "ded7c2cb85c447bd995485d408e2f2e2": {
      "model_module": "@jupyter-widgets/base",
      "model_module_version": "1.2.0",
      "model_name": "LayoutModel",
      "state": {
       "align_items": "center",
       "justify_content": "center",
       "margin": "0px 0px 0px 0px",
       "max_height": "250px",
       "max_width": "250px",
       "min_height": "250px",
       "min_width": "250px"
      }
     },
     "df00dce3f3764a569b9380fe90355ce6": {
      "model_module": "@jupyter-widgets/controls",
      "model_module_version": "1.5.0",
      "model_name": "DescriptionStyleModel",
      "state": {
       "description_width": ""
      }
     },
     "df55575f4ce04e10ba6d641472ba7721": {
      "model_module": "@jupyter-widgets/controls",
      "model_module_version": "1.5.0",
      "model_name": "HTMLModel",
      "state": {
       "layout": "IPY_MODEL_36bf92b60724443081bdb08d719a72ba",
       "style": "IPY_MODEL_0ab592ff91b744dc9a0e69583be39d57",
       "value": "<h5>0.0432</h5>"
      }
     },
     "df560278a7014eefb7907241b7dfc029": {
      "model_module": "@jupyter-widgets/output",
      "model_module_version": "1.0.0",
      "model_name": "OutputModel",
      "state": {
       "layout": "IPY_MODEL_734fc1b4778445dc9fdadd6cb06ae87e",
       "outputs": [
        {
         "data": {
          "image/png": "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\n",
          "text/plain": "<Figure size 810x270 with 1 Axes>"
         },
         "metadata": {},
         "output_type": "display_data"
        }
       ]
      }
     },
     "df5e1f42d94345bdb7a85839f2b0c961": {
      "model_module": "@jupyter-widgets/controls",
      "model_module_version": "1.5.0",
      "model_name": "HTMLModel",
      "state": {
       "layout": "IPY_MODEL_981a9f9a5ac74ce088d4afb0b7439aff",
       "style": "IPY_MODEL_177c81f9f425445799c67274d68e0b3d",
       "value": "<h5 style='color:#34bc6e'>True</h5>"
      }
     },
     "e088b0ce88ff401a856998c7da3a8ad1": {
      "model_module": "@jupyter-widgets/controls",
      "model_module_version": "1.5.0",
      "model_name": "IntProgressModel",
      "state": {
       "layout": "IPY_MODEL_a3b0c0fcdd0a47c5922933172bbfe89c",
       "max": 50,
       "style": "IPY_MODEL_ed18bd6bd7b54bdc800c40e38acbfa67"
      }
     },
     "e15de304a1864e54b54ed337ead92506": {
      "model_module": "@jupyter-widgets/controls",
      "model_module_version": "1.5.0",
      "model_name": "HTMLModel",
      "state": {
       "layout": "IPY_MODEL_b725ebda4e6a4e98af2bb26a76270239",
       "style": "IPY_MODEL_1d8e3f53183b4c28ab7651a264cbdd6f",
       "value": "<p style='font-size:16px;'>Job Status [1]: job is queued (79) </p>"
      }
     },
     "e17c9570aca14f85b272203104a0926a": {
      "model_module": "@jupyter-widgets/controls",
      "model_module_version": "1.5.0",
      "model_name": "DescriptionStyleModel",
      "state": {
       "description_width": ""
      }
     },
     "e19e12b485624c4ca61d28537efd9c85": {
      "model_module": "@jupyter-widgets/controls",
      "model_module_version": "1.5.0",
      "model_name": "HTMLModel",
      "state": {
       "layout": "IPY_MODEL_13ab3058a5c64d65bc509b9901f17b77",
       "style": "IPY_MODEL_5a3171021e764e3baa28cfbbfa80788e",
       "value": "<p style='font-size:16px;'>Job Status: job is queued (68) </p>"
      }
     },
     "e1a8fc11510f40b0a219209ab35984e1": {
      "model_module": "@jupyter-widgets/base",
      "model_module_version": "1.2.0",
      "model_name": "LayoutModel",
      "state": {
       "grid_area": "bottom",
       "width": "auto"
      }
     },
     "e1dda6fd2a6e4944853dcec71c57e0e2": {
      "model_module": "@jupyter-widgets/controls",
      "model_module_version": "1.5.0",
      "model_name": "GridBoxModel",
      "state": {
       "children": [
        "IPY_MODEL_49c6e405b4c240458a5e96ecfe79f02c",
        "IPY_MODEL_64fe3a753126419c86feb630a840bad6",
        "IPY_MODEL_7f102a95bd374f14b3d3d21b2d7f9ba2",
        "IPY_MODEL_f59cbe400d18412296bb37234fa45980",
        "IPY_MODEL_b031735ea2774f15ad3e6d0442f240ef",
        "IPY_MODEL_6b13d3e5d03543f0970f8fde733177a8",
        "IPY_MODEL_53be1220f84042aaa42ce33043f6a4bf",
        "IPY_MODEL_02886264b093445db3f2e93177a3b4c5",
        "IPY_MODEL_379e580263854bbcb42fde575ad9ad54",
        "IPY_MODEL_8470af72195f4c7fa900368ed7eda086",
        "IPY_MODEL_55714f1ee1bd454d9ed66ed743139c00",
        "IPY_MODEL_048979a2bc6746bb9e0cb292b6e33801"
       ],
       "layout": "IPY_MODEL_f27c5c17b24a4c38a7b1ea2d3096d5a2"
      }
     },
     "e239bbeffa454184b4d28416f841e811": {
      "model_module": "@jupyter-widgets/controls",
      "model_module_version": "1.5.0",
      "model_name": "DescriptionStyleModel",
      "state": {
       "description_width": ""
      }
     },
     "e24d49272823430a87f38bf5abb3ed0d": {
      "model_module": "@jupyter-widgets/base",
      "model_module_version": "1.2.0",
      "model_name": "LayoutModel",
      "state": {
       "align_items": "center",
       "justify_content": "center",
       "margin": "0px 0px 0px 0px",
       "max_height": "250px",
       "max_width": "250px",
       "min_height": "250px",
       "min_width": "250px"
      }
     },
     "e25c684909914a93b583388b36089d47": {
      "model_module": "@jupyter-widgets/controls",
      "model_module_version": "1.5.0",
      "model_name": "DescriptionStyleModel",
      "state": {
       "description_width": ""
      }
     },
     "e2607b6f9e12407587021f987049230e": {
      "model_module": "@jupyter-widgets/controls",
      "model_module_version": "1.5.0",
      "model_name": "HTMLModel",
      "state": {
       "layout": "IPY_MODEL_03b76b66cb144037b15e2a7ea01c2427",
       "style": "IPY_MODEL_08c10f21d7e448f9bb3087f46a90e862",
       "value": "<h5><b>14</b></h5>"
      }
     },
     "e3685f6bb16a48b49ae57b34fe368b00": {
      "model_module": "@jupyter-widgets/controls",
      "model_module_version": "1.5.0",
      "model_name": "DescriptionStyleModel",
      "state": {
       "description_width": ""
      }
     },
     "e39d69b03db242319a9b48ad700594f1": {
      "model_module": "@jupyter-widgets/base",
      "model_module_version": "1.2.0",
      "model_name": "LayoutModel",
      "state": {
       "align_items": "center",
       "display": "inline-flex",
       "flex_flow": "column"
      }
     },
     "e40f5ee95f604f80bbe07d78e5b3ea16": {
      "model_module": "@jupyter-widgets/base",
      "model_module_version": "1.2.0",
      "model_name": "LayoutModel",
      "state": {
       "align_items": "center",
       "display": "inline-flex",
       "flex_flow": "column"
      }
     },
     "e441f026ca2a4994a9469f9cffb29637": {
      "model_module": "@jupyter-widgets/controls",
      "model_module_version": "1.5.0",
      "model_name": "HTMLModel",
      "state": {
       "layout": "IPY_MODEL_1d26f5071f9649678827bf2b37cf1183",
       "style": "IPY_MODEL_f5004d78b27b43068a197eb88183d2f0",
       "value": "2b5d605"
      }
     },
     "e4ea59991fd242a58f4680dc09e7075c": {
      "model_module": "@jupyter-widgets/controls",
      "model_module_version": "1.5.0",
      "model_name": "DescriptionStyleModel",
      "state": {
       "description_width": ""
      }
     },
     "e51704fc5cf646e58cc8f813635c7254": {
      "model_module": "@jupyter-widgets/base",
      "model_module_version": "1.2.0",
      "model_name": "LayoutModel",
      "state": {
       "justify_content": "center"
      }
     },
     "e555a88d4572435a8473f028e2ec78de": {
      "model_module": "@jupyter-widgets/controls",
      "model_module_version": "1.5.0",
      "model_name": "HTMLModel",
      "state": {
       "layout": "IPY_MODEL_a62dd3c21beb4bfba8c782ee5b72297a",
       "style": "IPY_MODEL_68747dd9922b419bbae0dbe134e00929",
       "value": "<p style='font-size:16px;'>Job Status: job is queued (71) </p>"
      }
     },
     "e592d1f4094e417c8778173f22bbdee7": {
      "model_module": "@jupyter-widgets/controls",
      "model_module_version": "1.5.0",
      "model_name": "DescriptionStyleModel",
      "state": {
       "description_width": ""
      }
     },
     "e5a63aabb0304f1780d91ddc4388b86e": {
      "model_module": "@jupyter-widgets/controls",
      "model_module_version": "1.5.0",
      "model_name": "AccordionModel",
      "state": {
       "_dom_classes": [
        "job_widget"
       ],
       "_titles": {
        "0": "IBMQ Jobs"
       },
       "children": [
        "IPY_MODEL_8220366d1ec1448eb26a9d5529300ad1"
       ],
       "layout": "IPY_MODEL_6bd67811f53d4232b0f8c31f2799ab9f",
       "selected_index": null
      }
     },
     "e6a7bab65a7e4750ad3ac3d7e7e6b03b": {
      "model_module": "@jupyter-widgets/controls",
      "model_module_version": "1.5.0",
      "model_name": "HTMLModel",
      "state": {
       "layout": "IPY_MODEL_17330f72e43e48d5b9eb50041e2cf33f",
       "style": "IPY_MODEL_95ec99ef8653477cabe3fa966e164c92",
       "value": "<h5 style='color:#dc267f'>False</h5>"
      }
     },
     "e6fbefb9b133478b96361f3c220bc3ae": {
      "model_module": "@jupyter-widgets/base",
      "model_module_version": "1.2.0",
      "model_name": "LayoutModel",
      "state": {}
     },
     "e706ad24a4794563b8e72abb5523ad07": {
      "model_module": "@jupyter-widgets/controls",
      "model_module_version": "1.5.0",
      "model_name": "HTMLModel",
      "state": {
       "layout": "IPY_MODEL_3f87fcf2b57243b997847b95ef8398a4",
       "style": "IPY_MODEL_30f366beccbf490aa1edeedba88e67af",
       "value": "<h5>0.0155</h5>"
      }
     },
     "e723b7cc423f4ff49fe616fc937ee6b8": {
      "model_module": "@jupyter-widgets/controls",
      "model_module_version": "1.5.0",
      "model_name": "LabelModel",
      "state": {
       "layout": "IPY_MODEL_ec82b586dd354ac9a82924752a11d6b2",
       "style": "IPY_MODEL_c2ea1958d1bc441e804cd2c2c19c4077",
       "value": "50"
      }
     },
     "e7a0afd2630d447b8ca22e02ccb0b5ef": {
      "model_module": "@jupyter-widgets/controls",
      "model_module_version": "1.5.0",
      "model_name": "DescriptionStyleModel",
      "state": {
       "description_width": ""
      }
     },
     "e7b165a65ffb47be944b78f27138d279": {
      "model_module": "@jupyter-widgets/controls",
      "model_module_version": "1.5.0",
      "model_name": "HTMLModel",
      "state": {
       "layout": "IPY_MODEL_b61dbb18c6204451a84a32f6dbd262c1",
       "style": "IPY_MODEL_3fbad4f9c0974a2ab0dbe72fc1566de1",
       "value": "<div><font style='font-weight:bold'>last_update_date</font>: 2018-12-20T09:17:33+00:00</div>"
      }
     },
     "e7f28628bd314e3c9b8b95d93e161522": {
      "model_module": "@jupyter-widgets/controls",
      "model_module_version": "1.5.0",
      "model_name": "VBoxModel",
      "state": {
       "children": [
        "IPY_MODEL_743d649ab0c64cb490e7a2ed8cf8d871"
       ],
       "layout": "IPY_MODEL_5c144a386f804da2b0af1c833cae63a4"
      }
     },
     "e83d072b7ea04eda9ebfb7661e44333a": {
      "model_module": "@jupyter-widgets/base",
      "model_module_version": "1.2.0",
      "model_name": "LayoutModel",
      "state": {}
     },
     "e85bef5c1c194f3c8a0835f2a6bba126": {
      "model_module": "@jupyter-widgets/base",
      "model_module_version": "1.2.0",
      "model_name": "LayoutModel",
      "state": {}
     },
     "e86093290df847c999183df44b82c710": {
      "model_module": "@jupyter-widgets/base",
      "model_module_version": "1.2.0",
      "model_name": "LayoutModel",
      "state": {
       "justify_content": "center"
      }
     },
     "e87fb09b7ecb444e95f71219fc2d37e6": {
      "model_module": "@jupyter-widgets/controls",
      "model_module_version": "1.5.0",
      "model_name": "DescriptionStyleModel",
      "state": {
       "description_width": ""
      }
     },
     "e89ecebbcc6f46c0afddea37b358527d": {
      "model_module": "@jupyter-widgets/controls",
      "model_module_version": "1.5.0",
      "model_name": "HTMLModel",
      "state": {
       "layout": "IPY_MODEL_ef8bb30e658840baa597c7c47035b5eb",
       "style": "IPY_MODEL_b8bd7340236346eb9c7bb43d53f187ff",
       "value": "<h5><b>5</b></h5>"
      }
     },
     "e8d719fc9ac7489aa19805a174098c1e": {
      "model_module": "@jupyter-widgets/controls",
      "model_module_version": "1.5.0",
      "model_name": "GridBoxModel",
      "state": {
       "children": [
        "IPY_MODEL_2185be50cd4c4886bd2fdc69054bff31",
        "IPY_MODEL_178c0fc4f8034198843802afcfbd96e3"
       ],
       "layout": "IPY_MODEL_aed13f739afc4760b7cc4b64da935011"
      }
     },
     "e9575399981845cc91cb47e2d2a8f493": {
      "model_module": "@jupyter-widgets/base",
      "model_module_version": "1.2.0",
      "model_name": "LayoutModel",
      "state": {
       "justify_content": "center"
      }
     },
     "e96a16893de949d48277bd79954e45a2": {
      "model_module": "@jupyter-widgets/output",
      "model_module_version": "1.0.0",
      "model_name": "OutputModel",
      "state": {
       "layout": "IPY_MODEL_fb7c61ebae894be3b2319eb43ff0484a",
       "outputs": [
        {
         "data": {
          "image/png": "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\n",
          "text/plain": "<Figure size 360x360 with 1 Axes>"
         },
         "metadata": {},
         "output_type": "display_data"
        }
       ]
      }
     },
     "e987d479e8c543f48d3f3586da5cda25": {
      "model_module": "@jupyter-widgets/output",
      "model_module_version": "1.0.0",
      "model_name": "OutputModel",
      "state": {
       "layout": "IPY_MODEL_c7bcb43eebd84741b15bc64eaf20c559",
       "outputs": [
        {
         "data": {
          "image/png": "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\n",
          "text/plain": "<Figure size 648x216 with 1 Axes>"
         },
         "metadata": {},
         "output_type": "display_data"
        }
       ]
      }
     },
     "e9c3fbf8c9bc4e979782db4a32bac903": {
      "model_module": "@jupyter-widgets/controls",
      "model_module_version": "1.5.0",
      "model_name": "DescriptionStyleModel",
      "state": {
       "description_width": ""
      }
     },
     "e9db63430dfa4b78911880833c19cfc9": {
      "model_module": "@jupyter-widgets/controls",
      "model_module_version": "1.5.0",
      "model_name": "HTMLModel",
      "state": {
       "layout": "IPY_MODEL_f098b4ad365e48ef8451eefc21fcf252",
       "style": "IPY_MODEL_a1af24697053415098f83f6c3cd03280",
       "value": "<font style='color:#34BC6E'>DONE</font>"
      }
     },
     "ea5683f2d39f4b50bb67543619a4fedb": {
      "model_module": "@jupyter-widgets/output",
      "model_module_version": "1.0.0",
      "model_name": "OutputModel",
      "state": {
       "layout": "IPY_MODEL_402f3dc98c2a4866931eec89d9a4bd15",
       "outputs": [
        {
         "data": {
          "image/png": "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\n",
          "text/plain": "<Figure size 216x72 with 1 Axes>"
         },
         "metadata": {},
         "output_type": "display_data"
        }
       ]
      }
     },
     "eb212449751843809206d782bdba8674": {
      "model_module": "@jupyter-widgets/controls",
      "model_module_version": "1.5.0",
      "model_name": "HTMLModel",
      "state": {
       "layout": "IPY_MODEL_623eb43543004c6bb2072656568592c1",
       "style": "IPY_MODEL_e7a0afd2630d447b8ca22e02ccb0b5ef",
       "value": "-"
      }
     },
     "eb579b9907e0429ba922a85a11cff5a3": {
      "model_module": "@jupyter-widgets/controls",
      "model_module_version": "1.5.0",
      "model_name": "HTMLModel",
      "state": {
       "layout": "IPY_MODEL_1398e67a3a5b4b36a68a702782845c65",
       "style": "IPY_MODEL_3f9682fb01c04f159fdfeb31c455659a",
       "value": "<h5>0.0324</h5>"
      }
     },
     "eb8fe4a6aaaa464b889e600c3b71c17e": {
      "model_module": "@jupyter-widgets/controls",
      "model_module_version": "1.5.0",
      "model_name": "IntProgressModel",
      "state": {
       "layout": "IPY_MODEL_374b5049f6d7417baf98633f85ee7b22",
       "max": 50,
       "style": "IPY_MODEL_bb994b7824544c47842792935014dd19"
      }
     },
     "eb998631a33c4681bb706e80fa9ac8a5": {
      "model_module": "@jupyter-widgets/controls",
      "model_module_version": "1.5.0",
      "model_name": "GridBoxModel",
      "state": {
       "children": [
        "IPY_MODEL_ddc3c5c39c1d496eb68c48db98d13184",
        "IPY_MODEL_a4d46c884a6340fdb73dcdadf72ac57b",
        "IPY_MODEL_dcda09fd1d6349b2b0606f64446cecfb"
       ],
       "layout": "IPY_MODEL_84f159a71fab46cbbeac9f8653acd2c4"
      }
     },
     "eba83420c2b14d86b06fd9ce1e9a55af": {
      "model_module": "@jupyter-widgets/controls",
      "model_module_version": "1.5.0",
      "model_name": "ProgressStyleModel",
      "state": {
       "bar_color": "#71cddd",
       "description_width": ""
      }
     },
     "ebaa50b01d0141c0994fb8b944d325db": {
      "model_module": "@jupyter-widgets/base",
      "model_module_version": "1.2.0",
      "model_name": "LayoutModel",
      "state": {
       "width": "135px"
      }
     },
     "ec3bd54e6f5a403ba5727488b75a7216": {
      "model_module": "@jupyter-widgets/controls",
      "model_module_version": "1.5.0",
      "model_name": "ProgressStyleModel",
      "state": {
       "bar_color": "#71cddd",
       "description_width": ""
      }
     },
     "ec49480361154c4dbdc12d60829ef8bb": {
      "model_module": "@jupyter-widgets/controls",
      "model_module_version": "1.5.0",
      "model_name": "HTMLModel",
      "state": {
       "layout": "IPY_MODEL_c029454c9ff942a393b430497445f89f",
       "style": "IPY_MODEL_d97433776b0b4f168ce1f6e294187b74",
       "value": "<h2 style ='color:#ffffff; background-color:#000000;padding-top: 1%; padding-bottom: 1%;padding-left: 1%;margin-top: 0px'>Backend Overview</h2>"
      }
     },
     "ec82b586dd354ac9a82924752a11d6b2": {
      "model_module": "@jupyter-widgets/base",
      "model_module_version": "1.2.0",
      "model_name": "LayoutModel",
      "state": {
       "min_width": "auto"
      }
     },
     "ed18bd6bd7b54bdc800c40e38acbfa67": {
      "model_module": "@jupyter-widgets/controls",
      "model_module_version": "1.5.0",
      "model_name": "ProgressStyleModel",
      "state": {
       "bar_color": "#71cddd",
       "description_width": ""
      }
     },
     "ed3153866e3b4113a543e19dcfdc5d1b": {
      "model_module": "@jupyter-widgets/controls",
      "model_module_version": "1.5.0",
      "model_name": "HTMLModel",
      "state": {
       "layout": "IPY_MODEL_28e4591cd2cc458988de469ffa77d26f",
       "style": "IPY_MODEL_aeadd5f6033f46e78cd2f7c6eb993cf5",
       "value": "<h5>0.0739</h5>"
      }
     },
     "edf6283b4b2f4ea488f51c6132d55966": {
      "model_module": "@jupyter-widgets/base",
      "model_module_version": "1.2.0",
      "model_name": "LayoutModel",
      "state": {
       "min_width": "auto"
      }
     },
     "ee1ac579705f4cac9cfb2c4d8acfbbd4": {
      "model_module": "@jupyter-widgets/base",
      "model_module_version": "1.2.0",
      "model_name": "LayoutModel",
      "state": {}
     },
     "ef0d60567246435083f0f679304fbac9": {
      "model_module": "@jupyter-widgets/controls",
      "model_module_version": "1.5.0",
      "model_name": "DescriptionStyleModel",
      "state": {
       "description_width": ""
      }
     },
     "ef4ac5294e9948dfa4bedc2114a6fb36": {
      "model_module": "@jupyter-widgets/base",
      "model_module_version": "1.2.0",
      "model_name": "LayoutModel",
      "state": {
       "max_width": "600px",
       "min_width": "600px"
      }
     },
     "ef8bb30e658840baa597c7c47035b5eb": {
      "model_module": "@jupyter-widgets/base",
      "model_module_version": "1.2.0",
      "model_name": "LayoutModel",
      "state": {
       "justify_content": "center"
      }
     },
     "ef958ea9b09145aab99f80b03c0a8222": {
      "model_module": "@jupyter-widgets/controls",
      "model_module_version": "1.5.0",
      "model_name": "DescriptionStyleModel",
      "state": {
       "description_width": ""
      }
     },
     "efd7ca2b38fe41bea012b20d6b8e2bf6": {
      "model_module": "@jupyter-widgets/controls",
      "model_module_version": "1.5.0",
      "model_name": "HTMLModel",
      "state": {
       "layout": "IPY_MODEL_cbfe390f512e4e9b8d68a35ab3dde863",
       "style": "IPY_MODEL_3c5b9dc60dbf4545bfd10457c2bd4209",
       "value": "<p style='font-size:16px;'>Job Status [2]: job is queued (80) </p>"
      }
     },
     "f03b39b66f1c48bba60643b8c6d852f4": {
      "model_module": "@jupyter-widgets/controls",
      "model_module_version": "1.5.0",
      "model_name": "IntProgressModel",
      "state": {
       "layout": "IPY_MODEL_9d89c7c39f6b4b4bbcb9644ef78ad06b",
       "max": 50,
       "style": "IPY_MODEL_ec3bd54e6f5a403ba5727488b75a7216"
      }
     },
     "f06644ad7b1b4a2686565378fa1f4c88": {
      "model_module": "@jupyter-widgets/controls",
      "model_module_version": "1.5.0",
      "model_name": "HTMLModel",
      "state": {
       "layout": "IPY_MODEL_c9939f97250140ffadd8ab9953ac5f37",
       "style": "IPY_MODEL_e17c9570aca14f85b272203104a0926a",
       "value": "<h5>71.7 / 69.5 µs</h5>"
      }
     },
     "f08b2dde6dff4366890fc535f2cbda3e": {
      "model_module": "@jupyter-widgets/controls",
      "model_module_version": "1.5.0",
      "model_name": "HTMLModel",
      "state": {
       "layout": "IPY_MODEL_1e2e86299f604828a54a20366e5a8cd7",
       "style": "IPY_MODEL_e3685f6bb16a48b49ae57b34fe368b00",
       "value": "<h5>Status</h5>"
      }
     },
     "f098b4ad365e48ef8451eefc21fcf252": {
      "model_module": "@jupyter-widgets/base",
      "model_module_version": "1.2.0",
      "model_name": "LayoutModel",
      "state": {
       "width": "95px"
      }
     },
     "f14433f77187469196ca9c6928a4835d": {
      "model_module": "@jupyter-widgets/base",
      "model_module_version": "1.2.0",
      "model_name": "LayoutModel",
      "state": {}
     },
     "f14ce70475154eb6b7ccd996b972af3e": {
      "model_module": "@jupyter-widgets/controls",
      "model_module_version": "1.5.0",
      "model_name": "HTMLModel",
      "state": {
       "layout": "IPY_MODEL_b24a965f62734ce1a0f9d28709a0001d",
       "style": "IPY_MODEL_5dc5a82af4df44e393ee18d46c8bc6c5",
       "value": "<h5 style='color:#34bc6e'>True</h5>"
      }
     },
     "f180639d7e2143378e919a5314096e39": {
      "model_module": "@jupyter-widgets/controls",
      "model_module_version": "1.5.0",
      "model_name": "HTMLModel",
      "state": {
       "layout": "IPY_MODEL_b2d722d0e7764a5ebc3ddd7feb95380d",
       "style": "IPY_MODEL_b1ac7c6cd6e54f0982a2d635c75fbd01",
       "value": "<h5><b>28</b></h5>"
      }
     },
     "f185dd748d744013bd8259fa4a8a9d14": {
      "model_module": "@jupyter-widgets/controls",
      "model_module_version": "1.5.0",
      "model_name": "DescriptionStyleModel",
      "state": {
       "description_width": ""
      }
     },
     "f1fdd0d4453d43d486e79794a3c292d0": {
      "model_module": "@jupyter-widgets/base",
      "model_module_version": "1.2.0",
      "model_name": "LayoutModel",
      "state": {}
     },
     "f26d0fe5b4b74e87aebeac1306434f49": {
      "model_module": "@jupyter-widgets/base",
      "model_module_version": "1.2.0",
      "model_name": "LayoutModel",
      "state": {}
     },
     "f27c5c17b24a4c38a7b1ea2d3096d5a2": {
      "model_module": "@jupyter-widgets/base",
      "model_module_version": "1.2.0",
      "model_name": "LayoutModel",
      "state": {
       "grid_gap": "0px 25px",
       "grid_template_columns": "250px 250px 250px 250px 250px 250px 250px 250px 250px 250px 250px 250px ",
       "grid_template_rows": "auto"
      }
     },
     "f2f45f3b189d478697cf548bba33f657": {
      "model_module": "@jupyter-widgets/controls",
      "model_module_version": "1.5.0",
      "model_name": "DescriptionStyleModel",
      "state": {
       "description_width": ""
      }
     },
     "f30e34b395c64a5db9fa56c65f805e67": {
      "model_module": "@jupyter-widgets/controls",
      "model_module_version": "1.5.0",
      "model_name": "DescriptionStyleModel",
      "state": {
       "description_width": ""
      }
     },
     "f41d1bade01c4fb6a3293779a24eea6c": {
      "model_module": "@jupyter-widgets/controls",
      "model_module_version": "1.5.0",
      "model_name": "HTMLModel",
      "state": {
       "layout": "IPY_MODEL_e9575399981845cc91cb47e2d2a8f493",
       "style": "IPY_MODEL_f30e34b395c64a5db9fa56c65f805e67",
       "value": "<h5 style='color:#dc267f'>False</h5>"
      }
     },
     "f5004d78b27b43068a197eb88183d2f0": {
      "model_module": "@jupyter-widgets/controls",
      "model_module_version": "1.5.0",
      "model_name": "DescriptionStyleModel",
      "state": {
       "description_width": ""
      }
     },
     "f59cbe400d18412296bb37234fa45980": {
      "model_module": "@jupyter-widgets/controls",
      "model_module_version": "1.5.0",
      "model_name": "VBoxModel",
      "state": {
       "children": [
        "IPY_MODEL_17d1db8324f24719a9e4f6977a13cf3d",
        "IPY_MODEL_726903208b9f42bbb15bfb21c1713d82",
        "IPY_MODEL_9d204779ad44470ab03ebaf9625ccc18",
        "IPY_MODEL_21e540e54802409f905e626678ce8a19",
        "IPY_MODEL_f14ce70475154eb6b7ccd996b972af3e",
        "IPY_MODEL_98f602a15a1a4208a305ea8d7944d72f",
        "IPY_MODEL_5910b9484839445f862433ab5f1b61df",
        "IPY_MODEL_aff97ab48a7d4780a4c58b30907baa7d",
        "IPY_MODEL_71df1dbfaf8e48b7a85beef719a18fd9"
       ],
       "layout": "IPY_MODEL_775741b149c64ac78e7d8eec72b69758"
      }
     },
     "f5d6daa1262440099177e2a97147141e": {
      "model_module": "@jupyter-widgets/controls",
      "model_module_version": "1.5.0",
      "model_name": "DescriptionStyleModel",
      "state": {
       "description_width": ""
      }
     },
     "f5dce0f277dc492b994dd17a58d85f06": {
      "model_module": "@jupyter-widgets/base",
      "model_module_version": "1.2.0",
      "model_name": "LayoutModel",
      "state": {
       "justify_content": "center"
      }
     },
     "f672ef47c64f4667b8b0e2e3320c449a": {
      "model_module": "@jupyter-widgets/controls",
      "model_module_version": "1.5.0",
      "model_name": "ProgressStyleModel",
      "state": {
       "bar_color": "#71cddd",
       "description_width": ""
      }
     },
     "f72b639805624bce9fa14d34473b4903": {
      "model_module": "@jupyter-widgets/controls",
      "model_module_version": "1.5.0",
      "model_name": "DescriptionStyleModel",
      "state": {
       "description_width": ""
      }
     },
     "f7416d0f97f34359ba1ebc45f9f35013": {
      "model_module": "@jupyter-widgets/base",
      "model_module_version": "1.2.0",
      "model_name": "LayoutModel",
      "state": {
       "justify_content": "center"
      }
     },
     "f7720ccb56014d538c76342529318e3d": {
      "model_module": "@jupyter-widgets/base",
      "model_module_version": "1.2.0",
      "model_name": "LayoutModel",
      "state": {}
     },
     "f7e939f5839748b9a9e3746a68768013": {
      "model_module": "@jupyter-widgets/controls",
      "model_module_version": "1.5.0",
      "model_name": "ProgressStyleModel",
      "state": {
       "bar_color": "#71cddd",
       "description_width": ""
      }
     },
     "f8941e1e952f4a7fa0aeae09bd695755": {
      "model_module": "@jupyter-widgets/controls",
      "model_module_version": "1.5.0",
      "model_name": "HTMLModel",
      "state": {
       "layout": "IPY_MODEL_fb9e1b120eed4afd84c1060608fa73ff",
       "style": "IPY_MODEL_5d516fe6ded34017828f5b1d5bcd137e",
       "value": "<h4>ibmqx4</h4>"
      }
     },
     "f8dc639ec16949f4b8dbec3a853a2410": {
      "model_module": "@jupyter-widgets/controls",
      "model_module_version": "1.5.0",
      "model_name": "DescriptionStyleModel",
      "state": {
       "description_width": ""
      }
     },
     "f8ef5207c2c44adebd1a6ff7e4c62507": {
      "model_module": "@jupyter-widgets/controls",
      "model_module_version": "1.5.0",
      "model_name": "DescriptionStyleModel",
      "state": {
       "description_width": ""
      }
     },
     "f91dee43a90d4520be4499d2d10baa17": {
      "model_module": "@jupyter-widgets/controls",
      "model_module_version": "1.5.0",
      "model_name": "IntProgressModel",
      "state": {
       "layout": "IPY_MODEL_af4ea1b66cd444b7bb894bc790dd3ffc",
       "max": 50,
       "style": "IPY_MODEL_f672ef47c64f4667b8b0e2e3320c449a"
      }
     },
     "f92eada7a81847c0b678c73bcce42528": {
      "model_module": "@jupyter-widgets/base",
      "model_module_version": "1.2.0",
      "model_name": "LayoutModel",
      "state": {
       "grid_area": "left"
      }
     },
     "f950ceeb9639436b83bc8871c86bb16b": {
      "model_module": "@jupyter-widgets/controls",
      "model_module_version": "1.5.0",
      "model_name": "DescriptionStyleModel",
      "state": {
       "description_width": ""
      }
     },
     "fa7d86e7792b4a3796f22d157149aaf9": {
      "model_module": "@jupyter-widgets/base",
      "model_module_version": "1.2.0",
      "model_name": "LayoutModel",
      "state": {
       "margin": "10px 0px 0px 0px"
      }
     },
     "faab40fc9a344d92939bb795d9427999": {
      "model_module": "@jupyter-widgets/controls",
      "model_module_version": "1.5.0",
      "model_name": "HTMLModel",
      "state": {
       "layout": "IPY_MODEL_c2b9a602a2af400da2ce959038612d5e",
       "style": "IPY_MODEL_c68efab6df0a48e79ac4c08f8ecb318a",
       "value": "<h5 style='color:#34bc6e'>True</h5>"
      }
     },
     "faddc619e88849f0ae643202380b6dcd": {
      "model_module": "@jupyter-widgets/base",
      "model_module_version": "1.2.0",
      "model_name": "LayoutModel",
      "state": {}
     },
     "fb5f73e33749488d88add7734c040079": {
      "model_module": "@jupyter-widgets/base",
      "model_module_version": "1.2.0",
      "model_name": "LayoutModel",
      "state": {}
     },
     "fb7be1debd394bf28a24f248bb89a8a5": {
      "model_module": "@jupyter-widgets/controls",
      "model_module_version": "1.5.0",
      "model_name": "VBoxModel",
      "state": {
       "children": [
        "IPY_MODEL_ad6b03cadbbc43499bedf5ca5ebf7870"
       ],
       "layout": "IPY_MODEL_114866670e4f4e7687d68d7556a0bbc6"
      }
     },
     "fb7c61ebae894be3b2319eb43ff0484a": {
      "model_module": "@jupyter-widgets/base",
      "model_module_version": "1.2.0",
      "model_name": "LayoutModel",
      "state": {
       "align_items": "center",
       "justify_content": "center",
       "margin": "0px 0px 0px 0px",
       "max_height": "250px",
       "max_width": "250px",
       "min_height": "250px",
       "min_width": "250px"
      }
     },
     "fb9e1b120eed4afd84c1060608fa73ff": {
      "model_module": "@jupyter-widgets/base",
      "model_module_version": "1.2.0",
      "model_name": "LayoutModel",
      "state": {}
     },
     "fba48c2fc0d6402baadff5e5649b89b4": {
      "model_module": "@jupyter-widgets/controls",
      "model_module_version": "1.5.0",
      "model_name": "DescriptionStyleModel",
      "state": {
       "description_width": ""
      }
     },
     "fc9a8b619be74ad1bb283827735374e7": {
      "model_module": "@jupyter-widgets/controls",
      "model_module_version": "1.5.0",
      "model_name": "DescriptionStyleModel",
      "state": {
       "description_width": ""
      }
     },
     "fca618555b1042faa5b715fc21005621": {
      "model_module": "@jupyter-widgets/controls",
      "model_module_version": "1.5.0",
      "model_name": "HTMLModel",
      "state": {
       "layout": "IPY_MODEL_7a0edde4007c45df839cbac3a0ee085d",
       "style": "IPY_MODEL_2b4e0d54b1494dfeaec0fdaf322fb994",
       "value": "<h5><b>14</b></h5>"
      }
     },
     "fcc44c7f86a04b5a81d88ebc687ca836": {
      "model_module": "@jupyter-widgets/controls",
      "model_module_version": "1.5.0",
      "model_name": "IntProgressModel",
      "state": {
       "layout": "IPY_MODEL_765a836bcead45a6bf93aeb50209db4b",
       "max": 95,
       "style": "IPY_MODEL_ad35292eff444c5394704d68f220a4bd",
       "value": 50
      }
     },
     "fd1e97ff06c54360a8c35d238bd6b74b": {
      "model_module": "@jupyter-widgets/base",
      "model_module_version": "1.2.0",
      "model_name": "LayoutModel",
      "state": {
       "justify_content": "center"
      }
     },
     "fddbce4b7e5d446cb6cbe29b5d776e3f": {
      "model_module": "@jupyter-widgets/controls",
      "model_module_version": "1.5.0",
      "model_name": "HTMLModel",
      "state": {
       "layout": "IPY_MODEL_19bbc3c78f944875ab193cb362f387f9",
       "style": "IPY_MODEL_373d46ad143d42e6896e2dcf8a336c50",
       "value": "<h4>ibmqx4</h4>"
      }
     },
     "ff3cb84f6ab742e38aed7458dd206766": {
      "model_module": "@jupyter-widgets/base",
      "model_module_version": "1.2.0",
      "model_name": "LayoutModel",
      "state": {}
     },
     "ffe6ea424b41423f89aee3662f4652b6": {
      "model_module": "@jupyter-widgets/controls",
      "model_module_version": "1.5.0",
      "model_name": "HBoxModel",
      "state": {
       "children": [
        "IPY_MODEL_04c5587c11cd400cb385cc9fdf07114e",
        "IPY_MODEL_245bcb470b2b43b9ada633fbef96620d",
        "IPY_MODEL_502ab7437a10405c8a48a782b0dac784"
       ],
       "layout": "IPY_MODEL_beb33717101342a19ea49ea95ed543e4"
      }
     }
    },
    "version_major": 2,
    "version_minor": 0
   }
  }
 },
 "nbformat": 4,
 "nbformat_minor": 2
}
